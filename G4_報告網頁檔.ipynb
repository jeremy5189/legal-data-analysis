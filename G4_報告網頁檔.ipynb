{
  "nbformat": 4,
  "nbformat_minor": 0,
  "metadata": {
    "colab": {
      "name": "G4 報告網頁檔",
      "provenance": [],
      "collapsed_sections": [
        "AIqOp0KBTgxV",
        "Jb3nH24PdXj_",
        "-TsN6PGhUw0u",
        "VFh7D6Iuo2sD"
      ],
      "toc_visible": true
    },
    "kernelspec": {
      "name": "python3",
      "display_name": "Python 3"
    },
    "language_info": {
      "name": "python"
    }
  },
  "cells": [
    {
      "cell_type": "markdown",
      "source": [
        "# 改定監護人與輔助人之重要因素\n",
        "## 以實證研究探求民法第1106條之1內涵\n",
        "\n",
        "> 李育誠、宋怡婷、鍾育雯、顏敬柏（按筆畫排序）\n"
      ],
      "metadata": {
        "id": "AYOBYBCvHNxC"
      }
    },
    {
      "cell_type": "markdown",
      "source": [
        "# 一、研究背景\n",
        "## （一）研究動機\n",
        "\n",
        "家事事件法第164條第1項第3款之「改定監護人事件」，係依據[民法第1106條之1](https://law.moj.gov.tw/LawClass/LawSingle.aspx?pcode=B0000001&flno=1106-1)第1項「有事實足認監護人不符受監護人之最佳利益，或有顯不適任之情事者」為法院得改定之標準。然此屬不確定法律概念，在個案上如何判斷與操作，仍無定論。\n",
        "\n",
        "故本研究蒐集地方法院之裁定，以了解地方法院改定監護／輔助人時，會考量哪些因素以決定監護／輔助人之行為是否「違反本人最佳利益」或「顯不適任」，且何種因素為影響最後改定結果之重要關鍵。\n",
        "\n",
        "## （二）文獻回顧"
      ],
      "metadata": {
        "id": "CzLNXOs_Hmge"
      }
    },
    {
      "cell_type": "markdown",
      "source": [
        "# 二、研究設計\n",
        "\n",
        "因本研究所欲研究範圍鎖定於影響法院判斷改定監護／輔助人之因素，使用「裁判家」查詢系統，檢索2012年6月1日至2021年12月31日共9年期間之第一審裁定。係考量家事事件法於2012年6月1日正式施行，為觀察該法對於實務運作之影響，且為使研究結果具普遍性，以數量較二、三審多之一審判決，又因改定監護／輔助人之案件僅有少量的上訴或抗告，上訴維持下級審裁判之比率亦高。故本研究以2012年6月1日為起點蒐集至2021年之各地方法院一審裁判作為本次研究的範圍。\n",
        "\n",
        "檢索條件與關鍵字設定上，因若於案由檢索欄位僅以「改定監護人 OR 輔助人」之條件搜尋，將會出現大量未成年人之監護／輔助人改定案件，此非本研究想探討之案件類型。故為限縮搜尋條件，改以案由搜尋「(改定監護人 OR 改定輔助人) NOT 未成年」，並勾選一審欄位，且將裁判期間設定於2013年1月1日至2021年12月31日，初步搜尋之裁定數量為647件（檢索與下載日期2022年3月3日）。"
      ],
      "metadata": {
        "id": "ELCbgMRxJFAk"
      }
    },
    {
      "cell_type": "markdown",
      "source": [
        "### Codebook"
      ],
      "metadata": {
        "id": "8sHhPHwikhLg"
      }
    },
    {
      "cell_type": "code",
      "source": [
        "import gspread\n",
        "import pandas as pd\n",
        "import numpy as np\n",
        "from google.colab import auth\n",
        "from google.auth import default\n",
        "\n",
        "auth.authenticate_user()\n",
        "creds, _ = default()\n",
        "gc = gspread.authorize(creds)\n",
        "\n",
        "def load_df(data):\n",
        "  df = pd.DataFrame(data)\n",
        "  df.columns = df.loc[0, :].values.tolist()  # gsheet 預設欄位是數字 所以把第一行換成欄位/變數名\n",
        "  df = df.drop([0]).reset_index()  # 去除一行多的東西 這個不一定要做 看你自己的資料 \n",
        "  return df\n",
        "\n",
        "wb = gc.open_by_key('1KRdhDveYVXtv1xy5iDvg0QlLcwQBRLw1Sz5e9zgxTaI')\n",
        "sheet = wb.worksheet('codebook')\n",
        "data = sheet.get_all_values()\n",
        "codebook = pd.DataFrame(data)\n",
        "codebook.columns = codebook.iloc[0]\n",
        "codebook = codebook.iloc[1:]\n",
        "\n",
        "left_aligned_df = codebook.head(51).style.set_properties(**{'text-align': 'left'})\n",
        "display(left_aligned_df)"
      ],
      "metadata": {
        "colab": {
          "base_uri": "https://localhost:8080/",
          "height": 1000
        },
        "id": "0qdFnshdkgKr",
        "outputId": "ec59f06e-a7e1-4026-875c-3c3b4b227e83"
      },
      "execution_count": 1,
      "outputs": [
        {
          "output_type": "display_data",
          "data": {
            "text/plain": [
              "<pandas.io.formats.style.Styler at 0x7f0bd8ea4110>"
            ],
            "text/html": [
              "<style type=\"text/css\">\n",
              "#T_f644b_row0_col0, #T_f644b_row0_col1, #T_f644b_row0_col2, #T_f644b_row0_col3, #T_f644b_row1_col0, #T_f644b_row1_col1, #T_f644b_row1_col2, #T_f644b_row1_col3, #T_f644b_row2_col0, #T_f644b_row2_col1, #T_f644b_row2_col2, #T_f644b_row2_col3, #T_f644b_row3_col0, #T_f644b_row3_col1, #T_f644b_row3_col2, #T_f644b_row3_col3, #T_f644b_row4_col0, #T_f644b_row4_col1, #T_f644b_row4_col2, #T_f644b_row4_col3, #T_f644b_row5_col0, #T_f644b_row5_col1, #T_f644b_row5_col2, #T_f644b_row5_col3, #T_f644b_row6_col0, #T_f644b_row6_col1, #T_f644b_row6_col2, #T_f644b_row6_col3, #T_f644b_row7_col0, #T_f644b_row7_col1, #T_f644b_row7_col2, #T_f644b_row7_col3, #T_f644b_row8_col0, #T_f644b_row8_col1, #T_f644b_row8_col2, #T_f644b_row8_col3, #T_f644b_row9_col0, #T_f644b_row9_col1, #T_f644b_row9_col2, #T_f644b_row9_col3, #T_f644b_row10_col0, #T_f644b_row10_col1, #T_f644b_row10_col2, #T_f644b_row10_col3, #T_f644b_row11_col0, #T_f644b_row11_col1, #T_f644b_row11_col2, #T_f644b_row11_col3, #T_f644b_row12_col0, #T_f644b_row12_col1, #T_f644b_row12_col2, #T_f644b_row12_col3, #T_f644b_row13_col0, #T_f644b_row13_col1, #T_f644b_row13_col2, #T_f644b_row13_col3, #T_f644b_row14_col0, #T_f644b_row14_col1, #T_f644b_row14_col2, #T_f644b_row14_col3, #T_f644b_row15_col0, #T_f644b_row15_col1, #T_f644b_row15_col2, #T_f644b_row15_col3, #T_f644b_row16_col0, #T_f644b_row16_col1, #T_f644b_row16_col2, #T_f644b_row16_col3, #T_f644b_row17_col0, #T_f644b_row17_col1, #T_f644b_row17_col2, #T_f644b_row17_col3, #T_f644b_row18_col0, #T_f644b_row18_col1, #T_f644b_row18_col2, #T_f644b_row18_col3, #T_f644b_row19_col0, #T_f644b_row19_col1, #T_f644b_row19_col2, #T_f644b_row19_col3, #T_f644b_row20_col0, #T_f644b_row20_col1, #T_f644b_row20_col2, #T_f644b_row20_col3, #T_f644b_row21_col0, #T_f644b_row21_col1, #T_f644b_row21_col2, #T_f644b_row21_col3, #T_f644b_row22_col0, #T_f644b_row22_col1, #T_f644b_row22_col2, #T_f644b_row22_col3, #T_f644b_row23_col0, #T_f644b_row23_col1, #T_f644b_row23_col2, #T_f644b_row23_col3, #T_f644b_row24_col0, #T_f644b_row24_col1, #T_f644b_row24_col2, #T_f644b_row24_col3, #T_f644b_row25_col0, #T_f644b_row25_col1, #T_f644b_row25_col2, #T_f644b_row25_col3, #T_f644b_row26_col0, #T_f644b_row26_col1, #T_f644b_row26_col2, #T_f644b_row26_col3, #T_f644b_row27_col0, #T_f644b_row27_col1, #T_f644b_row27_col2, #T_f644b_row27_col3, #T_f644b_row28_col0, #T_f644b_row28_col1, #T_f644b_row28_col2, #T_f644b_row28_col3, #T_f644b_row29_col0, #T_f644b_row29_col1, #T_f644b_row29_col2, #T_f644b_row29_col3, #T_f644b_row30_col0, #T_f644b_row30_col1, #T_f644b_row30_col2, #T_f644b_row30_col3, #T_f644b_row31_col0, #T_f644b_row31_col1, #T_f644b_row31_col2, #T_f644b_row31_col3, #T_f644b_row32_col0, #T_f644b_row32_col1, #T_f644b_row32_col2, #T_f644b_row32_col3, #T_f644b_row33_col0, #T_f644b_row33_col1, #T_f644b_row33_col2, #T_f644b_row33_col3, #T_f644b_row34_col0, #T_f644b_row34_col1, #T_f644b_row34_col2, #T_f644b_row34_col3, #T_f644b_row35_col0, #T_f644b_row35_col1, #T_f644b_row35_col2, #T_f644b_row35_col3, #T_f644b_row36_col0, #T_f644b_row36_col1, #T_f644b_row36_col2, #T_f644b_row36_col3, #T_f644b_row37_col0, #T_f644b_row37_col1, #T_f644b_row37_col2, #T_f644b_row37_col3, #T_f644b_row38_col0, #T_f644b_row38_col1, #T_f644b_row38_col2, #T_f644b_row38_col3 {\n",
              "  text-align: left;\n",
              "}\n",
              "</style>\n",
              "<table id=\"T_f644b_\" class=\"dataframe\">\n",
              "  <thead>\n",
              "    <tr>\n",
              "      <th class=\"index_name level0\" >0</th>\n",
              "      <th class=\"col_heading level0 col0\" >編碼名稱</th>\n",
              "      <th class=\"col_heading level0 col1\" >編碼類型</th>\n",
              "      <th class=\"col_heading level0 col2\" >編碼說明</th>\n",
              "      <th class=\"col_heading level0 col3\" >編碼數值（0包含未提及）</th>\n",
              "    </tr>\n",
              "  </thead>\n",
              "  <tbody>\n",
              "    <tr>\n",
              "      <th id=\"T_f644b_level0_row0\" class=\"row_heading level0 row0\" >1</th>\n",
              "      <td id=\"T_f644b_row0_col0\" class=\"data row0 col0\" ></td>\n",
              "      <td id=\"T_f644b_row0_col1\" class=\"data row0 col1\" >聲請原因</td>\n",
              "      <td id=\"T_f644b_row0_col2\" class=\"data row0 col2\" >監護/輔助人年事已高</td>\n",
              "      <td id=\"T_f644b_row0_col3\" class=\"data row0 col3\" >1=是，0=否</td>\n",
              "    </tr>\n",
              "    <tr>\n",
              "      <th id=\"T_f644b_level0_row1\" class=\"row_heading level0 row1\" >2</th>\n",
              "      <td id=\"T_f644b_row1_col0\" class=\"data row1 col0\" ></td>\n",
              "      <td id=\"T_f644b_row1_col1\" class=\"data row1 col1\" ></td>\n",
              "      <td id=\"T_f644b_row1_col2\" class=\"data row1 col2\" >監護/輔助人身體狀況不堪負荷</td>\n",
              "      <td id=\"T_f644b_row1_col3\" class=\"data row1 col3\" >1=是，0=否</td>\n",
              "    </tr>\n",
              "    <tr>\n",
              "      <th id=\"T_f644b_level0_row2\" class=\"row_heading level0 row2\" >3</th>\n",
              "      <td id=\"T_f644b_row2_col0\" class=\"data row2 col0\" ></td>\n",
              "      <td id=\"T_f644b_row2_col1\" class=\"data row2 col1\" ></td>\n",
              "      <td id=\"T_f644b_row2_col2\" class=\"data row2 col2\" >監護/輔助人不當管理本人財產</td>\n",
              "      <td id=\"T_f644b_row2_col3\" class=\"data row2 col3\" >1=是，0=否</td>\n",
              "    </tr>\n",
              "    <tr>\n",
              "      <th id=\"T_f644b_level0_row3\" class=\"row_heading level0 row3\" >4</th>\n",
              "      <td id=\"T_f644b_row3_col0\" class=\"data row3 col0\" ></td>\n",
              "      <td id=\"T_f644b_row3_col1\" class=\"data row3 col1\" ></td>\n",
              "      <td id=\"T_f644b_row3_col2\" class=\"data row3 col2\" >監護/輔助人與本人有利害關係</td>\n",
              "      <td id=\"T_f644b_row3_col3\" class=\"data row3 col3\" >1=是，0=否</td>\n",
              "    </tr>\n",
              "    <tr>\n",
              "      <th id=\"T_f644b_level0_row4\" class=\"row_heading level0 row4\" >5</th>\n",
              "      <td id=\"T_f644b_row4_col0\" class=\"data row4 col0\" ></td>\n",
              "      <td id=\"T_f644b_row4_col1\" class=\"data row4 col1\" ></td>\n",
              "      <td id=\"T_f644b_row4_col2\" class=\"data row4 col2\" >監護/輔助人有其他非財產之不當行為</td>\n",
              "      <td id=\"T_f644b_row4_col3\" class=\"data row4 col3\" >1=是，0=否</td>\n",
              "    </tr>\n",
              "    <tr>\n",
              "      <th id=\"T_f644b_level0_row5\" class=\"row_heading level0 row5\" >6</th>\n",
              "      <td id=\"T_f644b_row5_col0\" class=\"data row5 col0\" ></td>\n",
              "      <td id=\"T_f644b_row5_col1\" class=\"data row5 col1\" ></td>\n",
              "      <td id=\"T_f644b_row5_col2\" class=\"data row5 col2\" >監護/輔助人是否為本人之實際照顧者</td>\n",
              "      <td id=\"T_f644b_row5_col3\" class=\"data row5 col3\" >1=是，0=否</td>\n",
              "    </tr>\n",
              "    <tr>\n",
              "      <th id=\"T_f644b_level0_row6\" class=\"row_heading level0 row6\" >7</th>\n",
              "      <td id=\"T_f644b_row6_col0\" class=\"data row6 col0\" ></td>\n",
              "      <td id=\"T_f644b_row6_col1\" class=\"data row6 col1\" ></td>\n",
              "      <td id=\"T_f644b_row6_col2\" class=\"data row6 col2\" >監護/輔助人是否有續任意願</td>\n",
              "      <td id=\"T_f644b_row6_col3\" class=\"data row6 col3\" >1=是，0=否</td>\n",
              "    </tr>\n",
              "    <tr>\n",
              "      <th id=\"T_f644b_level0_row7\" class=\"row_heading level0 row7\" >8</th>\n",
              "      <td id=\"T_f644b_row7_col0\" class=\"data row7 col0\" ></td>\n",
              "      <td id=\"T_f644b_row7_col1\" class=\"data row7 col1\" ></td>\n",
              "      <td id=\"T_f644b_row7_col2\" class=\"data row7 col2\" >其他</td>\n",
              "      <td id=\"T_f644b_row7_col3\" class=\"data row7 col3\" >1=是，0=否</td>\n",
              "    </tr>\n",
              "    <tr>\n",
              "      <th id=\"T_f644b_level0_row8\" class=\"row_heading level0 row8\" >9</th>\n",
              "      <td id=\"T_f644b_row8_col0\" class=\"data row8 col0\" ></td>\n",
              "      <td id=\"T_f644b_row8_col1\" class=\"data row8 col1\" ></td>\n",
              "      <td id=\"T_f644b_row8_col2\" class=\"data row8 col2\" >監護/輔助人因工作繁忙或在國外無法執行相關事務</td>\n",
              "      <td id=\"T_f644b_row8_col3\" class=\"data row8 col3\" >1=是，0=否</td>\n",
              "    </tr>\n",
              "    <tr>\n",
              "      <th id=\"T_f644b_level0_row9\" class=\"row_heading level0 row9\" >10</th>\n",
              "      <td id=\"T_f644b_row9_col0\" class=\"data row9 col0\" ></td>\n",
              "      <td id=\"T_f644b_row9_col1\" class=\"data row9 col1\" ></td>\n",
              "      <td id=\"T_f644b_row9_col2\" class=\"data row9 col2\" ></td>\n",
              "      <td id=\"T_f644b_row9_col3\" class=\"data row9 col3\" ></td>\n",
              "    </tr>\n",
              "    <tr>\n",
              "      <th id=\"T_f644b_level0_row10\" class=\"row_heading level0 row10\" >11</th>\n",
              "      <td id=\"T_f644b_row10_col0\" class=\"data row10 col0\" ></td>\n",
              "      <td id=\"T_f644b_row10_col1\" class=\"data row10 col1\" >可用裁判</td>\n",
              "      <td id=\"T_f644b_row10_col2\" class=\"data row10 col2\" >宣告類別</td>\n",
              "      <td id=\"T_f644b_row10_col3\" class=\"data row10 col3\" >1=監護監護，2=輔助宣告</td>\n",
              "    </tr>\n",
              "    <tr>\n",
              "      <th id=\"T_f644b_level0_row11\" class=\"row_heading level0 row11\" >12</th>\n",
              "      <td id=\"T_f644b_row11_col0\" class=\"data row11 col0\" ></td>\n",
              "      <td id=\"T_f644b_row11_col1\" class=\"data row11 col1\" ></td>\n",
              "      <td id=\"T_f644b_row11_col2\" class=\"data row11 col2\" >監護/輔助人之性質</td>\n",
              "      <td id=\"T_f644b_row11_col3\" class=\"data row11 col3\" >1=自然人，2=主管機關</td>\n",
              "    </tr>\n",
              "    <tr>\n",
              "      <th id=\"T_f644b_level0_row12\" class=\"row_heading level0 row12\" >13</th>\n",
              "      <td id=\"T_f644b_row12_col0\" class=\"data row12 col0\" ></td>\n",
              "      <td id=\"T_f644b_row12_col1\" class=\"data row12 col1\" ></td>\n",
              "      <td id=\"T_f644b_row12_col2\" class=\"data row12 col2\" >監護/輔助人之人數（自然人）</td>\n",
              "      <td id=\"T_f644b_row12_col3\" class=\"data row12 col3\" >1=一人，2=二人，3=三人，4=四人，5=五人，7=七人</td>\n",
              "    </tr>\n",
              "    <tr>\n",
              "      <th id=\"T_f644b_level0_row13\" class=\"row_heading level0 row13\" >14</th>\n",
              "      <td id=\"T_f644b_row13_col0\" class=\"data row13 col0\" ></td>\n",
              "      <td id=\"T_f644b_row13_col1\" class=\"data row13 col1\" ></td>\n",
              "      <td id=\"T_f644b_row13_col2\" class=\"data row13 col2\" >法院是否認為原監護/輔助人「年事已高」</td>\n",
              "      <td id=\"T_f644b_row13_col3\" class=\"data row13 col3\" >1=是，0=否</td>\n",
              "    </tr>\n",
              "    <tr>\n",
              "      <th id=\"T_f644b_level0_row14\" class=\"row_heading level0 row14\" >15</th>\n",
              "      <td id=\"T_f644b_row14_col0\" class=\"data row14 col0\" ></td>\n",
              "      <td id=\"T_f644b_row14_col1\" class=\"data row14 col1\" ></td>\n",
              "      <td id=\"T_f644b_row14_col2\" class=\"data row14 col2\" >法院是否考慮原監護/輔助人之身體狀況</td>\n",
              "      <td id=\"T_f644b_row14_col3\" class=\"data row14 col3\" >1=是，0=否</td>\n",
              "    </tr>\n",
              "    <tr>\n",
              "      <th id=\"T_f644b_level0_row15\" class=\"row_heading level0 row15\" >16</th>\n",
              "      <td id=\"T_f644b_row15_col0\" class=\"data row15 col0\" ></td>\n",
              "      <td id=\"T_f644b_row15_col1\" class=\"data row15 col1\" ></td>\n",
              "      <td id=\"T_f644b_row15_col2\" class=\"data row15 col2\" >法院是否認為原監護/輔助人「身體不堪負荷」</td>\n",
              "      <td id=\"T_f644b_row15_col3\" class=\"data row15 col3\" >1=是，0=否</td>\n",
              "    </tr>\n",
              "    <tr>\n",
              "      <th id=\"T_f644b_level0_row16\" class=\"row_heading level0 row16\" >17</th>\n",
              "      <td id=\"T_f644b_row16_col0\" class=\"data row16 col0\" ></td>\n",
              "      <td id=\"T_f644b_row16_col1\" class=\"data row16 col1\" ></td>\n",
              "      <td id=\"T_f644b_row16_col2\" class=\"data row16 col2\" >法院是否認為原監護/輔助人「不當管理本人之動產」</td>\n",
              "      <td id=\"T_f644b_row16_col3\" class=\"data row16 col3\" >1=是，0=否</td>\n",
              "    </tr>\n",
              "    <tr>\n",
              "      <th id=\"T_f644b_level0_row17\" class=\"row_heading level0 row17\" >18</th>\n",
              "      <td id=\"T_f644b_row17_col0\" class=\"data row17 col0\" ></td>\n",
              "      <td id=\"T_f644b_row17_col1\" class=\"data row17 col1\" ></td>\n",
              "      <td id=\"T_f644b_row17_col2\" class=\"data row17 col2\" >法院是否認為原監護/輔助人「不當管理本人之不動產」</td>\n",
              "      <td id=\"T_f644b_row17_col3\" class=\"data row17 col3\" >1=是，0=否</td>\n",
              "    </tr>\n",
              "    <tr>\n",
              "      <th id=\"T_f644b_level0_row18\" class=\"row_heading level0 row18\" >19</th>\n",
              "      <td id=\"T_f644b_row18_col0\" class=\"data row18 col0\" ></td>\n",
              "      <td id=\"T_f644b_row18_col1\" class=\"data row18 col1\" ></td>\n",
              "      <td id=\"T_f644b_row18_col2\" class=\"data row18 col2\" >原監護/輔助人是否「與本人有利害關係」</td>\n",
              "      <td id=\"T_f644b_row18_col3\" class=\"data row18 col3\" >1=是，0=否</td>\n",
              "    </tr>\n",
              "    <tr>\n",
              "      <th id=\"T_f644b_level0_row19\" class=\"row_heading level0 row19\" >20</th>\n",
              "      <td id=\"T_f644b_row19_col0\" class=\"data row19 col0\" ></td>\n",
              "      <td id=\"T_f644b_row19_col1\" class=\"data row19 col1\" ></td>\n",
              "      <td id=\"T_f644b_row19_col2\" class=\"data row19 col2\" >法院是否認為原監護/輔助人有「其他不當行為」</td>\n",
              "      <td id=\"T_f644b_row19_col3\" class=\"data row19 col3\" >1=是，0=否</td>\n",
              "    </tr>\n",
              "    <tr>\n",
              "      <th id=\"T_f644b_level0_row20\" class=\"row_heading level0 row20\" >21</th>\n",
              "      <td id=\"T_f644b_row20_col0\" class=\"data row20 col0\" ></td>\n",
              "      <td id=\"T_f644b_row20_col1\" class=\"data row20 col1\" ></td>\n",
              "      <td id=\"T_f644b_row20_col2\" class=\"data row20 col2\" >監護/輔助人是「本人之實際照顧者」</td>\n",
              "      <td id=\"T_f644b_row20_col3\" class=\"data row20 col3\" >1=是，0=否</td>\n",
              "    </tr>\n",
              "    <tr>\n",
              "      <th id=\"T_f644b_level0_row21\" class=\"row_heading level0 row21\" >22</th>\n",
              "      <td id=\"T_f644b_row21_col0\" class=\"data row21 col0\" ></td>\n",
              "      <td id=\"T_f644b_row21_col1\" class=\"data row21 col1\" ></td>\n",
              "      <td id=\"T_f644b_row21_col2\" class=\"data row21 col2\" >監護/輔助人是否為「本人之廣義照顧者」</td>\n",
              "      <td id=\"T_f644b_row21_col3\" class=\"data row21 col3\" ></td>\n",
              "    </tr>\n",
              "    <tr>\n",
              "      <th id=\"T_f644b_level0_row22\" class=\"row_heading level0 row22\" >23</th>\n",
              "      <td id=\"T_f644b_row22_col0\" class=\"data row22 col0\" ></td>\n",
              "      <td id=\"T_f644b_row22_col1\" class=\"data row22 col1\" ></td>\n",
              "      <td id=\"T_f644b_row22_col2\" class=\"data row22 col2\" >原監護/輔助人是否有意願續任</td>\n",
              "      <td id=\"T_f644b_row22_col3\" class=\"data row22 col3\" >1=是，0=否</td>\n",
              "    </tr>\n",
              "    <tr>\n",
              "      <th id=\"T_f644b_level0_row23\" class=\"row_heading level0 row23\" >24</th>\n",
              "      <td id=\"T_f644b_row23_col0\" class=\"data row23 col0\" ></td>\n",
              "      <td id=\"T_f644b_row23_col1\" class=\"data row23 col1\" ></td>\n",
              "      <td id=\"T_f644b_row23_col2\" class=\"data row23 col2\" >專業人士訪視報告之「改定意見」</td>\n",
              "      <td id=\"T_f644b_row23_col3\" class=\"data row23 col3\" >1=是，0=否</td>\n",
              "    </tr>\n",
              "    <tr>\n",
              "      <th id=\"T_f644b_level0_row24\" class=\"row_heading level0 row24\" >25</th>\n",
              "      <td id=\"T_f644b_row24_col0\" class=\"data row24 col0\" ></td>\n",
              "      <td id=\"T_f644b_row24_col1\" class=\"data row24 col1\" ></td>\n",
              "      <td id=\"T_f644b_row24_col2\" class=\"data row24 col2\" >本人之「改定意見」</td>\n",
              "      <td id=\"T_f644b_row24_col3\" class=\"data row24 col3\" >1=是，0=否</td>\n",
              "    </tr>\n",
              "    <tr>\n",
              "      <th id=\"T_f644b_level0_row25\" class=\"row_heading level0 row25\" >26</th>\n",
              "      <td id=\"T_f644b_row25_col0\" class=\"data row25 col0\" ></td>\n",
              "      <td id=\"T_f644b_row25_col1\" class=\"data row25 col1\" ></td>\n",
              "      <td id=\"T_f644b_row25_col2\" class=\"data row25 col2\" >其他親屬、關係人之「改定意見」</td>\n",
              "      <td id=\"T_f644b_row25_col3\" class=\"data row25 col3\" >1=是，0=否</td>\n",
              "    </tr>\n",
              "    <tr>\n",
              "      <th id=\"T_f644b_level0_row26\" class=\"row_heading level0 row26\" >27</th>\n",
              "      <td id=\"T_f644b_row26_col0\" class=\"data row26 col0\" ></td>\n",
              "      <td id=\"T_f644b_row26_col1\" class=\"data row26 col1\" ></td>\n",
              "      <td id=\"T_f644b_row26_col2\" class=\"data row26 col2\" >法院是否有「聲請原因外之改定考量因素」</td>\n",
              "      <td id=\"T_f644b_row26_col3\" class=\"data row26 col3\" >1=是，0=否</td>\n",
              "    </tr>\n",
              "    <tr>\n",
              "      <th id=\"T_f644b_level0_row27\" class=\"row_heading level0 row27\" >28</th>\n",
              "      <td id=\"T_f644b_row27_col0\" class=\"data row27 col0\" ></td>\n",
              "      <td id=\"T_f644b_row27_col1\" class=\"data row27 col1\" ></td>\n",
              "      <td id=\"T_f644b_row27_col2\" class=\"data row27 col2\" ></td>\n",
              "      <td id=\"T_f644b_row27_col3\" class=\"data row27 col3\" ></td>\n",
              "    </tr>\n",
              "    <tr>\n",
              "      <th id=\"T_f644b_level0_row28\" class=\"row_heading level0 row28\" >29</th>\n",
              "      <td id=\"T_f644b_row28_col0\" class=\"data row28 col0\" ></td>\n",
              "      <td id=\"T_f644b_row28_col1\" class=\"data row28 col1\" >改定結果</td>\n",
              "      <td id=\"T_f644b_row28_col2\" class=\"data row28 col2\" >監護／輔助人是否被改定</td>\n",
              "      <td id=\"T_f644b_row28_col3\" class=\"data row28 col3\" >1=是，0=否</td>\n",
              "    </tr>\n",
              "    <tr>\n",
              "      <th id=\"T_f644b_level0_row29\" class=\"row_heading level0 row29\" >30</th>\n",
              "      <td id=\"T_f644b_row29_col0\" class=\"data row29 col0\" ></td>\n",
              "      <td id=\"T_f644b_row29_col1\" class=\"data row29 col1\" ></td>\n",
              "      <td id=\"T_f644b_row29_col2\" class=\"data row29 col2\" ></td>\n",
              "      <td id=\"T_f644b_row29_col3\" class=\"data row29 col3\" ></td>\n",
              "    </tr>\n",
              "    <tr>\n",
              "      <th id=\"T_f644b_level0_row30\" class=\"row_heading level0 row30\" >31</th>\n",
              "      <td id=\"T_f644b_row30_col0\" class=\"data row30 col0\" ></td>\n",
              "      <td id=\"T_f644b_row30_col1\" class=\"data row30 col1\" >不可用裁判</td>\n",
              "      <td id=\"T_f644b_row30_col2\" class=\"data row30 col2\" >排除理由</td>\n",
              "      <td id=\"T_f644b_row30_col3\" class=\"data row30 col3\" >1=原監護人/輔助人死亡</td>\n",
              "    </tr>\n",
              "    <tr>\n",
              "      <th id=\"T_f644b_level0_row31\" class=\"row_heading level0 row31\" >32</th>\n",
              "      <td id=\"T_f644b_row31_col0\" class=\"data row31 col0\" ></td>\n",
              "      <td id=\"T_f644b_row31_col1\" class=\"data row31 col1\" ></td>\n",
              "      <td id=\"T_f644b_row31_col2\" class=\"data row31 col2\" ></td>\n",
              "      <td id=\"T_f644b_row31_col3\" class=\"data row31 col3\" >2=原監護人/輔助人辭任 </td>\n",
              "    </tr>\n",
              "    <tr>\n",
              "      <th id=\"T_f644b_level0_row32\" class=\"row_heading level0 row32\" >33</th>\n",
              "      <td id=\"T_f644b_row32_col0\" class=\"data row32 col0\" ></td>\n",
              "      <td id=\"T_f644b_row32_col1\" class=\"data row32 col1\" ></td>\n",
              "      <td id=\"T_f644b_row32_col2\" class=\"data row32 col2\" ></td>\n",
              "      <td id=\"T_f644b_row32_col3\" class=\"data row32 col3\" >3=費用未繳納</td>\n",
              "    </tr>\n",
              "    <tr>\n",
              "      <th id=\"T_f644b_level0_row33\" class=\"row_heading level0 row33\" >34</th>\n",
              "      <td id=\"T_f644b_row33_col0\" class=\"data row33 col0\" ></td>\n",
              "      <td id=\"T_f644b_row33_col1\" class=\"data row33 col1\" ></td>\n",
              "      <td id=\"T_f644b_row33_col2\" class=\"data row33 col2\" ></td>\n",
              "      <td id=\"T_f644b_row33_col3\" class=\"data row33 col3\" >4=案件移送 </td>\n",
              "    </tr>\n",
              "    <tr>\n",
              "      <th id=\"T_f644b_level0_row34\" class=\"row_heading level0 row34\" >35</th>\n",
              "      <td id=\"T_f644b_row34_col0\" class=\"data row34 col0\" ></td>\n",
              "      <td id=\"T_f644b_row34_col1\" class=\"data row34 col1\" ></td>\n",
              "      <td id=\"T_f644b_row34_col2\" class=\"data row34 col2\" ></td>\n",
              "      <td id=\"T_f644b_row34_col3\" class=\"data row34 col3\" >5=內容誤寫</td>\n",
              "    </tr>\n",
              "    <tr>\n",
              "      <th id=\"T_f644b_level0_row35\" class=\"row_heading level0 row35\" >36</th>\n",
              "      <td id=\"T_f644b_row35_col0\" class=\"data row35 col0\" ></td>\n",
              "      <td id=\"T_f644b_row35_col1\" class=\"data row35 col1\" ></td>\n",
              "      <td id=\"T_f644b_row35_col2\" class=\"data row35 col2\" ></td>\n",
              "      <td id=\"T_f644b_row35_col3\" class=\"data row35 col3\" >6=本人死亡 </td>\n",
              "    </tr>\n",
              "    <tr>\n",
              "      <th id=\"T_f644b_level0_row36\" class=\"row_heading level0 row36\" >37</th>\n",
              "      <td id=\"T_f644b_row36_col0\" class=\"data row36 col0\" ></td>\n",
              "      <td id=\"T_f644b_row36_col1\" class=\"data row36 col1\" ></td>\n",
              "      <td id=\"T_f644b_row36_col2\" class=\"data row36 col2\" ></td>\n",
              "      <td id=\"T_f644b_row36_col3\" class=\"data row36 col3\" >7=程序未補正 </td>\n",
              "    </tr>\n",
              "    <tr>\n",
              "      <th id=\"T_f644b_level0_row37\" class=\"row_heading level0 row37\" >38</th>\n",
              "      <td id=\"T_f644b_row37_col0\" class=\"data row37 col0\" ></td>\n",
              "      <td id=\"T_f644b_row37_col1\" class=\"data row37 col1\" ></td>\n",
              "      <td id=\"T_f644b_row37_col2\" class=\"data row37 col2\" ></td>\n",
              "      <td id=\"T_f644b_row37_col3\" class=\"data row37 col3\" >8=選任程序監理人 </td>\n",
              "    </tr>\n",
              "    <tr>\n",
              "      <th id=\"T_f644b_level0_row38\" class=\"row_heading level0 row38\" >39</th>\n",
              "      <td id=\"T_f644b_row38_col0\" class=\"data row38 col0\" ></td>\n",
              "      <td id=\"T_f644b_row38_col1\" class=\"data row38 col1\" ></td>\n",
              "      <td id=\"T_f644b_row38_col2\" class=\"data row38 col2\" ></td>\n",
              "      <td id=\"T_f644b_row38_col3\" class=\"data row38 col3\" >9=其他</td>\n",
              "    </tr>\n",
              "  </tbody>\n",
              "</table>\n"
            ]
          },
          "metadata": {}
        }
      ]
    },
    {
      "cell_type": "markdown",
      "source": [
        "# 三、研究資料前處理與資料描述"
      ],
      "metadata": {
        "id": "5Ls0cMeqIhA1"
      }
    },
    {
      "cell_type": "markdown",
      "source": [
        "## 1. 資料前處理\n",
        "\n",
        "#### 確認資料樣式，以及編碼狀態\n",
        "#### 目標：沒有缺值、有標記欄位格式統一"
      ],
      "metadata": {
        "id": "vXd6EdbawMiX"
      }
    },
    {
      "cell_type": "code",
      "source": [
        "wb = gc.open_by_key('1TMDwDBPH4UWz0LiMV9PUSOVQtasLYykNMkhWJrxQcq0')"
      ],
      "metadata": {
        "id": "RjPeo_XK1BHX"
      },
      "execution_count": null,
      "outputs": []
    },
    {
      "cell_type": "code",
      "source": [
        "sheet = wb.worksheet('自然人')\n",
        "data = sheet.get_all_values()\n",
        "df = load_df(data)\n",
        "\n",
        "for col in ['主管機關是否被法院改定 (1=是, 2=否)', '原監護輔助人是否被法院改定']:\n",
        "  df[col] = df[col].apply(lambda x: 0 if x == '2' else x)\n",
        "\n",
        "for col in ['監護輔助人是本人之「實際照顧者」', '法院是否認為原監護輔助人「年事已高」', '法院是否考慮原監護輔助人之身體狀況', '法院是否認為原監護輔助人「身體不堪負荷」', '法院是否認為原監護輔助人「盜領存款」', '法院是否認為原監護輔助人「不當處理本人之不動產」', '原監護輔助人是否與本人有「利害關係」', '法院是否認為原監護輔助人有「其他不當行為」', '監護輔助人是本人之「實際照顧者」', '監護輔助人是否為本人「廣義照顧者」', '原監護輔助人是否有意願續任', '專業人士訪視報告之「改定建議」', '本人之「改定建議」']:\n",
        "  df[col] = df[col].apply(lambda x: '' if x == '0' else x)\n",
        "  df[col] = df[col].apply(lambda x: 0 if x == '2' else x)\n",
        "\n",
        "for col in ['原監護輔助人是否有意願續任']:\n",
        "  df[col] = df[col].apply(lambda x: '' if x == '0' else x)\n",
        "  df[col] = df[col].apply(lambda x: 0 if x == '1' else x)\n",
        "  df[col] = df[col].apply(lambda x: 1 if x == '2' else x)\n",
        "  df[col] = df[col].apply(lambda x: 1 if x == '3' else x)\n",
        "\n",
        "for col in ['專業人士訪視報告之「改定建議」']:\n",
        "  df[col] = df[col].apply(lambda x: '' if x == '0' else x)\n",
        "  df[col] = df[col].apply(lambda x: 0 if x == '1' else x)\n",
        "  df[col] = df[col].apply(lambda x: 0 if x == '2' else x)\n",
        "  df[col] = df[col].apply(lambda x: 1 if x == '3' else x)\n",
        "\n",
        "for col in ['其他親屬、關係人之「改定建議」']:\n",
        "  df[col] = df[col].apply(lambda x: '' if x == '0' else x)\n",
        "  df[col] = df[col].apply(lambda x: 0 if x == '1' else x)\n",
        "  df[col] = df[col].apply(lambda x: 0 if x == '2' else x)\n",
        "  df[col] = df[col].apply(lambda x: 0 if x == '3' else x)\n",
        "  df[col] = df[col].apply(lambda x: 1 if x == '4' else x)\n",
        "\n",
        "df = df.drop([\n",
        "  '欲改定人(maybe聲請人or關係人)是否有意願擔任',\n",
        "  '欲改定人(maybe聲請人or關係人)是否為本人親屬(四親等)',\n",
        "  '欲改定人是否現為本人廣義照顧者', '法院是否認為須變更本人現有生活狀態',\n",
        "  '法院認為原共同監護/輔助模式不利本人'\n",
        "], axis=1).reset_index(drop=True)\n",
        "\n",
        "# 寫回 Google Sheet\n",
        "sheet = wb.worksheet('自然人-Binary')\n",
        "sheet.update([df.columns.values.tolist()] + df.values.tolist())"
      ],
      "metadata": {
        "id": "i9mj9U1Cwwli",
        "colab": {
          "base_uri": "https://localhost:8080/"
        },
        "outputId": "ab3c884b-d580-4fda-e683-6d8757206e2d"
      },
      "execution_count": null,
      "outputs": [
        {
          "output_type": "execute_result",
          "data": {
            "text/plain": [
              "{'spreadsheetId': '1TMDwDBPH4UWz0LiMV9PUSOVQtasLYykNMkhWJrxQcq0',\n",
              " 'updatedCells': 9240,\n",
              " 'updatedColumns': 30,\n",
              " 'updatedRange': \"'自然人-Binary'!A1:AD308\",\n",
              " 'updatedRows': 308}"
            ]
          },
          "metadata": {},
          "execution_count": 13
        }
      ]
    },
    {
      "cell_type": "code",
      "source": [
        "df.columns"
      ],
      "metadata": {
        "colab": {
          "base_uri": "https://localhost:8080/"
        },
        "id": "LVU9gH-Q40S2",
        "outputId": "32aad1dd-36e0-477c-ed73-325b87c2690d"
      },
      "execution_count": null,
      "outputs": [
        {
          "output_type": "execute_result",
          "data": {
            "text/plain": [
              "Index(['index', 'UUID', '聲因1', '聲因2', '聲因3', '聲因4', '聲因5', '聲因6', '聲因7', '聲因8',\n",
              "       '聲因9', '宣告性質', '原監護輔助人之類型', '原監護輔助人之人數（自然人）', '主管機關是否被法院改定 (1=是, 2=否)',\n",
              "       '法院是否於聲請原因外考量「其他改定因素」', '法院是否認為原監護輔助人「年事已高」', '法院是否考慮原監護輔助人之身體狀況',\n",
              "       '法院是否認為原監護輔助人「身體不堪負荷」', '法院是否認為原監護輔助人「盜領存款」',\n",
              "       '法院是否認為原監護輔助人「不當處理本人之不動產」', '原監護輔助人是否與本人有「利害關係」',\n",
              "       '法院是否認為原監護輔助人有「其他不當行為」', '監護輔助人是本人之「實際照顧者」', '監護輔助人是否為本人「廣義照顧者」',\n",
              "       '原監護輔助人是否有意願續任', '專業人士訪視報告之「改定建議」', '本人之「改定建議」', '其他親屬、關係人之「改定建議」',\n",
              "       '原監護輔助人是否被法院改定'],\n",
              "      dtype='object')"
            ]
          },
          "metadata": {},
          "execution_count": 14
        }
      ]
    },
    {
      "cell_type": "markdown",
      "source": [
        "## 2. 定義資料分析基礎 Class\n",
        "#### 檢查一下編碼狀態 info(), value_counts()"
      ],
      "metadata": {
        "id": "mUzFCWkBzFWC"
      }
    },
    {
      "cell_type": "code",
      "source": [
        "gsheet_id = '1TMDwDBPH4UWz0LiMV9PUSOVQtasLYykNMkhWJrxQcq0'\n",
        "gsheet_all = '自然人-Binary'\n",
        "gsheet_super = '自然人-Binary-1監護宣告'\n",
        "gsheet_assist = '自然人-Binary-2輔助宣告'"
      ],
      "metadata": {
        "id": "LRKSOEpO56sa"
      },
      "execution_count": 2,
      "outputs": []
    },
    {
      "cell_type": "code",
      "source": [
        "import gspread\n",
        "import pandas as pd\n",
        "import numpy as np\n",
        "import matplotlib\n",
        "import matplotlib.font_manager as fm\n",
        "import matplotlib.pyplot as plt\n",
        "import seaborn as sns\n",
        "from google.colab import auth\n",
        "from google.auth import default\n",
        "from statsmodels.graphics.mosaicplot import mosaic\n",
        "from scipy import stats\n",
        "from sklearn.decomposition import PCA\n",
        "\n",
        "\n",
        "class Analysis():\n",
        "\n",
        "  def __init__(self, sheet_id, sheet_name, auto_proc=True, to_drop=[]):\n",
        "    auth.authenticate_user()\n",
        "    creds, _ = default()\n",
        "    gc = gspread.authorize(creds)\n",
        "    self.wb = gc.open_by_key(sheet_id)\n",
        "    sheet = self.wb.worksheet(sheet_name)\n",
        "    self.data = sheet.get_all_values()\n",
        "    self.df = self.load_df(self.data)\n",
        "    self.df_full = None\n",
        "    self.set_zh_font()\n",
        "    if auto_proc:\n",
        "      self.drop(to_drop)\n",
        "      \n",
        "  def load_df(self, data):\n",
        "    df = pd.DataFrame(data)\n",
        "    df.columns = df.loc[0, :].values.tolist()  # gsheet 預設欄位是數字 所以把第一行換成欄位/變數名\n",
        "    df = df.drop([0]).reset_index(drop=True)  # 去除一行多的東西 這個不一定要做 看你自己的資料\n",
        "    print(f\"載入資料筆數：{len(df)}\")\n",
        "    return df\n",
        "\n",
        "  def write_back_to_sheet(self, sheet_name):\n",
        "    sheet = self.wb.worksheet(sheet_name)\n",
        "    sheet.update([self.df.columns.values.tolist()] + self.df.values.tolist())\n",
        "\n",
        "  def info(self):\n",
        "    self.df.info()\n",
        "\n",
        "  def describe(self):\n",
        "    self.df.describe()\n",
        "\n",
        "  def cols(self):\n",
        "    return self.df.columns.to_list()\n",
        "\n",
        "  def print_cols(self):\n",
        "    for i, c in enumerate(self.cols()):\n",
        "      print(i, c)\n",
        "\n",
        "  def col(self, idx):\n",
        "    col = self.cols()[idx]\n",
        "    print(idx, col)\n",
        "    return col\n",
        "\n",
        "  def drop(self, columns_array):\n",
        "    self.df_full = self.df.copy(deep=True)\n",
        "    self.df = self.df.drop(columns_array, axis=1)\n",
        "\n",
        "  def replace_col_to(self, col, target, to):\n",
        "    self.df[col] = self.df[col].apply(\n",
        "      lambda x: to if x == target else x)\n",
        "\n",
        "  def replace_col_to_NaN(self, col, target):\n",
        "    self.df[col] = self.df[col].apply(\n",
        "      lambda x: np.nan if x == target else x)\n",
        "  \n",
        "  def replace_col_to_zero(self, col, target):\n",
        "    self.df[col] = self.df[col].apply(\n",
        "      lambda x: 0 if x == target else x)\n",
        "\n",
        "  def replace_all_col_to_NaN(self, target):\n",
        "    for col in self.df.columns:\n",
        "      self.replace_col_to_NaN(col, target)\n",
        "\n",
        "  def binary_converter(self, col):\n",
        "    # convert 1/2 binary to 1/0\n",
        "    # 1 = Yes\n",
        "    # 2 = No (should be 0)\n",
        "    self.df[col] = self.df[col].apply(lambda x: 0 if x == 2 else x)\n",
        "\n",
        "  def print_value_counts(self):\n",
        "    print(len(self.df.columns))\n",
        "    print(self.df.columns)\n",
        "    for i in self.df.columns:\n",
        "      print(i)\n",
        "      print(self.df[i].value_counts())\n",
        "      print(\"-\"*50)\n",
        "\n",
        "  def convert_to_numeric(self):\n",
        "    for i in range(0, len(self.df.columns)):\n",
        "      self.df.iloc[:,i] = pd.to_numeric(\n",
        "        self.df.iloc[:,i], errors='coerce')\n",
        "\n",
        "  def print_dtypes(self):\n",
        "    print(self.df.dtypes)\n",
        "\n",
        "  def set_zh_font(self):\n",
        "    #fm.fontManager.ttflist += fm.createFontList(['regular.ttf'])\n",
        "    fm.fontManager.addfont('regular.ttf')\n",
        "    matplotlib.rc('font', family='Noto Sans TC')\n",
        "\n",
        "  def banner(self, a, b):\n",
        "    print(\"-\"*50)\n",
        "    print(f\"X 軸 = {a}\")\n",
        "    print(f\"Y 軸 = {b}\")\n",
        "    print(\"-\"*50)"
      ],
      "metadata": {
        "id": "XuFosNw2wIiM",
        "colab": {
          "base_uri": "https://localhost:8080/"
        },
        "outputId": "8220d8d0-4502-4a33-90ba-8a608dd7621e"
      },
      "execution_count": 3,
      "outputs": [
        {
          "output_type": "stream",
          "name": "stderr",
          "text": [
            "/usr/local/lib/python3.7/dist-packages/statsmodels/tools/_testing.py:19: FutureWarning: pandas.util.testing is deprecated. Use the functions in the public API at pandas.testing instead.\n",
            "  import pandas.util.testing as tm\n"
          ]
        }
      ]
    },
    {
      "cell_type": "code",
      "source": [
        "# 下載中文字型\n",
        "![ ! -f regular.ttf ] && wget http://qinghe.com.tw/fonts/Noto%20Sans%20TC/regular.ttf"
      ],
      "metadata": {
        "id": "kcu4Zaqeb0su",
        "colab": {
          "base_uri": "https://localhost:8080/"
        },
        "outputId": "5c459d5b-4099-4926-ad5a-68932a37b91b"
      },
      "execution_count": 4,
      "outputs": [
        {
          "output_type": "stream",
          "name": "stdout",
          "text": [
            "--2022-06-01 13:28:52--  http://qinghe.com.tw/fonts/Noto%20Sans%20TC/regular.ttf\n",
            "Resolving qinghe.com.tw (qinghe.com.tw)... 128.199.134.179\n",
            "Connecting to qinghe.com.tw (qinghe.com.tw)|128.199.134.179|:80... connected.\n",
            "HTTP request sent, awaiting response... 200 OK\n",
            "Length: 5641188 (5.4M)\n",
            "Saving to: ‘regular.ttf’\n",
            "\n",
            "regular.ttf         100%[===================>]   5.38M   875KB/s    in 9.8s    \n",
            "\n",
            "2022-06-01 13:29:03 (560 KB/s) - ‘regular.ttf’ saved [5641188/5641188]\n",
            "\n"
          ]
        }
      ]
    },
    {
      "cell_type": "code",
      "source": [
        "a = Analysis(gsheet_id, gsheet_super, to_drop=[\n",
        "  'index',\n",
        "  'UUID',\n",
        "  '主管機關是否被法院改定 (1=是, 2=否)',\n",
        "  '宣告性質',\n",
        "  '原監護輔助人之類型'\n",
        "])\n",
        "a.info()"
      ],
      "metadata": {
        "colab": {
          "base_uri": "https://localhost:8080/"
        },
        "id": "W4wS6UPUb2Ee",
        "outputId": "3650eb17-dfdd-4171-c4cd-1dabde7cd7f5"
      },
      "execution_count": null,
      "outputs": [
        {
          "output_type": "stream",
          "name": "stdout",
          "text": [
            "載入資料筆數：208\n",
            "<class 'pandas.core.frame.DataFrame'>\n",
            "RangeIndex: 208 entries, 0 to 207\n",
            "Data columns (total 25 columns):\n",
            " #   Column                    Non-Null Count  Dtype \n",
            "---  ------                    --------------  ----- \n",
            " 0   聲因1                       208 non-null    object\n",
            " 1   聲因2                       208 non-null    object\n",
            " 2   聲因3                       208 non-null    object\n",
            " 3   聲因4                       208 non-null    object\n",
            " 4   聲因5                       208 non-null    object\n",
            " 5   聲因6                       208 non-null    object\n",
            " 6   聲因7                       208 non-null    object\n",
            " 7   聲因8                       208 non-null    object\n",
            " 8   聲因9                       208 non-null    object\n",
            " 9   原監護輔助人之人數（自然人）            208 non-null    object\n",
            " 10  法院是否於聲請原因外考量「其他改定因素」      208 non-null    object\n",
            " 11  法院是否認為原監護輔助人「年事已高」        208 non-null    object\n",
            " 12  法院是否考慮原監護輔助人之身體狀況         208 non-null    object\n",
            " 13  法院是否認為原監護輔助人「身體不堪負荷」      208 non-null    object\n",
            " 14  法院是否認為原監護輔助人「盜領存款」        208 non-null    object\n",
            " 15  法院是否認為原監護輔助人「不當處理本人之不動產」  208 non-null    object\n",
            " 16  原監護輔助人是否與本人有「利害關係」        208 non-null    object\n",
            " 17  法院是否認為原監護輔助人有「其他不當行為」     208 non-null    object\n",
            " 18  監護輔助人是本人之「實際照顧者」          208 non-null    object\n",
            " 19  監護輔助人是否為本人「廣義照顧者」         208 non-null    object\n",
            " 20  原監護輔助人是否有意願續任             208 non-null    object\n",
            " 21  專業人士訪視報告之「改定建議」           208 non-null    object\n",
            " 22  本人之「改定建議」                 208 non-null    object\n",
            " 23  其他親屬、關係人之「改定建議」           208 non-null    object\n",
            " 24  原監護輔助人是否被法院改定             208 non-null    object\n",
            "dtypes: object(25)\n",
            "memory usage: 40.8+ KB\n"
          ]
        }
      ]
    },
    {
      "cell_type": "code",
      "source": [
        "# 空值取代為 0\n",
        "for col in a.df.columns:\n",
        "  a.replace_col_to(col, '', 0)\n",
        "\n",
        "# 轉換為數字\n",
        "a.convert_to_numeric()\n",
        "a.print_dtypes()\n",
        "a.print_value_counts()"
      ],
      "metadata": {
        "colab": {
          "base_uri": "https://localhost:8080/"
        },
        "id": "agO_H-SB6RKA",
        "outputId": "6d702a49-db90-4dff-b403-5881acbd2f8f"
      },
      "execution_count": null,
      "outputs": [
        {
          "output_type": "stream",
          "name": "stdout",
          "text": [
            "聲因1                         int64\n",
            "聲因2                         int64\n",
            "聲因3                         int64\n",
            "聲因4                         int64\n",
            "聲因5                         int64\n",
            "聲因6                         int64\n",
            "聲因7                         int64\n",
            "聲因8                         int64\n",
            "聲因9                         int64\n",
            "原監護輔助人之人數（自然人）              int64\n",
            "法院是否於聲請原因外考量「其他改定因素」        int64\n",
            "法院是否認為原監護輔助人「年事已高」          int64\n",
            "法院是否考慮原監護輔助人之身體狀況           int64\n",
            "法院是否認為原監護輔助人「身體不堪負荷」        int64\n",
            "法院是否認為原監護輔助人「盜領存款」          int64\n",
            "法院是否認為原監護輔助人「不當處理本人之不動產」    int64\n",
            "原監護輔助人是否與本人有「利害關係」          int64\n",
            "法院是否認為原監護輔助人有「其他不當行為」       int64\n",
            "監護輔助人是本人之「實際照顧者」            int64\n",
            "監護輔助人是否為本人「廣義照顧者」           int64\n",
            "原監護輔助人是否有意願續任               int64\n",
            "專業人士訪視報告之「改定建議」             int64\n",
            "本人之「改定建議」                   int64\n",
            "其他親屬、關係人之「改定建議」             int64\n",
            "原監護輔助人是否被法院改定               int64\n",
            "dtype: object\n",
            "25\n",
            "Index(['聲因1', '聲因2', '聲因3', '聲因4', '聲因5', '聲因6', '聲因7', '聲因8', '聲因9',\n",
            "       '原監護輔助人之人數（自然人）', '法院是否於聲請原因外考量「其他改定因素」', '法院是否認為原監護輔助人「年事已高」',\n",
            "       '法院是否考慮原監護輔助人之身體狀況', '法院是否認為原監護輔助人「身體不堪負荷」', '法院是否認為原監護輔助人「盜領存款」',\n",
            "       '法院是否認為原監護輔助人「不當處理本人之不動產」', '原監護輔助人是否與本人有「利害關係」',\n",
            "       '法院是否認為原監護輔助人有「其他不當行為」', '監護輔助人是本人之「實際照顧者」', '監護輔助人是否為本人「廣義照顧者」',\n",
            "       '原監護輔助人是否有意願續任', '專業人士訪視報告之「改定建議」', '本人之「改定建議」', '其他親屬、關係人之「改定建議」',\n",
            "       '原監護輔助人是否被法院改定'],\n",
            "      dtype='object')\n",
            "聲因1\n",
            "0    159\n",
            "1     49\n",
            "Name: 聲因1, dtype: int64\n",
            "--------------------------------------------------\n",
            "聲因2\n",
            "0    164\n",
            "1     44\n",
            "Name: 聲因2, dtype: int64\n",
            "--------------------------------------------------\n",
            "聲因3\n",
            "0    163\n",
            "1     45\n",
            "Name: 聲因3, dtype: int64\n",
            "--------------------------------------------------\n",
            "聲因4\n",
            "0    192\n",
            "1     16\n",
            "Name: 聲因4, dtype: int64\n",
            "--------------------------------------------------\n",
            "聲因5\n",
            "0    144\n",
            "1     64\n",
            "Name: 聲因5, dtype: int64\n",
            "--------------------------------------------------\n",
            "聲因6\n",
            "0    163\n",
            "1     45\n",
            "Name: 聲因6, dtype: int64\n",
            "--------------------------------------------------\n",
            "聲因7\n",
            "0    171\n",
            "1     37\n",
            "Name: 聲因7, dtype: int64\n",
            "--------------------------------------------------\n",
            "聲因8\n",
            "1    105\n",
            "0    103\n",
            "Name: 聲因8, dtype: int64\n",
            "--------------------------------------------------\n",
            "聲因9\n",
            "0    194\n",
            "1     14\n",
            "Name: 聲因9, dtype: int64\n",
            "--------------------------------------------------\n",
            "原監護輔助人之人數（自然人）\n",
            "1    142\n",
            "2     50\n",
            "3     12\n",
            "4      4\n",
            "Name: 原監護輔助人之人數（自然人）, dtype: int64\n",
            "--------------------------------------------------\n",
            "法院是否於聲請原因外考量「其他改定因素」\n",
            "1    177\n",
            "2     31\n",
            "Name: 法院是否於聲請原因外考量「其他改定因素」, dtype: int64\n",
            "--------------------------------------------------\n",
            "法院是否認為原監護輔助人「年事已高」\n",
            "0    165\n",
            "1     43\n",
            "Name: 法院是否認為原監護輔助人「年事已高」, dtype: int64\n",
            "--------------------------------------------------\n",
            "法院是否考慮原監護輔助人之身體狀況\n",
            "0    162\n",
            "1     46\n",
            "Name: 法院是否考慮原監護輔助人之身體狀況, dtype: int64\n",
            "--------------------------------------------------\n",
            "法院是否認為原監護輔助人「身體不堪負荷」\n",
            "0    165\n",
            "1     43\n",
            "Name: 法院是否認為原監護輔助人「身體不堪負荷」, dtype: int64\n",
            "--------------------------------------------------\n",
            "法院是否認為原監護輔助人「盜領存款」\n",
            "0    197\n",
            "1     11\n",
            "Name: 法院是否認為原監護輔助人「盜領存款」, dtype: int64\n",
            "--------------------------------------------------\n",
            "法院是否認為原監護輔助人「不當處理本人之不動產」\n",
            "0    196\n",
            "1     12\n",
            "Name: 法院是否認為原監護輔助人「不當處理本人之不動產」, dtype: int64\n",
            "--------------------------------------------------\n",
            "原監護輔助人是否與本人有「利害關係」\n",
            "0    193\n",
            "1     15\n",
            "Name: 原監護輔助人是否與本人有「利害關係」, dtype: int64\n",
            "--------------------------------------------------\n",
            "法院是否認為原監護輔助人有「其他不當行為」\n",
            "0    180\n",
            "1     28\n",
            "Name: 法院是否認為原監護輔助人有「其他不當行為」, dtype: int64\n",
            "--------------------------------------------------\n",
            "監護輔助人是本人之「實際照顧者」\n",
            "0    182\n",
            "1     26\n",
            "Name: 監護輔助人是本人之「實際照顧者」, dtype: int64\n",
            "--------------------------------------------------\n",
            "監護輔助人是否為本人「廣義照顧者」\n",
            "0    145\n",
            "1     63\n",
            "Name: 監護輔助人是否為本人「廣義照顧者」, dtype: int64\n",
            "--------------------------------------------------\n",
            "原監護輔助人是否有意願續任\n",
            "0    131\n",
            "1     77\n",
            "Name: 原監護輔助人是否有意願續任, dtype: int64\n",
            "--------------------------------------------------\n",
            "專業人士訪視報告之「改定建議」\n",
            "0    179\n",
            "1     29\n",
            "Name: 專業人士訪視報告之「改定建議」, dtype: int64\n",
            "--------------------------------------------------\n",
            "本人之「改定建議」\n",
            "0    207\n",
            "1      1\n",
            "Name: 本人之「改定建議」, dtype: int64\n",
            "--------------------------------------------------\n",
            "其他親屬、關係人之「改定建議」\n",
            "0    134\n",
            "1     74\n",
            "Name: 其他親屬、關係人之「改定建議」, dtype: int64\n",
            "--------------------------------------------------\n",
            "原監護輔助人是否被法院改定\n",
            "1    134\n",
            "0     74\n",
            "Name: 原監護輔助人是否被法院改定, dtype: int64\n",
            "--------------------------------------------------\n"
          ]
        }
      ]
    },
    {
      "cell_type": "markdown",
      "source": [
        "# 四、資料分析"
      ],
      "metadata": {
        "id": "f_BiIdfYUk70"
      }
    },
    {
      "cell_type": "markdown",
      "source": [
        "## 3. 敘述統計"
      ],
      "metadata": {
        "id": "s29GIp8X7N-u"
      }
    },
    {
      "cell_type": "code",
      "source": [
        "from matplotlib import cm\n",
        "\n",
        "class Plot(Analysis):\n",
        "\n",
        "  def bar(self, columns_x, columns_y, title, xlabel, ylabel, ylim=250, horizontal=False):\n",
        "    if horizontal:\n",
        "      plt.barh(columns_x, columns_y, color=cm.jet(np.linspace(0, 1, len(columns_x))))\n",
        "    else:\n",
        "      plt.bar(columns_x, columns_y, color=cm.jet(np.linspace(0, 1, len(columns_x))))\n",
        "    plt.title(title)\n",
        "    plt.xlabel(xlabel)\n",
        "    plt.ylabel(ylabel)\n",
        "    # Add num on bar top\n",
        "    for i in range(0, len(columns_x)):\n",
        "      plt.text(columns_x[i], columns_y[i]+0.05, str(columns_y[i]), ha='center', va='bottom', fontsize=11)\n",
        "    plt.ylim(0, ylim)\n",
        "    plt.show()\n",
        "\n",
        "  \n",
        "  def pie(self, columns_x, columns_y, title):\n",
        "    print('x', columns_x)\n",
        "    print('y', columns_y)\n",
        "    colors = ['lightblue','pink']\n",
        "    plt.pie(columns_y, labels=columns_x, autopct='%1.2f%%', colors=colors)\n",
        "    plt.legend()\n",
        "    plt.title(title)\n",
        "    plt.show()\n",
        "\n",
        "p = Plot(gsheet_id, gsheet_all)"
      ],
      "metadata": {
        "colab": {
          "base_uri": "https://localhost:8080/"
        },
        "id": "68vRAPt77RCP",
        "outputId": "2d5359c3-7b04-4d53-b94a-f35c754310b6"
      },
      "execution_count": null,
      "outputs": [
        {
          "output_type": "stream",
          "name": "stdout",
          "text": [
            "載入資料筆數：307\n"
          ]
        }
      ]
    },
    {
      "cell_type": "markdown",
      "source": [
        "### 3.1 宣告性質"
      ],
      "metadata": {
        "id": "HtONLJL4YEJ4"
      }
    },
    {
      "cell_type": "code",
      "source": [
        "p.bar(\n",
        "    ['監護宣告', '輔助宣告'],\n",
        "    list(p.df['宣告性質'].value_counts()),\n",
        "    '宣告性質', '類別', '件數')"
      ],
      "metadata": {
        "colab": {
          "base_uri": "https://localhost:8080/",
          "height": 295
        },
        "id": "PiqbfrAJUn5P",
        "outputId": "f57f7d69-a7b1-4004-b472-26f2d5e71887"
      },
      "execution_count": null,
      "outputs": [
        {
          "output_type": "display_data",
          "data": {
            "text/plain": [
              "<Figure size 432x288 with 1 Axes>"
            ],
            "image/png": "[encoded data removed]"
          },
          "metadata": {
            "needs_background": "light"
          }
        }
      ]
    },
    {
      "cell_type": "markdown",
      "source": [
        "### 3.2 是否改定"
      ],
      "metadata": {
        "id": "4abRt_ktYJmA"
      }
    },
    {
      "cell_type": "code",
      "source": [
        "p.pie(\n",
        "    ['改定', '不改定'],\n",
        "    list(p.df['原監護輔助人是否被法院改定'].value_counts()),\n",
        "    '法院是否改定')"
      ],
      "metadata": {
        "colab": {
          "base_uri": "https://localhost:8080/",
          "height": 299
        },
        "id": "hUZsnH2dYL05",
        "outputId": "4f077ca9-2544-478c-9f3b-d94ba5e0302a"
      },
      "execution_count": null,
      "outputs": [
        {
          "output_type": "stream",
          "name": "stdout",
          "text": [
            "x ['改定', '不改定']\n",
            "y [199, 108]\n"
          ]
        },
        {
          "output_type": "display_data",
          "data": {
            "text/plain": [
              "<Figure size 432x288 with 1 Axes>"
            ],
            "image/png": "[encoded data removed]"
          },
          "metadata": {}
        }
      ]
    },
    {
      "cell_type": "markdown",
      "source": [
        "### 3.3 因素統計"
      ],
      "metadata": {
        "id": "kA8_l_HKgYKH"
      }
    },
    {
      "cell_type": "code",
      "source": [
        "import json\n",
        "\n",
        "def calc(f, t):\n",
        "  index = 0\n",
        "  map = {}\n",
        "  for col in p.cols()[f:t]:\n",
        "    map[index] = col\n",
        "    index += 1\n",
        "    p.replace_col_to(col, '', 0)\n",
        "\n",
        "  p.convert_to_numeric()\n",
        "\n",
        "  reasons_count = []\n",
        "  for col in p.cols()[f:t]:\n",
        "    reasons_count.append(p.df[col].value_counts().to_dict()[1])\n",
        "\n",
        "  print(json.dumps(map, indent=2, ensure_ascii=False))\n",
        "  return map, reasons_count\n",
        "\n",
        "count_map, count_rcount = calc(15, 29)\n",
        "\n",
        "p.bar(\n",
        "    list(count_map.keys()),\n",
        "    count_rcount,\n",
        "    '法院考量因素統計',\n",
        "    '類別', '件數',\n",
        "    ylim=300,\n",
        "    horizontal=False\n",
        ")"
      ],
      "metadata": {
        "colab": {
          "base_uri": "https://localhost:8080/",
          "height": 573
        },
        "id": "-BmGeJ3Dau4t",
        "outputId": "91ad3378-516d-4447-d776-5693941c65aa"
      },
      "execution_count": null,
      "outputs": [
        {
          "output_type": "stream",
          "name": "stdout",
          "text": [
            "{\n",
            "  \"0\": \"法院是否於聲請原因外考量「其他改定因素」\",\n",
            "  \"1\": \"法院是否認為原監護輔助人「年事已高」\",\n",
            "  \"2\": \"法院是否考慮原監護輔助人之身體狀況\",\n",
            "  \"3\": \"法院是否認為原監護輔助人「身體不堪負荷」\",\n",
            "  \"4\": \"法院是否認為原監護輔助人「盜領存款」\",\n",
            "  \"5\": \"法院是否認為原監護輔助人「不當處理本人之不動產」\",\n",
            "  \"6\": \"原監護輔助人是否與本人有「利害關係」\",\n",
            "  \"7\": \"法院是否認為原監護輔助人有「其他不當行為」\",\n",
            "  \"8\": \"監護輔助人是本人之「實際照顧者」\",\n",
            "  \"9\": \"監護輔助人是否為本人「廣義照顧者」\",\n",
            "  \"10\": \"原監護輔助人是否有意願續任\",\n",
            "  \"11\": \"專業人士訪視報告之「改定建議」\",\n",
            "  \"12\": \"本人之「改定建議」\",\n",
            "  \"13\": \"其他親屬、關係人之「改定建議」\"\n",
            "}\n"
          ]
        },
        {
          "output_type": "display_data",
          "data": {
            "text/plain": [
              "<Figure size 432x288 with 1 Axes>"
            ],
            "image/png": "[encoded data removed]"
          },
          "metadata": {
            "needs_background": "light"
          }
        }
      ]
    },
    {
      "cell_type": "code",
      "source": [
        "ar_map, ar_rcount = calc(2, 11)\n",
        "\n",
        "p.bar(\n",
        "    list(ar_map.keys()),\n",
        "    ar_rcount,\n",
        "    '聲請原因統計',\n",
        "    '類別', '件數',\n",
        "    ylim=300,\n",
        "    horizontal=False\n",
        ")"
      ],
      "metadata": {
        "colab": {
          "base_uri": "https://localhost:8080/",
          "height": 486
        },
        "id": "w0DIb647gdLF",
        "outputId": "59ab629d-0d1a-49ca-945a-17cdf75df280"
      },
      "execution_count": null,
      "outputs": [
        {
          "output_type": "stream",
          "name": "stdout",
          "text": [
            "{\n",
            "  \"0\": \"聲因1\",\n",
            "  \"1\": \"聲因2\",\n",
            "  \"2\": \"聲因3\",\n",
            "  \"3\": \"聲因4\",\n",
            "  \"4\": \"聲因5\",\n",
            "  \"5\": \"聲因6\",\n",
            "  \"6\": \"聲因7\",\n",
            "  \"7\": \"聲因8\",\n",
            "  \"8\": \"聲因9\"\n",
            "}\n"
          ]
        },
        {
          "output_type": "display_data",
          "data": {
            "text/plain": [
              "<Figure size 432x288 with 1 Axes>"
            ],
            "image/png": "[encoded data removed]"
          },
          "metadata": {
            "needs_background": "light"
          }
        }
      ]
    },
    {
      "cell_type": "markdown",
      "source": [
        "### 3.4 排除"
      ],
      "metadata": {
        "id": "6h5GvOFl0mkh"
      }
    },
    {
      "cell_type": "code",
      "source": [
        "wb_exclude = gc.open_by_key('1Xhp7kQfweLOLmiAQpMgfVFuLnClL1kVEKuNDV5a6eTo')\n",
        "sheet_exclude = wb_exclude.worksheet('不可用')\n",
        "data_exclude = sheet_exclude.get_all_values()\n",
        "pd_exclude = pd.DataFrame(data_exclude)\n",
        "pd_exclude.columns = pd_exclude.iloc[0]\n",
        "pd_exclude = pd_exclude.iloc[1:]\n",
        "\n",
        "vc = pd_exclude['排除理由'].value_counts()\n",
        "y = list(vc)\n",
        "x = list(vc.keys())\n",
        "\n",
        "p.bar(\n",
        "    x,\n",
        "    y,\n",
        "    '排除原因',\n",
        "    '類別', '件數',\n",
        "    ylim=200,\n",
        ")\n",
        "\n",
        "print(\"\"\"\n",
        "1=原監護人/輔助人死亡\n",
        "2=原監護人/輔助人辭任 \n",
        "3=費用未繳納\n",
        "4=案件移送 \n",
        "5=內容誤寫\n",
        "6=本人死亡 \n",
        "7=程序未補正 \n",
        "8=選任程序監理人 \n",
        "9=其他\n",
        "\"\"\")"
      ],
      "metadata": {
        "colab": {
          "base_uri": "https://localhost:8080/",
          "height": 486
        },
        "id": "3So3KLh10lNB",
        "outputId": "84214ec3-3f58-4dcd-8910-b312a40aefeb"
      },
      "execution_count": null,
      "outputs": [
        {
          "output_type": "display_data",
          "data": {
            "text/plain": [
              "<Figure size 432x288 with 1 Axes>"
            ],
            "image/png": "[encoded data removed]"
          },
          "metadata": {
            "needs_background": "light"
          }
        },
        {
          "output_type": "stream",
          "name": "stdout",
          "text": [
            "\n",
            "1=原監護人/輔助人死亡\n",
            "2=原監護人/輔助人辭任 \n",
            "3=費用未繳納\n",
            "4=案件移送 \n",
            "5=內容誤寫\n",
            "6=本人死亡 \n",
            "7=程序未補正 \n",
            "8=選任程序監理人 \n",
            "9=其他\n",
            "\n"
          ]
        }
      ]
    },
    {
      "cell_type": "markdown",
      "source": [
        "## 4. 檢查共線性/相關性"
      ],
      "metadata": {
        "id": "KSnX2Dstk4Pe"
      }
    },
    {
      "cell_type": "code",
      "source": [
        "class Corr(Analysis):\n",
        "\n",
        "  def corr_heatmap(self):\n",
        "    \"\"\"4.1\"\"\"\n",
        "    ## 檢查共線性\n",
        "    colormap = plt.cm.viridis\n",
        "    plt.figure(figsize=(20,16))\n",
        "    plt.title('all corelations', y=1.05, size=15)\n",
        "    corr = self.df.corr()\n",
        "    mask = np.zeros_like(corr)\n",
        "    mask[np.triu_indices_from(mask)] = True\n",
        "    with sns.axes_style(\"white\"):\n",
        "      sns.heatmap(corr, linewidths=0.1, vmax=1.0,\n",
        "                  square=True, cmap=\"YlGnBu\",\n",
        "                  linecolor='white', annot=True, mask=mask)\n",
        "\n",
        "  def chi2_contingency_and_mosaic(self, column_a, column_b):\n",
        "    \"\"\"4.2\"\"\"\n",
        "    self.banner(column_a, column_b)\n",
        "    crosstable = pd.crosstab(\n",
        "        self.df[column_a],\n",
        "        self.df[column_b])\n",
        "    stat, p, dof, expected = stats.chi2_contingency(crosstable, correction=False)\n",
        "    print(crosstable)\n",
        "    # interpret p-value\n",
        "    alpha = 0.05\n",
        "    print(\"p value is \" + str(p))\n",
        "    if p <= alpha:\n",
        "        print('兩者有關 Dependent (reject H0)')\n",
        "    else:\n",
        "        print('兩者無關 Independent (H0 holds true)')\n",
        "    mosaic(self.df, [column_a, column_b])\n",
        "    plt.show()\n",
        "\n",
        "  def pca(self):\n",
        "    \"\"\"4.3.1\"\"\"\n",
        "    # You must normalize the data before applying the fit method\n",
        "    df_normalized=(self.df - self.df.mean()) / self.df.std()\n",
        "    pca = PCA(n_components=self.df.shape[1])\n",
        "    pca.fit(df_normalized)\n",
        "\n",
        "    # Reformat and view results\n",
        "    loadings = pd.DataFrame(\n",
        "        pca.components_.T,\n",
        "      columns=['PC%s' % _ for _ in range(len(df_normalized.columns))],\n",
        "      index=self.df.columns)\n",
        "    print(loadings)\n",
        "\n",
        "    plt.plot(pca.explained_variance_ratio_)\n",
        "    plt.ylabel('Explained Variance')\n",
        "    plt.xlabel('Components')\n",
        "    plt.show()\n",
        "\n",
        "  def pca2(self, column_b, column_a):\n",
        "    \"\"\"4.3.2\"\"\"\n",
        "    pca = PCA(n_components=2)\n",
        "    principalComponents = pca.fit_transform(self.df)\n",
        "    principalDf = pd.DataFrame(data=principalComponents, columns=[column_a, column_b])\n",
        "    finalDf = principalDf\n",
        "    print(finalDf.head())\n",
        "\n",
        "    fig = plt.figure(figsize = (12,12))\n",
        "    ax = fig.add_subplot(1,1,1)\n",
        "    sns.scatterplot(x=column_a, y=column_b, data=finalDf)\n",
        "    plt.show()"
      ],
      "metadata": {
        "id": "jNpkEn8B7aZj"
      },
      "execution_count": null,
      "outputs": []
    },
    {
      "cell_type": "markdown",
      "source": [
        "### 4.1 所有相關/共線性\n"
      ],
      "metadata": {
        "id": "E9e-QblZfH15"
      }
    },
    {
      "cell_type": "markdown",
      "source": [
        "**分析目的**\n",
        "\n",
        "\n",
        "本文將依變項和12個自變項作相關性分析，初步分析哪些自變項和依變項有高度相關性。另外由於監護人的法定職務範圍與輔助人不同，前者對被監護人負有生活照料、財產管理義務 (民法1112條)，後者則原則上只有對被輔助人特定法律行為的同意權 (民法15-2條)，故以下分析皆將監護人、輔助人分開，以免研究結果相互影響，亦藉此分析法院在考量監護人、輔助人之改定時，是否因兩者法定職務範圍的不同，進而著重考量不同因素。"
      ],
      "metadata": {
        "id": "7mmGIFVsSNX2"
      }
    },
    {
      "cell_type": "markdown",
      "source": [
        "#### 4.1.1 監護宣告"
      ],
      "metadata": {
        "id": "W3geMI1W8sD1"
      }
    },
    {
      "cell_type": "markdown",
      "source": [
        "**分析結果：改定監護人案件**\n",
        "\n",
        "從下圖可知，法院在決定是否改定監護人時，主要考量三大因素：「監護人是否有續任意願」、「監護人是否是本人的廣義照顧者」、「其他親屬是否一致建議法院改定」，前兩項若是，法院偏向不改定；後一項若是，法院偏向改定。\n",
        "\n",
        "**自變項間相關性達｜0.5｜以上者**\n",
        "\n",
        "年事已高 vs 身體不堪負荷 (0.5)\n",
        "\n",
        "廣義照顧者 vs 實際照顧者 (0.57)\n",
        "\n",
        "\n",
        "廣義照顧者 vs 續任意願 (0.62)\n",
        "\n",
        "\n",
        "**自變項與依變項間相關性達｜0.5｜以上**\n",
        "\n",
        "是否被改定 vs 廣義照顧者 (-0.6)\n",
        "\n",
        "是否被改定 vs 續任意願 (-0.78)\n",
        "\n",
        "是否被改定 vs 其他親屬意見 (0.49)\n"
      ],
      "metadata": {
        "id": "W-pxGCOJSgID"
      }
    },
    {
      "cell_type": "code",
      "source": [
        "c_super = Corr(gsheet_id, gsheet_super, to_drop=[\n",
        "  'index',\n",
        "  'UUID',\n",
        "  '宣告性質',\n",
        "  '原監護輔助人之類型',\n",
        "  '原監護輔助人之人數（自然人）',\n",
        "  '主管機關是否被法院改定 (1=是, 2=否)',\n",
        "  '聲因1',\n",
        "  '聲因2',\n",
        "  '聲因3',\n",
        "  '聲因4',\n",
        "  '聲因5',\n",
        "  '聲因6',\n",
        "  '聲因7',\n",
        "  '聲因8',\n",
        "  '聲因9',\n",
        "  '法院是否考慮原監護輔助人之身體狀況',\n",
        "  '法院是否於聲請原因外考量「其他改定因素」'\n",
        "])\n",
        "for col in c_super.df.columns:\n",
        "  c_super.replace_col_to(col, '', 0)  # 空值取代為 0\n",
        "c_super.convert_to_numeric()\n",
        "c_super.corr_heatmap()"
      ],
      "metadata": {
        "colab": {
          "base_uri": "https://localhost:8080/",
          "height": 1000
        },
        "outputId": "e48fea45-5a9a-4fca-f929-8c7033b9d50b",
        "id": "B9aubgYG9Z1I"
      },
      "execution_count": null,
      "outputs": [
        {
          "output_type": "stream",
          "name": "stdout",
          "text": [
            "載入資料筆數：208\n"
          ]
        },
        {
          "output_type": "display_data",
          "data": {
            "text/plain": [
              "<Figure size 1440x1152 with 2 Axes>"
            ],
            "image/png": "[encoded data removed]"
          },
          "metadata": {
            "needs_background": "light"
          }
        }
      ]
    },
    {
      "cell_type": "markdown",
      "source": [
        "#### 4.1.2 輔助宣告"
      ],
      "metadata": {
        "id": "yRhWWdHT9Z1B"
      }
    },
    {
      "cell_type": "code",
      "source": [
        "c_assist = Corr(gsheet_id, gsheet_assist, to_drop=[\n",
        "  'index',\n",
        "  'UUID',\n",
        "  '宣告性質',\n",
        "  '原監護輔助人之類型',\n",
        "  '原監護輔助人之人數（自然人）',\n",
        "  '主管機關是否被法院改定 (1=是, 2=否)',\n",
        "  '聲因1',\n",
        "  '聲因2',\n",
        "  '聲因3',\n",
        "  '聲因4',\n",
        "  '聲因5',\n",
        "  '聲因6',\n",
        "  '聲因7',\n",
        "  '聲因8',\n",
        "  '聲因9',\n",
        "  '法院是否考慮原監護輔助人之身體狀況',\n",
        "  '法院是否於聲請原因外考量「其他改定因素」'\n",
        "])\n",
        "for col in c_assist.df.columns:\n",
        "  c_assist.replace_col_to(col, '', 0)  # 空值取代為 0\n",
        "c_assist.convert_to_numeric()\n",
        "c_assist.corr_heatmap()"
      ],
      "metadata": {
        "colab": {
          "base_uri": "https://localhost:8080/",
          "height": 1000
        },
        "id": "fP56ZhicT7Gy",
        "outputId": "1f340a86-33c4-4425-ee65-1ef31b4f6ce3"
      },
      "execution_count": null,
      "outputs": [
        {
          "output_type": "stream",
          "name": "stdout",
          "text": [
            "載入資料筆數：99\n"
          ]
        },
        {
          "output_type": "display_data",
          "data": {
            "text/plain": [
              "<Figure size 1440x1152 with 2 Axes>"
            ],
            "image/png": "[encoded data removed]"
          },
          "metadata": {
            "needs_background": "light"
          }
        }
      ]
    },
    {
      "cell_type": "markdown",
      "source": [
        "\n",
        "### 4.2 兩兩相關性與馬賽克圖"
      ],
      "metadata": {
        "id": "-TsN6PGhUw0u"
      }
    },
    {
      "cell_type": "markdown",
      "source": [
        "#### 4.2.1 監護宣告"
      ],
      "metadata": {
        "id": "TM7iZlkG-gKJ"
      }
    },
    {
      "cell_type": "code",
      "source": [
        "m_super = Corr(gsheet_id, gsheet_super, to_drop=[\n",
        "  'index',\n",
        "  'UUID',\n",
        "  '宣告性質',\n",
        "  '原監護輔助人之類型',\n",
        "  '原監護輔助人之人數（自然人）',\n",
        "  '主管機關是否被法院改定 (1=是, 2=否)',\n",
        "  '聲因1',\n",
        "  '聲因2',\n",
        "  '聲因3',\n",
        "  '聲因4',\n",
        "  '聲因5',\n",
        "  '聲因6',\n",
        "  '聲因7',\n",
        "  '聲因8',\n",
        "  '聲因9',\n",
        "  '法院是否考慮原監護輔助人之身體狀況',\n",
        "  '法院是否於聲請原因外考量「其他改定因素」'\n",
        "])\n",
        "\n",
        "for col in m_super.df.columns:\n",
        "  m_super.replace_col_to(col, '', 0) # 替換 '' to -100 因為決策樹不支援 NaN\n",
        "m_super.convert_to_numeric()\n",
        "\n",
        "for i in range(0, 12):\n",
        "  print(\"\\n\\n\")\n",
        "  m_super.chi2_contingency_and_mosaic(m_super.cols()[i], '原監護輔助人是否被法院改定')"
      ],
      "metadata": {
        "colab": {
          "base_uri": "https://localhost:8080/",
          "height": 1000
        },
        "id": "scDsaKX5-o-e",
        "outputId": "fb2cda32-1a7b-400c-8b44-040de7d41162"
      },
      "execution_count": null,
      "outputs": [
        {
          "output_type": "stream",
          "name": "stdout",
          "text": [
            "載入資料筆數：208\n",
            "\n",
            "\n",
            "\n",
            "--------------------------------------------------\n",
            "X 軸 = 法院是否認為原監護輔助人「年事已高」\n",
            "Y 軸 = 原監護輔助人是否被法院改定\n",
            "--------------------------------------------------\n",
            "原監護輔助人是否被法院改定        0   1\n",
            "法院是否認為原監護輔助人「年事已高」        \n",
            "0                   73  92\n",
            "1                    1  42\n",
            "p value is 3.1604832705259343e-07\n",
            "兩者有關 Dependent (reject H0)\n"
          ]
        },
        {
          "output_type": "display_data",
          "data": {
            "text/plain": [
              "<Figure size 432x288 with 3 Axes>"
            ],
            "image/png": "[encoded data removed]"
          },
          "metadata": {
            "needs_background": "light"
          }
        },
        {
          "output_type": "stream",
          "name": "stdout",
          "text": [
            "\n",
            "\n",
            "\n",
            "--------------------------------------------------\n",
            "X 軸 = 法院是否認為原監護輔助人「身體不堪負荷」\n",
            "Y 軸 = 原監護輔助人是否被法院改定\n",
            "--------------------------------------------------\n",
            "原監護輔助人是否被法院改定          0   1\n",
            "法院是否認為原監護輔助人「身體不堪負荷」        \n",
            "0                     72  93\n",
            "1                      2  41\n",
            "p value is 1.9749282446220156e-06\n",
            "兩者有關 Dependent (reject H0)\n"
          ]
        },
        {
          "output_type": "display_data",
          "data": {
            "text/plain": [
              "<Figure size 432x288 with 3 Axes>"
            ],
            "image/png": "[encoded data removed]"
          },
          "metadata": {
            "needs_background": "light"
          }
        },
        {
          "output_type": "stream",
          "name": "stdout",
          "text": [
            "\n",
            "\n",
            "\n",
            "--------------------------------------------------\n",
            "X 軸 = 法院是否認為原監護輔助人「盜領存款」\n",
            "Y 軸 = 原監護輔助人是否被法院改定\n",
            "--------------------------------------------------\n",
            "原監護輔助人是否被法院改定        0    1\n",
            "法院是否認為原監護輔助人「盜領存款」         \n",
            "0                   73  124\n",
            "1                    1   10\n",
            "p value is 0.059374053562222286\n",
            "兩者無關 Independent (H0 holds true)\n"
          ]
        },
        {
          "output_type": "display_data",
          "data": {
            "text/plain": [
              "<Figure size 432x288 with 3 Axes>"
            ],
            "image/png": "[encoded data removed]"
          },
          "metadata": {
            "needs_background": "light"
          }
        },
        {
          "output_type": "stream",
          "name": "stdout",
          "text": [
            "\n",
            "\n",
            "\n",
            "--------------------------------------------------\n",
            "X 軸 = 法院是否認為原監護輔助人「不當處理本人之不動產」\n",
            "Y 軸 = 原監護輔助人是否被法院改定\n",
            "--------------------------------------------------\n",
            "原監護輔助人是否被法院改定              0    1\n",
            "法院是否認為原監護輔助人「不當處理本人之不動產」         \n",
            "0                         73  123\n",
            "1                          1   11\n",
            "p value is 0.0422816900286814\n",
            "兩者有關 Dependent (reject H0)\n"
          ]
        },
        {
          "output_type": "display_data",
          "data": {
            "text/plain": [
              "<Figure size 432x288 with 3 Axes>"
            ],
            "image/png": "[encoded data removed]"
          },
          "metadata": {
            "needs_background": "light"
          }
        },
        {
          "output_type": "stream",
          "name": "stdout",
          "text": [
            "\n",
            "\n",
            "\n",
            "--------------------------------------------------\n",
            "X 軸 = 法院是否認為原監護輔助人「與本人有利害關係」\n",
            "Y 軸 = 原監護輔助人是否被法院改定\n",
            "--------------------------------------------------\n",
            "原監護輔助人是否被法院改定            0    1\n",
            "法院是否認為原監護輔助人「與本人有利害關係」         \n",
            "0                       73  120\n",
            "1                        1   14\n",
            "p value is 0.015183050181613205\n",
            "兩者有關 Dependent (reject H0)\n"
          ]
        },
        {
          "output_type": "display_data",
          "data": {
            "text/plain": [
              "<Figure size 432x288 with 3 Axes>"
            ],
            "image/png": "[encoded data removed]"
          },
          "metadata": {
            "needs_background": "light"
          }
        },
        {
          "output_type": "stream",
          "name": "stdout",
          "text": [
            "\n",
            "\n",
            "\n",
            "--------------------------------------------------\n",
            "X 軸 = 法院是否認為原監護輔助人有「其他不當行為」\n",
            "Y 軸 = 原監護輔助人是否被法院改定\n",
            "--------------------------------------------------\n",
            "原監護輔助人是否被法院改定           0    1\n",
            "法院是否認為原監護輔助人有「其他不當行為」         \n",
            "0                      70  110\n",
            "1                       4   24\n",
            "p value is 0.01141585656078672\n",
            "兩者有關 Dependent (reject H0)\n"
          ]
        },
        {
          "output_type": "display_data",
          "data": {
            "text/plain": [
              "<Figure size 432x288 with 3 Axes>"
            ],
            "image/png": "[encoded data removed]"
          },
          "metadata": {
            "needs_background": "light"
          }
        },
        {
          "output_type": "stream",
          "name": "stdout",
          "text": [
            "\n",
            "\n",
            "\n",
            "--------------------------------------------------\n",
            "X 軸 = 法院是否認為原監護輔助人是「本人之實際照顧者」\n",
            "Y 軸 = 原監護輔助人是否被法院改定\n",
            "--------------------------------------------------\n",
            "原監護輔助人是否被法院改定             0    1\n",
            "法院是否認為原監護輔助人是「本人之實際照顧者」         \n",
            "0                        54  128\n",
            "1                        20    6\n",
            "p value is 2.50473365744437e-06\n",
            "兩者有關 Dependent (reject H0)\n"
          ]
        },
        {
          "output_type": "display_data",
          "data": {
            "text/plain": [
              "<Figure size 432x288 with 3 Axes>"
            ],
            "image/png": "[encoded data removed]"
          },
          "metadata": {
            "needs_background": "light"
          }
        },
        {
          "output_type": "stream",
          "name": "stdout",
          "text": [
            "\n",
            "\n",
            "\n",
            "--------------------------------------------------\n",
            "X 軸 = 法院是否認為監護人現為本人廣義照顧者\n",
            "Y 軸 = 原監護輔助人是否被法院改定\n",
            "--------------------------------------------------\n",
            "原監護輔助人是否被法院改定        0    1\n",
            "法院是否認為監護人現為本人廣義照顧者         \n",
            "0                   24  121\n",
            "1                   50   13\n",
            "p value is 3.468242725985351e-18\n",
            "兩者有關 Dependent (reject H0)\n"
          ]
        },
        {
          "output_type": "display_data",
          "data": {
            "text/plain": [
              "<Figure size 432x288 with 3 Axes>"
            ],
            "image/png": "[encoded data removed]"
          },
          "metadata": {
            "needs_background": "light"
          }
        },
        {
          "output_type": "stream",
          "name": "stdout",
          "text": [
            "\n",
            "\n",
            "\n",
            "--------------------------------------------------\n",
            "X 軸 = 原監護輔助人是否有意願續任\n",
            "Y 軸 = 原監護輔助人是否被法院改定\n",
            "--------------------------------------------------\n",
            "原監護輔助人是否被法院改定   0    1\n",
            "原監護輔助人是否有意願續任         \n",
            "0               9  122\n",
            "1              65   12\n",
            "p value is 1.6517895245490925e-29\n",
            "兩者有關 Dependent (reject H0)\n"
          ]
        },
        {
          "output_type": "display_data",
          "data": {
            "text/plain": [
              "<Figure size 432x288 with 3 Axes>"
            ],
            "image/png": "[encoded data removed]"
          },
          "metadata": {
            "needs_background": "light"
          }
        },
        {
          "output_type": "stream",
          "name": "stdout",
          "text": [
            "\n",
            "\n",
            "\n",
            "--------------------------------------------------\n",
            "X 軸 = 專業人士訪視報告之「改定建議」\n",
            "Y 軸 = 原監護輔助人是否被法院改定\n",
            "--------------------------------------------------\n",
            "原監護輔助人是否被法院改定     0    1\n",
            "專業人士訪視報告之「改定建議」         \n",
            "0                71  108\n",
            "1                 3   26\n",
            "p value is 0.0022169589588299965\n",
            "兩者有關 Dependent (reject H0)\n"
          ]
        },
        {
          "output_type": "display_data",
          "data": {
            "text/plain": [
              "<Figure size 432x288 with 3 Axes>"
            ],
            "image/png": "[encoded data removed]"
          },
          "metadata": {
            "needs_background": "light"
          }
        },
        {
          "output_type": "stream",
          "name": "stdout",
          "text": [
            "\n",
            "\n",
            "\n",
            "--------------------------------------------------\n",
            "X 軸 = 本人之「改定建議」\n",
            "Y 軸 = 原監護輔助人是否被法院改定\n",
            "--------------------------------------------------\n",
            "原監護輔助人是否被法院改定   0    1\n",
            "本人之「改定建議」             \n",
            "0              74  133\n",
            "1               0    1\n",
            "p value is 0.45631975102676137\n",
            "兩者無關 Independent (H0 holds true)\n"
          ]
        },
        {
          "output_type": "display_data",
          "data": {
            "text/plain": [
              "<Figure size 432x288 with 3 Axes>"
            ],
            "image/png": "[encoded data removed]"
          },
          "metadata": {
            "needs_background": "light"
          }
        },
        {
          "output_type": "stream",
          "name": "stdout",
          "text": [
            "\n",
            "\n",
            "\n",
            "--------------------------------------------------\n",
            "X 軸 = 其他親屬、關係人之「改定建議」\n",
            "Y 軸 = 原監護輔助人是否被法院改定\n",
            "--------------------------------------------------\n",
            "原監護輔助人是否被法院改定     0   1\n",
            "其他親屬、關係人之「改定建議」        \n",
            "0                71  63\n",
            "1                 3  71\n",
            "p value is 1.7021868905916015e-12\n",
            "兩者有關 Dependent (reject H0)\n"
          ]
        },
        {
          "output_type": "display_data",
          "data": {
            "text/plain": [
              "<Figure size 432x288 with 3 Axes>"
            ],
            "image/png": "[encoded data removed]"
          },
          "metadata": {
            "needs_background": "light"
          }
        }
      ]
    },
    {
      "cell_type": "markdown",
      "source": [
        "#### 4.2.2 輔助宣告"
      ],
      "metadata": {
        "id": "jQrVfzYv-hYD"
      }
    },
    {
      "cell_type": "code",
      "source": [
        "m_assist = Corr(gsheet_id, gsheet_assist, to_drop=[\n",
        "  'index',\n",
        "  'UUID',\n",
        "  '宣告性質',\n",
        "  '原監護輔助人之類型',\n",
        "  '原監護輔助人之人數（自然人）',\n",
        "  '主管機關是否被法院改定 (1=是, 2=否)',\n",
        "  '聲因1',\n",
        "  '聲因2',\n",
        "  '聲因3',\n",
        "  '聲因4',\n",
        "  '聲因5',\n",
        "  '聲因6',\n",
        "  '聲因7',\n",
        "  '聲因8',\n",
        "  '聲因9',\n",
        "  '法院是否考慮原監護輔助人之身體狀況',\n",
        "  '法院是否於聲請原因外考量「其他改定因素」'\n",
        "])\n",
        "\n",
        "for col in m_assist.df.columns:\n",
        "  m_assist.replace_col_to(col, '', 0) # 替換 '' to -100 因為決策樹不支援 NaN\n",
        "m_assist.convert_to_numeric()\n",
        "\n",
        "for i in range(0, 12):\n",
        "  print(\"\\n\\n\")\n",
        "  m_assist.chi2_contingency_and_mosaic(m_assist.cols()[i], '原監護輔助人是否被法院改定')"
      ],
      "metadata": {
        "colab": {
          "base_uri": "https://localhost:8080/",
          "height": 1000
        },
        "id": "GYJESxO8_ans",
        "outputId": "8e47d731-b8a8-4ed9-8266-7432e812b88d"
      },
      "execution_count": null,
      "outputs": [
        {
          "output_type": "stream",
          "name": "stdout",
          "text": [
            "載入資料筆數：99\n",
            "\n",
            "\n",
            "\n",
            "--------------------------------------------------\n",
            "X 軸 = 法院是否認為原監護輔助人「年事已高」\n",
            "Y 軸 = 原監護輔助人是否被法院改定\n",
            "--------------------------------------------------\n",
            "原監護輔助人是否被法院改定        0   1\n",
            "法院是否認為原監護輔助人「年事已高」        \n",
            "0                   32  54\n",
            "1                    2  11\n",
            "p value is 0.12246512284065846\n",
            "兩者無關 Independent (H0 holds true)\n"
          ]
        },
        {
          "output_type": "display_data",
          "data": {
            "text/plain": [
              "<Figure size 432x288 with 3 Axes>"
            ],
            "image/png": "[encoded data removed]"
          },
          "metadata": {
            "needs_background": "light"
          }
        },
        {
          "output_type": "stream",
          "name": "stdout",
          "text": [
            "\n",
            "\n",
            "\n",
            "--------------------------------------------------\n",
            "X 軸 = 法院是否認為原監護輔助人「身體不堪負荷」\n",
            "Y 軸 = 原監護輔助人是否被法院改定\n",
            "--------------------------------------------------\n",
            "原監護輔助人是否被法院改定          0   1\n",
            "法院是否認為原監護輔助人「身體不堪負荷」        \n",
            "0                     34  53\n",
            "1                      0  12\n",
            "p value is 0.007526951319670264\n",
            "兩者有關 Dependent (reject H0)\n"
          ]
        },
        {
          "output_type": "display_data",
          "data": {
            "text/plain": [
              "<Figure size 432x288 with 3 Axes>"
            ],
            "image/png": "[encoded data removed]"
          },
          "metadata": {
            "needs_background": "light"
          }
        },
        {
          "output_type": "stream",
          "name": "stdout",
          "text": [
            "\n",
            "\n",
            "\n",
            "--------------------------------------------------\n",
            "X 軸 = 法院是否認為原監護輔助人「盜領存款」\n",
            "Y 軸 = 原監護輔助人是否被法院改定\n",
            "--------------------------------------------------\n",
            "原監護輔助人是否被法院改定        0   1\n",
            "法院是否認為原監護輔助人「盜領存款」        \n",
            "0                   34  61\n",
            "1                    0   4\n",
            "p value is 0.13977768789706121\n",
            "兩者無關 Independent (H0 holds true)\n"
          ]
        },
        {
          "output_type": "display_data",
          "data": {
            "text/plain": [
              "<Figure size 432x288 with 3 Axes>"
            ],
            "image/png": "[encoded data removed]"
          },
          "metadata": {
            "needs_background": "light"
          }
        },
        {
          "output_type": "stream",
          "name": "stdout",
          "text": [
            "\n",
            "\n",
            "\n",
            "--------------------------------------------------\n",
            "X 軸 = 法院是否認為原監護輔助人「不當處理本人之不動產」\n",
            "Y 軸 = 原監護輔助人是否被法院改定\n",
            "--------------------------------------------------\n",
            "原監護輔助人是否被法院改定              0   1\n",
            "法院是否認為原監護輔助人「不當處理本人之不動產」        \n",
            "0                         34  62\n",
            "1                          0   3\n",
            "p value is 0.20333328760444314\n",
            "兩者無關 Independent (H0 holds true)\n"
          ]
        },
        {
          "output_type": "display_data",
          "data": {
            "text/plain": [
              "<Figure size 432x288 with 3 Axes>"
            ],
            "image/png": "[encoded data removed]"
          },
          "metadata": {
            "needs_background": "light"
          }
        },
        {
          "output_type": "stream",
          "name": "stdout",
          "text": [
            "\n",
            "\n",
            "\n",
            "--------------------------------------------------\n",
            "X 軸 = 法院是否認為原監護輔助人「與本人有利害關係」\n",
            "Y 軸 = 原監護輔助人是否被法院改定\n",
            "--------------------------------------------------\n",
            "原監護輔助人是否被法院改定            0   1\n",
            "法院是否認為原監護輔助人「與本人有利害關係」        \n",
            "0                       34  57\n",
            "1                        0   8\n",
            "p value is 0.032870840234422674\n",
            "兩者有關 Dependent (reject H0)\n"
          ]
        },
        {
          "output_type": "display_data",
          "data": {
            "text/plain": [
              "<Figure size 432x288 with 3 Axes>"
            ],
            "image/png": "[encoded data removed]"
          },
          "metadata": {
            "needs_background": "light"
          }
        },
        {
          "output_type": "stream",
          "name": "stdout",
          "text": [
            "\n",
            "\n",
            "\n",
            "--------------------------------------------------\n",
            "X 軸 = 法院是否認為原監護輔助人有「其他不當行為」\n",
            "Y 軸 = 原監護輔助人是否被法院改定\n",
            "--------------------------------------------------\n",
            "原監護輔助人是否被法院改定           0   1\n",
            "法院是否認為原監護輔助人有「其他不當行為」        \n",
            "0                      32  44\n",
            "1                       2  21\n",
            "p value is 0.0031125039683490034\n",
            "兩者有關 Dependent (reject H0)\n"
          ]
        },
        {
          "output_type": "display_data",
          "data": {
            "text/plain": [
              "<Figure size 432x288 with 3 Axes>"
            ],
            "image/png": "[encoded data removed]"
          },
          "metadata": {
            "needs_background": "light"
          }
        },
        {
          "output_type": "stream",
          "name": "stdout",
          "text": [
            "\n",
            "\n",
            "\n",
            "--------------------------------------------------\n",
            "X 軸 = 法院是否認為原監護輔助人是「本人之實際照顧者」\n",
            "Y 軸 = 原監護輔助人是否被法院改定\n",
            "--------------------------------------------------\n",
            "原監護輔助人是否被法院改定             0   1\n",
            "法院是否認為原監護輔助人是「本人之實際照顧者」        \n",
            "0                        29  63\n",
            "1                         5   2\n",
            "p value is 0.032077657775603605\n",
            "兩者有關 Dependent (reject H0)\n"
          ]
        },
        {
          "output_type": "display_data",
          "data": {
            "text/plain": [
              "<Figure size 432x288 with 3 Axes>"
            ],
            "image/png": "[encoded data removed]"
          },
          "metadata": {
            "needs_background": "light"
          }
        },
        {
          "output_type": "stream",
          "name": "stdout",
          "text": [
            "\n",
            "\n",
            "\n",
            "--------------------------------------------------\n",
            "X 軸 = 法院是否認為監護人現為本人廣義照顧者\n",
            "Y 軸 = 原監護輔助人是否被法院改定\n",
            "--------------------------------------------------\n",
            "原監護輔助人是否被法院改定        0   1\n",
            "法院是否認為監護人現為本人廣義照顧者        \n",
            "0                   21  60\n",
            "1                   13   5\n",
            "p value is 0.00018292065104885688\n",
            "兩者有關 Dependent (reject H0)\n"
          ]
        },
        {
          "output_type": "display_data",
          "data": {
            "text/plain": [
              "<Figure size 432x288 with 3 Axes>"
            ],
            "image/png": "[encoded data removed]"
          },
          "metadata": {
            "needs_background": "light"
          }
        },
        {
          "output_type": "stream",
          "name": "stdout",
          "text": [
            "\n",
            "\n",
            "\n",
            "--------------------------------------------------\n",
            "X 軸 = 原監護輔助人是否有意願續任\n",
            "Y 軸 = 原監護輔助人是否被法院改定\n",
            "--------------------------------------------------\n",
            "原監護輔助人是否被法院改定   0   1\n",
            "原監護輔助人是否有意願續任        \n",
            "0               8  51\n",
            "1              26  14\n",
            "p value is 1.2290030570707607e-07\n",
            "兩者有關 Dependent (reject H0)\n"
          ]
        },
        {
          "output_type": "display_data",
          "data": {
            "text/plain": [
              "<Figure size 432x288 with 3 Axes>"
            ],
            "image/png": "[encoded data removed]"
          },
          "metadata": {
            "needs_background": "light"
          }
        },
        {
          "output_type": "stream",
          "name": "stdout",
          "text": [
            "\n",
            "\n",
            "\n",
            "--------------------------------------------------\n",
            "X 軸 = 專業人士訪視報告之「改定建議」\n",
            "Y 軸 = 原監護輔助人是否被法院改定\n",
            "--------------------------------------------------\n",
            "原監護輔助人是否被法院改定     0   1\n",
            "專業人士訪視報告之「改定建議」        \n",
            "0                33  50\n",
            "1                 1  15\n",
            "p value is 0.009751037994224145\n",
            "兩者有關 Dependent (reject H0)\n"
          ]
        },
        {
          "output_type": "display_data",
          "data": {
            "text/plain": [
              "<Figure size 432x288 with 3 Axes>"
            ],
            "image/png": "[encoded data removed]"
          },
          "metadata": {
            "needs_background": "light"
          }
        },
        {
          "output_type": "stream",
          "name": "stdout",
          "text": [
            "\n",
            "\n",
            "\n",
            "--------------------------------------------------\n",
            "X 軸 = 本人之「改定建議」\n",
            "Y 軸 = 原監護輔助人是否被法院改定\n",
            "--------------------------------------------------\n",
            "原監護輔助人是否被法院改定   0   1\n",
            "本人之「改定建議」            \n",
            "0              32  40\n",
            "1               2  25\n",
            "p value is 0.0005477360805479631\n",
            "兩者有關 Dependent (reject H0)\n"
          ]
        },
        {
          "output_type": "display_data",
          "data": {
            "text/plain": [
              "<Figure size 432x288 with 3 Axes>"
            ],
            "image/png": "[encoded data removed]"
          },
          "metadata": {
            "needs_background": "light"
          }
        },
        {
          "output_type": "stream",
          "name": "stdout",
          "text": [
            "\n",
            "\n",
            "\n",
            "--------------------------------------------------\n",
            "X 軸 = 其他親屬、關係人之「改定建議」\n",
            "Y 軸 = 原監護輔助人是否被法院改定\n",
            "--------------------------------------------------\n",
            "原監護輔助人是否被法院改定     0   1\n",
            "其他親屬、關係人之「改定建議」        \n",
            "0                32  32\n",
            "1                 2  33\n",
            "p value is 9.156944541979785e-06\n",
            "兩者有關 Dependent (reject H0)\n"
          ]
        },
        {
          "output_type": "display_data",
          "data": {
            "text/plain": [
              "<Figure size 432x288 with 3 Axes>"
            ],
            "image/png": "[encoded data removed]"
          },
          "metadata": {
            "needs_background": "light"
          }
        }
      ]
    },
    {
      "cell_type": "markdown",
      "metadata": {
        "id": "Rx7MmIWCsI68"
      },
      "source": [
        "## 5. 決策樹\n"
      ]
    },
    {
      "cell_type": "code",
      "metadata": {
        "id": "HLgC6gl-poiC"
      },
      "source": [
        "import graphviz\n",
        "from IPython.display import display\n",
        "from sklearn import tree\n",
        "from sklearn.model_selection import train_test_split\n",
        "from sklearn import metrics\n",
        "from sklearn.linear_model import LinearRegression\n",
        "from sklearn.feature_selection import f_regression\n",
        "from sklearn import preprocessing, linear_model\n",
        "\n",
        "class DecisionTree(Analysis):\n",
        "  def load(self, columns_x, columns_y, binary_y=True, max_depth=2):\n",
        "    print('x', columns_x)\n",
        "    print('y', columns_y)\n",
        "    self.X = self.df[columns_x]\n",
        "    self.y = self.df[columns_y]\n",
        "\n",
        "    # 切分訓練與測試資料\n",
        "    train_X, test_X, train_y, test_y = train_test_split(self.X, self.y, test_size=0.2)\n",
        "\n",
        "    if binary_y:\n",
        "      lm = linear_model.LogisticRegression() # 如果是二元y\n",
        "    else:\n",
        "      lm = LinearRegression() # 如果是數值y\n",
        "\n",
        "    # 建立分類器\n",
        "    clf = tree.DecisionTreeClassifier(max_depth=max_depth)\n",
        "    self.my_clf = clf.fit(train_X, train_y)\n",
        "\n",
        "    # 預測\n",
        "    test_y_predicted = self.my_clf.predict(test_X)\n",
        "    print('預測', test_y_predicted)\n",
        "\n",
        "    # 標準答案\n",
        "    print('標準答案', test_y.values)\n",
        "\n",
        "    # 績效\n",
        "    accuracy = metrics.accuracy_score(test_y, test_y_predicted)\n",
        "    print('績效', accuracy)\n",
        "    return accuracy\n",
        "  \n",
        "  def sort(self):\n",
        "    return np.sort(self.y.unique()).astype(str).tolist()\n",
        "\n",
        "  def text_representation(self):\n",
        "    text_representation = tree.export_text(self.my_clf)\n",
        "    print(text_representation)\n",
        "  \n",
        "  def graph(self):\n",
        "    # DOT data\n",
        "    dot_data = tree.export_graphviz(self.my_clf, out_file=None, \n",
        "                    feature_names=self.X.columns.tolist(),  \n",
        "                    class_names=self.sort(),\n",
        "                    filled=True)\n",
        "\n",
        "    # Draw graph\n",
        "    return graphviz.Source(dot_data) \n",
        "  \n",
        "  def tree(self):\n",
        "    fig = plt.figure(figsize=(16,16))\n",
        "    return tree.plot_tree(self.my_clf, \n",
        "              feature_names=self.X.columns.tolist(),  \n",
        "              class_names=np.sort(self.y.unique()).astype(str).tolist(),\n",
        "              filled=True)\n",
        "\n",
        "def filter_tree(query, sheet):\n",
        "  p = DecisionTree(gsheet_id, sheet, auto_proc=True, to_drop=[\n",
        "    'index',\n",
        "    'UUID',\n",
        "    '宣告性質',\n",
        "    '原監護輔助人之類型',\n",
        "    '原監護輔助人之人數（自然人）',\n",
        "    '主管機關是否被法院改定 (1=是, 2=否)',\n",
        "    '法院是否考慮原監護輔助人之身體狀況',\n",
        "    '法院是否於聲請原因外考量「其他改定因素」'\n",
        "  ])\n",
        "  for col in p.df.columns:\n",
        "    p.replace_col_to(col, '', 0) # 替換 '' to 0 因為決策樹不支援 NaN\n",
        "  p.convert_to_numeric()\n",
        "  p.df = p.df.query(query)\n",
        "  p.df = p.df.reset_index(drop=True)\n",
        "  print('-'*100)\n",
        "  print(f\"Filter {query} len = {len(p.df)}\")\n",
        "  print('-'*100)\n",
        "  p.load(p.cols()[9:21], '原監護輔助人是否被法院改定', binary_y=True)\n",
        "  p.text_representation()\n",
        "  display(p.graph())"
      ],
      "execution_count": 5,
      "outputs": []
    },
    {
      "cell_type": "markdown",
      "source": [
        "### 5.1 監護宣告"
      ],
      "metadata": {
        "id": "koxjwhhrA2AC"
      }
    },
    {
      "cell_type": "markdown",
      "source": [
        "#### 5.1.1 法院認定的改定因素"
      ],
      "metadata": {
        "id": "OCBLB1J2Bgmh"
      }
    },
    {
      "cell_type": "code",
      "source": [
        "dt_super = DecisionTree(gsheet_id, gsheet_super, auto_proc=True, to_drop=[\n",
        "  'index',\n",
        "  'UUID',\n",
        "  '宣告性質',\n",
        "  '原監護輔助人之類型',\n",
        "  '原監護輔助人之人數（自然人）',\n",
        "  '主管機關是否被法院改定 (1=是, 2=否)',\n",
        "  '法院是否考慮原監護輔助人之身體狀況',\n",
        "  '法院是否於聲請原因外考量「其他改定因素」'\n",
        "])\n",
        "for col in dt_super.df.columns:\n",
        "  dt_super.replace_col_to(col, '', 0) # 替換 '' to -100 因為決策樹不支援 NaN\n",
        "dt_super.convert_to_numeric()\n",
        "dt_super.load(dt_super.cols()[9:21], '原監護輔助人是否被法院改定', binary_y=True, max_depth=3)\n",
        "dt_super.text_representation()\n",
        "dt_super.graph()"
      ],
      "metadata": {
        "colab": {
          "base_uri": "https://localhost:8080/",
          "height": 1000
        },
        "id": "ZzYIR25VBn2n",
        "outputId": "a9eac617-47de-49cc-d734-bc05f5debd5d"
      },
      "execution_count": 6,
      "outputs": [
        {
          "output_type": "stream",
          "name": "stdout",
          "text": [
            "載入資料筆數：208\n",
            "x ['法院是否認為原監護輔助人「年事已高」', '法院是否認為原監護輔助人「身體不堪負荷」', '法院是否認為原監護輔助人「盜領存款」', '法院是否認為原監護輔助人「不當處理本人之不動產」', '原監護輔助人是否與本人有「利害關係」', '法院是否認為原監護輔助人有「其他不當行為」', '監護輔助人是本人之「實際照顧者」', '監護輔助人是否為本人「廣義照顧者」', '原監護輔助人是否有意願續任', '專業人士訪視報告之「改定建議」', '本人之「改定建議」', '其他親屬、關係人之「改定建議」']\n",
            "y 原監護輔助人是否被法院改定\n",
            "預測 [0 1 1 0 1 0 1 1 1 1 0 0 0 1 0 0 1 0 0 0 1 1 0 1 1 1 0 1 1 0 1 1 0 0 1 1 1\n",
            " 1 1 1 1 1]\n",
            "標準答案 [0 1 1 0 1 0 1 1 1 1 0 0 0 1 0 0 1 0 0 0 1 1 0 1 0 1 0 1 1 0 1 0 0 1 1 1 1\n",
            " 1 1 1 1 1]\n",
            "績效 0.9285714285714286\n",
            "|--- feature_8 <= 0.50\n",
            "|   |--- feature_7 <= 0.50\n",
            "|   |   |--- feature_0 <= 0.50\n",
            "|   |   |   |--- class: 1\n",
            "|   |   |--- feature_0 >  0.50\n",
            "|   |   |   |--- class: 1\n",
            "|   |--- feature_7 >  0.50\n",
            "|   |   |--- feature_6 <= 0.50\n",
            "|   |   |   |--- class: 1\n",
            "|   |   |--- feature_6 >  0.50\n",
            "|   |   |   |--- class: 1\n",
            "|--- feature_8 >  0.50\n",
            "|   |--- feature_2 <= 0.50\n",
            "|   |   |--- feature_3 <= 0.50\n",
            "|   |   |   |--- class: 0\n",
            "|   |   |--- feature_3 >  0.50\n",
            "|   |   |   |--- class: 1\n",
            "|   |--- feature_2 >  0.50\n",
            "|   |   |--- feature_5 <= 0.50\n",
            "|   |   |   |--- class: 1\n",
            "|   |   |--- feature_5 >  0.50\n",
            "|   |   |   |--- class: 0\n",
            "\n"
          ]
        },
        {
          "output_type": "execute_result",
          "data": {
            "text/plain": [
              "<graphviz.files.Source at 0x7f0bd617ba50>"
            ],
            "image/svg+xml": "<?xml version=\"1.0\" encoding=\"UTF-8\" standalone=\"no\"?>\n<!DOCTYPE svg PUBLIC \"-//W3C//DTD SVG 1.1//EN\"\n \"http://www.w3.org/Graphics/SVG/1.1/DTD/svg11.dtd\">\n<!-- Generated by graphviz version 2.40.1 (20161225.0304)\n -->\n<!-- Title: Tree Pages: 1 -->\n<svg width=\"1432pt\" height=\"433pt\"\n viewBox=\"0.00 0.00 1431.50 433.00\" xmlns=\"http://www.w3.org/2000/svg\" xmlns:xlink=\"http://www.w3.org/1999/xlink\">\n<g id=\"graph0\" class=\"graph\" transform=\"scale(1 1) rotate(0) translate(4 429)\">\n<title>Tree</title>\n<polygon fill=\"#ffffff\" stroke=\"transparent\" points=\"-4,4 -4,-429 1427.5,-429 1427.5,4 -4,4\"/>\n<!-- 0 -->\n<g id=\"node1\" class=\"node\">\n<title>0</title>\n<polygon fill=\"#a1d0f3\" stroke=\"#000000\" points=\"784.5,-425 538.5,-425 538.5,-342 784.5,-342 784.5,-425\"/>\n<text text-anchor=\"middle\" x=\"661.5\" y=\"-409.8\" font-family=\"Helvetica,sans-Serif\" font-size=\"14.00\" fill=\"#000000\">原監護輔助人是否有意願續任 &lt;= 0.5</text>\n<text text-anchor=\"middle\" x=\"661.5\" y=\"-394.8\" font-family=\"Helvetica,sans-Serif\" font-size=\"14.00\" fill=\"#000000\">gini = 0.451</text>\n<text text-anchor=\"middle\" x=\"661.5\" y=\"-379.8\" font-family=\"Helvetica,sans-Serif\" font-size=\"14.00\" fill=\"#000000\">samples = 166</text>\n<text text-anchor=\"middle\" x=\"661.5\" y=\"-364.8\" font-family=\"Helvetica,sans-Serif\" font-size=\"14.00\" fill=\"#000000\">value = [57, 109]</text>\n<text text-anchor=\"middle\" x=\"661.5\" y=\"-349.8\" font-family=\"Helvetica,sans-Serif\" font-size=\"14.00\" fill=\"#000000\">class = 1</text>\n</g>\n<!-- 1 -->\n<g id=\"node2\" class=\"node\">\n<title>1</title>\n<polygon fill=\"#49a5e7\" stroke=\"#000000\" points=\"631,-306 328,-306 328,-223 631,-223 631,-306\"/>\n<text text-anchor=\"middle\" x=\"479.5\" y=\"-290.8\" font-family=\"Helvetica,sans-Serif\" font-size=\"14.00\" fill=\"#000000\">監護輔助人是否為本人「廣義照顧者」 &lt;= 0.5</text>\n<text text-anchor=\"middle\" x=\"479.5\" y=\"-275.8\" font-family=\"Helvetica,sans-Serif\" font-size=\"14.00\" fill=\"#000000\">gini = 0.137</text>\n<text text-anchor=\"middle\" x=\"479.5\" y=\"-260.8\" font-family=\"Helvetica,sans-Serif\" font-size=\"14.00\" fill=\"#000000\">samples = 108</text>\n<text text-anchor=\"middle\" x=\"479.5\" y=\"-245.8\" font-family=\"Helvetica,sans-Serif\" font-size=\"14.00\" fill=\"#000000\">value = [8, 100]</text>\n<text text-anchor=\"middle\" x=\"479.5\" y=\"-230.8\" font-family=\"Helvetica,sans-Serif\" font-size=\"14.00\" fill=\"#000000\">class = 1</text>\n</g>\n<!-- 0&#45;&gt;1 -->\n<g id=\"edge1\" class=\"edge\">\n<title>0&#45;&gt;1</title>\n<path fill=\"none\" stroke=\"#000000\" d=\"M597.8452,-341.8796C582.8824,-332.0962 566.8323,-321.6019 551.5309,-311.5971\"/>\n<polygon fill=\"#000000\" stroke=\"#000000\" points=\"553.4039,-308.6401 543.1188,-306.0969 549.5731,-314.4989 553.4039,-308.6401\"/>\n<text text-anchor=\"middle\" x=\"548.2404\" y=\"-326.8667\" font-family=\"Helvetica,sans-Serif\" font-size=\"14.00\" fill=\"#000000\">True</text>\n</g>\n<!-- 8 -->\n<g id=\"node9\" class=\"node\">\n<title>8</title>\n<polygon fill=\"#ea985d\" stroke=\"#000000\" points=\"1002,-306 685,-306 685,-223 1002,-223 1002,-306\"/>\n<text text-anchor=\"middle\" x=\"843.5\" y=\"-290.8\" font-family=\"Helvetica,sans-Serif\" font-size=\"14.00\" fill=\"#000000\">法院是否認為原監護輔助人「盜領存款」 &lt;= 0.5</text>\n<text text-anchor=\"middle\" x=\"843.5\" y=\"-275.8\" font-family=\"Helvetica,sans-Serif\" font-size=\"14.00\" fill=\"#000000\">gini = 0.262</text>\n<text text-anchor=\"middle\" x=\"843.5\" y=\"-260.8\" font-family=\"Helvetica,sans-Serif\" font-size=\"14.00\" fill=\"#000000\">samples = 58</text>\n<text text-anchor=\"middle\" x=\"843.5\" y=\"-245.8\" font-family=\"Helvetica,sans-Serif\" font-size=\"14.00\" fill=\"#000000\">value = [49, 9]</text>\n<text text-anchor=\"middle\" x=\"843.5\" y=\"-230.8\" font-family=\"Helvetica,sans-Serif\" font-size=\"14.00\" fill=\"#000000\">class = 0</text>\n</g>\n<!-- 0&#45;&gt;8 -->\n<g id=\"edge8\" class=\"edge\">\n<title>0&#45;&gt;8</title>\n<path fill=\"none\" stroke=\"#000000\" d=\"M725.1548,-341.8796C740.1176,-332.0962 756.1677,-321.6019 771.4691,-311.5971\"/>\n<polygon fill=\"#000000\" stroke=\"#000000\" points=\"773.4269,-314.4989 779.8812,-306.0969 769.5961,-308.6401 773.4269,-314.4989\"/>\n<text text-anchor=\"middle\" x=\"774.7596\" y=\"-326.8667\" font-family=\"Helvetica,sans-Serif\" font-size=\"14.00\" fill=\"#000000\">False</text>\n</g>\n<!-- 2 -->\n<g id=\"node3\" class=\"node\">\n<title>2</title>\n<polygon fill=\"#44a2e6\" stroke=\"#000000\" points=\"317,-187 0,-187 0,-104 317,-104 317,-187\"/>\n<text text-anchor=\"middle\" x=\"158.5\" y=\"-171.8\" font-family=\"Helvetica,sans-Serif\" font-size=\"14.00\" fill=\"#000000\">法院是否認為原監護輔助人「年事已高」 &lt;= 0.5</text>\n<text text-anchor=\"middle\" x=\"158.5\" y=\"-156.8\" font-family=\"Helvetica,sans-Serif\" font-size=\"14.00\" fill=\"#000000\">gini = 0.098</text>\n<text text-anchor=\"middle\" x=\"158.5\" y=\"-141.8\" font-family=\"Helvetica,sans-Serif\" font-size=\"14.00\" fill=\"#000000\">samples = 97</text>\n<text text-anchor=\"middle\" x=\"158.5\" y=\"-126.8\" font-family=\"Helvetica,sans-Serif\" font-size=\"14.00\" fill=\"#000000\">value = [5, 92]</text>\n<text text-anchor=\"middle\" x=\"158.5\" y=\"-111.8\" font-family=\"Helvetica,sans-Serif\" font-size=\"14.00\" fill=\"#000000\">class = 1</text>\n</g>\n<!-- 1&#45;&gt;2 -->\n<g id=\"edge2\" class=\"edge\">\n<title>1&#45;&gt;2</title>\n<path fill=\"none\" stroke=\"#000000\" d=\"M367.2298,-222.8796C339.1288,-212.4621 308.8534,-201.2385 280.3134,-190.6582\"/>\n<polygon fill=\"#000000\" stroke=\"#000000\" points=\"281.2999,-187.2912 270.7068,-187.0969 278.8666,-193.8547 281.2999,-187.2912\"/>\n</g>\n<!-- 5 -->\n<g id=\"node6\" class=\"node\">\n<title>5</title>\n<polygon fill=\"#83c2ef\" stroke=\"#000000\" points=\"624,-187 335,-187 335,-104 624,-104 624,-187\"/>\n<text text-anchor=\"middle\" x=\"479.5\" y=\"-171.8\" font-family=\"Helvetica,sans-Serif\" font-size=\"14.00\" fill=\"#000000\">監護輔助人是本人之「實際照顧者」 &lt;= 0.5</text>\n<text text-anchor=\"middle\" x=\"479.5\" y=\"-156.8\" font-family=\"Helvetica,sans-Serif\" font-size=\"14.00\" fill=\"#000000\">gini = 0.397</text>\n<text text-anchor=\"middle\" x=\"479.5\" y=\"-141.8\" font-family=\"Helvetica,sans-Serif\" font-size=\"14.00\" fill=\"#000000\">samples = 11</text>\n<text text-anchor=\"middle\" x=\"479.5\" y=\"-126.8\" font-family=\"Helvetica,sans-Serif\" font-size=\"14.00\" fill=\"#000000\">value = [3, 8]</text>\n<text text-anchor=\"middle\" x=\"479.5\" y=\"-111.8\" font-family=\"Helvetica,sans-Serif\" font-size=\"14.00\" fill=\"#000000\">class = 1</text>\n</g>\n<!-- 1&#45;&gt;5 -->\n<g id=\"edge5\" class=\"edge\">\n<title>1&#45;&gt;5</title>\n<path fill=\"none\" stroke=\"#000000\" d=\"M479.5,-222.8796C479.5,-214.6838 479.5,-205.9891 479.5,-197.5013\"/>\n<polygon fill=\"#000000\" stroke=\"#000000\" points=\"483.0001,-197.298 479.5,-187.2981 476.0001,-197.2981 483.0001,-197.298\"/>\n</g>\n<!-- 3 -->\n<g id=\"node4\" class=\"node\">\n<title>3</title>\n<polygon fill=\"#4aa6e7\" stroke=\"#000000\" points=\"150,-68 43,-68 43,0 150,0 150,-68\"/>\n<text text-anchor=\"middle\" x=\"96.5\" y=\"-52.8\" font-family=\"Helvetica,sans-Serif\" font-size=\"14.00\" fill=\"#000000\">gini = 0.148</text>\n<text text-anchor=\"middle\" x=\"96.5\" y=\"-37.8\" font-family=\"Helvetica,sans-Serif\" font-size=\"14.00\" fill=\"#000000\">samples = 62</text>\n<text text-anchor=\"middle\" x=\"96.5\" y=\"-22.8\" font-family=\"Helvetica,sans-Serif\" font-size=\"14.00\" fill=\"#000000\">value = [5, 57]</text>\n<text text-anchor=\"middle\" x=\"96.5\" y=\"-7.8\" font-family=\"Helvetica,sans-Serif\" font-size=\"14.00\" fill=\"#000000\">class = 1</text>\n</g>\n<!-- 2&#45;&gt;3 -->\n<g id=\"edge3\" class=\"edge\">\n<title>2&#45;&gt;3</title>\n<path fill=\"none\" stroke=\"#000000\" d=\"M135.4135,-103.9815C130.5585,-95.2504 125.426,-86.0202 120.5371,-77.2281\"/>\n<polygon fill=\"#000000\" stroke=\"#000000\" points=\"123.4712,-75.3025 115.5524,-68.2637 117.3533,-78.7043 123.4712,-75.3025\"/>\n</g>\n<!-- 4 -->\n<g id=\"node5\" class=\"node\">\n<title>4</title>\n<polygon fill=\"#399de5\" stroke=\"#000000\" points=\"275,-68 168,-68 168,0 275,0 275,-68\"/>\n<text text-anchor=\"middle\" x=\"221.5\" y=\"-52.8\" font-family=\"Helvetica,sans-Serif\" font-size=\"14.00\" fill=\"#000000\">gini = 0.0</text>\n<text text-anchor=\"middle\" x=\"221.5\" y=\"-37.8\" font-family=\"Helvetica,sans-Serif\" font-size=\"14.00\" fill=\"#000000\">samples = 35</text>\n<text text-anchor=\"middle\" x=\"221.5\" y=\"-22.8\" font-family=\"Helvetica,sans-Serif\" font-size=\"14.00\" fill=\"#000000\">value = [0, 35]</text>\n<text text-anchor=\"middle\" x=\"221.5\" y=\"-7.8\" font-family=\"Helvetica,sans-Serif\" font-size=\"14.00\" fill=\"#000000\">class = 1</text>\n</g>\n<!-- 2&#45;&gt;4 -->\n<g id=\"edge4\" class=\"edge\">\n<title>2&#45;&gt;4</title>\n<path fill=\"none\" stroke=\"#000000\" d=\"M181.9589,-103.9815C186.8922,-95.2504 192.1074,-86.0202 197.0752,-77.2281\"/>\n<polygon fill=\"#000000\" stroke=\"#000000\" points=\"200.2681,-78.6918 202.1403,-68.2637 194.1737,-75.2483 200.2681,-78.6918\"/>\n</g>\n<!-- 6 -->\n<g id=\"node7\" class=\"node\">\n<title>6</title>\n<polygon fill=\"#cee6f8\" stroke=\"#000000\" points=\"471,-68 372,-68 372,0 471,0 471,-68\"/>\n<text text-anchor=\"middle\" x=\"421.5\" y=\"-52.8\" font-family=\"Helvetica,sans-Serif\" font-size=\"14.00\" fill=\"#000000\">gini = 0.49</text>\n<text text-anchor=\"middle\" x=\"421.5\" y=\"-37.8\" font-family=\"Helvetica,sans-Serif\" font-size=\"14.00\" fill=\"#000000\">samples = 7</text>\n<text text-anchor=\"middle\" x=\"421.5\" y=\"-22.8\" font-family=\"Helvetica,sans-Serif\" font-size=\"14.00\" fill=\"#000000\">value = [3, 4]</text>\n<text text-anchor=\"middle\" x=\"421.5\" y=\"-7.8\" font-family=\"Helvetica,sans-Serif\" font-size=\"14.00\" fill=\"#000000\">class = 1</text>\n</g>\n<!-- 5&#45;&gt;6 -->\n<g id=\"edge6\" class=\"edge\">\n<title>5&#45;&gt;6</title>\n<path fill=\"none\" stroke=\"#000000\" d=\"M457.9029,-103.9815C453.3612,-95.2504 448.5598,-86.0202 443.9863,-77.2281\"/>\n<polygon fill=\"#000000\" stroke=\"#000000\" points=\"447.0431,-75.52 439.3233,-68.2637 440.8331,-78.7504 447.0431,-75.52\"/>\n</g>\n<!-- 7 -->\n<g id=\"node8\" class=\"node\">\n<title>7</title>\n<polygon fill=\"#399de5\" stroke=\"#000000\" points=\"588,-68 489,-68 489,0 588,0 588,-68\"/>\n<text text-anchor=\"middle\" x=\"538.5\" y=\"-52.8\" font-family=\"Helvetica,sans-Serif\" font-size=\"14.00\" fill=\"#000000\">gini = 0.0</text>\n<text text-anchor=\"middle\" x=\"538.5\" y=\"-37.8\" font-family=\"Helvetica,sans-Serif\" font-size=\"14.00\" fill=\"#000000\">samples = 4</text>\n<text text-anchor=\"middle\" x=\"538.5\" y=\"-22.8\" font-family=\"Helvetica,sans-Serif\" font-size=\"14.00\" fill=\"#000000\">value = [0, 4]</text>\n<text text-anchor=\"middle\" x=\"538.5\" y=\"-7.8\" font-family=\"Helvetica,sans-Serif\" font-size=\"14.00\" fill=\"#000000\">class = 1</text>\n</g>\n<!-- 5&#45;&gt;7 -->\n<g id=\"edge7\" class=\"edge\">\n<title>5&#45;&gt;7</title>\n<path fill=\"none\" stroke=\"#000000\" d=\"M501.4694,-103.9815C506.0895,-95.2504 510.9736,-86.0202 515.626,-77.2281\"/>\n<polygon fill=\"#000000\" stroke=\"#000000\" points=\"518.7859,-78.7395 520.3694,-68.2637 512.5987,-75.4655 518.7859,-78.7395\"/>\n</g>\n<!-- 9 -->\n<g id=\"node10\" class=\"node\">\n<title>9</title>\n<polygon fill=\"#e88e4e\" stroke=\"#000000\" points=\"1045,-187 642,-187 642,-104 1045,-104 1045,-187\"/>\n<text text-anchor=\"middle\" x=\"843.5\" y=\"-171.8\" font-family=\"Helvetica,sans-Serif\" font-size=\"14.00\" fill=\"#000000\">法院是否認為原監護輔助人「不當處理本人之不動產」 &lt;= 0.5</text>\n<text text-anchor=\"middle\" x=\"843.5\" y=\"-156.8\" font-family=\"Helvetica,sans-Serif\" font-size=\"14.00\" fill=\"#000000\">gini = 0.171</text>\n<text text-anchor=\"middle\" x=\"843.5\" y=\"-141.8\" font-family=\"Helvetica,sans-Serif\" font-size=\"14.00\" fill=\"#000000\">samples = 53</text>\n<text text-anchor=\"middle\" x=\"843.5\" y=\"-126.8\" font-family=\"Helvetica,sans-Serif\" font-size=\"14.00\" fill=\"#000000\">value = [48, 5]</text>\n<text text-anchor=\"middle\" x=\"843.5\" y=\"-111.8\" font-family=\"Helvetica,sans-Serif\" font-size=\"14.00\" fill=\"#000000\">class = 0</text>\n</g>\n<!-- 8&#45;&gt;9 -->\n<g id=\"edge9\" class=\"edge\">\n<title>8&#45;&gt;9</title>\n<path fill=\"none\" stroke=\"#000000\" d=\"M843.5,-222.8796C843.5,-214.6838 843.5,-205.9891 843.5,-197.5013\"/>\n<polygon fill=\"#000000\" stroke=\"#000000\" points=\"847.0001,-197.298 843.5,-187.2981 840.0001,-197.2981 847.0001,-197.298\"/>\n</g>\n<!-- 12 -->\n<g id=\"node13\" class=\"node\">\n<title>12</title>\n<polygon fill=\"#6ab6ec\" stroke=\"#000000\" points=\"1423.5,-187 1063.5,-187 1063.5,-104 1423.5,-104 1423.5,-187\"/>\n<text text-anchor=\"middle\" x=\"1243.5\" y=\"-171.8\" font-family=\"Helvetica,sans-Serif\" font-size=\"14.00\" fill=\"#000000\">法院是否認為原監護輔助人有「其他不當行為」 &lt;= 0.5</text>\n<text text-anchor=\"middle\" x=\"1243.5\" y=\"-156.8\" font-family=\"Helvetica,sans-Serif\" font-size=\"14.00\" fill=\"#000000\">gini = 0.32</text>\n<text text-anchor=\"middle\" x=\"1243.5\" y=\"-141.8\" font-family=\"Helvetica,sans-Serif\" font-size=\"14.00\" fill=\"#000000\">samples = 5</text>\n<text text-anchor=\"middle\" x=\"1243.5\" y=\"-126.8\" font-family=\"Helvetica,sans-Serif\" font-size=\"14.00\" fill=\"#000000\">value = [1, 4]</text>\n<text text-anchor=\"middle\" x=\"1243.5\" y=\"-111.8\" font-family=\"Helvetica,sans-Serif\" font-size=\"14.00\" fill=\"#000000\">class = 1</text>\n</g>\n<!-- 8&#45;&gt;12 -->\n<g id=\"edge12\" class=\"edge\">\n<title>8&#45;&gt;12</title>\n<path fill=\"none\" stroke=\"#000000\" d=\"M983.1198,-222.9631C1019.0154,-212.2842 1057.7744,-200.7534 1094.142,-189.934\"/>\n<polygon fill=\"#000000\" stroke=\"#000000\" points=\"1095.2438,-193.2579 1103.8306,-187.0516 1093.2477,-186.5485 1095.2438,-193.2579\"/>\n</g>\n<!-- 10 -->\n<g id=\"node11\" class=\"node\">\n<title>10</title>\n<polygon fill=\"#e68641\" stroke=\"#000000\" points=\"836,-68 729,-68 729,0 836,0 836,-68\"/>\n<text text-anchor=\"middle\" x=\"782.5\" y=\"-52.8\" font-family=\"Helvetica,sans-Serif\" font-size=\"14.00\" fill=\"#000000\">gini = 0.077</text>\n<text text-anchor=\"middle\" x=\"782.5\" y=\"-37.8\" font-family=\"Helvetica,sans-Serif\" font-size=\"14.00\" fill=\"#000000\">samples = 50</text>\n<text text-anchor=\"middle\" x=\"782.5\" y=\"-22.8\" font-family=\"Helvetica,sans-Serif\" font-size=\"14.00\" fill=\"#000000\">value = [48, 2]</text>\n<text text-anchor=\"middle\" x=\"782.5\" y=\"-7.8\" font-family=\"Helvetica,sans-Serif\" font-size=\"14.00\" fill=\"#000000\">class = 0</text>\n</g>\n<!-- 9&#45;&gt;10 -->\n<g id=\"edge10\" class=\"edge\">\n<title>9&#45;&gt;10</title>\n<path fill=\"none\" stroke=\"#000000\" d=\"M820.7859,-103.9815C816.0092,-95.2504 810.9595,-86.0202 806.1494,-77.2281\"/>\n<polygon fill=\"#000000\" stroke=\"#000000\" points=\"809.1153,-75.3568 801.2451,-68.2637 802.9742,-78.7165 809.1153,-75.3568\"/>\n</g>\n<!-- 11 -->\n<g id=\"node12\" class=\"node\">\n<title>11</title>\n<polygon fill=\"#399de5\" stroke=\"#000000\" points=\"953,-68 854,-68 854,0 953,0 953,-68\"/>\n<text text-anchor=\"middle\" x=\"903.5\" y=\"-52.8\" font-family=\"Helvetica,sans-Serif\" font-size=\"14.00\" fill=\"#000000\">gini = 0.0</text>\n<text text-anchor=\"middle\" x=\"903.5\" y=\"-37.8\" font-family=\"Helvetica,sans-Serif\" font-size=\"14.00\" fill=\"#000000\">samples = 3</text>\n<text text-anchor=\"middle\" x=\"903.5\" y=\"-22.8\" font-family=\"Helvetica,sans-Serif\" font-size=\"14.00\" fill=\"#000000\">value = [0, 3]</text>\n<text text-anchor=\"middle\" x=\"903.5\" y=\"-7.8\" font-family=\"Helvetica,sans-Serif\" font-size=\"14.00\" fill=\"#000000\">class = 1</text>\n</g>\n<!-- 9&#45;&gt;11 -->\n<g id=\"edge11\" class=\"edge\">\n<title>9&#45;&gt;11</title>\n<path fill=\"none\" stroke=\"#000000\" d=\"M865.8418,-103.9815C870.5402,-95.2504 875.5071,-86.0202 880.2383,-77.2281\"/>\n<polygon fill=\"#000000\" stroke=\"#000000\" points=\"883.4056,-78.7282 885.0621,-68.2637 877.2414,-75.4111 883.4056,-78.7282\"/>\n</g>\n<!-- 13 -->\n<g id=\"node14\" class=\"node\">\n<title>13</title>\n<polygon fill=\"#399de5\" stroke=\"#000000\" points=\"1234,-68 1135,-68 1135,0 1234,0 1234,-68\"/>\n<text text-anchor=\"middle\" x=\"1184.5\" y=\"-52.8\" font-family=\"Helvetica,sans-Serif\" font-size=\"14.00\" fill=\"#000000\">gini = 0.0</text>\n<text text-anchor=\"middle\" x=\"1184.5\" y=\"-37.8\" font-family=\"Helvetica,sans-Serif\" font-size=\"14.00\" fill=\"#000000\">samples = 3</text>\n<text text-anchor=\"middle\" x=\"1184.5\" y=\"-22.8\" font-family=\"Helvetica,sans-Serif\" font-size=\"14.00\" fill=\"#000000\">value = [0, 3]</text>\n<text text-anchor=\"middle\" x=\"1184.5\" y=\"-7.8\" font-family=\"Helvetica,sans-Serif\" font-size=\"14.00\" fill=\"#000000\">class = 1</text>\n</g>\n<!-- 12&#45;&gt;13 -->\n<g id=\"edge13\" class=\"edge\">\n<title>12&#45;&gt;13</title>\n<path fill=\"none\" stroke=\"#000000\" d=\"M1221.5306,-103.9815C1216.9105,-95.2504 1212.0264,-86.0202 1207.374,-77.2281\"/>\n<polygon fill=\"#000000\" stroke=\"#000000\" points=\"1210.4013,-75.4655 1202.6306,-68.2637 1204.2141,-78.7395 1210.4013,-75.4655\"/>\n</g>\n<!-- 14 -->\n<g id=\"node15\" class=\"node\">\n<title>14</title>\n<polygon fill=\"#ffffff\" stroke=\"#000000\" points=\"1351,-68 1252,-68 1252,0 1351,0 1351,-68\"/>\n<text text-anchor=\"middle\" x=\"1301.5\" y=\"-52.8\" font-family=\"Helvetica,sans-Serif\" font-size=\"14.00\" fill=\"#000000\">gini = 0.5</text>\n<text text-anchor=\"middle\" x=\"1301.5\" y=\"-37.8\" font-family=\"Helvetica,sans-Serif\" font-size=\"14.00\" fill=\"#000000\">samples = 2</text>\n<text text-anchor=\"middle\" x=\"1301.5\" y=\"-22.8\" font-family=\"Helvetica,sans-Serif\" font-size=\"14.00\" fill=\"#000000\">value = [1, 1]</text>\n<text text-anchor=\"middle\" x=\"1301.5\" y=\"-7.8\" font-family=\"Helvetica,sans-Serif\" font-size=\"14.00\" fill=\"#000000\">class = 0</text>\n</g>\n<!-- 12&#45;&gt;14 -->\n<g id=\"edge14\" class=\"edge\">\n<title>12&#45;&gt;14</title>\n<path fill=\"none\" stroke=\"#000000\" d=\"M1265.0971,-103.9815C1269.6388,-95.2504 1274.4402,-86.0202 1279.0137,-77.2281\"/>\n<polygon fill=\"#000000\" stroke=\"#000000\" points=\"1282.1669,-78.7504 1283.6767,-68.2637 1275.9569,-75.52 1282.1669,-78.7504\"/>\n</g>\n</g>\n</svg>\n"
          },
          "metadata": {},
          "execution_count": 6
        }
      ]
    },
    {
      "cell_type": "markdown",
      "source": [
        "#### 5.1.2 按聲請原因分類之法院認定的改定因素"
      ],
      "metadata": {
        "id": "7_5aAbkPC2Ty"
      }
    },
    {
      "cell_type": "code",
      "source": [
        "for i in range(1, 10):\n",
        "  filter_tree(f\"聲因{str(i)} == 1\", gsheet_super)"
      ],
      "metadata": {
        "colab": {
          "base_uri": "https://localhost:8080/",
          "height": 1000
        },
        "id": "i-O7-ultC_u7",
        "outputId": "6d61c640-7d36-4eb1-8875-b789cc3a74e5"
      },
      "execution_count": null,
      "outputs": [
        {
          "output_type": "stream",
          "name": "stdout",
          "text": [
            "載入資料筆數：208\n",
            "----------------------------------------------------------------------------------------------------\n",
            "Filter 聲因1 == 1 len = 49\n",
            "----------------------------------------------------------------------------------------------------\n",
            "x ['法院是否認為原監護輔助人「年事已高」', '法院是否認為原監護輔助人「身體不堪負荷」', '法院是否認為原監護輔助人「盜領存款」', '法院是否認為原監護輔助人「不當處理本人之不動產」', '原監護輔助人是否與本人有「利害關係」', '法院是否認為原監護輔助人有「其他不當行為」', '監護輔助人是本人之「實際照顧者」', '監護輔助人是否為本人「廣義照顧者」', '原監護輔助人是否有意願續任', '專業人士訪視報告之「改定建議」', '本人之「改定建議」', '其他親屬、關係人之「改定建議」']\n",
            "y 原監護輔助人是否被法院改定\n",
            "預測 [1 1 0 1 1 1 1 0 1 1]\n",
            "標準答案 [1 1 0 1 1 1 1 0 1 1]\n",
            "績效 1.0\n",
            "|--- feature_8 <= 0.50\n",
            "|   |--- class: 1\n",
            "|--- feature_8 >  0.50\n",
            "|   |--- class: 0\n",
            "\n"
          ]
        },
        {
          "output_type": "display_data",
          "data": {
            "text/plain": [
              "<graphviz.files.Source at 0x7faa53e02510>"
            ],
            "image/svg+xml": "<?xml version=\"1.0\" encoding=\"UTF-8\" standalone=\"no\"?>\n<!DOCTYPE svg PUBLIC \"-//W3C//DTD SVG 1.1//EN\"\n \"http://www.w3.org/Graphics/SVG/1.1/DTD/svg11.dtd\">\n<!-- Generated by graphviz version 2.40.1 (20161225.0304)\n -->\n<!-- Title: Tree Pages: 1 -->\n<svg width=\"254pt\" height=\"195pt\"\n viewBox=\"0.00 0.00 254.00 195.00\" xmlns=\"http://www.w3.org/2000/svg\" xmlns:xlink=\"http://www.w3.org/1999/xlink\">\n<g id=\"graph0\" class=\"graph\" transform=\"scale(1 1) rotate(0) translate(4 191)\">\n<title>Tree</title>\n<polygon fill=\"#ffffff\" stroke=\"transparent\" points=\"-4,4 -4,-191 250,-191 250,4 -4,4\"/>\n<!-- 0 -->\n<g id=\"node1\" class=\"node\">\n<title>0</title>\n<polygon fill=\"#44a2e6\" stroke=\"#000000\" points=\"246,-187 0,-187 0,-104 246,-104 246,-187\"/>\n<text text-anchor=\"middle\" x=\"123\" y=\"-171.8\" font-family=\"Helvetica,sans-Serif\" font-size=\"14.00\" fill=\"#000000\">原監護輔助人是否有意願續任 &lt;= 0.5</text>\n<text text-anchor=\"middle\" x=\"123\" y=\"-156.8\" font-family=\"Helvetica,sans-Serif\" font-size=\"14.00\" fill=\"#000000\">gini = 0.097</text>\n<text text-anchor=\"middle\" x=\"123\" y=\"-141.8\" font-family=\"Helvetica,sans-Serif\" font-size=\"14.00\" fill=\"#000000\">samples = 39</text>\n<text text-anchor=\"middle\" x=\"123\" y=\"-126.8\" font-family=\"Helvetica,sans-Serif\" font-size=\"14.00\" fill=\"#000000\">value = [2, 37]</text>\n<text text-anchor=\"middle\" x=\"123\" y=\"-111.8\" font-family=\"Helvetica,sans-Serif\" font-size=\"14.00\" fill=\"#000000\">class = 1</text>\n</g>\n<!-- 1 -->\n<g id=\"node2\" class=\"node\">\n<title>1</title>\n<polygon fill=\"#399de5\" stroke=\"#000000\" points=\"116.5,-68 9.5,-68 9.5,0 116.5,0 116.5,-68\"/>\n<text text-anchor=\"middle\" x=\"63\" y=\"-52.8\" font-family=\"Helvetica,sans-Serif\" font-size=\"14.00\" fill=\"#000000\">gini = 0.0</text>\n<text text-anchor=\"middle\" x=\"63\" y=\"-37.8\" font-family=\"Helvetica,sans-Serif\" font-size=\"14.00\" fill=\"#000000\">samples = 37</text>\n<text text-anchor=\"middle\" x=\"63\" y=\"-22.8\" font-family=\"Helvetica,sans-Serif\" font-size=\"14.00\" fill=\"#000000\">value = [0, 37]</text>\n<text text-anchor=\"middle\" x=\"63\" y=\"-7.8\" font-family=\"Helvetica,sans-Serif\" font-size=\"14.00\" fill=\"#000000\">class = 1</text>\n</g>\n<!-- 0&#45;&gt;1 -->\n<g id=\"edge1\" class=\"edge\">\n<title>0&#45;&gt;1</title>\n<path fill=\"none\" stroke=\"#000000\" d=\"M100.6582,-103.9815C95.9598,-95.2504 90.9929,-86.0202 86.2617,-77.2281\"/>\n<polygon fill=\"#000000\" stroke=\"#000000\" points=\"89.2586,-75.4111 81.4379,-68.2637 83.0944,-78.7282 89.2586,-75.4111\"/>\n<text text-anchor=\"middle\" x=\"74.2478\" y=\"-88.5074\" font-family=\"Helvetica,sans-Serif\" font-size=\"14.00\" fill=\"#000000\">True</text>\n</g>\n<!-- 2 -->\n<g id=\"node3\" class=\"node\">\n<title>2</title>\n<polygon fill=\"#e58139\" stroke=\"#000000\" points=\"233.5,-68 134.5,-68 134.5,0 233.5,0 233.5,-68\"/>\n<text text-anchor=\"middle\" x=\"184\" y=\"-52.8\" font-family=\"Helvetica,sans-Serif\" font-size=\"14.00\" fill=\"#000000\">gini = 0.0</text>\n<text text-anchor=\"middle\" x=\"184\" y=\"-37.8\" font-family=\"Helvetica,sans-Serif\" font-size=\"14.00\" fill=\"#000000\">samples = 2</text>\n<text text-anchor=\"middle\" x=\"184\" y=\"-22.8\" font-family=\"Helvetica,sans-Serif\" font-size=\"14.00\" fill=\"#000000\">value = [2, 0]</text>\n<text text-anchor=\"middle\" x=\"184\" y=\"-7.8\" font-family=\"Helvetica,sans-Serif\" font-size=\"14.00\" fill=\"#000000\">class = 0</text>\n</g>\n<!-- 0&#45;&gt;2 -->\n<g id=\"edge2\" class=\"edge\">\n<title>0&#45;&gt;2</title>\n<path fill=\"none\" stroke=\"#000000\" d=\"M145.7141,-103.9815C150.4908,-95.2504 155.5405,-86.0202 160.3506,-77.2281\"/>\n<polygon fill=\"#000000\" stroke=\"#000000\" points=\"163.5258,-78.7165 165.2549,-68.2637 157.3847,-75.3568 163.5258,-78.7165\"/>\n<text text-anchor=\"middle\" x=\"172.2789\" y=\"-88.5567\" font-family=\"Helvetica,sans-Serif\" font-size=\"14.00\" fill=\"#000000\">False</text>\n</g>\n</g>\n</svg>\n"
          },
          "metadata": {}
        },
        {
          "output_type": "stream",
          "name": "stdout",
          "text": [
            "載入資料筆數：208\n",
            "----------------------------------------------------------------------------------------------------\n",
            "Filter 聲因2 == 1 len = 44\n",
            "----------------------------------------------------------------------------------------------------\n",
            "x ['法院是否認為原監護輔助人「年事已高」', '法院是否認為原監護輔助人「身體不堪負荷」', '法院是否認為原監護輔助人「盜領存款」', '法院是否認為原監護輔助人「不當處理本人之不動產」', '原監護輔助人是否與本人有「利害關係」', '法院是否認為原監護輔助人有「其他不當行為」', '監護輔助人是本人之「實際照顧者」', '監護輔助人是否為本人「廣義照顧者」', '原監護輔助人是否有意願續任', '專業人士訪視報告之「改定建議」', '本人之「改定建議」', '其他親屬、關係人之「改定建議」']\n",
            "y 原監護輔助人是否被法院改定\n",
            "預測 [1 1 1 1 1 1 1 1 0]\n",
            "標準答案 [1 1 1 1 1 1 1 1 0]\n",
            "績效 1.0\n",
            "|--- feature_8 <= 0.50\n",
            "|   |--- class: 1\n",
            "|--- feature_8 >  0.50\n",
            "|   |--- class: 0\n",
            "\n"
          ]
        },
        {
          "output_type": "display_data",
          "data": {
            "text/plain": [
              "<graphviz.files.Source at 0x7faa53e0c590>"
            ],
            "image/svg+xml": "<?xml version=\"1.0\" encoding=\"UTF-8\" standalone=\"no\"?>\n<!DOCTYPE svg PUBLIC \"-//W3C//DTD SVG 1.1//EN\"\n \"http://www.w3.org/Graphics/SVG/1.1/DTD/svg11.dtd\">\n<!-- Generated by graphviz version 2.40.1 (20161225.0304)\n -->\n<!-- Title: Tree Pages: 1 -->\n<svg width=\"254pt\" height=\"195pt\"\n viewBox=\"0.00 0.00 254.00 195.00\" xmlns=\"http://www.w3.org/2000/svg\" xmlns:xlink=\"http://www.w3.org/1999/xlink\">\n<g id=\"graph0\" class=\"graph\" transform=\"scale(1 1) rotate(0) translate(4 191)\">\n<title>Tree</title>\n<polygon fill=\"#ffffff\" stroke=\"transparent\" points=\"-4,4 -4,-191 250,-191 250,4 -4,4\"/>\n<!-- 0 -->\n<g id=\"node1\" class=\"node\">\n<title>0</title>\n<polygon fill=\"#53aae8\" stroke=\"#000000\" points=\"246,-187 0,-187 0,-104 246,-104 246,-187\"/>\n<text text-anchor=\"middle\" x=\"123\" y=\"-171.8\" font-family=\"Helvetica,sans-Serif\" font-size=\"14.00\" fill=\"#000000\">原監護輔助人是否有意願續任 &lt;= 0.5</text>\n<text text-anchor=\"middle\" x=\"123\" y=\"-156.8\" font-family=\"Helvetica,sans-Serif\" font-size=\"14.00\" fill=\"#000000\">gini = 0.202</text>\n<text text-anchor=\"middle\" x=\"123\" y=\"-141.8\" font-family=\"Helvetica,sans-Serif\" font-size=\"14.00\" fill=\"#000000\">samples = 35</text>\n<text text-anchor=\"middle\" x=\"123\" y=\"-126.8\" font-family=\"Helvetica,sans-Serif\" font-size=\"14.00\" fill=\"#000000\">value = [4, 31]</text>\n<text text-anchor=\"middle\" x=\"123\" y=\"-111.8\" font-family=\"Helvetica,sans-Serif\" font-size=\"14.00\" fill=\"#000000\">class = 1</text>\n</g>\n<!-- 1 -->\n<g id=\"node2\" class=\"node\">\n<title>1</title>\n<polygon fill=\"#399de5\" stroke=\"#000000\" points=\"116.5,-68 9.5,-68 9.5,0 116.5,0 116.5,-68\"/>\n<text text-anchor=\"middle\" x=\"63\" y=\"-52.8\" font-family=\"Helvetica,sans-Serif\" font-size=\"14.00\" fill=\"#000000\">gini = 0.0</text>\n<text text-anchor=\"middle\" x=\"63\" y=\"-37.8\" font-family=\"Helvetica,sans-Serif\" font-size=\"14.00\" fill=\"#000000\">samples = 31</text>\n<text text-anchor=\"middle\" x=\"63\" y=\"-22.8\" font-family=\"Helvetica,sans-Serif\" font-size=\"14.00\" fill=\"#000000\">value = [0, 31]</text>\n<text text-anchor=\"middle\" x=\"63\" y=\"-7.8\" font-family=\"Helvetica,sans-Serif\" font-size=\"14.00\" fill=\"#000000\">class = 1</text>\n</g>\n<!-- 0&#45;&gt;1 -->\n<g id=\"edge1\" class=\"edge\">\n<title>0&#45;&gt;1</title>\n<path fill=\"none\" stroke=\"#000000\" d=\"M100.6582,-103.9815C95.9598,-95.2504 90.9929,-86.0202 86.2617,-77.2281\"/>\n<polygon fill=\"#000000\" stroke=\"#000000\" points=\"89.2586,-75.4111 81.4379,-68.2637 83.0944,-78.7282 89.2586,-75.4111\"/>\n<text text-anchor=\"middle\" x=\"74.2478\" y=\"-88.5074\" font-family=\"Helvetica,sans-Serif\" font-size=\"14.00\" fill=\"#000000\">True</text>\n</g>\n<!-- 2 -->\n<g id=\"node3\" class=\"node\">\n<title>2</title>\n<polygon fill=\"#e58139\" stroke=\"#000000\" points=\"233.5,-68 134.5,-68 134.5,0 233.5,0 233.5,-68\"/>\n<text text-anchor=\"middle\" x=\"184\" y=\"-52.8\" font-family=\"Helvetica,sans-Serif\" font-size=\"14.00\" fill=\"#000000\">gini = 0.0</text>\n<text text-anchor=\"middle\" x=\"184\" y=\"-37.8\" font-family=\"Helvetica,sans-Serif\" font-size=\"14.00\" fill=\"#000000\">samples = 4</text>\n<text text-anchor=\"middle\" x=\"184\" y=\"-22.8\" font-family=\"Helvetica,sans-Serif\" font-size=\"14.00\" fill=\"#000000\">value = [4, 0]</text>\n<text text-anchor=\"middle\" x=\"184\" y=\"-7.8\" font-family=\"Helvetica,sans-Serif\" font-size=\"14.00\" fill=\"#000000\">class = 0</text>\n</g>\n<!-- 0&#45;&gt;2 -->\n<g id=\"edge2\" class=\"edge\">\n<title>0&#45;&gt;2</title>\n<path fill=\"none\" stroke=\"#000000\" d=\"M145.7141,-103.9815C150.4908,-95.2504 155.5405,-86.0202 160.3506,-77.2281\"/>\n<polygon fill=\"#000000\" stroke=\"#000000\" points=\"163.5258,-78.7165 165.2549,-68.2637 157.3847,-75.3568 163.5258,-78.7165\"/>\n<text text-anchor=\"middle\" x=\"172.2789\" y=\"-88.5567\" font-family=\"Helvetica,sans-Serif\" font-size=\"14.00\" fill=\"#000000\">False</text>\n</g>\n</g>\n</svg>\n"
          },
          "metadata": {}
        },
        {
          "output_type": "stream",
          "name": "stdout",
          "text": [
            "載入資料筆數：208\n",
            "----------------------------------------------------------------------------------------------------\n",
            "Filter 聲因3 == 1 len = 45\n",
            "----------------------------------------------------------------------------------------------------\n",
            "x ['法院是否認為原監護輔助人「年事已高」', '法院是否認為原監護輔助人「身體不堪負荷」', '法院是否認為原監護輔助人「盜領存款」', '法院是否認為原監護輔助人「不當處理本人之不動產」', '原監護輔助人是否與本人有「利害關係」', '法院是否認為原監護輔助人有「其他不當行為」', '監護輔助人是本人之「實際照顧者」', '監護輔助人是否為本人「廣義照顧者」', '原監護輔助人是否有意願續任', '專業人士訪視報告之「改定建議」', '本人之「改定建議」', '其他親屬、關係人之「改定建議」']\n",
            "y 原監護輔助人是否被法院改定\n",
            "預測 [0 0 1 0 0 0 0 0 0]\n",
            "標準答案 [1 0 1 0 0 1 0 0 1]\n",
            "績效 0.6666666666666666\n",
            "|--- feature_3 <= 0.50\n",
            "|   |--- feature_2 <= 0.50\n",
            "|   |   |--- class: 0\n",
            "|   |--- feature_2 >  0.50\n",
            "|   |   |--- class: 1\n",
            "|--- feature_3 >  0.50\n",
            "|   |--- feature_6 <= 0.50\n",
            "|   |   |--- class: 1\n",
            "|   |--- feature_6 >  0.50\n",
            "|   |   |--- class: 0\n",
            "\n"
          ]
        },
        {
          "output_type": "display_data",
          "data": {
            "text/plain": [
              "<graphviz.files.Source at 0x7faa536a45d0>"
            ],
            "image/svg+xml": "<?xml version=\"1.0\" encoding=\"UTF-8\" standalone=\"no\"?>\n<!DOCTYPE svg PUBLIC \"-//W3C//DTD SVG 1.1//EN\"\n \"http://www.w3.org/Graphics/SVG/1.1/DTD/svg11.dtd\">\n<!-- Generated by graphviz version 2.40.1 (20161225.0304)\n -->\n<!-- Title: Tree Pages: 1 -->\n<svg width=\"632pt\" height=\"314pt\"\n viewBox=\"0.00 0.00 632.00 314.00\" xmlns=\"http://www.w3.org/2000/svg\" xmlns:xlink=\"http://www.w3.org/1999/xlink\">\n<g id=\"graph0\" class=\"graph\" transform=\"scale(1 1) rotate(0) translate(4 310)\">\n<title>Tree</title>\n<polygon fill=\"#ffffff\" stroke=\"transparent\" points=\"-4,4 -4,-310 628,-310 628,4 -4,4\"/>\n<!-- 0 -->\n<g id=\"node1\" class=\"node\">\n<title>0</title>\n<polygon fill=\"#f8dbc6\" stroke=\"#000000\" points=\"520,-306 117,-306 117,-223 520,-223 520,-306\"/>\n<text text-anchor=\"middle\" x=\"318.5\" y=\"-290.8\" font-family=\"Helvetica,sans-Serif\" font-size=\"14.00\" fill=\"#000000\">法院是否認為原監護輔助人「不當處理本人之不動產」 &lt;= 0.5</text>\n<text text-anchor=\"middle\" x=\"318.5\" y=\"-275.8\" font-family=\"Helvetica,sans-Serif\" font-size=\"14.00\" fill=\"#000000\">gini = 0.486</text>\n<text text-anchor=\"middle\" x=\"318.5\" y=\"-260.8\" font-family=\"Helvetica,sans-Serif\" font-size=\"14.00\" fill=\"#000000\">samples = 36</text>\n<text text-anchor=\"middle\" x=\"318.5\" y=\"-245.8\" font-family=\"Helvetica,sans-Serif\" font-size=\"14.00\" fill=\"#000000\">value = [21, 15]</text>\n<text text-anchor=\"middle\" x=\"318.5\" y=\"-230.8\" font-family=\"Helvetica,sans-Serif\" font-size=\"14.00\" fill=\"#000000\">class = 0</text>\n</g>\n<!-- 1 -->\n<g id=\"node2\" class=\"node\">\n<title>1</title>\n<polygon fill=\"#eead7e\" stroke=\"#000000\" points=\"317,-187 0,-187 0,-104 317,-104 317,-187\"/>\n<text text-anchor=\"middle\" x=\"158.5\" y=\"-171.8\" font-family=\"Helvetica,sans-Serif\" font-size=\"14.00\" fill=\"#000000\">法院是否認為原監護輔助人「盜領存款」 &lt;= 0.5</text>\n<text text-anchor=\"middle\" x=\"158.5\" y=\"-156.8\" font-family=\"Helvetica,sans-Serif\" font-size=\"14.00\" fill=\"#000000\">gini = 0.384</text>\n<text text-anchor=\"middle\" x=\"158.5\" y=\"-141.8\" font-family=\"Helvetica,sans-Serif\" font-size=\"14.00\" fill=\"#000000\">samples = 27</text>\n<text text-anchor=\"middle\" x=\"158.5\" y=\"-126.8\" font-family=\"Helvetica,sans-Serif\" font-size=\"14.00\" fill=\"#000000\">value = [20, 7]</text>\n<text text-anchor=\"middle\" x=\"158.5\" y=\"-111.8\" font-family=\"Helvetica,sans-Serif\" font-size=\"14.00\" fill=\"#000000\">class = 0</text>\n</g>\n<!-- 0&#45;&gt;1 -->\n<g id=\"edge1\" class=\"edge\">\n<title>0&#45;&gt;1</title>\n<path fill=\"none\" stroke=\"#000000\" d=\"M262.5398,-222.8796C249.6292,-213.2774 235.7979,-202.9903 222.5718,-193.1534\"/>\n<polygon fill=\"#000000\" stroke=\"#000000\" points=\"224.5414,-190.2564 214.4286,-187.0969 220.3639,-195.8732 224.5414,-190.2564\"/>\n<text text-anchor=\"middle\" x=\"218.0634\" y=\"-208.1313\" font-family=\"Helvetica,sans-Serif\" font-size=\"14.00\" fill=\"#000000\">True</text>\n</g>\n<!-- 4 -->\n<g id=\"node5\" class=\"node\">\n<title>4</title>\n<polygon fill=\"#52a9e8\" stroke=\"#000000\" points=\"624,-187 335,-187 335,-104 624,-104 624,-187\"/>\n<text text-anchor=\"middle\" x=\"479.5\" y=\"-171.8\" font-family=\"Helvetica,sans-Serif\" font-size=\"14.00\" fill=\"#000000\">監護輔助人是本人之「實際照顧者」 &lt;= 0.5</text>\n<text text-anchor=\"middle\" x=\"479.5\" y=\"-156.8\" font-family=\"Helvetica,sans-Serif\" font-size=\"14.00\" fill=\"#000000\">gini = 0.198</text>\n<text text-anchor=\"middle\" x=\"479.5\" y=\"-141.8\" font-family=\"Helvetica,sans-Serif\" font-size=\"14.00\" fill=\"#000000\">samples = 9</text>\n<text text-anchor=\"middle\" x=\"479.5\" y=\"-126.8\" font-family=\"Helvetica,sans-Serif\" font-size=\"14.00\" fill=\"#000000\">value = [1, 8]</text>\n<text text-anchor=\"middle\" x=\"479.5\" y=\"-111.8\" font-family=\"Helvetica,sans-Serif\" font-size=\"14.00\" fill=\"#000000\">class = 1</text>\n</g>\n<!-- 0&#45;&gt;4 -->\n<g id=\"edge4\" class=\"edge\">\n<title>0&#45;&gt;4</title>\n<path fill=\"none\" stroke=\"#000000\" d=\"M374.81,-222.8796C387.8012,-213.2774 401.719,-202.9903 415.0277,-193.1534\"/>\n<polygon fill=\"#000000\" stroke=\"#000000\" points=\"417.2604,-195.8555 423.2218,-187.0969 413.0996,-190.2263 417.2604,-195.8555\"/>\n<text text-anchor=\"middle\" x=\"419.5133\" y=\"-208.1203\" font-family=\"Helvetica,sans-Serif\" font-size=\"14.00\" fill=\"#000000\">False</text>\n</g>\n<!-- 2 -->\n<g id=\"node3\" class=\"node\">\n<title>2</title>\n<polygon fill=\"#e68843\" stroke=\"#000000\" points=\"195,-68 88,-68 88,0 195,0 195,-68\"/>\n<text text-anchor=\"middle\" x=\"141.5\" y=\"-52.8\" font-family=\"Helvetica,sans-Serif\" font-size=\"14.00\" fill=\"#000000\">gini = 0.095</text>\n<text text-anchor=\"middle\" x=\"141.5\" y=\"-37.8\" font-family=\"Helvetica,sans-Serif\" font-size=\"14.00\" fill=\"#000000\">samples = 20</text>\n<text text-anchor=\"middle\" x=\"141.5\" y=\"-22.8\" font-family=\"Helvetica,sans-Serif\" font-size=\"14.00\" fill=\"#000000\">value = [19, 1]</text>\n<text text-anchor=\"middle\" x=\"141.5\" y=\"-7.8\" font-family=\"Helvetica,sans-Serif\" font-size=\"14.00\" fill=\"#000000\">class = 0</text>\n</g>\n<!-- 1&#45;&gt;2 -->\n<g id=\"edge2\" class=\"edge\">\n<title>1&#45;&gt;2</title>\n<path fill=\"none\" stroke=\"#000000\" d=\"M152.1698,-103.9815C150.8947,-95.618 149.5497,-86.7965 148.2605,-78.3409\"/>\n<polygon fill=\"#000000\" stroke=\"#000000\" points=\"151.6914,-77.6219 146.7241,-68.2637 144.7714,-78.677 151.6914,-77.6219\"/>\n</g>\n<!-- 3 -->\n<g id=\"node4\" class=\"node\">\n<title>3</title>\n<polygon fill=\"#5aade9\" stroke=\"#000000\" points=\"312,-68 213,-68 213,0 312,0 312,-68\"/>\n<text text-anchor=\"middle\" x=\"262.5\" y=\"-52.8\" font-family=\"Helvetica,sans-Serif\" font-size=\"14.00\" fill=\"#000000\">gini = 0.245</text>\n<text text-anchor=\"middle\" x=\"262.5\" y=\"-37.8\" font-family=\"Helvetica,sans-Serif\" font-size=\"14.00\" fill=\"#000000\">samples = 7</text>\n<text text-anchor=\"middle\" x=\"262.5\" y=\"-22.8\" font-family=\"Helvetica,sans-Serif\" font-size=\"14.00\" fill=\"#000000\">value = [1, 6]</text>\n<text text-anchor=\"middle\" x=\"262.5\" y=\"-7.8\" font-family=\"Helvetica,sans-Serif\" font-size=\"14.00\" fill=\"#000000\">class = 1</text>\n</g>\n<!-- 1&#45;&gt;3 -->\n<g id=\"edge3\" class=\"edge\">\n<title>1&#45;&gt;3</title>\n<path fill=\"none\" stroke=\"#000000\" d=\"M197.2258,-103.9815C205.7982,-94.7908 214.8865,-85.0472 223.471,-75.8436\"/>\n<polygon fill=\"#000000\" stroke=\"#000000\" points=\"226.2796,-77.9637 230.5411,-68.2637 221.1607,-73.1891 226.2796,-77.9637\"/>\n</g>\n<!-- 5 -->\n<g id=\"node6\" class=\"node\">\n<title>5</title>\n<polygon fill=\"#399de5\" stroke=\"#000000\" points=\"479,-68 380,-68 380,0 479,0 479,-68\"/>\n<text text-anchor=\"middle\" x=\"429.5\" y=\"-52.8\" font-family=\"Helvetica,sans-Serif\" font-size=\"14.00\" fill=\"#000000\">gini = 0.0</text>\n<text text-anchor=\"middle\" x=\"429.5\" y=\"-37.8\" font-family=\"Helvetica,sans-Serif\" font-size=\"14.00\" fill=\"#000000\">samples = 7</text>\n<text text-anchor=\"middle\" x=\"429.5\" y=\"-22.8\" font-family=\"Helvetica,sans-Serif\" font-size=\"14.00\" fill=\"#000000\">value = [0, 7]</text>\n<text text-anchor=\"middle\" x=\"429.5\" y=\"-7.8\" font-family=\"Helvetica,sans-Serif\" font-size=\"14.00\" fill=\"#000000\">class = 1</text>\n</g>\n<!-- 4&#45;&gt;5 -->\n<g id=\"edge5\" class=\"edge\">\n<title>4&#45;&gt;5</title>\n<path fill=\"none\" stroke=\"#000000\" d=\"M460.8818,-103.9815C457.0078,-95.3423 452.9145,-86.2144 449.0094,-77.5059\"/>\n<polygon fill=\"#000000\" stroke=\"#000000\" points=\"452.1503,-75.9561 444.8649,-68.2637 445.7631,-78.8204 452.1503,-75.9561\"/>\n</g>\n<!-- 6 -->\n<g id=\"node7\" class=\"node\">\n<title>6</title>\n<polygon fill=\"#ffffff\" stroke=\"#000000\" points=\"596,-68 497,-68 497,0 596,0 596,-68\"/>\n<text text-anchor=\"middle\" x=\"546.5\" y=\"-52.8\" font-family=\"Helvetica,sans-Serif\" font-size=\"14.00\" fill=\"#000000\">gini = 0.5</text>\n<text text-anchor=\"middle\" x=\"546.5\" y=\"-37.8\" font-family=\"Helvetica,sans-Serif\" font-size=\"14.00\" fill=\"#000000\">samples = 2</text>\n<text text-anchor=\"middle\" x=\"546.5\" y=\"-22.8\" font-family=\"Helvetica,sans-Serif\" font-size=\"14.00\" fill=\"#000000\">value = [1, 1]</text>\n<text text-anchor=\"middle\" x=\"546.5\" y=\"-7.8\" font-family=\"Helvetica,sans-Serif\" font-size=\"14.00\" fill=\"#000000\">class = 0</text>\n</g>\n<!-- 4&#45;&gt;6 -->\n<g id=\"edge6\" class=\"edge\">\n<title>4&#45;&gt;6</title>\n<path fill=\"none\" stroke=\"#000000\" d=\"M504.4483,-103.9815C509.7501,-95.1585 515.3581,-85.8258 520.6911,-76.9506\"/>\n<polygon fill=\"#000000\" stroke=\"#000000\" points=\"523.7605,-78.638 525.9111,-68.2637 517.7604,-75.0325 523.7605,-78.638\"/>\n</g>\n</g>\n</svg>\n"
          },
          "metadata": {}
        },
        {
          "output_type": "stream",
          "name": "stdout",
          "text": [
            "載入資料筆數：208\n",
            "----------------------------------------------------------------------------------------------------\n",
            "Filter 聲因4 == 1 len = 16\n",
            "----------------------------------------------------------------------------------------------------\n",
            "x ['法院是否認為原監護輔助人「年事已高」', '法院是否認為原監護輔助人「身體不堪負荷」', '法院是否認為原監護輔助人「盜領存款」', '法院是否認為原監護輔助人「不當處理本人之不動產」', '原監護輔助人是否與本人有「利害關係」', '法院是否認為原監護輔助人有「其他不當行為」', '監護輔助人是本人之「實際照顧者」', '監護輔助人是否為本人「廣義照顧者」', '原監護輔助人是否有意願續任', '專業人士訪視報告之「改定建議」', '本人之「改定建議」', '其他親屬、關係人之「改定建議」']\n",
            "y 原監護輔助人是否被法院改定\n",
            "預測 [0 0 0 1]\n",
            "標準答案 [1 1 0 1]\n",
            "績效 0.5\n",
            "|--- feature_4 <= 0.50\n",
            "|   |--- class: 0\n",
            "|--- feature_4 >  0.50\n",
            "|   |--- feature_5 <= 0.50\n",
            "|   |   |--- class: 1\n",
            "|   |--- feature_5 >  0.50\n",
            "|   |   |--- class: 0\n",
            "\n"
          ]
        },
        {
          "output_type": "display_data",
          "data": {
            "text/plain": [
              "<graphviz.files.Source at 0x7faa53d723d0>"
            ],
            "image/svg+xml": "<?xml version=\"1.0\" encoding=\"UTF-8\" standalone=\"no\"?>\n<!DOCTYPE svg PUBLIC \"-//W3C//DTD SVG 1.1//EN\"\n \"http://www.w3.org/Graphics/SVG/1.1/DTD/svg11.dtd\">\n<!-- Generated by graphviz version 2.40.1 (20161225.0304)\n -->\n<!-- Title: Tree Pages: 1 -->\n<svg width=\"486pt\" height=\"314pt\"\n viewBox=\"0.00 0.00 485.50 314.00\" xmlns=\"http://www.w3.org/2000/svg\" xmlns:xlink=\"http://www.w3.org/1999/xlink\">\n<g id=\"graph0\" class=\"graph\" transform=\"scale(1 1) rotate(0) translate(4 310)\">\n<title>Tree</title>\n<polygon fill=\"#ffffff\" stroke=\"transparent\" points=\"-4,4 -4,-310 481.5,-310 481.5,4 -4,4\"/>\n<!-- 0 -->\n<g id=\"node1\" class=\"node\">\n<title>0</title>\n<polygon fill=\"#9ccef2\" stroke=\"#000000\" points=\"332,-306 15,-306 15,-223 332,-223 332,-306\"/>\n<text text-anchor=\"middle\" x=\"173.5\" y=\"-290.8\" font-family=\"Helvetica,sans-Serif\" font-size=\"14.00\" fill=\"#000000\">原監護輔助人是否與本人有「利害關係」 &lt;= 0.5</text>\n<text text-anchor=\"middle\" x=\"173.5\" y=\"-275.8\" font-family=\"Helvetica,sans-Serif\" font-size=\"14.00\" fill=\"#000000\">gini = 0.444</text>\n<text text-anchor=\"middle\" x=\"173.5\" y=\"-260.8\" font-family=\"Helvetica,sans-Serif\" font-size=\"14.00\" fill=\"#000000\">samples = 12</text>\n<text text-anchor=\"middle\" x=\"173.5\" y=\"-245.8\" font-family=\"Helvetica,sans-Serif\" font-size=\"14.00\" fill=\"#000000\">value = [4, 8]</text>\n<text text-anchor=\"middle\" x=\"173.5\" y=\"-230.8\" font-family=\"Helvetica,sans-Serif\" font-size=\"14.00\" fill=\"#000000\">class = 1</text>\n</g>\n<!-- 1 -->\n<g id=\"node2\" class=\"node\">\n<title>1</title>\n<polygon fill=\"#e58139\" stroke=\"#000000\" points=\"99,-179.5 0,-179.5 0,-111.5 99,-111.5 99,-179.5\"/>\n<text text-anchor=\"middle\" x=\"49.5\" y=\"-164.3\" font-family=\"Helvetica,sans-Serif\" font-size=\"14.00\" fill=\"#000000\">gini = 0.0</text>\n<text text-anchor=\"middle\" x=\"49.5\" y=\"-149.3\" font-family=\"Helvetica,sans-Serif\" font-size=\"14.00\" fill=\"#000000\">samples = 3</text>\n<text text-anchor=\"middle\" x=\"49.5\" y=\"-134.3\" font-family=\"Helvetica,sans-Serif\" font-size=\"14.00\" fill=\"#000000\">value = [3, 0]</text>\n<text text-anchor=\"middle\" x=\"49.5\" y=\"-119.3\" font-family=\"Helvetica,sans-Serif\" font-size=\"14.00\" fill=\"#000000\">class = 0</text>\n</g>\n<!-- 0&#45;&gt;1 -->\n<g id=\"edge1\" class=\"edge\">\n<title>0&#45;&gt;1</title>\n<path fill=\"none\" stroke=\"#000000\" d=\"M130.1308,-222.8796C117.9852,-211.2237 104.7881,-198.5587 92.6549,-186.9148\"/>\n<polygon fill=\"#000000\" stroke=\"#000000\" points=\"94.8953,-184.2138 85.2567,-179.8149 90.0484,-189.2643 94.8953,-184.2138\"/>\n<text text-anchor=\"middle\" x=\"85.771\" y=\"-201.1096\" font-family=\"Helvetica,sans-Serif\" font-size=\"14.00\" fill=\"#000000\">True</text>\n</g>\n<!-- 2 -->\n<g id=\"node3\" class=\"node\">\n<title>2</title>\n<polygon fill=\"#52a9e8\" stroke=\"#000000\" points=\"477.5,-187 117.5,-187 117.5,-104 477.5,-104 477.5,-187\"/>\n<text text-anchor=\"middle\" x=\"297.5\" y=\"-171.8\" font-family=\"Helvetica,sans-Serif\" font-size=\"14.00\" fill=\"#000000\">法院是否認為原監護輔助人有「其他不當行為」 &lt;= 0.5</text>\n<text text-anchor=\"middle\" x=\"297.5\" y=\"-156.8\" font-family=\"Helvetica,sans-Serif\" font-size=\"14.00\" fill=\"#000000\">gini = 0.198</text>\n<text text-anchor=\"middle\" x=\"297.5\" y=\"-141.8\" font-family=\"Helvetica,sans-Serif\" font-size=\"14.00\" fill=\"#000000\">samples = 9</text>\n<text text-anchor=\"middle\" x=\"297.5\" y=\"-126.8\" font-family=\"Helvetica,sans-Serif\" font-size=\"14.00\" fill=\"#000000\">value = [1, 8]</text>\n<text text-anchor=\"middle\" x=\"297.5\" y=\"-111.8\" font-family=\"Helvetica,sans-Serif\" font-size=\"14.00\" fill=\"#000000\">class = 1</text>\n</g>\n<!-- 0&#45;&gt;2 -->\n<g id=\"edge2\" class=\"edge\">\n<title>0&#45;&gt;2</title>\n<path fill=\"none\" stroke=\"#000000\" d=\"M216.8692,-222.8796C226.4416,-213.6931 236.6672,-203.8798 246.5103,-194.4336\"/>\n<polygon fill=\"#000000\" stroke=\"#000000\" points=\"249.1541,-196.7475 253.9457,-187.2981 244.3072,-191.6969 249.1541,-196.7475\"/>\n<text text-anchor=\"middle\" x=\"253.4314\" y=\"-208.5928\" font-family=\"Helvetica,sans-Serif\" font-size=\"14.00\" fill=\"#000000\">False</text>\n</g>\n<!-- 3 -->\n<g id=\"node4\" class=\"node\">\n<title>3</title>\n<polygon fill=\"#399de5\" stroke=\"#000000\" points=\"288,-68 189,-68 189,0 288,0 288,-68\"/>\n<text text-anchor=\"middle\" x=\"238.5\" y=\"-52.8\" font-family=\"Helvetica,sans-Serif\" font-size=\"14.00\" fill=\"#000000\">gini = 0.0</text>\n<text text-anchor=\"middle\" x=\"238.5\" y=\"-37.8\" font-family=\"Helvetica,sans-Serif\" font-size=\"14.00\" fill=\"#000000\">samples = 8</text>\n<text text-anchor=\"middle\" x=\"238.5\" y=\"-22.8\" font-family=\"Helvetica,sans-Serif\" font-size=\"14.00\" fill=\"#000000\">value = [0, 8]</text>\n<text text-anchor=\"middle\" x=\"238.5\" y=\"-7.8\" font-family=\"Helvetica,sans-Serif\" font-size=\"14.00\" fill=\"#000000\">class = 1</text>\n</g>\n<!-- 2&#45;&gt;3 -->\n<g id=\"edge3\" class=\"edge\">\n<title>2&#45;&gt;3</title>\n<path fill=\"none\" stroke=\"#000000\" d=\"M275.5306,-103.9815C270.9105,-95.2504 266.0264,-86.0202 261.374,-77.2281\"/>\n<polygon fill=\"#000000\" stroke=\"#000000\" points=\"264.4013,-75.4655 256.6306,-68.2637 258.2141,-78.7395 264.4013,-75.4655\"/>\n</g>\n<!-- 4 -->\n<g id=\"node5\" class=\"node\">\n<title>4</title>\n<polygon fill=\"#e58139\" stroke=\"#000000\" points=\"405,-68 306,-68 306,0 405,0 405,-68\"/>\n<text text-anchor=\"middle\" x=\"355.5\" y=\"-52.8\" font-family=\"Helvetica,sans-Serif\" font-size=\"14.00\" fill=\"#000000\">gini = 0.0</text>\n<text text-anchor=\"middle\" x=\"355.5\" y=\"-37.8\" font-family=\"Helvetica,sans-Serif\" font-size=\"14.00\" fill=\"#000000\">samples = 1</text>\n<text text-anchor=\"middle\" x=\"355.5\" y=\"-22.8\" font-family=\"Helvetica,sans-Serif\" font-size=\"14.00\" fill=\"#000000\">value = [1, 0]</text>\n<text text-anchor=\"middle\" x=\"355.5\" y=\"-7.8\" font-family=\"Helvetica,sans-Serif\" font-size=\"14.00\" fill=\"#000000\">class = 0</text>\n</g>\n<!-- 2&#45;&gt;4 -->\n<g id=\"edge4\" class=\"edge\">\n<title>2&#45;&gt;4</title>\n<path fill=\"none\" stroke=\"#000000\" d=\"M319.0971,-103.9815C323.6388,-95.2504 328.4402,-86.0202 333.0137,-77.2281\"/>\n<polygon fill=\"#000000\" stroke=\"#000000\" points=\"336.1669,-78.7504 337.6767,-68.2637 329.9569,-75.52 336.1669,-78.7504\"/>\n</g>\n</g>\n</svg>\n"
          },
          "metadata": {}
        },
        {
          "output_type": "stream",
          "name": "stdout",
          "text": [
            "載入資料筆數：208\n",
            "----------------------------------------------------------------------------------------------------\n",
            "Filter 聲因5 == 1 len = 64\n",
            "----------------------------------------------------------------------------------------------------\n",
            "x ['法院是否認為原監護輔助人「年事已高」', '法院是否認為原監護輔助人「身體不堪負荷」', '法院是否認為原監護輔助人「盜領存款」', '法院是否認為原監護輔助人「不當處理本人之不動產」', '原監護輔助人是否與本人有「利害關係」', '法院是否認為原監護輔助人有「其他不當行為」', '監護輔助人是本人之「實際照顧者」', '監護輔助人是否為本人「廣義照顧者」', '原監護輔助人是否有意願續任', '專業人士訪視報告之「改定建議」', '本人之「改定建議」', '其他親屬、關係人之「改定建議」']\n",
            "y 原監護輔助人是否被法院改定\n",
            "預測 [1 0 1 0 0 0 0 0 0 0 0 1 0]\n",
            "標準答案 [1 0 1 0 1 1 1 0 0 0 0 1 0]\n",
            "績效 0.7692307692307693\n",
            "|--- feature_5 <= 0.50\n",
            "|   |--- feature_2 <= 0.50\n",
            "|   |   |--- class: 0\n",
            "|   |--- feature_2 >  0.50\n",
            "|   |   |--- class: 1\n",
            "|--- feature_5 >  0.50\n",
            "|   |--- feature_6 <= 0.50\n",
            "|   |   |--- class: 1\n",
            "|   |--- feature_6 >  0.50\n",
            "|   |   |--- class: 0\n",
            "\n"
          ]
        },
        {
          "output_type": "display_data",
          "data": {
            "text/plain": [
              "<graphviz.files.Source at 0x7faa53e07290>"
            ],
            "image/svg+xml": "<?xml version=\"1.0\" encoding=\"UTF-8\" standalone=\"no\"?>\n<!DOCTYPE svg PUBLIC \"-//W3C//DTD SVG 1.1//EN\"\n \"http://www.w3.org/Graphics/SVG/1.1/DTD/svg11.dtd\">\n<!-- Generated by graphviz version 2.40.1 (20161225.0304)\n -->\n<!-- Title: Tree Pages: 1 -->\n<svg width=\"632pt\" height=\"314pt\"\n viewBox=\"0.00 0.00 632.00 314.00\" xmlns=\"http://www.w3.org/2000/svg\" xmlns:xlink=\"http://www.w3.org/1999/xlink\">\n<g id=\"graph0\" class=\"graph\" transform=\"scale(1 1) rotate(0) translate(4 310)\">\n<title>Tree</title>\n<polygon fill=\"#ffffff\" stroke=\"transparent\" points=\"-4,4 -4,-310 628,-310 628,4 -4,4\"/>\n<!-- 0 -->\n<g id=\"node1\" class=\"node\">\n<title>0</title>\n<polygon fill=\"#f7d9c4\" stroke=\"#000000\" points=\"498.5,-306 138.5,-306 138.5,-223 498.5,-223 498.5,-306\"/>\n<text text-anchor=\"middle\" x=\"318.5\" y=\"-290.8\" font-family=\"Helvetica,sans-Serif\" font-size=\"14.00\" fill=\"#000000\">法院是否認為原監護輔助人有「其他不當行為」 &lt;= 0.5</text>\n<text text-anchor=\"middle\" x=\"318.5\" y=\"-275.8\" font-family=\"Helvetica,sans-Serif\" font-size=\"14.00\" fill=\"#000000\">gini = 0.484</text>\n<text text-anchor=\"middle\" x=\"318.5\" y=\"-260.8\" font-family=\"Helvetica,sans-Serif\" font-size=\"14.00\" fill=\"#000000\">samples = 51</text>\n<text text-anchor=\"middle\" x=\"318.5\" y=\"-245.8\" font-family=\"Helvetica,sans-Serif\" font-size=\"14.00\" fill=\"#000000\">value = [30, 21]</text>\n<text text-anchor=\"middle\" x=\"318.5\" y=\"-230.8\" font-family=\"Helvetica,sans-Serif\" font-size=\"14.00\" fill=\"#000000\">class = 0</text>\n</g>\n<!-- 1 -->\n<g id=\"node2\" class=\"node\">\n<title>1</title>\n<polygon fill=\"#e78a48\" stroke=\"#000000\" points=\"317,-187 0,-187 0,-104 317,-104 317,-187\"/>\n<text text-anchor=\"middle\" x=\"158.5\" y=\"-171.8\" font-family=\"Helvetica,sans-Serif\" font-size=\"14.00\" fill=\"#000000\">法院是否認為原監護輔助人「盜領存款」 &lt;= 0.5</text>\n<text text-anchor=\"middle\" x=\"158.5\" y=\"-156.8\" font-family=\"Helvetica,sans-Serif\" font-size=\"14.00\" fill=\"#000000\">gini = 0.128</text>\n<text text-anchor=\"middle\" x=\"158.5\" y=\"-141.8\" font-family=\"Helvetica,sans-Serif\" font-size=\"14.00\" fill=\"#000000\">samples = 29</text>\n<text text-anchor=\"middle\" x=\"158.5\" y=\"-126.8\" font-family=\"Helvetica,sans-Serif\" font-size=\"14.00\" fill=\"#000000\">value = [27, 2]</text>\n<text text-anchor=\"middle\" x=\"158.5\" y=\"-111.8\" font-family=\"Helvetica,sans-Serif\" font-size=\"14.00\" fill=\"#000000\">class = 0</text>\n</g>\n<!-- 0&#45;&gt;1 -->\n<g id=\"edge1\" class=\"edge\">\n<title>0&#45;&gt;1</title>\n<path fill=\"none\" stroke=\"#000000\" d=\"M262.5398,-222.8796C249.6292,-213.2774 235.7979,-202.9903 222.5718,-193.1534\"/>\n<polygon fill=\"#000000\" stroke=\"#000000\" points=\"224.5414,-190.2564 214.4286,-187.0969 220.3639,-195.8732 224.5414,-190.2564\"/>\n<text text-anchor=\"middle\" x=\"218.0634\" y=\"-208.1313\" font-family=\"Helvetica,sans-Serif\" font-size=\"14.00\" fill=\"#000000\">True</text>\n</g>\n<!-- 4 -->\n<g id=\"node5\" class=\"node\">\n<title>4</title>\n<polygon fill=\"#58ace9\" stroke=\"#000000\" points=\"624,-187 335,-187 335,-104 624,-104 624,-187\"/>\n<text text-anchor=\"middle\" x=\"479.5\" y=\"-171.8\" font-family=\"Helvetica,sans-Serif\" font-size=\"14.00\" fill=\"#000000\">監護輔助人是本人之「實際照顧者」 &lt;= 0.5</text>\n<text text-anchor=\"middle\" x=\"479.5\" y=\"-156.8\" font-family=\"Helvetica,sans-Serif\" font-size=\"14.00\" fill=\"#000000\">gini = 0.236</text>\n<text text-anchor=\"middle\" x=\"479.5\" y=\"-141.8\" font-family=\"Helvetica,sans-Serif\" font-size=\"14.00\" fill=\"#000000\">samples = 22</text>\n<text text-anchor=\"middle\" x=\"479.5\" y=\"-126.8\" font-family=\"Helvetica,sans-Serif\" font-size=\"14.00\" fill=\"#000000\">value = [3, 19]</text>\n<text text-anchor=\"middle\" x=\"479.5\" y=\"-111.8\" font-family=\"Helvetica,sans-Serif\" font-size=\"14.00\" fill=\"#000000\">class = 1</text>\n</g>\n<!-- 0&#45;&gt;4 -->\n<g id=\"edge4\" class=\"edge\">\n<title>0&#45;&gt;4</title>\n<path fill=\"none\" stroke=\"#000000\" d=\"M374.81,-222.8796C387.8012,-213.2774 401.719,-202.9903 415.0277,-193.1534\"/>\n<polygon fill=\"#000000\" stroke=\"#000000\" points=\"417.2604,-195.8555 423.2218,-187.0969 413.0996,-190.2263 417.2604,-195.8555\"/>\n<text text-anchor=\"middle\" x=\"419.5133\" y=\"-208.1203\" font-family=\"Helvetica,sans-Serif\" font-size=\"14.00\" fill=\"#000000\">False</text>\n</g>\n<!-- 2 -->\n<g id=\"node3\" class=\"node\">\n<title>2</title>\n<polygon fill=\"#e58139\" stroke=\"#000000\" points=\"191,-68 84,-68 84,0 191,0 191,-68\"/>\n<text text-anchor=\"middle\" x=\"137.5\" y=\"-52.8\" font-family=\"Helvetica,sans-Serif\" font-size=\"14.00\" fill=\"#000000\">gini = 0.0</text>\n<text text-anchor=\"middle\" x=\"137.5\" y=\"-37.8\" font-family=\"Helvetica,sans-Serif\" font-size=\"14.00\" fill=\"#000000\">samples = 27</text>\n<text text-anchor=\"middle\" x=\"137.5\" y=\"-22.8\" font-family=\"Helvetica,sans-Serif\" font-size=\"14.00\" fill=\"#000000\">value = [27, 0]</text>\n<text text-anchor=\"middle\" x=\"137.5\" y=\"-7.8\" font-family=\"Helvetica,sans-Serif\" font-size=\"14.00\" fill=\"#000000\">class = 0</text>\n</g>\n<!-- 1&#45;&gt;2 -->\n<g id=\"edge2\" class=\"edge\">\n<title>1&#45;&gt;2</title>\n<path fill=\"none\" stroke=\"#000000\" d=\"M150.6804,-103.9815C149.1052,-95.618 147.4437,-86.7965 145.8512,-78.3409\"/>\n<polygon fill=\"#000000\" stroke=\"#000000\" points=\"149.2437,-77.4431 143.9532,-68.2637 142.3647,-78.7387 149.2437,-77.4431\"/>\n</g>\n<!-- 3 -->\n<g id=\"node4\" class=\"node\">\n<title>3</title>\n<polygon fill=\"#399de5\" stroke=\"#000000\" points=\"308,-68 209,-68 209,0 308,0 308,-68\"/>\n<text text-anchor=\"middle\" x=\"258.5\" y=\"-52.8\" font-family=\"Helvetica,sans-Serif\" font-size=\"14.00\" fill=\"#000000\">gini = 0.0</text>\n<text text-anchor=\"middle\" x=\"258.5\" y=\"-37.8\" font-family=\"Helvetica,sans-Serif\" font-size=\"14.00\" fill=\"#000000\">samples = 2</text>\n<text text-anchor=\"middle\" x=\"258.5\" y=\"-22.8\" font-family=\"Helvetica,sans-Serif\" font-size=\"14.00\" fill=\"#000000\">value = [0, 2]</text>\n<text text-anchor=\"middle\" x=\"258.5\" y=\"-7.8\" font-family=\"Helvetica,sans-Serif\" font-size=\"14.00\" fill=\"#000000\">class = 1</text>\n</g>\n<!-- 1&#45;&gt;3 -->\n<g id=\"edge3\" class=\"edge\">\n<title>1&#45;&gt;3</title>\n<path fill=\"none\" stroke=\"#000000\" d=\"M195.7363,-103.9815C203.9791,-94.7908 212.7178,-85.0472 220.9721,-75.8436\"/>\n<polygon fill=\"#000000\" stroke=\"#000000\" points=\"223.6991,-78.0451 227.7702,-68.2637 218.4879,-73.3714 223.6991,-78.0451\"/>\n</g>\n<!-- 5 -->\n<g id=\"node6\" class=\"node\">\n<title>5</title>\n<polygon fill=\"#4ea7e8\" stroke=\"#000000\" points=\"483,-68 376,-68 376,0 483,0 483,-68\"/>\n<text text-anchor=\"middle\" x=\"429.5\" y=\"-52.8\" font-family=\"Helvetica,sans-Serif\" font-size=\"14.00\" fill=\"#000000\">gini = 0.172</text>\n<text text-anchor=\"middle\" x=\"429.5\" y=\"-37.8\" font-family=\"Helvetica,sans-Serif\" font-size=\"14.00\" fill=\"#000000\">samples = 21</text>\n<text text-anchor=\"middle\" x=\"429.5\" y=\"-22.8\" font-family=\"Helvetica,sans-Serif\" font-size=\"14.00\" fill=\"#000000\">value = [2, 19]</text>\n<text text-anchor=\"middle\" x=\"429.5\" y=\"-7.8\" font-family=\"Helvetica,sans-Serif\" font-size=\"14.00\" fill=\"#000000\">class = 1</text>\n</g>\n<!-- 4&#45;&gt;5 -->\n<g id=\"edge5\" class=\"edge\">\n<title>4&#45;&gt;5</title>\n<path fill=\"none\" stroke=\"#000000\" d=\"M460.8818,-103.9815C457.0078,-95.3423 452.9145,-86.2144 449.0094,-77.5059\"/>\n<polygon fill=\"#000000\" stroke=\"#000000\" points=\"452.1503,-75.9561 444.8649,-68.2637 445.7631,-78.8204 452.1503,-75.9561\"/>\n</g>\n<!-- 6 -->\n<g id=\"node7\" class=\"node\">\n<title>6</title>\n<polygon fill=\"#e58139\" stroke=\"#000000\" points=\"600,-68 501,-68 501,0 600,0 600,-68\"/>\n<text text-anchor=\"middle\" x=\"550.5\" y=\"-52.8\" font-family=\"Helvetica,sans-Serif\" font-size=\"14.00\" fill=\"#000000\">gini = 0.0</text>\n<text text-anchor=\"middle\" x=\"550.5\" y=\"-37.8\" font-family=\"Helvetica,sans-Serif\" font-size=\"14.00\" fill=\"#000000\">samples = 1</text>\n<text text-anchor=\"middle\" x=\"550.5\" y=\"-22.8\" font-family=\"Helvetica,sans-Serif\" font-size=\"14.00\" fill=\"#000000\">value = [1, 0]</text>\n<text text-anchor=\"middle\" x=\"550.5\" y=\"-7.8\" font-family=\"Helvetica,sans-Serif\" font-size=\"14.00\" fill=\"#000000\">class = 0</text>\n</g>\n<!-- 4&#45;&gt;6 -->\n<g id=\"edge6\" class=\"edge\">\n<title>4&#45;&gt;6</title>\n<path fill=\"none\" stroke=\"#000000\" d=\"M505.9378,-103.9815C511.556,-95.1585 517.4988,-85.8258 523.1503,-76.9506\"/>\n<polygon fill=\"#000000\" stroke=\"#000000\" points=\"526.2629,-78.5787 528.6819,-68.2637 520.3584,-74.8188 526.2629,-78.5787\"/>\n</g>\n</g>\n</svg>\n"
          },
          "metadata": {}
        },
        {
          "output_type": "stream",
          "name": "stdout",
          "text": [
            "載入資料筆數：208\n",
            "----------------------------------------------------------------------------------------------------\n",
            "Filter 聲因6 == 1 len = 45\n",
            "----------------------------------------------------------------------------------------------------\n",
            "x ['法院是否認為原監護輔助人「年事已高」', '法院是否認為原監護輔助人「身體不堪負荷」', '法院是否認為原監護輔助人「盜領存款」', '法院是否認為原監護輔助人「不當處理本人之不動產」', '原監護輔助人是否與本人有「利害關係」', '法院是否認為原監護輔助人有「其他不當行為」', '監護輔助人是本人之「實際照顧者」', '監護輔助人是否為本人「廣義照顧者」', '原監護輔助人是否有意願續任', '專業人士訪視報告之「改定建議」', '本人之「改定建議」', '其他親屬、關係人之「改定建議」']\n",
            "y 原監護輔助人是否被法院改定\n",
            "預測 [1 1 1 0 1 0 0 1 1]\n",
            "標準答案 [1 0 1 0 1 0 0 1 1]\n",
            "績效 0.8888888888888888\n",
            "|--- feature_8 <= 0.50\n",
            "|   |--- feature_7 <= 0.50\n",
            "|   |   |--- class: 1\n",
            "|   |--- feature_7 >  0.50\n",
            "|   |   |--- class: 0\n",
            "|--- feature_8 >  0.50\n",
            "|   |--- feature_4 <= 0.50\n",
            "|   |   |--- class: 0\n",
            "|   |--- feature_4 >  0.50\n",
            "|   |   |--- class: 1\n",
            "\n"
          ]
        },
        {
          "output_type": "display_data",
          "data": {
            "text/plain": [
              "<graphviz.files.Source at 0x7faa53fc3790>"
            ],
            "image/svg+xml": "<?xml version=\"1.0\" encoding=\"UTF-8\" standalone=\"no\"?>\n<!DOCTYPE svg PUBLIC \"-//W3C//DTD SVG 1.1//EN\"\n \"http://www.w3.org/Graphics/SVG/1.1/DTD/svg11.dtd\">\n<!-- Generated by graphviz version 2.40.1 (20161225.0304)\n -->\n<!-- Title: Tree Pages: 1 -->\n<svg width=\"646pt\" height=\"314pt\"\n viewBox=\"0.00 0.00 646.00 314.00\" xmlns=\"http://www.w3.org/2000/svg\" xmlns:xlink=\"http://www.w3.org/1999/xlink\">\n<g id=\"graph0\" class=\"graph\" transform=\"scale(1 1) rotate(0) translate(4 310)\">\n<title>Tree</title>\n<polygon fill=\"#ffffff\" stroke=\"transparent\" points=\"-4,4 -4,-310 642,-310 642,4 -4,4\"/>\n<!-- 0 -->\n<g id=\"node1\" class=\"node\">\n<title>0</title>\n<polygon fill=\"#a9d4f4\" stroke=\"#000000\" points=\"438.5,-306 192.5,-306 192.5,-223 438.5,-223 438.5,-306\"/>\n<text text-anchor=\"middle\" x=\"315.5\" y=\"-290.8\" font-family=\"Helvetica,sans-Serif\" font-size=\"14.00\" fill=\"#000000\">原監護輔助人是否有意願續任 &lt;= 0.5</text>\n<text text-anchor=\"middle\" x=\"315.5\" y=\"-275.8\" font-family=\"Helvetica,sans-Serif\" font-size=\"14.00\" fill=\"#000000\">gini = 0.461</text>\n<text text-anchor=\"middle\" x=\"315.5\" y=\"-260.8\" font-family=\"Helvetica,sans-Serif\" font-size=\"14.00\" fill=\"#000000\">samples = 36</text>\n<text text-anchor=\"middle\" x=\"315.5\" y=\"-245.8\" font-family=\"Helvetica,sans-Serif\" font-size=\"14.00\" fill=\"#000000\">value = [13, 23]</text>\n<text text-anchor=\"middle\" x=\"315.5\" y=\"-230.8\" font-family=\"Helvetica,sans-Serif\" font-size=\"14.00\" fill=\"#000000\">class = 1</text>\n</g>\n<!-- 1 -->\n<g id=\"node2\" class=\"node\">\n<title>1</title>\n<polygon fill=\"#4ba6e7\" stroke=\"#000000\" points=\"303,-187 0,-187 0,-104 303,-104 303,-187\"/>\n<text text-anchor=\"middle\" x=\"151.5\" y=\"-171.8\" font-family=\"Helvetica,sans-Serif\" font-size=\"14.00\" fill=\"#000000\">監護輔助人是否為本人「廣義照顧者」 &lt;= 0.5</text>\n<text text-anchor=\"middle\" x=\"151.5\" y=\"-156.8\" font-family=\"Helvetica,sans-Serif\" font-size=\"14.00\" fill=\"#000000\">gini = 0.153</text>\n<text text-anchor=\"middle\" x=\"151.5\" y=\"-141.8\" font-family=\"Helvetica,sans-Serif\" font-size=\"14.00\" fill=\"#000000\">samples = 24</text>\n<text text-anchor=\"middle\" x=\"151.5\" y=\"-126.8\" font-family=\"Helvetica,sans-Serif\" font-size=\"14.00\" fill=\"#000000\">value = [2, 22]</text>\n<text text-anchor=\"middle\" x=\"151.5\" y=\"-111.8\" font-family=\"Helvetica,sans-Serif\" font-size=\"14.00\" fill=\"#000000\">class = 1</text>\n</g>\n<!-- 0&#45;&gt;1 -->\n<g id=\"edge1\" class=\"edge\">\n<title>0&#45;&gt;1</title>\n<path fill=\"none\" stroke=\"#000000\" d=\"M258.1408,-222.8796C244.9075,-213.2774 230.7303,-202.9903 217.1736,-193.1534\"/>\n<polygon fill=\"#000000\" stroke=\"#000000\" points=\"218.9762,-190.1371 208.8269,-187.0969 214.8651,-195.8027 218.9762,-190.1371\"/>\n<text text-anchor=\"middle\" x=\"212.7528\" y=\"-208.0867\" font-family=\"Helvetica,sans-Serif\" font-size=\"14.00\" fill=\"#000000\">True</text>\n</g>\n<!-- 4 -->\n<g id=\"node5\" class=\"node\">\n<title>4</title>\n<polygon fill=\"#e78c4b\" stroke=\"#000000\" points=\"638,-187 321,-187 321,-104 638,-104 638,-187\"/>\n<text text-anchor=\"middle\" x=\"479.5\" y=\"-171.8\" font-family=\"Helvetica,sans-Serif\" font-size=\"14.00\" fill=\"#000000\">原監護輔助人是否與本人有「利害關係」 &lt;= 0.5</text>\n<text text-anchor=\"middle\" x=\"479.5\" y=\"-156.8\" font-family=\"Helvetica,sans-Serif\" font-size=\"14.00\" fill=\"#000000\">gini = 0.153</text>\n<text text-anchor=\"middle\" x=\"479.5\" y=\"-141.8\" font-family=\"Helvetica,sans-Serif\" font-size=\"14.00\" fill=\"#000000\">samples = 12</text>\n<text text-anchor=\"middle\" x=\"479.5\" y=\"-126.8\" font-family=\"Helvetica,sans-Serif\" font-size=\"14.00\" fill=\"#000000\">value = [11, 1]</text>\n<text text-anchor=\"middle\" x=\"479.5\" y=\"-111.8\" font-family=\"Helvetica,sans-Serif\" font-size=\"14.00\" fill=\"#000000\">class = 0</text>\n</g>\n<!-- 0&#45;&gt;4 -->\n<g id=\"edge4\" class=\"edge\">\n<title>0&#45;&gt;4</title>\n<path fill=\"none\" stroke=\"#000000\" d=\"M372.8592,-222.8796C386.0925,-213.2774 400.2697,-202.9903 413.8264,-193.1534\"/>\n<polygon fill=\"#000000\" stroke=\"#000000\" points=\"416.1349,-195.8027 422.1731,-187.0969 412.0238,-190.1371 416.1349,-195.8027\"/>\n<text text-anchor=\"middle\" x=\"418.2472\" y=\"-208.0867\" font-family=\"Helvetica,sans-Serif\" font-size=\"14.00\" fill=\"#000000\">False</text>\n</g>\n<!-- 2 -->\n<g id=\"node3\" class=\"node\">\n<title>2</title>\n<polygon fill=\"#42a2e6\" stroke=\"#000000\" points=\"188,-68 81,-68 81,0 188,0 188,-68\"/>\n<text text-anchor=\"middle\" x=\"134.5\" y=\"-52.8\" font-family=\"Helvetica,sans-Serif\" font-size=\"14.00\" fill=\"#000000\">gini = 0.087</text>\n<text text-anchor=\"middle\" x=\"134.5\" y=\"-37.8\" font-family=\"Helvetica,sans-Serif\" font-size=\"14.00\" fill=\"#000000\">samples = 22</text>\n<text text-anchor=\"middle\" x=\"134.5\" y=\"-22.8\" font-family=\"Helvetica,sans-Serif\" font-size=\"14.00\" fill=\"#000000\">value = [1, 21]</text>\n<text text-anchor=\"middle\" x=\"134.5\" y=\"-7.8\" font-family=\"Helvetica,sans-Serif\" font-size=\"14.00\" fill=\"#000000\">class = 1</text>\n</g>\n<!-- 1&#45;&gt;2 -->\n<g id=\"edge2\" class=\"edge\">\n<title>1&#45;&gt;2</title>\n<path fill=\"none\" stroke=\"#000000\" d=\"M145.1698,-103.9815C143.8947,-95.618 142.5497,-86.7965 141.2605,-78.3409\"/>\n<polygon fill=\"#000000\" stroke=\"#000000\" points=\"144.6914,-77.6219 139.7241,-68.2637 137.7714,-78.677 144.6914,-77.6219\"/>\n</g>\n<!-- 3 -->\n<g id=\"node4\" class=\"node\">\n<title>3</title>\n<polygon fill=\"#ffffff\" stroke=\"#000000\" points=\"305,-68 206,-68 206,0 305,0 305,-68\"/>\n<text text-anchor=\"middle\" x=\"255.5\" y=\"-52.8\" font-family=\"Helvetica,sans-Serif\" font-size=\"14.00\" fill=\"#000000\">gini = 0.5</text>\n<text text-anchor=\"middle\" x=\"255.5\" y=\"-37.8\" font-family=\"Helvetica,sans-Serif\" font-size=\"14.00\" fill=\"#000000\">samples = 2</text>\n<text text-anchor=\"middle\" x=\"255.5\" y=\"-22.8\" font-family=\"Helvetica,sans-Serif\" font-size=\"14.00\" fill=\"#000000\">value = [1, 1]</text>\n<text text-anchor=\"middle\" x=\"255.5\" y=\"-7.8\" font-family=\"Helvetica,sans-Serif\" font-size=\"14.00\" fill=\"#000000\">class = 0</text>\n</g>\n<!-- 1&#45;&gt;3 -->\n<g id=\"edge3\" class=\"edge\">\n<title>1&#45;&gt;3</title>\n<path fill=\"none\" stroke=\"#000000\" d=\"M190.2258,-103.9815C198.7982,-94.7908 207.8865,-85.0472 216.471,-75.8436\"/>\n<polygon fill=\"#000000\" stroke=\"#000000\" points=\"219.2796,-77.9637 223.5411,-68.2637 214.1607,-73.1891 219.2796,-77.9637\"/>\n</g>\n<!-- 5 -->\n<g id=\"node6\" class=\"node\">\n<title>5</title>\n<polygon fill=\"#e58139\" stroke=\"#000000\" points=\"481,-68 374,-68 374,0 481,0 481,-68\"/>\n<text text-anchor=\"middle\" x=\"427.5\" y=\"-52.8\" font-family=\"Helvetica,sans-Serif\" font-size=\"14.00\" fill=\"#000000\">gini = 0.0</text>\n<text text-anchor=\"middle\" x=\"427.5\" y=\"-37.8\" font-family=\"Helvetica,sans-Serif\" font-size=\"14.00\" fill=\"#000000\">samples = 11</text>\n<text text-anchor=\"middle\" x=\"427.5\" y=\"-22.8\" font-family=\"Helvetica,sans-Serif\" font-size=\"14.00\" fill=\"#000000\">value = [11, 0]</text>\n<text text-anchor=\"middle\" x=\"427.5\" y=\"-7.8\" font-family=\"Helvetica,sans-Serif\" font-size=\"14.00\" fill=\"#000000\">class = 0</text>\n</g>\n<!-- 4&#45;&gt;5 -->\n<g id=\"edge5\" class=\"edge\">\n<title>4&#45;&gt;5</title>\n<path fill=\"none\" stroke=\"#000000\" d=\"M460.1371,-103.9815C456.1081,-95.3423 451.8511,-86.2144 447.7897,-77.5059\"/>\n<polygon fill=\"#000000\" stroke=\"#000000\" points=\"450.8782,-75.8472 443.4795,-68.2637 444.5341,-78.8059 450.8782,-75.8472\"/>\n</g>\n<!-- 6 -->\n<g id=\"node7\" class=\"node\">\n<title>6</title>\n<polygon fill=\"#399de5\" stroke=\"#000000\" points=\"598,-68 499,-68 499,0 598,0 598,-68\"/>\n<text text-anchor=\"middle\" x=\"548.5\" y=\"-52.8\" font-family=\"Helvetica,sans-Serif\" font-size=\"14.00\" fill=\"#000000\">gini = 0.0</text>\n<text text-anchor=\"middle\" x=\"548.5\" y=\"-37.8\" font-family=\"Helvetica,sans-Serif\" font-size=\"14.00\" fill=\"#000000\">samples = 1</text>\n<text text-anchor=\"middle\" x=\"548.5\" y=\"-22.8\" font-family=\"Helvetica,sans-Serif\" font-size=\"14.00\" fill=\"#000000\">value = [0, 1]</text>\n<text text-anchor=\"middle\" x=\"548.5\" y=\"-7.8\" font-family=\"Helvetica,sans-Serif\" font-size=\"14.00\" fill=\"#000000\">class = 1</text>\n</g>\n<!-- 4&#45;&gt;6 -->\n<g id=\"edge6\" class=\"edge\">\n<title>4&#45;&gt;6</title>\n<path fill=\"none\" stroke=\"#000000\" d=\"M505.1931,-103.9815C510.6531,-95.1585 516.4284,-85.8258 521.9207,-76.9506\"/>\n<polygon fill=\"#000000\" stroke=\"#000000\" points=\"525.0104,-78.609 527.2965,-68.2637 519.058,-74.9254 525.0104,-78.609\"/>\n</g>\n</g>\n</svg>\n"
          },
          "metadata": {}
        },
        {
          "output_type": "stream",
          "name": "stdout",
          "text": [
            "載入資料筆數：208\n",
            "----------------------------------------------------------------------------------------------------\n",
            "Filter 聲因7 == 1 len = 37\n",
            "----------------------------------------------------------------------------------------------------\n",
            "x ['法院是否認為原監護輔助人「年事已高」', '法院是否認為原監護輔助人「身體不堪負荷」', '法院是否認為原監護輔助人「盜領存款」', '法院是否認為原監護輔助人「不當處理本人之不動產」', '原監護輔助人是否與本人有「利害關係」', '法院是否認為原監護輔助人有「其他不當行為」', '監護輔助人是本人之「實際照顧者」', '監護輔助人是否為本人「廣義照顧者」', '原監護輔助人是否有意願續任', '專業人士訪視報告之「改定建議」', '本人之「改定建議」', '其他親屬、關係人之「改定建議」']\n",
            "y 原監護輔助人是否被法院改定\n",
            "預測 [1 1 1 1 1 1 1 1]\n",
            "標準答案 [1 1 1 1 1 1 1 1]\n",
            "績效 1.0\n",
            "|--- feature_6 <= 0.50\n",
            "|   |--- feature_11 <= 0.50\n",
            "|   |   |--- class: 1\n",
            "|   |--- feature_11 >  0.50\n",
            "|   |   |--- class: 1\n",
            "|--- feature_6 >  0.50\n",
            "|   |--- class: 0\n",
            "\n"
          ]
        },
        {
          "output_type": "display_data",
          "data": {
            "text/plain": [
              "<graphviz.files.Source at 0x7faa53e0c190>"
            ],
            "image/svg+xml": "<?xml version=\"1.0\" encoding=\"UTF-8\" standalone=\"no\"?>\n<!DOCTYPE svg PUBLIC \"-//W3C//DTD SVG 1.1//EN\"\n \"http://www.w3.org/Graphics/SVG/1.1/DTD/svg11.dtd\">\n<!-- Generated by graphviz version 2.40.1 (20161225.0304)\n -->\n<!-- Title: Tree Pages: 1 -->\n<svg width=\"400pt\" height=\"314pt\"\n viewBox=\"0.00 0.00 400.00 314.00\" xmlns=\"http://www.w3.org/2000/svg\" xmlns:xlink=\"http://www.w3.org/1999/xlink\">\n<g id=\"graph0\" class=\"graph\" transform=\"scale(1 1) rotate(0) translate(4 310)\">\n<title>Tree</title>\n<polygon fill=\"#ffffff\" stroke=\"transparent\" points=\"-4,4 -4,-310 396,-310 396,4 -4,4\"/>\n<!-- 0 -->\n<g id=\"node1\" class=\"node\">\n<title>0</title>\n<polygon fill=\"#50a8e8\" stroke=\"#000000\" points=\"384,-306 95,-306 95,-223 384,-223 384,-306\"/>\n<text text-anchor=\"middle\" x=\"239.5\" y=\"-290.8\" font-family=\"Helvetica,sans-Serif\" font-size=\"14.00\" fill=\"#000000\">監護輔助人是本人之「實際照顧者」 &lt;= 0.5</text>\n<text text-anchor=\"middle\" x=\"239.5\" y=\"-275.8\" font-family=\"Helvetica,sans-Serif\" font-size=\"14.00\" fill=\"#000000\">gini = 0.185</text>\n<text text-anchor=\"middle\" x=\"239.5\" y=\"-260.8\" font-family=\"Helvetica,sans-Serif\" font-size=\"14.00\" fill=\"#000000\">samples = 29</text>\n<text text-anchor=\"middle\" x=\"239.5\" y=\"-245.8\" font-family=\"Helvetica,sans-Serif\" font-size=\"14.00\" fill=\"#000000\">value = [3, 26]</text>\n<text text-anchor=\"middle\" x=\"239.5\" y=\"-230.8\" font-family=\"Helvetica,sans-Serif\" font-size=\"14.00\" fill=\"#000000\">class = 1</text>\n</g>\n<!-- 1 -->\n<g id=\"node2\" class=\"node\">\n<title>1</title>\n<polygon fill=\"#41a1e6\" stroke=\"#000000\" points=\"275,-187 0,-187 0,-104 275,-104 275,-187\"/>\n<text text-anchor=\"middle\" x=\"137.5\" y=\"-171.8\" font-family=\"Helvetica,sans-Serif\" font-size=\"14.00\" fill=\"#000000\">其他親屬、關係人之「改定建議」 &lt;= 0.5</text>\n<text text-anchor=\"middle\" x=\"137.5\" y=\"-156.8\" font-family=\"Helvetica,sans-Serif\" font-size=\"14.00\" fill=\"#000000\">gini = 0.071</text>\n<text text-anchor=\"middle\" x=\"137.5\" y=\"-141.8\" font-family=\"Helvetica,sans-Serif\" font-size=\"14.00\" fill=\"#000000\">samples = 27</text>\n<text text-anchor=\"middle\" x=\"137.5\" y=\"-126.8\" font-family=\"Helvetica,sans-Serif\" font-size=\"14.00\" fill=\"#000000\">value = [1, 26]</text>\n<text text-anchor=\"middle\" x=\"137.5\" y=\"-111.8\" font-family=\"Helvetica,sans-Serif\" font-size=\"14.00\" fill=\"#000000\">class = 1</text>\n</g>\n<!-- 0&#45;&gt;1 -->\n<g id=\"edge1\" class=\"edge\">\n<title>0&#45;&gt;1</title>\n<path fill=\"none\" stroke=\"#000000\" d=\"M203.8253,-222.8796C196.1057,-213.8733 187.8695,-204.2644 179.9197,-194.9897\"/>\n<polygon fill=\"#000000\" stroke=\"#000000\" points=\"182.4923,-192.6129 173.3269,-187.2981 177.1775,-197.1684 182.4923,-192.6129\"/>\n<text text-anchor=\"middle\" x=\"171.4095\" y=\"-208.5244\" font-family=\"Helvetica,sans-Serif\" font-size=\"14.00\" fill=\"#000000\">True</text>\n</g>\n<!-- 4 -->\n<g id=\"node5\" class=\"node\">\n<title>4</title>\n<polygon fill=\"#e58139\" stroke=\"#000000\" points=\"392,-179.5 293,-179.5 293,-111.5 392,-111.5 392,-179.5\"/>\n<text text-anchor=\"middle\" x=\"342.5\" y=\"-164.3\" font-family=\"Helvetica,sans-Serif\" font-size=\"14.00\" fill=\"#000000\">gini = 0.0</text>\n<text text-anchor=\"middle\" x=\"342.5\" y=\"-149.3\" font-family=\"Helvetica,sans-Serif\" font-size=\"14.00\" fill=\"#000000\">samples = 2</text>\n<text text-anchor=\"middle\" x=\"342.5\" y=\"-134.3\" font-family=\"Helvetica,sans-Serif\" font-size=\"14.00\" fill=\"#000000\">value = [2, 0]</text>\n<text text-anchor=\"middle\" x=\"342.5\" y=\"-119.3\" font-family=\"Helvetica,sans-Serif\" font-size=\"14.00\" fill=\"#000000\">class = 0</text>\n</g>\n<!-- 0&#45;&gt;4 -->\n<g id=\"edge4\" class=\"edge\">\n<title>0&#45;&gt;4</title>\n<path fill=\"none\" stroke=\"#000000\" d=\"M275.5244,-222.8796C285.4227,-211.4436 296.1619,-199.0363 306.0822,-187.575\"/>\n<polygon fill=\"#000000\" stroke=\"#000000\" points=\"308.9007,-189.6666 312.7988,-179.8149 303.6079,-185.0855 308.9007,-189.6666\"/>\n<text text-anchor=\"middle\" x=\"314.596\" y=\"-201.0503\" font-family=\"Helvetica,sans-Serif\" font-size=\"14.00\" fill=\"#000000\">False</text>\n</g>\n<!-- 2 -->\n<g id=\"node3\" class=\"node\">\n<title>2</title>\n<polygon fill=\"#4da7e8\" stroke=\"#000000\" points=\"129,-68 22,-68 22,0 129,0 129,-68\"/>\n<text text-anchor=\"middle\" x=\"75.5\" y=\"-52.8\" font-family=\"Helvetica,sans-Serif\" font-size=\"14.00\" fill=\"#000000\">gini = 0.165</text>\n<text text-anchor=\"middle\" x=\"75.5\" y=\"-37.8\" font-family=\"Helvetica,sans-Serif\" font-size=\"14.00\" fill=\"#000000\">samples = 11</text>\n<text text-anchor=\"middle\" x=\"75.5\" y=\"-22.8\" font-family=\"Helvetica,sans-Serif\" font-size=\"14.00\" fill=\"#000000\">value = [1, 10]</text>\n<text text-anchor=\"middle\" x=\"75.5\" y=\"-7.8\" font-family=\"Helvetica,sans-Serif\" font-size=\"14.00\" fill=\"#000000\">class = 1</text>\n</g>\n<!-- 1&#45;&gt;2 -->\n<g id=\"edge2\" class=\"edge\">\n<title>1&#45;&gt;2</title>\n<path fill=\"none\" stroke=\"#000000\" d=\"M114.4135,-103.9815C109.5585,-95.2504 104.426,-86.0202 99.5371,-77.2281\"/>\n<polygon fill=\"#000000\" stroke=\"#000000\" points=\"102.4712,-75.3025 94.5524,-68.2637 96.3533,-78.7043 102.4712,-75.3025\"/>\n</g>\n<!-- 3 -->\n<g id=\"node4\" class=\"node\">\n<title>3</title>\n<polygon fill=\"#399de5\" stroke=\"#000000\" points=\"254,-68 147,-68 147,0 254,0 254,-68\"/>\n<text text-anchor=\"middle\" x=\"200.5\" y=\"-52.8\" font-family=\"Helvetica,sans-Serif\" font-size=\"14.00\" fill=\"#000000\">gini = 0.0</text>\n<text text-anchor=\"middle\" x=\"200.5\" y=\"-37.8\" font-family=\"Helvetica,sans-Serif\" font-size=\"14.00\" fill=\"#000000\">samples = 16</text>\n<text text-anchor=\"middle\" x=\"200.5\" y=\"-22.8\" font-family=\"Helvetica,sans-Serif\" font-size=\"14.00\" fill=\"#000000\">value = [0, 16]</text>\n<text text-anchor=\"middle\" x=\"200.5\" y=\"-7.8\" font-family=\"Helvetica,sans-Serif\" font-size=\"14.00\" fill=\"#000000\">class = 1</text>\n</g>\n<!-- 1&#45;&gt;3 -->\n<g id=\"edge3\" class=\"edge\">\n<title>1&#45;&gt;3</title>\n<path fill=\"none\" stroke=\"#000000\" d=\"M160.9589,-103.9815C165.8922,-95.2504 171.1074,-86.0202 176.0752,-77.2281\"/>\n<polygon fill=\"#000000\" stroke=\"#000000\" points=\"179.2681,-78.6918 181.1403,-68.2637 173.1737,-75.2483 179.2681,-78.6918\"/>\n</g>\n</g>\n</svg>\n"
          },
          "metadata": {}
        },
        {
          "output_type": "stream",
          "name": "stdout",
          "text": [
            "載入資料筆數：208\n",
            "----------------------------------------------------------------------------------------------------\n",
            "Filter 聲因8 == 1 len = 105\n",
            "----------------------------------------------------------------------------------------------------\n",
            "x ['法院是否認為原監護輔助人「年事已高」', '法院是否認為原監護輔助人「身體不堪負荷」', '法院是否認為原監護輔助人「盜領存款」', '法院是否認為原監護輔助人「不當處理本人之不動產」', '原監護輔助人是否與本人有「利害關係」', '法院是否認為原監護輔助人有「其他不當行為」', '監護輔助人是本人之「實際照顧者」', '監護輔助人是否為本人「廣義照顧者」', '原監護輔助人是否有意願續任', '專業人士訪視報告之「改定建議」', '本人之「改定建議」', '其他親屬、關係人之「改定建議」']\n",
            "y 原監護輔助人是否被法院改定\n",
            "預測 [1 1 1 0 1 1 1 0 0 1 1 1 1 1 0 0 1 1 0 0 1]\n",
            "標準答案 [1 1 1 0 1 1 1 0 0 1 1 1 1 1 0 0 1 1 0 0 1]\n",
            "績效 1.0\n",
            "|--- feature_8 <= 0.50\n",
            "|   |--- feature_1 <= 0.50\n",
            "|   |   |--- class: 1\n",
            "|   |--- feature_1 >  0.50\n",
            "|   |   |--- class: 1\n",
            "|--- feature_8 >  0.50\n",
            "|   |--- feature_2 <= 0.50\n",
            "|   |   |--- class: 0\n",
            "|   |--- feature_2 >  0.50\n",
            "|   |   |--- class: 1\n",
            "\n"
          ]
        },
        {
          "output_type": "display_data",
          "data": {
            "text/plain": [
              "<graphviz.files.Source at 0x7faa53d41c50>"
            ],
            "image/svg+xml": "<?xml version=\"1.0\" encoding=\"UTF-8\" standalone=\"no\"?>\n<!DOCTYPE svg PUBLIC \"-//W3C//DTD SVG 1.1//EN\"\n \"http://www.w3.org/Graphics/SVG/1.1/DTD/svg11.dtd\">\n<!-- Generated by graphviz version 2.40.1 (20161225.0304)\n -->\n<!-- Title: Tree Pages: 1 -->\n<svg width=\"690pt\" height=\"314pt\"\n viewBox=\"0.00 0.00 689.50 314.00\" xmlns=\"http://www.w3.org/2000/svg\" xmlns:xlink=\"http://www.w3.org/1999/xlink\">\n<g id=\"graph0\" class=\"graph\" transform=\"scale(1 1) rotate(0) translate(4 310)\">\n<title>Tree</title>\n<polygon fill=\"#ffffff\" stroke=\"transparent\" points=\"-4,4 -4,-310 685.5,-310 685.5,4 -4,4\"/>\n<!-- 0 -->\n<g id=\"node1\" class=\"node\">\n<title>0</title>\n<polygon fill=\"#88c4ef\" stroke=\"#000000\" points=\"471,-306 225,-306 225,-223 471,-223 471,-306\"/>\n<text text-anchor=\"middle\" x=\"348\" y=\"-290.8\" font-family=\"Helvetica,sans-Serif\" font-size=\"14.00\" fill=\"#000000\">原監護輔助人是否有意願續任 &lt;= 0.5</text>\n<text text-anchor=\"middle\" x=\"348\" y=\"-275.8\" font-family=\"Helvetica,sans-Serif\" font-size=\"14.00\" fill=\"#000000\">gini = 0.408</text>\n<text text-anchor=\"middle\" x=\"348\" y=\"-260.8\" font-family=\"Helvetica,sans-Serif\" font-size=\"14.00\" fill=\"#000000\">samples = 84</text>\n<text text-anchor=\"middle\" x=\"348\" y=\"-245.8\" font-family=\"Helvetica,sans-Serif\" font-size=\"14.00\" fill=\"#000000\">value = [24, 60]</text>\n<text text-anchor=\"middle\" x=\"348\" y=\"-230.8\" font-family=\"Helvetica,sans-Serif\" font-size=\"14.00\" fill=\"#000000\">class = 1</text>\n</g>\n<!-- 1 -->\n<g id=\"node2\" class=\"node\">\n<title>1</title>\n<polygon fill=\"#47a4e7\" stroke=\"#000000\" points=\"346,-187 0,-187 0,-104 346,-104 346,-187\"/>\n<text text-anchor=\"middle\" x=\"173\" y=\"-171.8\" font-family=\"Helvetica,sans-Serif\" font-size=\"14.00\" fill=\"#000000\">法院是否認為原監護輔助人「身體不堪負荷」 &lt;= 0.5</text>\n<text text-anchor=\"middle\" x=\"173\" y=\"-156.8\" font-family=\"Helvetica,sans-Serif\" font-size=\"14.00\" fill=\"#000000\">gini = 0.123</text>\n<text text-anchor=\"middle\" x=\"173\" y=\"-141.8\" font-family=\"Helvetica,sans-Serif\" font-size=\"14.00\" fill=\"#000000\">samples = 61</text>\n<text text-anchor=\"middle\" x=\"173\" y=\"-126.8\" font-family=\"Helvetica,sans-Serif\" font-size=\"14.00\" fill=\"#000000\">value = [4, 57]</text>\n<text text-anchor=\"middle\" x=\"173\" y=\"-111.8\" font-family=\"Helvetica,sans-Serif\" font-size=\"14.00\" fill=\"#000000\">class = 1</text>\n</g>\n<!-- 0&#45;&gt;1 -->\n<g id=\"edge1\" class=\"edge\">\n<title>0&#45;&gt;1</title>\n<path fill=\"none\" stroke=\"#000000\" d=\"M286.7935,-222.8796C272.5394,-213.1868 257.259,-202.7961 242.6693,-192.8752\"/>\n<polygon fill=\"#000000\" stroke=\"#000000\" points=\"244.4093,-189.8258 234.1719,-187.0969 240.4731,-195.6143 244.4093,-189.8258\"/>\n<text text-anchor=\"middle\" x=\"238.8498\" y=\"-207.9554\" font-family=\"Helvetica,sans-Serif\" font-size=\"14.00\" fill=\"#000000\">True</text>\n</g>\n<!-- 4 -->\n<g id=\"node5\" class=\"node\">\n<title>4</title>\n<polygon fill=\"#e99457\" stroke=\"#000000\" points=\"681.5,-187 364.5,-187 364.5,-104 681.5,-104 681.5,-187\"/>\n<text text-anchor=\"middle\" x=\"523\" y=\"-171.8\" font-family=\"Helvetica,sans-Serif\" font-size=\"14.00\" fill=\"#000000\">法院是否認為原監護輔助人「盜領存款」 &lt;= 0.5</text>\n<text text-anchor=\"middle\" x=\"523\" y=\"-156.8\" font-family=\"Helvetica,sans-Serif\" font-size=\"14.00\" fill=\"#000000\">gini = 0.227</text>\n<text text-anchor=\"middle\" x=\"523\" y=\"-141.8\" font-family=\"Helvetica,sans-Serif\" font-size=\"14.00\" fill=\"#000000\">samples = 23</text>\n<text text-anchor=\"middle\" x=\"523\" y=\"-126.8\" font-family=\"Helvetica,sans-Serif\" font-size=\"14.00\" fill=\"#000000\">value = [20, 3]</text>\n<text text-anchor=\"middle\" x=\"523\" y=\"-111.8\" font-family=\"Helvetica,sans-Serif\" font-size=\"14.00\" fill=\"#000000\">class = 0</text>\n</g>\n<!-- 0&#45;&gt;4 -->\n<g id=\"edge4\" class=\"edge\">\n<title>0&#45;&gt;4</title>\n<path fill=\"none\" stroke=\"#000000\" d=\"M409.2065,-222.8796C423.4606,-213.1868 438.741,-202.7961 453.3307,-192.8752\"/>\n<polygon fill=\"#000000\" stroke=\"#000000\" points=\"455.5269,-195.6143 461.8281,-187.0969 451.5907,-189.8258 455.5269,-195.6143\"/>\n<text text-anchor=\"middle\" x=\"457.1502\" y=\"-207.9554\" font-family=\"Helvetica,sans-Serif\" font-size=\"14.00\" fill=\"#000000\">False</text>\n</g>\n<!-- 2 -->\n<g id=\"node3\" class=\"node\">\n<title>2</title>\n<polygon fill=\"#4ea7e8\" stroke=\"#000000\" points=\"216.5,-68 109.5,-68 109.5,0 216.5,0 216.5,-68\"/>\n<text text-anchor=\"middle\" x=\"163\" y=\"-52.8\" font-family=\"Helvetica,sans-Serif\" font-size=\"14.00\" fill=\"#000000\">gini = 0.172</text>\n<text text-anchor=\"middle\" x=\"163\" y=\"-37.8\" font-family=\"Helvetica,sans-Serif\" font-size=\"14.00\" fill=\"#000000\">samples = 42</text>\n<text text-anchor=\"middle\" x=\"163\" y=\"-22.8\" font-family=\"Helvetica,sans-Serif\" font-size=\"14.00\" fill=\"#000000\">value = [4, 38]</text>\n<text text-anchor=\"middle\" x=\"163\" y=\"-7.8\" font-family=\"Helvetica,sans-Serif\" font-size=\"14.00\" fill=\"#000000\">class = 1</text>\n</g>\n<!-- 1&#45;&gt;2 -->\n<g id=\"edge2\" class=\"edge\">\n<title>1&#45;&gt;2</title>\n<path fill=\"none\" stroke=\"#000000\" d=\"M169.2764,-103.9815C168.5263,-95.618 167.7351,-86.7965 166.9768,-78.3409\"/>\n<polygon fill=\"#000000\" stroke=\"#000000\" points=\"170.4523,-77.911 166.073,-68.2637 163.4803,-78.5364 170.4523,-77.911\"/>\n</g>\n<!-- 3 -->\n<g id=\"node4\" class=\"node\">\n<title>3</title>\n<polygon fill=\"#399de5\" stroke=\"#000000\" points=\"341.5,-68 234.5,-68 234.5,0 341.5,0 341.5,-68\"/>\n<text text-anchor=\"middle\" x=\"288\" y=\"-52.8\" font-family=\"Helvetica,sans-Serif\" font-size=\"14.00\" fill=\"#000000\">gini = 0.0</text>\n<text text-anchor=\"middle\" x=\"288\" y=\"-37.8\" font-family=\"Helvetica,sans-Serif\" font-size=\"14.00\" fill=\"#000000\">samples = 19</text>\n<text text-anchor=\"middle\" x=\"288\" y=\"-22.8\" font-family=\"Helvetica,sans-Serif\" font-size=\"14.00\" fill=\"#000000\">value = [0, 19]</text>\n<text text-anchor=\"middle\" x=\"288\" y=\"-7.8\" font-family=\"Helvetica,sans-Serif\" font-size=\"14.00\" fill=\"#000000\">class = 1</text>\n</g>\n<!-- 1&#45;&gt;3 -->\n<g id=\"edge3\" class=\"edge\">\n<title>1&#45;&gt;3</title>\n<path fill=\"none\" stroke=\"#000000\" d=\"M215.8218,-103.9815C225.4905,-94.607 235.7527,-84.6572 245.4118,-75.2921\"/>\n<polygon fill=\"#000000\" stroke=\"#000000\" points=\"247.9176,-77.7375 252.6608,-68.2637 243.0449,-72.7118 247.9176,-77.7375\"/>\n</g>\n<!-- 5 -->\n<g id=\"node6\" class=\"node\">\n<title>5</title>\n<polygon fill=\"#e68743\" stroke=\"#000000\" points=\"521.5,-68 414.5,-68 414.5,0 521.5,0 521.5,-68\"/>\n<text text-anchor=\"middle\" x=\"468\" y=\"-52.8\" font-family=\"Helvetica,sans-Serif\" font-size=\"14.00\" fill=\"#000000\">gini = 0.091</text>\n<text text-anchor=\"middle\" x=\"468\" y=\"-37.8\" font-family=\"Helvetica,sans-Serif\" font-size=\"14.00\" fill=\"#000000\">samples = 21</text>\n<text text-anchor=\"middle\" x=\"468\" y=\"-22.8\" font-family=\"Helvetica,sans-Serif\" font-size=\"14.00\" fill=\"#000000\">value = [20, 1]</text>\n<text text-anchor=\"middle\" x=\"468\" y=\"-7.8\" font-family=\"Helvetica,sans-Serif\" font-size=\"14.00\" fill=\"#000000\">class = 0</text>\n</g>\n<!-- 4&#45;&gt;5 -->\n<g id=\"edge5\" class=\"edge\">\n<title>4&#45;&gt;5</title>\n<path fill=\"none\" stroke=\"#000000\" d=\"M502.52,-103.9815C498.2585,-95.3423 493.756,-86.2144 489.4603,-77.5059\"/>\n<polygon fill=\"#000000\" stroke=\"#000000\" points=\"492.4641,-75.6836 484.9014,-68.2637 486.1863,-78.7803 492.4641,-75.6836\"/>\n</g>\n<!-- 6 -->\n<g id=\"node7\" class=\"node\">\n<title>6</title>\n<polygon fill=\"#399de5\" stroke=\"#000000\" points=\"638.5,-68 539.5,-68 539.5,0 638.5,0 638.5,-68\"/>\n<text text-anchor=\"middle\" x=\"589\" y=\"-52.8\" font-family=\"Helvetica,sans-Serif\" font-size=\"14.00\" fill=\"#000000\">gini = 0.0</text>\n<text text-anchor=\"middle\" x=\"589\" y=\"-37.8\" font-family=\"Helvetica,sans-Serif\" font-size=\"14.00\" fill=\"#000000\">samples = 2</text>\n<text text-anchor=\"middle\" x=\"589\" y=\"-22.8\" font-family=\"Helvetica,sans-Serif\" font-size=\"14.00\" fill=\"#000000\">value = [0, 2]</text>\n<text text-anchor=\"middle\" x=\"589\" y=\"-7.8\" font-family=\"Helvetica,sans-Serif\" font-size=\"14.00\" fill=\"#000000\">class = 1</text>\n</g>\n<!-- 4&#45;&gt;6 -->\n<g id=\"edge6\" class=\"edge\">\n<title>4&#45;&gt;6</title>\n<path fill=\"none\" stroke=\"#000000\" d=\"M547.576,-103.9815C552.7986,-95.1585 558.3229,-85.8258 563.5763,-76.9506\"/>\n<polygon fill=\"#000000\" stroke=\"#000000\" points=\"566.6364,-78.652 568.7184,-68.2637 560.6126,-75.0863 566.6364,-78.652\"/>\n</g>\n</g>\n</svg>\n"
          },
          "metadata": {}
        },
        {
          "output_type": "stream",
          "name": "stdout",
          "text": [
            "載入資料筆數：208\n",
            "----------------------------------------------------------------------------------------------------\n",
            "Filter 聲因9 == 1 len = 14\n",
            "----------------------------------------------------------------------------------------------------\n",
            "x ['法院是否認為原監護輔助人「年事已高」', '法院是否認為原監護輔助人「身體不堪負荷」', '法院是否認為原監護輔助人「盜領存款」', '法院是否認為原監護輔助人「不當處理本人之不動產」', '原監護輔助人是否與本人有「利害關係」', '法院是否認為原監護輔助人有「其他不當行為」', '監護輔助人是本人之「實際照顧者」', '監護輔助人是否為本人「廣義照顧者」', '原監護輔助人是否有意願續任', '專業人士訪視報告之「改定建議」', '本人之「改定建議」', '其他親屬、關係人之「改定建議」']\n",
            "y 原監護輔助人是否被法院改定\n",
            "預測 [1 1 1]\n",
            "標準答案 [1 1 1]\n",
            "績效 1.0\n",
            "|--- class: 0\n",
            "\n"
          ]
        },
        {
          "output_type": "display_data",
          "data": {
            "text/plain": [
              "<graphviz.files.Source at 0x7faa53e0d5d0>"
            ],
            "image/svg+xml": "<?xml version=\"1.0\" encoding=\"UTF-8\" standalone=\"no\"?>\n<!DOCTYPE svg PUBLIC \"-//W3C//DTD SVG 1.1//EN\"\n \"http://www.w3.org/Graphics/SVG/1.1/DTD/svg11.dtd\">\n<!-- Generated by graphviz version 2.40.1 (20161225.0304)\n -->\n<!-- Title: Tree Pages: 1 -->\n<svg width=\"112pt\" height=\"61pt\"\n viewBox=\"0.00 0.00 112.00 61.00\" xmlns=\"http://www.w3.org/2000/svg\" xmlns:xlink=\"http://www.w3.org/1999/xlink\">\n<g id=\"graph0\" class=\"graph\" transform=\"scale(1 1) rotate(0) translate(4 57)\">\n<title>Tree</title>\n<polygon fill=\"#ffffff\" stroke=\"transparent\" points=\"-4,4 -4,-57 108,-57 108,4 -4,4\"/>\n<!-- 0 -->\n<g id=\"node1\" class=\"node\">\n<title>0</title>\n<polygon fill=\"#ffffff\" stroke=\"#000000\" points=\"104,-53 0,-53 0,0 104,0 104,-53\"/>\n<text text-anchor=\"middle\" x=\"52\" y=\"-37.8\" font-family=\"Helvetica,sans-Serif\" font-size=\"14.00\" fill=\"#000000\">gini = 0.0</text>\n<text text-anchor=\"middle\" x=\"52\" y=\"-22.8\" font-family=\"Helvetica,sans-Serif\" font-size=\"14.00\" fill=\"#000000\">samples = 11</text>\n<text text-anchor=\"middle\" x=\"52\" y=\"-7.8\" font-family=\"Helvetica,sans-Serif\" font-size=\"14.00\" fill=\"#000000\">value = 11.0</text>\n</g>\n</g>\n</svg>\n"
          },
          "metadata": {}
        }
      ]
    },
    {
      "cell_type": "markdown",
      "source": [
        "#### 5.1.3 無聲請原因"
      ],
      "metadata": {
        "id": "cPne3NiDFw2B"
      }
    },
    {
      "cell_type": "code",
      "source": [
        "filter_tree(\"聲因1 == 0 & 聲因2 == 0 & 聲因3 == 0 & 聲因4 == 0 & 聲因5 == 0 & 聲因6 == 0 & 聲因7 == 0 & 聲因8 == 0 & 聲因9 == 0\", gsheet_super)"
      ],
      "metadata": {
        "colab": {
          "base_uri": "https://localhost:8080/",
          "height": 544
        },
        "id": "G1ucFtWBF2YY",
        "outputId": "78d6a00e-f477-4ade-a262-0c4bd10117b5"
      },
      "execution_count": null,
      "outputs": [
        {
          "output_type": "stream",
          "name": "stdout",
          "text": [
            "載入資料筆數：208\n",
            "----------------------------------------------------------------------------------------------------\n",
            "Filter 聲因1 == 0 & 聲因2 == 0 & 聲因3 == 0 & 聲因4 == 0 & 聲因5 == 0 & 聲因6 == 0 & 聲因7 == 0 & 聲因8 == 0 & 聲因9 == 0 len = 22\n",
            "----------------------------------------------------------------------------------------------------\n",
            "x ['法院是否認為原監護輔助人「年事已高」', '法院是否認為原監護輔助人「身體不堪負荷」', '法院是否認為原監護輔助人「盜領存款」', '法院是否認為原監護輔助人「不當處理本人之不動產」', '原監護輔助人是否與本人有「利害關係」', '法院是否認為原監護輔助人有「其他不當行為」', '監護輔助人是本人之「實際照顧者」', '監護輔助人是否為本人「廣義照顧者」', '原監護輔助人是否有意願續任', '專業人士訪視報告之「改定建議」', '本人之「改定建議」', '其他親屬、關係人之「改定建議」']\n",
            "y 原監護輔助人是否被法院改定\n",
            "預測 [0 0 0 0 0]\n",
            "標準答案 [0 0 0 0 0]\n",
            "績效 1.0\n",
            "|--- feature_2 <= 0.50\n",
            "|   |--- class: 0\n",
            "|--- feature_2 >  0.50\n",
            "|   |--- class: 1\n",
            "\n"
          ]
        },
        {
          "output_type": "display_data",
          "data": {
            "text/plain": [
              "<graphviz.files.Source at 0x7faa53f49910>"
            ],
            "image/svg+xml": "<?xml version=\"1.0\" encoding=\"UTF-8\" standalone=\"no\"?>\n<!DOCTYPE svg PUBLIC \"-//W3C//DTD SVG 1.1//EN\"\n \"http://www.w3.org/Graphics/SVG/1.1/DTD/svg11.dtd\">\n<!-- Generated by graphviz version 2.40.1 (20161225.0304)\n -->\n<!-- Title: Tree Pages: 1 -->\n<svg width=\"325pt\" height=\"195pt\"\n viewBox=\"0.00 0.00 325.00 195.00\" xmlns=\"http://www.w3.org/2000/svg\" xmlns:xlink=\"http://www.w3.org/1999/xlink\">\n<g id=\"graph0\" class=\"graph\" transform=\"scale(1 1) rotate(0) translate(4 191)\">\n<title>Tree</title>\n<polygon fill=\"#ffffff\" stroke=\"transparent\" points=\"-4,4 -4,-191 321,-191 321,4 -4,4\"/>\n<!-- 0 -->\n<g id=\"node1\" class=\"node\">\n<title>0</title>\n<polygon fill=\"#e78945\" stroke=\"#000000\" points=\"317,-187 0,-187 0,-104 317,-104 317,-187\"/>\n<text text-anchor=\"middle\" x=\"158.5\" y=\"-171.8\" font-family=\"Helvetica,sans-Serif\" font-size=\"14.00\" fill=\"#000000\">法院是否認為原監護輔助人「盜領存款」 &lt;= 0.5</text>\n<text text-anchor=\"middle\" x=\"158.5\" y=\"-156.8\" font-family=\"Helvetica,sans-Serif\" font-size=\"14.00\" fill=\"#000000\">gini = 0.111</text>\n<text text-anchor=\"middle\" x=\"158.5\" y=\"-141.8\" font-family=\"Helvetica,sans-Serif\" font-size=\"14.00\" fill=\"#000000\">samples = 17</text>\n<text text-anchor=\"middle\" x=\"158.5\" y=\"-126.8\" font-family=\"Helvetica,sans-Serif\" font-size=\"14.00\" fill=\"#000000\">value = [16, 1]</text>\n<text text-anchor=\"middle\" x=\"158.5\" y=\"-111.8\" font-family=\"Helvetica,sans-Serif\" font-size=\"14.00\" fill=\"#000000\">class = 0</text>\n</g>\n<!-- 1 -->\n<g id=\"node2\" class=\"node\">\n<title>1</title>\n<polygon fill=\"#e58139\" stroke=\"#000000\" points=\"152,-68 45,-68 45,0 152,0 152,-68\"/>\n<text text-anchor=\"middle\" x=\"98.5\" y=\"-52.8\" font-family=\"Helvetica,sans-Serif\" font-size=\"14.00\" fill=\"#000000\">gini = 0.0</text>\n<text text-anchor=\"middle\" x=\"98.5\" y=\"-37.8\" font-family=\"Helvetica,sans-Serif\" font-size=\"14.00\" fill=\"#000000\">samples = 16</text>\n<text text-anchor=\"middle\" x=\"98.5\" y=\"-22.8\" font-family=\"Helvetica,sans-Serif\" font-size=\"14.00\" fill=\"#000000\">value = [16, 0]</text>\n<text text-anchor=\"middle\" x=\"98.5\" y=\"-7.8\" font-family=\"Helvetica,sans-Serif\" font-size=\"14.00\" fill=\"#000000\">class = 0</text>\n</g>\n<!-- 0&#45;&gt;1 -->\n<g id=\"edge1\" class=\"edge\">\n<title>0&#45;&gt;1</title>\n<path fill=\"none\" stroke=\"#000000\" d=\"M136.1582,-103.9815C131.4598,-95.2504 126.4929,-86.0202 121.7617,-77.2281\"/>\n<polygon fill=\"#000000\" stroke=\"#000000\" points=\"124.7586,-75.4111 116.9379,-68.2637 118.5944,-78.7282 124.7586,-75.4111\"/>\n<text text-anchor=\"middle\" x=\"109.7478\" y=\"-88.5074\" font-family=\"Helvetica,sans-Serif\" font-size=\"14.00\" fill=\"#000000\">True</text>\n</g>\n<!-- 2 -->\n<g id=\"node3\" class=\"node\">\n<title>2</title>\n<polygon fill=\"#399de5\" stroke=\"#000000\" points=\"269,-68 170,-68 170,0 269,0 269,-68\"/>\n<text text-anchor=\"middle\" x=\"219.5\" y=\"-52.8\" font-family=\"Helvetica,sans-Serif\" font-size=\"14.00\" fill=\"#000000\">gini = 0.0</text>\n<text text-anchor=\"middle\" x=\"219.5\" y=\"-37.8\" font-family=\"Helvetica,sans-Serif\" font-size=\"14.00\" fill=\"#000000\">samples = 1</text>\n<text text-anchor=\"middle\" x=\"219.5\" y=\"-22.8\" font-family=\"Helvetica,sans-Serif\" font-size=\"14.00\" fill=\"#000000\">value = [0, 1]</text>\n<text text-anchor=\"middle\" x=\"219.5\" y=\"-7.8\" font-family=\"Helvetica,sans-Serif\" font-size=\"14.00\" fill=\"#000000\">class = 1</text>\n</g>\n<!-- 0&#45;&gt;2 -->\n<g id=\"edge2\" class=\"edge\">\n<title>0&#45;&gt;2</title>\n<path fill=\"none\" stroke=\"#000000\" d=\"M181.2141,-103.9815C185.9908,-95.2504 191.0405,-86.0202 195.8506,-77.2281\"/>\n<polygon fill=\"#000000\" stroke=\"#000000\" points=\"199.0258,-78.7165 200.7549,-68.2637 192.8847,-75.3568 199.0258,-78.7165\"/>\n<text text-anchor=\"middle\" x=\"207.7789\" y=\"-88.5567\" font-family=\"Helvetica,sans-Serif\" font-size=\"14.00\" fill=\"#000000\">False</text>\n</g>\n</g>\n</svg>\n"
          },
          "metadata": {}
        }
      ]
    },
    {
      "cell_type": "markdown",
      "source": [
        "#### 5.1.4 聲請原因：財產相關"
      ],
      "metadata": {
        "id": "exubwh5yDwcP"
      }
    },
    {
      "cell_type": "code",
      "source": [
        "filter_tree(\"聲因3 == 1 | 聲因4 == 1\", gsheet_super)"
      ],
      "metadata": {
        "colab": {
          "base_uri": "https://localhost:8080/",
          "height": 807
        },
        "id": "txxzpG6NECFp",
        "outputId": "6ec22574-b7b3-4ee4-9a51-b86431e16ba8"
      },
      "execution_count": null,
      "outputs": [
        {
          "output_type": "stream",
          "name": "stdout",
          "text": [
            "載入資料筆數：208\n",
            "----------------------------------------------------------------------------------------------------\n",
            "Filter 聲因3 == 1 | 聲因4 == 1 len = 57\n",
            "----------------------------------------------------------------------------------------------------\n",
            "x ['法院是否認為原監護輔助人「年事已高」', '法院是否認為原監護輔助人「身體不堪負荷」', '法院是否認為原監護輔助人「盜領存款」', '法院是否認為原監護輔助人「不當處理本人之不動產」', '原監護輔助人是否與本人有「利害關係」', '法院是否認為原監護輔助人有「其他不當行為」', '監護輔助人是本人之「實際照顧者」', '監護輔助人是否為本人「廣義照顧者」', '原監護輔助人是否有意願續任', '專業人士訪視報告之「改定建議」', '本人之「改定建議」', '其他親屬、關係人之「改定建議」']\n",
            "y 原監護輔助人是否被法院改定\n",
            "預測 [0 1 1 0 0 0 0 1 1 1 0 0]\n",
            "標準答案 [0 0 1 0 1 1 1 1 1 1 1 0]\n",
            "績效 0.5833333333333334\n",
            "|--- feature_3 <= 0.50\n",
            "|   |--- feature_4 <= 0.50\n",
            "|   |   |--- class: 0\n",
            "|   |--- feature_4 >  0.50\n",
            "|   |   |--- class: 1\n",
            "|--- feature_3 >  0.50\n",
            "|   |--- feature_6 <= 0.50\n",
            "|   |   |--- class: 1\n",
            "|   |--- feature_6 >  0.50\n",
            "|   |   |--- class: 0\n",
            "\n"
          ]
        },
        {
          "output_type": "display_data",
          "data": {
            "text/plain": [
              "<graphviz.files.Source at 0x7faa53d3a8d0>"
            ],
            "image/svg+xml": "<?xml version=\"1.0\" encoding=\"UTF-8\" standalone=\"no\"?>\n<!DOCTYPE svg PUBLIC \"-//W3C//DTD SVG 1.1//EN\"\n \"http://www.w3.org/Graphics/SVG/1.1/DTD/svg11.dtd\">\n<!-- Generated by graphviz version 2.40.1 (20161225.0304)\n -->\n<!-- Title: Tree Pages: 1 -->\n<svg width=\"632pt\" height=\"314pt\"\n viewBox=\"0.00 0.00 632.00 314.00\" xmlns=\"http://www.w3.org/2000/svg\" xmlns:xlink=\"http://www.w3.org/1999/xlink\">\n<g id=\"graph0\" class=\"graph\" transform=\"scale(1 1) rotate(0) translate(4 310)\">\n<title>Tree</title>\n<polygon fill=\"#ffffff\" stroke=\"transparent\" points=\"-4,4 -4,-310 628,-310 628,4 -4,4\"/>\n<!-- 0 -->\n<g id=\"node1\" class=\"node\">\n<title>0</title>\n<polygon fill=\"#fcefe6\" stroke=\"#000000\" points=\"520,-306 117,-306 117,-223 520,-223 520,-306\"/>\n<text text-anchor=\"middle\" x=\"318.5\" y=\"-290.8\" font-family=\"Helvetica,sans-Serif\" font-size=\"14.00\" fill=\"#000000\">法院是否認為原監護輔助人「不當處理本人之不動產」 &lt;= 0.5</text>\n<text text-anchor=\"middle\" x=\"318.5\" y=\"-275.8\" font-family=\"Helvetica,sans-Serif\" font-size=\"14.00\" fill=\"#000000\">gini = 0.498</text>\n<text text-anchor=\"middle\" x=\"318.5\" y=\"-260.8\" font-family=\"Helvetica,sans-Serif\" font-size=\"14.00\" fill=\"#000000\">samples = 45</text>\n<text text-anchor=\"middle\" x=\"318.5\" y=\"-245.8\" font-family=\"Helvetica,sans-Serif\" font-size=\"14.00\" fill=\"#000000\">value = [24, 21]</text>\n<text text-anchor=\"middle\" x=\"318.5\" y=\"-230.8\" font-family=\"Helvetica,sans-Serif\" font-size=\"14.00\" fill=\"#000000\">class = 0</text>\n</g>\n<!-- 1 -->\n<g id=\"node2\" class=\"node\">\n<title>1</title>\n<polygon fill=\"#f3c3a0\" stroke=\"#000000\" points=\"317,-187 0,-187 0,-104 317,-104 317,-187\"/>\n<text text-anchor=\"middle\" x=\"158.5\" y=\"-171.8\" font-family=\"Helvetica,sans-Serif\" font-size=\"14.00\" fill=\"#000000\">原監護輔助人是否與本人有「利害關係」 &lt;= 0.5</text>\n<text text-anchor=\"middle\" x=\"158.5\" y=\"-156.8\" font-family=\"Helvetica,sans-Serif\" font-size=\"14.00\" fill=\"#000000\">gini = 0.451</text>\n<text text-anchor=\"middle\" x=\"158.5\" y=\"-141.8\" font-family=\"Helvetica,sans-Serif\" font-size=\"14.00\" fill=\"#000000\">samples = 35</text>\n<text text-anchor=\"middle\" x=\"158.5\" y=\"-126.8\" font-family=\"Helvetica,sans-Serif\" font-size=\"14.00\" fill=\"#000000\">value = [23, 12]</text>\n<text text-anchor=\"middle\" x=\"158.5\" y=\"-111.8\" font-family=\"Helvetica,sans-Serif\" font-size=\"14.00\" fill=\"#000000\">class = 0</text>\n</g>\n<!-- 0&#45;&gt;1 -->\n<g id=\"edge1\" class=\"edge\">\n<title>0&#45;&gt;1</title>\n<path fill=\"none\" stroke=\"#000000\" d=\"M262.5398,-222.8796C249.6292,-213.2774 235.7979,-202.9903 222.5718,-193.1534\"/>\n<polygon fill=\"#000000\" stroke=\"#000000\" points=\"224.5414,-190.2564 214.4286,-187.0969 220.3639,-195.8732 224.5414,-190.2564\"/>\n<text text-anchor=\"middle\" x=\"218.0634\" y=\"-208.1313\" font-family=\"Helvetica,sans-Serif\" font-size=\"14.00\" fill=\"#000000\">True</text>\n</g>\n<!-- 4 -->\n<g id=\"node5\" class=\"node\">\n<title>4</title>\n<polygon fill=\"#4fa8e8\" stroke=\"#000000\" points=\"624,-187 335,-187 335,-104 624,-104 624,-187\"/>\n<text text-anchor=\"middle\" x=\"479.5\" y=\"-171.8\" font-family=\"Helvetica,sans-Serif\" font-size=\"14.00\" fill=\"#000000\">監護輔助人是本人之「實際照顧者」 &lt;= 0.5</text>\n<text text-anchor=\"middle\" x=\"479.5\" y=\"-156.8\" font-family=\"Helvetica,sans-Serif\" font-size=\"14.00\" fill=\"#000000\">gini = 0.18</text>\n<text text-anchor=\"middle\" x=\"479.5\" y=\"-141.8\" font-family=\"Helvetica,sans-Serif\" font-size=\"14.00\" fill=\"#000000\">samples = 10</text>\n<text text-anchor=\"middle\" x=\"479.5\" y=\"-126.8\" font-family=\"Helvetica,sans-Serif\" font-size=\"14.00\" fill=\"#000000\">value = [1, 9]</text>\n<text text-anchor=\"middle\" x=\"479.5\" y=\"-111.8\" font-family=\"Helvetica,sans-Serif\" font-size=\"14.00\" fill=\"#000000\">class = 1</text>\n</g>\n<!-- 0&#45;&gt;4 -->\n<g id=\"edge4\" class=\"edge\">\n<title>0&#45;&gt;4</title>\n<path fill=\"none\" stroke=\"#000000\" d=\"M374.81,-222.8796C387.8012,-213.2774 401.719,-202.9903 415.0277,-193.1534\"/>\n<polygon fill=\"#000000\" stroke=\"#000000\" points=\"417.2604,-195.8555 423.2218,-187.0969 413.0996,-190.2263 417.2604,-195.8555\"/>\n<text text-anchor=\"middle\" x=\"419.5133\" y=\"-208.1203\" font-family=\"Helvetica,sans-Serif\" font-size=\"14.00\" fill=\"#000000\">False</text>\n</g>\n<!-- 2 -->\n<g id=\"node3\" class=\"node\">\n<title>2</title>\n<polygon fill=\"#eca26d\" stroke=\"#000000\" points=\"195,-68 88,-68 88,0 195,0 195,-68\"/>\n<text text-anchor=\"middle\" x=\"141.5\" y=\"-52.8\" font-family=\"Helvetica,sans-Serif\" font-size=\"14.00\" fill=\"#000000\">gini = 0.328</text>\n<text text-anchor=\"middle\" x=\"141.5\" y=\"-37.8\" font-family=\"Helvetica,sans-Serif\" font-size=\"14.00\" fill=\"#000000\">samples = 29</text>\n<text text-anchor=\"middle\" x=\"141.5\" y=\"-22.8\" font-family=\"Helvetica,sans-Serif\" font-size=\"14.00\" fill=\"#000000\">value = [23, 6]</text>\n<text text-anchor=\"middle\" x=\"141.5\" y=\"-7.8\" font-family=\"Helvetica,sans-Serif\" font-size=\"14.00\" fill=\"#000000\">class = 0</text>\n</g>\n<!-- 1&#45;&gt;2 -->\n<g id=\"edge2\" class=\"edge\">\n<title>1&#45;&gt;2</title>\n<path fill=\"none\" stroke=\"#000000\" d=\"M152.1698,-103.9815C150.8947,-95.618 149.5497,-86.7965 148.2605,-78.3409\"/>\n<polygon fill=\"#000000\" stroke=\"#000000\" points=\"151.6914,-77.6219 146.7241,-68.2637 144.7714,-78.677 151.6914,-77.6219\"/>\n</g>\n<!-- 3 -->\n<g id=\"node4\" class=\"node\">\n<title>3</title>\n<polygon fill=\"#399de5\" stroke=\"#000000\" points=\"312,-68 213,-68 213,0 312,0 312,-68\"/>\n<text text-anchor=\"middle\" x=\"262.5\" y=\"-52.8\" font-family=\"Helvetica,sans-Serif\" font-size=\"14.00\" fill=\"#000000\">gini = 0.0</text>\n<text text-anchor=\"middle\" x=\"262.5\" y=\"-37.8\" font-family=\"Helvetica,sans-Serif\" font-size=\"14.00\" fill=\"#000000\">samples = 6</text>\n<text text-anchor=\"middle\" x=\"262.5\" y=\"-22.8\" font-family=\"Helvetica,sans-Serif\" font-size=\"14.00\" fill=\"#000000\">value = [0, 6]</text>\n<text text-anchor=\"middle\" x=\"262.5\" y=\"-7.8\" font-family=\"Helvetica,sans-Serif\" font-size=\"14.00\" fill=\"#000000\">class = 1</text>\n</g>\n<!-- 1&#45;&gt;3 -->\n<g id=\"edge3\" class=\"edge\">\n<title>1&#45;&gt;3</title>\n<path fill=\"none\" stroke=\"#000000\" d=\"M197.2258,-103.9815C205.7982,-94.7908 214.8865,-85.0472 223.471,-75.8436\"/>\n<polygon fill=\"#000000\" stroke=\"#000000\" points=\"226.2796,-77.9637 230.5411,-68.2637 221.1607,-73.1891 226.2796,-77.9637\"/>\n</g>\n<!-- 5 -->\n<g id=\"node6\" class=\"node\">\n<title>5</title>\n<polygon fill=\"#399de5\" stroke=\"#000000\" points=\"479,-68 380,-68 380,0 479,0 479,-68\"/>\n<text text-anchor=\"middle\" x=\"429.5\" y=\"-52.8\" font-family=\"Helvetica,sans-Serif\" font-size=\"14.00\" fill=\"#000000\">gini = 0.0</text>\n<text text-anchor=\"middle\" x=\"429.5\" y=\"-37.8\" font-family=\"Helvetica,sans-Serif\" font-size=\"14.00\" fill=\"#000000\">samples = 8</text>\n<text text-anchor=\"middle\" x=\"429.5\" y=\"-22.8\" font-family=\"Helvetica,sans-Serif\" font-size=\"14.00\" fill=\"#000000\">value = [0, 8]</text>\n<text text-anchor=\"middle\" x=\"429.5\" y=\"-7.8\" font-family=\"Helvetica,sans-Serif\" font-size=\"14.00\" fill=\"#000000\">class = 1</text>\n</g>\n<!-- 4&#45;&gt;5 -->\n<g id=\"edge5\" class=\"edge\">\n<title>4&#45;&gt;5</title>\n<path fill=\"none\" stroke=\"#000000\" d=\"M460.8818,-103.9815C457.0078,-95.3423 452.9145,-86.2144 449.0094,-77.5059\"/>\n<polygon fill=\"#000000\" stroke=\"#000000\" points=\"452.1503,-75.9561 444.8649,-68.2637 445.7631,-78.8204 452.1503,-75.9561\"/>\n</g>\n<!-- 6 -->\n<g id=\"node7\" class=\"node\">\n<title>6</title>\n<polygon fill=\"#ffffff\" stroke=\"#000000\" points=\"596,-68 497,-68 497,0 596,0 596,-68\"/>\n<text text-anchor=\"middle\" x=\"546.5\" y=\"-52.8\" font-family=\"Helvetica,sans-Serif\" font-size=\"14.00\" fill=\"#000000\">gini = 0.5</text>\n<text text-anchor=\"middle\" x=\"546.5\" y=\"-37.8\" font-family=\"Helvetica,sans-Serif\" font-size=\"14.00\" fill=\"#000000\">samples = 2</text>\n<text text-anchor=\"middle\" x=\"546.5\" y=\"-22.8\" font-family=\"Helvetica,sans-Serif\" font-size=\"14.00\" fill=\"#000000\">value = [1, 1]</text>\n<text text-anchor=\"middle\" x=\"546.5\" y=\"-7.8\" font-family=\"Helvetica,sans-Serif\" font-size=\"14.00\" fill=\"#000000\">class = 0</text>\n</g>\n<!-- 4&#45;&gt;6 -->\n<g id=\"edge6\" class=\"edge\">\n<title>4&#45;&gt;6</title>\n<path fill=\"none\" stroke=\"#000000\" d=\"M504.4483,-103.9815C509.7501,-95.1585 515.3581,-85.8258 520.6911,-76.9506\"/>\n<polygon fill=\"#000000\" stroke=\"#000000\" points=\"523.7605,-78.638 525.9111,-68.2637 517.7604,-75.0325 523.7605,-78.638\"/>\n</g>\n</g>\n</svg>\n"
          },
          "metadata": {}
        }
      ]
    },
    {
      "cell_type": "markdown",
      "source": [
        "#### 5.1.5 聲請原因：非財產相關"
      ],
      "metadata": {
        "id": "Fzu-MPukEQgk"
      }
    },
    {
      "cell_type": "code",
      "source": [
        "filter_tree(\"聲因5 == 1 | 聲因6 == 1 | 聲因9 == 1\", gsheet_super)"
      ],
      "metadata": {
        "colab": {
          "base_uri": "https://localhost:8080/",
          "height": 807
        },
        "outputId": "cdbf68a3-607c-4220-d7fb-1b0dec059093",
        "id": "rXjCvMl4EQgk"
      },
      "execution_count": null,
      "outputs": [
        {
          "output_type": "stream",
          "name": "stdout",
          "text": [
            "載入資料筆數：208\n",
            "----------------------------------------------------------------------------------------------------\n",
            "Filter 聲因5 == 1 | 聲因6 == 1 | 聲因9 == 1 len = 100\n",
            "----------------------------------------------------------------------------------------------------\n",
            "x ['法院是否認為原監護輔助人「年事已高」', '法院是否認為原監護輔助人「身體不堪負荷」', '法院是否認為原監護輔助人「盜領存款」', '法院是否認為原監護輔助人「不當處理本人之不動產」', '原監護輔助人是否與本人有「利害關係」', '法院是否認為原監護輔助人有「其他不當行為」', '監護輔助人是本人之「實際照顧者」', '監護輔助人是否為本人「廣義照顧者」', '原監護輔助人是否有意願續任', '專業人士訪視報告之「改定建議」', '本人之「改定建議」', '其他親屬、關係人之「改定建議」']\n",
            "y 原監護輔助人是否被法院改定\n",
            "預測 [1 0 1 0 1 1 1 1 0 1 0 1 0 0 1 1 1 1 0 1]\n",
            "標準答案 [1 0 1 0 1 1 1 0 0 1 1 1 0 0 1 1 1 1 1 1]\n",
            "績效 0.85\n",
            "|--- feature_8 <= 0.50\n",
            "|   |--- feature_5 <= 0.50\n",
            "|   |   |--- class: 1\n",
            "|   |--- feature_5 >  0.50\n",
            "|   |   |--- class: 1\n",
            "|--- feature_8 >  0.50\n",
            "|   |--- feature_4 <= 0.50\n",
            "|   |   |--- class: 0\n",
            "|   |--- feature_4 >  0.50\n",
            "|   |   |--- class: 1\n",
            "\n"
          ]
        },
        {
          "output_type": "display_data",
          "data": {
            "text/plain": [
              "<graphviz.files.Source at 0x7faa536a3f50>"
            ],
            "image/svg+xml": "<?xml version=\"1.0\" encoding=\"UTF-8\" standalone=\"no\"?>\n<!DOCTYPE svg PUBLIC \"-//W3C//DTD SVG 1.1//EN\"\n \"http://www.w3.org/Graphics/SVG/1.1/DTD/svg11.dtd\">\n<!-- Generated by graphviz version 2.40.1 (20161225.0304)\n -->\n<!-- Title: Tree Pages: 1 -->\n<svg width=\"704pt\" height=\"314pt\"\n viewBox=\"0.00 0.00 703.50 314.00\" xmlns=\"http://www.w3.org/2000/svg\" xmlns:xlink=\"http://www.w3.org/1999/xlink\">\n<g id=\"graph0\" class=\"graph\" transform=\"scale(1 1) rotate(0) translate(4 310)\">\n<title>Tree</title>\n<polygon fill=\"#ffffff\" stroke=\"transparent\" points=\"-4,4 -4,-310 699.5,-310 699.5,4 -4,4\"/>\n<!-- 0 -->\n<g id=\"node1\" class=\"node\">\n<title>0</title>\n<polygon fill=\"#d3e9f9\" stroke=\"#000000\" points=\"481,-306 235,-306 235,-223 481,-223 481,-306\"/>\n<text text-anchor=\"middle\" x=\"358\" y=\"-290.8\" font-family=\"Helvetica,sans-Serif\" font-size=\"14.00\" fill=\"#000000\">原監護輔助人是否有意願續任 &lt;= 0.5</text>\n<text text-anchor=\"middle\" x=\"358\" y=\"-275.8\" font-family=\"Helvetica,sans-Serif\" font-size=\"14.00\" fill=\"#000000\">gini = 0.492</text>\n<text text-anchor=\"middle\" x=\"358\" y=\"-260.8\" font-family=\"Helvetica,sans-Serif\" font-size=\"14.00\" fill=\"#000000\">samples = 80</text>\n<text text-anchor=\"middle\" x=\"358\" y=\"-245.8\" font-family=\"Helvetica,sans-Serif\" font-size=\"14.00\" fill=\"#000000\">value = [35, 45]</text>\n<text text-anchor=\"middle\" x=\"358\" y=\"-230.8\" font-family=\"Helvetica,sans-Serif\" font-size=\"14.00\" fill=\"#000000\">class = 1</text>\n</g>\n<!-- 1 -->\n<g id=\"node2\" class=\"node\">\n<title>1</title>\n<polygon fill=\"#4da7e8\" stroke=\"#000000\" points=\"360,-187 0,-187 0,-104 360,-104 360,-187\"/>\n<text text-anchor=\"middle\" x=\"180\" y=\"-171.8\" font-family=\"Helvetica,sans-Serif\" font-size=\"14.00\" fill=\"#000000\">法院是否認為原監護輔助人有「其他不當行為」 &lt;= 0.5</text>\n<text text-anchor=\"middle\" x=\"180\" y=\"-156.8\" font-family=\"Helvetica,sans-Serif\" font-size=\"14.00\" fill=\"#000000\">gini = 0.169</text>\n<text text-anchor=\"middle\" x=\"180\" y=\"-141.8\" font-family=\"Helvetica,sans-Serif\" font-size=\"14.00\" fill=\"#000000\">samples = 43</text>\n<text text-anchor=\"middle\" x=\"180\" y=\"-126.8\" font-family=\"Helvetica,sans-Serif\" font-size=\"14.00\" fill=\"#000000\">value = [4, 39]</text>\n<text text-anchor=\"middle\" x=\"180\" y=\"-111.8\" font-family=\"Helvetica,sans-Serif\" font-size=\"14.00\" fill=\"#000000\">class = 1</text>\n</g>\n<!-- 0&#45;&gt;1 -->\n<g id=\"edge1\" class=\"edge\">\n<title>0&#45;&gt;1</title>\n<path fill=\"none\" stroke=\"#000000\" d=\"M295.7442,-222.8796C281.2458,-213.1868 265.7035,-202.7961 250.8637,-192.8752\"/>\n<polygon fill=\"#000000\" stroke=\"#000000\" points=\"252.4792,-189.7451 242.2206,-187.0969 248.5887,-195.5644 252.4792,-189.7451\"/>\n<text text-anchor=\"middle\" x=\"247.0918\" y=\"-207.9178\" font-family=\"Helvetica,sans-Serif\" font-size=\"14.00\" fill=\"#000000\">True</text>\n</g>\n<!-- 4 -->\n<g id=\"node5\" class=\"node\">\n<title>4</title>\n<polygon fill=\"#ea995f\" stroke=\"#000000\" points=\"695.5,-187 378.5,-187 378.5,-104 695.5,-104 695.5,-187\"/>\n<text text-anchor=\"middle\" x=\"537\" y=\"-171.8\" font-family=\"Helvetica,sans-Serif\" font-size=\"14.00\" fill=\"#000000\">原監護輔助人是否與本人有「利害關係」 &lt;= 0.5</text>\n<text text-anchor=\"middle\" x=\"537\" y=\"-156.8\" font-family=\"Helvetica,sans-Serif\" font-size=\"14.00\" fill=\"#000000\">gini = 0.272</text>\n<text text-anchor=\"middle\" x=\"537\" y=\"-141.8\" font-family=\"Helvetica,sans-Serif\" font-size=\"14.00\" fill=\"#000000\">samples = 37</text>\n<text text-anchor=\"middle\" x=\"537\" y=\"-126.8\" font-family=\"Helvetica,sans-Serif\" font-size=\"14.00\" fill=\"#000000\">value = [31, 6]</text>\n<text text-anchor=\"middle\" x=\"537\" y=\"-111.8\" font-family=\"Helvetica,sans-Serif\" font-size=\"14.00\" fill=\"#000000\">class = 0</text>\n</g>\n<!-- 0&#45;&gt;4 -->\n<g id=\"edge4\" class=\"edge\">\n<title>0&#45;&gt;4</title>\n<path fill=\"none\" stroke=\"#000000\" d=\"M420.6055,-222.8796C435.1854,-213.1868 450.8151,-202.7961 465.7382,-192.8752\"/>\n<polygon fill=\"#000000\" stroke=\"#000000\" points=\"468.0399,-195.5479 474.4298,-187.0969 464.1645,-189.7185 468.0399,-195.5479\"/>\n<text text-anchor=\"middle\" x=\"469.4953\" y=\"-207.9051\" font-family=\"Helvetica,sans-Serif\" font-size=\"14.00\" fill=\"#000000\">False</text>\n</g>\n<!-- 2 -->\n<g id=\"node3\" class=\"node\">\n<title>2</title>\n<polygon fill=\"#5aade9\" stroke=\"#000000\" points=\"226.5,-68 119.5,-68 119.5,0 226.5,0 226.5,-68\"/>\n<text text-anchor=\"middle\" x=\"173\" y=\"-52.8\" font-family=\"Helvetica,sans-Serif\" font-size=\"14.00\" fill=\"#000000\">gini = 0.245</text>\n<text text-anchor=\"middle\" x=\"173\" y=\"-37.8\" font-family=\"Helvetica,sans-Serif\" font-size=\"14.00\" fill=\"#000000\">samples = 28</text>\n<text text-anchor=\"middle\" x=\"173\" y=\"-22.8\" font-family=\"Helvetica,sans-Serif\" font-size=\"14.00\" fill=\"#000000\">value = [4, 24]</text>\n<text text-anchor=\"middle\" x=\"173\" y=\"-7.8\" font-family=\"Helvetica,sans-Serif\" font-size=\"14.00\" fill=\"#000000\">class = 1</text>\n</g>\n<!-- 1&#45;&gt;2 -->\n<g id=\"edge2\" class=\"edge\">\n<title>1&#45;&gt;2</title>\n<path fill=\"none\" stroke=\"#000000\" d=\"M177.3935,-103.9815C176.8684,-95.618 176.3146,-86.7965 175.7837,-78.3409\"/>\n<polygon fill=\"#000000\" stroke=\"#000000\" points=\"179.2709,-78.0247 175.1511,-68.2637 172.2846,-78.4634 179.2709,-78.0247\"/>\n</g>\n<!-- 3 -->\n<g id=\"node4\" class=\"node\">\n<title>3</title>\n<polygon fill=\"#399de5\" stroke=\"#000000\" points=\"351.5,-68 244.5,-68 244.5,0 351.5,0 351.5,-68\"/>\n<text text-anchor=\"middle\" x=\"298\" y=\"-52.8\" font-family=\"Helvetica,sans-Serif\" font-size=\"14.00\" fill=\"#000000\">gini = 0.0</text>\n<text text-anchor=\"middle\" x=\"298\" y=\"-37.8\" font-family=\"Helvetica,sans-Serif\" font-size=\"14.00\" fill=\"#000000\">samples = 15</text>\n<text text-anchor=\"middle\" x=\"298\" y=\"-22.8\" font-family=\"Helvetica,sans-Serif\" font-size=\"14.00\" fill=\"#000000\">value = [0, 15]</text>\n<text text-anchor=\"middle\" x=\"298\" y=\"-7.8\" font-family=\"Helvetica,sans-Serif\" font-size=\"14.00\" fill=\"#000000\">class = 1</text>\n</g>\n<!-- 1&#45;&gt;3 -->\n<g id=\"edge3\" class=\"edge\">\n<title>1&#45;&gt;3</title>\n<path fill=\"none\" stroke=\"#000000\" d=\"M223.9388,-103.9815C233.8598,-94.607 244.3897,-84.6572 254.3008,-75.2921\"/>\n<polygon fill=\"#000000\" stroke=\"#000000\" points=\"256.8743,-77.6757 261.7389,-68.2637 252.0666,-72.5878 256.8743,-77.6757\"/>\n</g>\n<!-- 5 -->\n<g id=\"node6\" class=\"node\">\n<title>5</title>\n<polygon fill=\"#e89153\" stroke=\"#000000\" points=\"533.5,-68 426.5,-68 426.5,0 533.5,0 533.5,-68\"/>\n<text text-anchor=\"middle\" x=\"480\" y=\"-52.8\" font-family=\"Helvetica,sans-Serif\" font-size=\"14.00\" fill=\"#000000\">gini = 0.202</text>\n<text text-anchor=\"middle\" x=\"480\" y=\"-37.8\" font-family=\"Helvetica,sans-Serif\" font-size=\"14.00\" fill=\"#000000\">samples = 35</text>\n<text text-anchor=\"middle\" x=\"480\" y=\"-22.8\" font-family=\"Helvetica,sans-Serif\" font-size=\"14.00\" fill=\"#000000\">value = [31, 4]</text>\n<text text-anchor=\"middle\" x=\"480\" y=\"-7.8\" font-family=\"Helvetica,sans-Serif\" font-size=\"14.00\" fill=\"#000000\">class = 0</text>\n</g>\n<!-- 4&#45;&gt;5 -->\n<g id=\"edge5\" class=\"edge\">\n<title>4&#45;&gt;5</title>\n<path fill=\"none\" stroke=\"#000000\" d=\"M515.7753,-103.9815C511.3119,-95.2504 506.5933,-86.0202 502.0987,-77.2281\"/>\n<polygon fill=\"#000000\" stroke=\"#000000\" points=\"505.1842,-75.5745 497.516,-68.2637 498.9514,-78.7608 505.1842,-75.5745\"/>\n</g>\n<!-- 6 -->\n<g id=\"node7\" class=\"node\">\n<title>6</title>\n<polygon fill=\"#399de5\" stroke=\"#000000\" points=\"650.5,-68 551.5,-68 551.5,0 650.5,0 650.5,-68\"/>\n<text text-anchor=\"middle\" x=\"601\" y=\"-52.8\" font-family=\"Helvetica,sans-Serif\" font-size=\"14.00\" fill=\"#000000\">gini = 0.0</text>\n<text text-anchor=\"middle\" x=\"601\" y=\"-37.8\" font-family=\"Helvetica,sans-Serif\" font-size=\"14.00\" fill=\"#000000\">samples = 2</text>\n<text text-anchor=\"middle\" x=\"601\" y=\"-22.8\" font-family=\"Helvetica,sans-Serif\" font-size=\"14.00\" fill=\"#000000\">value = [0, 2]</text>\n<text text-anchor=\"middle\" x=\"601\" y=\"-7.8\" font-family=\"Helvetica,sans-Serif\" font-size=\"14.00\" fill=\"#000000\">class = 1</text>\n</g>\n<!-- 4&#45;&gt;6 -->\n<g id=\"edge6\" class=\"edge\">\n<title>4&#45;&gt;6</title>\n<path fill=\"none\" stroke=\"#000000\" d=\"M560.8312,-103.9815C565.8956,-95.1585 571.2525,-85.8258 576.3468,-76.9506\"/>\n<polygon fill=\"#000000\" stroke=\"#000000\" points=\"579.3903,-78.6789 581.333,-68.2637 573.3193,-75.1942 579.3903,-78.6789\"/>\n</g>\n</g>\n</svg>\n"
          },
          "metadata": {}
        }
      ]
    },
    {
      "cell_type": "markdown",
      "source": [
        "#### 5.1.6 聲請原因：年齡身體健康"
      ],
      "metadata": {
        "id": "WlKt4Cy3ETLg"
      }
    },
    {
      "cell_type": "code",
      "source": [
        "filter_tree(\"聲因1 == 1 | 聲因2 == 1\", gsheet_super)"
      ],
      "metadata": {
        "colab": {
          "base_uri": "https://localhost:8080/",
          "height": 544
        },
        "outputId": "30a525bc-81fb-4f21-ff34-a9a68110c400",
        "id": "IsfCgZ6HETLg"
      },
      "execution_count": null,
      "outputs": [
        {
          "output_type": "stream",
          "name": "stdout",
          "text": [
            "載入資料筆數：208\n",
            "----------------------------------------------------------------------------------------------------\n",
            "Filter 聲因1 == 1 | 聲因2 == 1 len = 66\n",
            "----------------------------------------------------------------------------------------------------\n",
            "x ['法院是否認為原監護輔助人「年事已高」', '法院是否認為原監護輔助人「身體不堪負荷」', '法院是否認為原監護輔助人「盜領存款」', '法院是否認為原監護輔助人「不當處理本人之不動產」', '原監護輔助人是否與本人有「利害關係」', '法院是否認為原監護輔助人有「其他不當行為」', '監護輔助人是本人之「實際照顧者」', '監護輔助人是否為本人「廣義照顧者」', '原監護輔助人是否有意願續任', '專業人士訪視報告之「改定建議」', '本人之「改定建議」', '其他親屬、關係人之「改定建議」']\n",
            "y 原監護輔助人是否被法院改定\n",
            "預測 [1 1 1 1 1 1 1 1 1 1 1 1 1 0]\n",
            "標準答案 [1 1 1 1 1 1 1 1 1 1 1 1 1 0]\n",
            "績效 1.0\n",
            "|--- feature_8 <= 0.50\n",
            "|   |--- class: 1\n",
            "|--- feature_8 >  0.50\n",
            "|   |--- class: 0\n",
            "\n"
          ]
        },
        {
          "output_type": "display_data",
          "data": {
            "text/plain": [
              "<graphviz.files.Source at 0x7faa53e02210>"
            ],
            "image/svg+xml": "<?xml version=\"1.0\" encoding=\"UTF-8\" standalone=\"no\"?>\n<!DOCTYPE svg PUBLIC \"-//W3C//DTD SVG 1.1//EN\"\n \"http://www.w3.org/Graphics/SVG/1.1/DTD/svg11.dtd\">\n<!-- Generated by graphviz version 2.40.1 (20161225.0304)\n -->\n<!-- Title: Tree Pages: 1 -->\n<svg width=\"254pt\" height=\"195pt\"\n viewBox=\"0.00 0.00 254.00 195.00\" xmlns=\"http://www.w3.org/2000/svg\" xmlns:xlink=\"http://www.w3.org/1999/xlink\">\n<g id=\"graph0\" class=\"graph\" transform=\"scale(1 1) rotate(0) translate(4 191)\">\n<title>Tree</title>\n<polygon fill=\"#ffffff\" stroke=\"transparent\" points=\"-4,4 -4,-191 250,-191 250,4 -4,4\"/>\n<!-- 0 -->\n<g id=\"node1\" class=\"node\">\n<title>0</title>\n<polygon fill=\"#4ea7e8\" stroke=\"#000000\" points=\"246,-187 0,-187 0,-104 246,-104 246,-187\"/>\n<text text-anchor=\"middle\" x=\"123\" y=\"-171.8\" font-family=\"Helvetica,sans-Serif\" font-size=\"14.00\" fill=\"#000000\">原監護輔助人是否有意願續任 &lt;= 0.5</text>\n<text text-anchor=\"middle\" x=\"123\" y=\"-156.8\" font-family=\"Helvetica,sans-Serif\" font-size=\"14.00\" fill=\"#000000\">gini = 0.174</text>\n<text text-anchor=\"middle\" x=\"123\" y=\"-141.8\" font-family=\"Helvetica,sans-Serif\" font-size=\"14.00\" fill=\"#000000\">samples = 52</text>\n<text text-anchor=\"middle\" x=\"123\" y=\"-126.8\" font-family=\"Helvetica,sans-Serif\" font-size=\"14.00\" fill=\"#000000\">value = [5, 47]</text>\n<text text-anchor=\"middle\" x=\"123\" y=\"-111.8\" font-family=\"Helvetica,sans-Serif\" font-size=\"14.00\" fill=\"#000000\">class = 1</text>\n</g>\n<!-- 1 -->\n<g id=\"node2\" class=\"node\">\n<title>1</title>\n<polygon fill=\"#399de5\" stroke=\"#000000\" points=\"116.5,-68 9.5,-68 9.5,0 116.5,0 116.5,-68\"/>\n<text text-anchor=\"middle\" x=\"63\" y=\"-52.8\" font-family=\"Helvetica,sans-Serif\" font-size=\"14.00\" fill=\"#000000\">gini = 0.0</text>\n<text text-anchor=\"middle\" x=\"63\" y=\"-37.8\" font-family=\"Helvetica,sans-Serif\" font-size=\"14.00\" fill=\"#000000\">samples = 47</text>\n<text text-anchor=\"middle\" x=\"63\" y=\"-22.8\" font-family=\"Helvetica,sans-Serif\" font-size=\"14.00\" fill=\"#000000\">value = [0, 47]</text>\n<text text-anchor=\"middle\" x=\"63\" y=\"-7.8\" font-family=\"Helvetica,sans-Serif\" font-size=\"14.00\" fill=\"#000000\">class = 1</text>\n</g>\n<!-- 0&#45;&gt;1 -->\n<g id=\"edge1\" class=\"edge\">\n<title>0&#45;&gt;1</title>\n<path fill=\"none\" stroke=\"#000000\" d=\"M100.6582,-103.9815C95.9598,-95.2504 90.9929,-86.0202 86.2617,-77.2281\"/>\n<polygon fill=\"#000000\" stroke=\"#000000\" points=\"89.2586,-75.4111 81.4379,-68.2637 83.0944,-78.7282 89.2586,-75.4111\"/>\n<text text-anchor=\"middle\" x=\"74.2478\" y=\"-88.5074\" font-family=\"Helvetica,sans-Serif\" font-size=\"14.00\" fill=\"#000000\">True</text>\n</g>\n<!-- 2 -->\n<g id=\"node3\" class=\"node\">\n<title>2</title>\n<polygon fill=\"#e58139\" stroke=\"#000000\" points=\"233.5,-68 134.5,-68 134.5,0 233.5,0 233.5,-68\"/>\n<text text-anchor=\"middle\" x=\"184\" y=\"-52.8\" font-family=\"Helvetica,sans-Serif\" font-size=\"14.00\" fill=\"#000000\">gini = 0.0</text>\n<text text-anchor=\"middle\" x=\"184\" y=\"-37.8\" font-family=\"Helvetica,sans-Serif\" font-size=\"14.00\" fill=\"#000000\">samples = 5</text>\n<text text-anchor=\"middle\" x=\"184\" y=\"-22.8\" font-family=\"Helvetica,sans-Serif\" font-size=\"14.00\" fill=\"#000000\">value = [5, 0]</text>\n<text text-anchor=\"middle\" x=\"184\" y=\"-7.8\" font-family=\"Helvetica,sans-Serif\" font-size=\"14.00\" fill=\"#000000\">class = 0</text>\n</g>\n<!-- 0&#45;&gt;2 -->\n<g id=\"edge2\" class=\"edge\">\n<title>0&#45;&gt;2</title>\n<path fill=\"none\" stroke=\"#000000\" d=\"M145.7141,-103.9815C150.4908,-95.2504 155.5405,-86.0202 160.3506,-77.2281\"/>\n<polygon fill=\"#000000\" stroke=\"#000000\" points=\"163.5258,-78.7165 165.2549,-68.2637 157.3847,-75.3568 163.5258,-78.7165\"/>\n<text text-anchor=\"middle\" x=\"172.2789\" y=\"-88.5567\" font-family=\"Helvetica,sans-Serif\" font-size=\"14.00\" fill=\"#000000\">False</text>\n</g>\n</g>\n</svg>\n"
          },
          "metadata": {}
        }
      ]
    },
    {
      "cell_type": "markdown",
      "source": [
        "#### 5.1.7 原監護人之意願\n"
      ],
      "metadata": {
        "id": "9O0QOtJ7xuV7"
      }
    },
    {
      "cell_type": "code",
      "source": [
        "filter_tree(\"原監護輔助人是否有意願續任 == 1\", gsheet_super)"
      ],
      "metadata": {
        "colab": {
          "base_uri": "https://localhost:8080/",
          "height": 755
        },
        "id": "d3hRvBtpx3fd",
        "outputId": "2bcc4a70-e2a8-434c-ca32-50de3418eea7"
      },
      "execution_count": null,
      "outputs": [
        {
          "output_type": "stream",
          "name": "stdout",
          "text": [
            "載入資料筆數：208\n",
            "----------------------------------------------------------------------------------------------------\n",
            "Filter 原監護輔助人是否有意願續任 == 1 len = 77\n",
            "----------------------------------------------------------------------------------------------------\n",
            "x ['法院是否認為原監護輔助人「年事已高」', '法院是否認為原監護輔助人「身體不堪負荷」', '法院是否認為原監護輔助人「盜領存款」', '法院是否認為原監護輔助人「不當處理本人之不動產」', '原監護輔助人是否與本人有「利害關係」', '法院是否認為原監護輔助人有「其他不當行為」', '監護輔助人是本人之「實際照顧者」', '監護輔助人是否為本人「廣義照顧者」', '原監護輔助人是否有意願續任', '專業人士訪視報告之「改定建議」', '本人之「改定建議」', '其他親屬、關係人之「改定建議」']\n",
            "y 原監護輔助人是否被法院改定\n",
            "預測 [0 0 0 0 0 1 0 0 0 0 1 1 0 0 0 0]\n",
            "標準答案 [0 0 0 0 0 1 0 1 0 0 0 1 0 0 0 0]\n",
            "績效 0.875\n",
            "|--- feature_2 <= 0.50\n",
            "|   |--- feature_3 <= 0.50\n",
            "|   |   |--- class: 0\n",
            "|   |--- feature_3 >  0.50\n",
            "|   |   |--- class: 1\n",
            "|--- feature_2 >  0.50\n",
            "|   |--- class: 1\n",
            "\n"
          ]
        },
        {
          "output_type": "display_data",
          "data": {
            "text/plain": [
              "<graphviz.files.Source at 0x7faa53e02a10>"
            ],
            "image/svg+xml": "<?xml version=\"1.0\" encoding=\"UTF-8\" standalone=\"no\"?>\n<!DOCTYPE svg PUBLIC \"-//W3C//DTD SVG 1.1//EN\"\n \"http://www.w3.org/Graphics/SVG/1.1/DTD/svg11.dtd\">\n<!-- Generated by graphviz version 2.40.1 (20161225.0304)\n -->\n<!-- Title: Tree Pages: 1 -->\n<svg width=\"528pt\" height=\"314pt\"\n viewBox=\"0.00 0.00 528.00 314.00\" xmlns=\"http://www.w3.org/2000/svg\" xmlns:xlink=\"http://www.w3.org/1999/xlink\">\n<g id=\"graph0\" class=\"graph\" transform=\"scale(1 1) rotate(0) translate(4 310)\">\n<title>Tree</title>\n<polygon fill=\"#ffffff\" stroke=\"transparent\" points=\"-4,4 -4,-310 524,-310 524,4 -4,4\"/>\n<!-- 0 -->\n<g id=\"node1\" class=\"node\">\n<title>0</title>\n<polygon fill=\"#ea975b\" stroke=\"#000000\" points=\"494,-306 177,-306 177,-223 494,-223 494,-306\"/>\n<text text-anchor=\"middle\" x=\"335.5\" y=\"-290.8\" font-family=\"Helvetica,sans-Serif\" font-size=\"14.00\" fill=\"#000000\">法院是否認為原監護輔助人「盜領存款」 &lt;= 0.5</text>\n<text text-anchor=\"middle\" x=\"335.5\" y=\"-275.8\" font-family=\"Helvetica,sans-Serif\" font-size=\"14.00\" fill=\"#000000\">gini = 0.252</text>\n<text text-anchor=\"middle\" x=\"335.5\" y=\"-260.8\" font-family=\"Helvetica,sans-Serif\" font-size=\"14.00\" fill=\"#000000\">samples = 61</text>\n<text text-anchor=\"middle\" x=\"335.5\" y=\"-245.8\" font-family=\"Helvetica,sans-Serif\" font-size=\"14.00\" fill=\"#000000\">value = [52, 9]</text>\n<text text-anchor=\"middle\" x=\"335.5\" y=\"-230.8\" font-family=\"Helvetica,sans-Serif\" font-size=\"14.00\" fill=\"#000000\">class = 0</text>\n</g>\n<!-- 1 -->\n<g id=\"node2\" class=\"node\">\n<title>1</title>\n<polygon fill=\"#e88d4c\" stroke=\"#000000\" points=\"403,-187 0,-187 0,-104 403,-104 403,-187\"/>\n<text text-anchor=\"middle\" x=\"201.5\" y=\"-171.8\" font-family=\"Helvetica,sans-Serif\" font-size=\"14.00\" fill=\"#000000\">法院是否認為原監護輔助人「不當處理本人之不動產」 &lt;= 0.5</text>\n<text text-anchor=\"middle\" x=\"201.5\" y=\"-156.8\" font-family=\"Helvetica,sans-Serif\" font-size=\"14.00\" fill=\"#000000\">gini = 0.16</text>\n<text text-anchor=\"middle\" x=\"201.5\" y=\"-141.8\" font-family=\"Helvetica,sans-Serif\" font-size=\"14.00\" fill=\"#000000\">samples = 57</text>\n<text text-anchor=\"middle\" x=\"201.5\" y=\"-126.8\" font-family=\"Helvetica,sans-Serif\" font-size=\"14.00\" fill=\"#000000\">value = [52, 5]</text>\n<text text-anchor=\"middle\" x=\"201.5\" y=\"-111.8\" font-family=\"Helvetica,sans-Serif\" font-size=\"14.00\" fill=\"#000000\">class = 0</text>\n</g>\n<!-- 0&#45;&gt;1 -->\n<g id=\"edge1\" class=\"edge\">\n<title>0&#45;&gt;1</title>\n<path fill=\"none\" stroke=\"#000000\" d=\"M288.6333,-222.8796C278.1875,-213.6031 267.0219,-203.6874 256.289,-194.1559\"/>\n<polygon fill=\"#000000\" stroke=\"#000000\" points=\"258.368,-191.3213 248.5667,-187.2981 253.7199,-196.5553 258.368,-191.3213\"/>\n<text text-anchor=\"middle\" x=\"250.0464\" y=\"-208.5542\" font-family=\"Helvetica,sans-Serif\" font-size=\"14.00\" fill=\"#000000\">True</text>\n</g>\n<!-- 4 -->\n<g id=\"node5\" class=\"node\">\n<title>4</title>\n<polygon fill=\"#399de5\" stroke=\"#000000\" points=\"520,-179.5 421,-179.5 421,-111.5 520,-111.5 520,-179.5\"/>\n<text text-anchor=\"middle\" x=\"470.5\" y=\"-164.3\" font-family=\"Helvetica,sans-Serif\" font-size=\"14.00\" fill=\"#000000\">gini = 0.0</text>\n<text text-anchor=\"middle\" x=\"470.5\" y=\"-149.3\" font-family=\"Helvetica,sans-Serif\" font-size=\"14.00\" fill=\"#000000\">samples = 4</text>\n<text text-anchor=\"middle\" x=\"470.5\" y=\"-134.3\" font-family=\"Helvetica,sans-Serif\" font-size=\"14.00\" fill=\"#000000\">value = [0, 4]</text>\n<text text-anchor=\"middle\" x=\"470.5\" y=\"-119.3\" font-family=\"Helvetica,sans-Serif\" font-size=\"14.00\" fill=\"#000000\">class = 1</text>\n</g>\n<!-- 0&#45;&gt;4 -->\n<g id=\"edge4\" class=\"edge\">\n<title>0&#45;&gt;4</title>\n<path fill=\"none\" stroke=\"#000000\" d=\"M382.7164,-222.8796C396.0642,-211.1138 410.5785,-198.3197 423.8904,-186.5855\"/>\n<polygon fill=\"#000000\" stroke=\"#000000\" points=\"426.384,-189.0531 431.5713,-179.8149 421.7552,-183.8019 426.384,-189.0531\"/>\n<text text-anchor=\"middle\" x=\"429.9996\" y=\"-201.0655\" font-family=\"Helvetica,sans-Serif\" font-size=\"14.00\" fill=\"#000000\">False</text>\n</g>\n<!-- 2 -->\n<g id=\"node3\" class=\"node\">\n<title>2</title>\n<polygon fill=\"#e68641\" stroke=\"#000000\" points=\"195,-68 88,-68 88,0 195,0 195,-68\"/>\n<text text-anchor=\"middle\" x=\"141.5\" y=\"-52.8\" font-family=\"Helvetica,sans-Serif\" font-size=\"14.00\" fill=\"#000000\">gini = 0.073</text>\n<text text-anchor=\"middle\" x=\"141.5\" y=\"-37.8\" font-family=\"Helvetica,sans-Serif\" font-size=\"14.00\" fill=\"#000000\">samples = 53</text>\n<text text-anchor=\"middle\" x=\"141.5\" y=\"-22.8\" font-family=\"Helvetica,sans-Serif\" font-size=\"14.00\" fill=\"#000000\">value = [51, 2]</text>\n<text text-anchor=\"middle\" x=\"141.5\" y=\"-7.8\" font-family=\"Helvetica,sans-Serif\" font-size=\"14.00\" fill=\"#000000\">class = 0</text>\n</g>\n<!-- 1&#45;&gt;2 -->\n<g id=\"edge2\" class=\"edge\">\n<title>1&#45;&gt;2</title>\n<path fill=\"none\" stroke=\"#000000\" d=\"M179.1582,-103.9815C174.4598,-95.2504 169.4929,-86.0202 164.7617,-77.2281\"/>\n<polygon fill=\"#000000\" stroke=\"#000000\" points=\"167.7586,-75.4111 159.9379,-68.2637 161.5944,-78.7282 167.7586,-75.4111\"/>\n</g>\n<!-- 3 -->\n<g id=\"node4\" class=\"node\">\n<title>3</title>\n<polygon fill=\"#7bbeee\" stroke=\"#000000\" points=\"312,-68 213,-68 213,0 312,0 312,-68\"/>\n<text text-anchor=\"middle\" x=\"262.5\" y=\"-52.8\" font-family=\"Helvetica,sans-Serif\" font-size=\"14.00\" fill=\"#000000\">gini = 0.375</text>\n<text text-anchor=\"middle\" x=\"262.5\" y=\"-37.8\" font-family=\"Helvetica,sans-Serif\" font-size=\"14.00\" fill=\"#000000\">samples = 4</text>\n<text text-anchor=\"middle\" x=\"262.5\" y=\"-22.8\" font-family=\"Helvetica,sans-Serif\" font-size=\"14.00\" fill=\"#000000\">value = [1, 3]</text>\n<text text-anchor=\"middle\" x=\"262.5\" y=\"-7.8\" font-family=\"Helvetica,sans-Serif\" font-size=\"14.00\" fill=\"#000000\">class = 1</text>\n</g>\n<!-- 1&#45;&gt;3 -->\n<g id=\"edge3\" class=\"edge\">\n<title>1&#45;&gt;3</title>\n<path fill=\"none\" stroke=\"#000000\" d=\"M224.2141,-103.9815C228.9908,-95.2504 234.0405,-86.0202 238.8506,-77.2281\"/>\n<polygon fill=\"#000000\" stroke=\"#000000\" points=\"242.0258,-78.7165 243.7549,-68.2637 235.8847,-75.3568 242.0258,-78.7165\"/>\n</g>\n</g>\n</svg>\n"
          },
          "metadata": {}
        }
      ]
    },
    {
      "cell_type": "code",
      "source": [
        "filter_tree(\"原監護輔助人是否有意願續任 == 0\", gsheet_super)"
      ],
      "metadata": {
        "colab": {
          "base_uri": "https://localhost:8080/",
          "height": 807
        },
        "id": "HSnCvWg6ycBM",
        "outputId": "7fb35649-fc68-441b-acd3-31691fc487f2"
      },
      "execution_count": null,
      "outputs": [
        {
          "output_type": "stream",
          "name": "stdout",
          "text": [
            "載入資料筆數：208\n",
            "----------------------------------------------------------------------------------------------------\n",
            "Filter 原監護輔助人是否有意願續任 == 0 len = 131\n",
            "----------------------------------------------------------------------------------------------------\n",
            "x ['法院是否認為原監護輔助人「年事已高」', '法院是否認為原監護輔助人「身體不堪負荷」', '法院是否認為原監護輔助人「盜領存款」', '法院是否認為原監護輔助人「不當處理本人之不動產」', '原監護輔助人是否與本人有「利害關係」', '法院是否認為原監護輔助人有「其他不當行為」', '監護輔助人是本人之「實際照顧者」', '監護輔助人是否為本人「廣義照顧者」', '原監護輔助人是否有意願續任', '專業人士訪視報告之「改定建議」', '本人之「改定建議」', '其他親屬、關係人之「改定建議」']\n",
            "y 原監護輔助人是否被法院改定\n",
            "預測 [1 1 1 1 1 1 1 1 1 1 1 1 1 1 1 1 0 1 1 1 1 1 1 1 1 1 1]\n",
            "標準答案 [1 1 1 1 1 1 1 1 1 1 1 1 1 1 1 1 1 1 1 1 1 1 1 1 1 1 0]\n",
            "績效 0.9259259259259259\n",
            "|--- feature_7 <= 0.50\n",
            "|   |--- feature_1 <= 0.50\n",
            "|   |   |--- class: 1\n",
            "|   |--- feature_1 >  0.50\n",
            "|   |   |--- class: 1\n",
            "|--- feature_7 >  0.50\n",
            "|   |--- feature_6 <= 0.50\n",
            "|   |   |--- class: 0\n",
            "|   |--- feature_6 >  0.50\n",
            "|   |   |--- class: 1\n",
            "\n"
          ]
        },
        {
          "output_type": "display_data",
          "data": {
            "text/plain": [
              "<graphviz.files.Source at 0x7faa53fb9650>"
            ],
            "image/svg+xml": "<?xml version=\"1.0\" encoding=\"UTF-8\" standalone=\"no\"?>\n<!DOCTYPE svg PUBLIC \"-//W3C//DTD SVG 1.1//EN\"\n \"http://www.w3.org/Graphics/SVG/1.1/DTD/svg11.dtd\">\n<!-- Generated by graphviz version 2.40.1 (20161225.0304)\n -->\n<!-- Title: Tree Pages: 1 -->\n<svg width=\"662pt\" height=\"314pt\"\n viewBox=\"0.00 0.00 661.50 314.00\" xmlns=\"http://www.w3.org/2000/svg\" xmlns:xlink=\"http://www.w3.org/1999/xlink\">\n<g id=\"graph0\" class=\"graph\" transform=\"scale(1 1) rotate(0) translate(4 310)\">\n<title>Tree</title>\n<polygon fill=\"#ffffff\" stroke=\"transparent\" points=\"-4,4 -4,-310 657.5,-310 657.5,4 -4,4\"/>\n<!-- 0 -->\n<g id=\"node1\" class=\"node\">\n<title>0</title>\n<polygon fill=\"#49a5e7\" stroke=\"#000000\" points=\"492.5,-306 189.5,-306 189.5,-223 492.5,-223 492.5,-306\"/>\n<text text-anchor=\"middle\" x=\"341\" y=\"-290.8\" font-family=\"Helvetica,sans-Serif\" font-size=\"14.00\" fill=\"#000000\">監護輔助人是否為本人「廣義照顧者」 &lt;= 0.5</text>\n<text text-anchor=\"middle\" x=\"341\" y=\"-275.8\" font-family=\"Helvetica,sans-Serif\" font-size=\"14.00\" fill=\"#000000\">gini = 0.142</text>\n<text text-anchor=\"middle\" x=\"341\" y=\"-260.8\" font-family=\"Helvetica,sans-Serif\" font-size=\"14.00\" fill=\"#000000\">samples = 104</text>\n<text text-anchor=\"middle\" x=\"341\" y=\"-245.8\" font-family=\"Helvetica,sans-Serif\" font-size=\"14.00\" fill=\"#000000\">value = [8, 96]</text>\n<text text-anchor=\"middle\" x=\"341\" y=\"-230.8\" font-family=\"Helvetica,sans-Serif\" font-size=\"14.00\" fill=\"#000000\">class = 1</text>\n</g>\n<!-- 1 -->\n<g id=\"node2\" class=\"node\">\n<title>1</title>\n<polygon fill=\"#44a2e6\" stroke=\"#000000\" points=\"346,-187 0,-187 0,-104 346,-104 346,-187\"/>\n<text text-anchor=\"middle\" x=\"173\" y=\"-171.8\" font-family=\"Helvetica,sans-Serif\" font-size=\"14.00\" fill=\"#000000\">法院是否認為原監護輔助人「身體不堪負荷」 &lt;= 0.5</text>\n<text text-anchor=\"middle\" x=\"173\" y=\"-156.8\" font-family=\"Helvetica,sans-Serif\" font-size=\"14.00\" fill=\"#000000\">gini = 0.1</text>\n<text text-anchor=\"middle\" x=\"173\" y=\"-141.8\" font-family=\"Helvetica,sans-Serif\" font-size=\"14.00\" fill=\"#000000\">samples = 95</text>\n<text text-anchor=\"middle\" x=\"173\" y=\"-126.8\" font-family=\"Helvetica,sans-Serif\" font-size=\"14.00\" fill=\"#000000\">value = [5, 90]</text>\n<text text-anchor=\"middle\" x=\"173\" y=\"-111.8\" font-family=\"Helvetica,sans-Serif\" font-size=\"14.00\" fill=\"#000000\">class = 1</text>\n</g>\n<!-- 0&#45;&gt;1 -->\n<g id=\"edge1\" class=\"edge\">\n<title>0&#45;&gt;1</title>\n<path fill=\"none\" stroke=\"#000000\" d=\"M282.2418,-222.8796C268.6857,-213.2774 254.1628,-202.9903 240.2754,-193.1534\"/>\n<polygon fill=\"#000000\" stroke=\"#000000\" points=\"241.9084,-190.021 231.7251,-187.0969 237.8623,-195.7332 241.9084,-190.021\"/>\n<text text-anchor=\"middle\" x=\"235.9325\" y=\"-208.0403\" font-family=\"Helvetica,sans-Serif\" font-size=\"14.00\" fill=\"#000000\">True</text>\n</g>\n<!-- 4 -->\n<g id=\"node5\" class=\"node\">\n<title>4</title>\n<polygon fill=\"#9ccef2\" stroke=\"#000000\" points=\"653.5,-187 364.5,-187 364.5,-104 653.5,-104 653.5,-187\"/>\n<text text-anchor=\"middle\" x=\"509\" y=\"-171.8\" font-family=\"Helvetica,sans-Serif\" font-size=\"14.00\" fill=\"#000000\">監護輔助人是本人之「實際照顧者」 &lt;= 0.5</text>\n<text text-anchor=\"middle\" x=\"509\" y=\"-156.8\" font-family=\"Helvetica,sans-Serif\" font-size=\"14.00\" fill=\"#000000\">gini = 0.444</text>\n<text text-anchor=\"middle\" x=\"509\" y=\"-141.8\" font-family=\"Helvetica,sans-Serif\" font-size=\"14.00\" fill=\"#000000\">samples = 9</text>\n<text text-anchor=\"middle\" x=\"509\" y=\"-126.8\" font-family=\"Helvetica,sans-Serif\" font-size=\"14.00\" fill=\"#000000\">value = [3, 6]</text>\n<text text-anchor=\"middle\" x=\"509\" y=\"-111.8\" font-family=\"Helvetica,sans-Serif\" font-size=\"14.00\" fill=\"#000000\">class = 1</text>\n</g>\n<!-- 0&#45;&gt;4 -->\n<g id=\"edge4\" class=\"edge\">\n<title>0&#45;&gt;4</title>\n<path fill=\"none\" stroke=\"#000000\" d=\"M399.7582,-222.8796C413.3143,-213.2774 427.8372,-202.9903 441.7246,-193.1534\"/>\n<polygon fill=\"#000000\" stroke=\"#000000\" points=\"444.1377,-195.7332 450.2749,-187.0969 440.0916,-190.021 444.1377,-195.7332\"/>\n<text text-anchor=\"middle\" x=\"446.0675\" y=\"-208.0403\" font-family=\"Helvetica,sans-Serif\" font-size=\"14.00\" fill=\"#000000\">False</text>\n</g>\n<!-- 2 -->\n<g id=\"node3\" class=\"node\">\n<title>2</title>\n<polygon fill=\"#4aa6e7\" stroke=\"#000000\" points=\"213.5,-68 106.5,-68 106.5,0 213.5,0 213.5,-68\"/>\n<text text-anchor=\"middle\" x=\"160\" y=\"-52.8\" font-family=\"Helvetica,sans-Serif\" font-size=\"14.00\" fill=\"#000000\">gini = 0.148</text>\n<text text-anchor=\"middle\" x=\"160\" y=\"-37.8\" font-family=\"Helvetica,sans-Serif\" font-size=\"14.00\" fill=\"#000000\">samples = 62</text>\n<text text-anchor=\"middle\" x=\"160\" y=\"-22.8\" font-family=\"Helvetica,sans-Serif\" font-size=\"14.00\" fill=\"#000000\">value = [5, 57]</text>\n<text text-anchor=\"middle\" x=\"160\" y=\"-7.8\" font-family=\"Helvetica,sans-Serif\" font-size=\"14.00\" fill=\"#000000\">class = 1</text>\n</g>\n<!-- 1&#45;&gt;2 -->\n<g id=\"edge2\" class=\"edge\">\n<title>1&#45;&gt;2</title>\n<path fill=\"none\" stroke=\"#000000\" d=\"M168.1593,-103.9815C167.1842,-95.618 166.1557,-86.7965 165.1698,-78.3409\"/>\n<polygon fill=\"#000000\" stroke=\"#000000\" points=\"168.6295,-77.791 163.9949,-68.2637 161.6766,-78.6017 168.6295,-77.791\"/>\n</g>\n<!-- 3 -->\n<g id=\"node4\" class=\"node\">\n<title>3</title>\n<polygon fill=\"#399de5\" stroke=\"#000000\" points=\"338.5,-68 231.5,-68 231.5,0 338.5,0 338.5,-68\"/>\n<text text-anchor=\"middle\" x=\"285\" y=\"-52.8\" font-family=\"Helvetica,sans-Serif\" font-size=\"14.00\" fill=\"#000000\">gini = 0.0</text>\n<text text-anchor=\"middle\" x=\"285\" y=\"-37.8\" font-family=\"Helvetica,sans-Serif\" font-size=\"14.00\" fill=\"#000000\">samples = 33</text>\n<text text-anchor=\"middle\" x=\"285\" y=\"-22.8\" font-family=\"Helvetica,sans-Serif\" font-size=\"14.00\" fill=\"#000000\">value = [0, 33]</text>\n<text text-anchor=\"middle\" x=\"285\" y=\"-7.8\" font-family=\"Helvetica,sans-Serif\" font-size=\"14.00\" fill=\"#000000\">class = 1</text>\n</g>\n<!-- 1&#45;&gt;3 -->\n<g id=\"edge3\" class=\"edge\">\n<title>1&#45;&gt;3</title>\n<path fill=\"none\" stroke=\"#000000\" d=\"M214.7047,-103.9815C224.0289,-94.6989 233.9197,-84.8522 243.2459,-75.5677\"/>\n<polygon fill=\"#000000\" stroke=\"#000000\" points=\"245.9651,-77.7993 250.5827,-68.2637 241.0264,-72.8385 245.9651,-77.7993\"/>\n</g>\n<!-- 5 -->\n<g id=\"node6\" class=\"node\">\n<title>5</title>\n<polygon fill=\"#ffffff\" stroke=\"#000000\" points=\"506.5,-68 407.5,-68 407.5,0 506.5,0 506.5,-68\"/>\n<text text-anchor=\"middle\" x=\"457\" y=\"-52.8\" font-family=\"Helvetica,sans-Serif\" font-size=\"14.00\" fill=\"#000000\">gini = 0.5</text>\n<text text-anchor=\"middle\" x=\"457\" y=\"-37.8\" font-family=\"Helvetica,sans-Serif\" font-size=\"14.00\" fill=\"#000000\">samples = 6</text>\n<text text-anchor=\"middle\" x=\"457\" y=\"-22.8\" font-family=\"Helvetica,sans-Serif\" font-size=\"14.00\" fill=\"#000000\">value = [3, 3]</text>\n<text text-anchor=\"middle\" x=\"457\" y=\"-7.8\" font-family=\"Helvetica,sans-Serif\" font-size=\"14.00\" fill=\"#000000\">class = 0</text>\n</g>\n<!-- 4&#45;&gt;5 -->\n<g id=\"edge5\" class=\"edge\">\n<title>4&#45;&gt;5</title>\n<path fill=\"none\" stroke=\"#000000\" d=\"M489.6371,-103.9815C485.6081,-95.3423 481.3511,-86.2144 477.2897,-77.5059\"/>\n<polygon fill=\"#000000\" stroke=\"#000000\" points=\"480.3782,-75.8472 472.9795,-68.2637 474.0341,-78.8059 480.3782,-75.8472\"/>\n</g>\n<!-- 6 -->\n<g id=\"node7\" class=\"node\">\n<title>6</title>\n<polygon fill=\"#399de5\" stroke=\"#000000\" points=\"623.5,-68 524.5,-68 524.5,0 623.5,0 623.5,-68\"/>\n<text text-anchor=\"middle\" x=\"574\" y=\"-52.8\" font-family=\"Helvetica,sans-Serif\" font-size=\"14.00\" fill=\"#000000\">gini = 0.0</text>\n<text text-anchor=\"middle\" x=\"574\" y=\"-37.8\" font-family=\"Helvetica,sans-Serif\" font-size=\"14.00\" fill=\"#000000\">samples = 3</text>\n<text text-anchor=\"middle\" x=\"574\" y=\"-22.8\" font-family=\"Helvetica,sans-Serif\" font-size=\"14.00\" fill=\"#000000\">value = [0, 3]</text>\n<text text-anchor=\"middle\" x=\"574\" y=\"-7.8\" font-family=\"Helvetica,sans-Serif\" font-size=\"14.00\" fill=\"#000000\">class = 1</text>\n</g>\n<!-- 4&#45;&gt;6 -->\n<g id=\"edge6\" class=\"edge\">\n<title>4&#45;&gt;6</title>\n<path fill=\"none\" stroke=\"#000000\" d=\"M533.2036,-103.9815C538.3471,-95.1585 543.7877,-85.8258 548.9616,-76.9506\"/>\n<polygon fill=\"#000000\" stroke=\"#000000\" points=\"552.013,-78.6656 554.0257,-68.2637 545.9656,-75.1402 552.013,-78.6656\"/>\n</g>\n</g>\n</svg>\n"
          },
          "metadata": {}
        }
      ]
    },
    {
      "cell_type": "markdown",
      "source": [
        "### 5.2 輔助宣告"
      ],
      "metadata": {
        "id": "3YINLr1hHfZ7"
      }
    },
    {
      "cell_type": "markdown",
      "source": [
        "#### 5.2.1 法院認定的改定因素"
      ],
      "metadata": {
        "id": "NZuOvq0lHfZ7"
      }
    },
    {
      "cell_type": "code",
      "source": [
        "dt_assist = DecisionTree(gsheet_id, gsheet_assist, auto_proc=True, to_drop=[\n",
        "  'index',\n",
        "  'UUID',\n",
        "  '宣告性質',\n",
        "  '原監護輔助人之類型',\n",
        "  '原監護輔助人之人數（自然人）',\n",
        "  '主管機關是否被法院改定 (1=是, 2=否)',\n",
        "  '法院是否考慮原監護輔助人之身體狀況',\n",
        "  '法院是否於聲請原因外考量「其他改定因素」'\n",
        "  '聲因1',\n",
        "  '聲因2',\n",
        "  '聲因3',\n",
        "  '聲因4',\n",
        "  '聲因5',\n",
        "  '聲因6',\n",
        "  '聲因7',\n",
        "  '聲因8',\n",
        "  '聲因9'\n",
        "])\n",
        "for col in dt_assist.df.columns:\n",
        "  dt_assist.replace_col_to(col, '', 0) # 替換 '' to -100 因為決策樹不支援 NaN\n",
        "dt_assist.convert_to_numeric()\n",
        "dt_assist.load(dt_assist.cols()[9:21], '原監護輔助人是否被法院改定', binary_y=True, max_depth=2)\n",
        "dt_assist.text_representation()\n",
        "dt_assist.graph()"
      ],
      "metadata": {
        "colab": {
          "base_uri": "https://localhost:8080/",
          "height": 755
        },
        "outputId": "b181418f-c607-4d95-cd2f-b8170f183dea",
        "id": "Ysw0HzACHfZ7"
      },
      "execution_count": null,
      "outputs": [
        {
          "output_type": "stream",
          "name": "stdout",
          "text": [
            "載入資料筆數：99\n",
            "x ['法院是否認為原監護輔助人「年事已高」', '法院是否認為原監護輔助人「身體不堪負荷」', '法院是否認為原監護輔助人「盜領存款」', '法院是否認為原監護輔助人「不當處理本人之不動產」', '原監護輔助人是否與本人有「利害關係」', '法院是否認為原監護輔助人有「其他不當行為」', '監護輔助人是本人之「實際照顧者」', '監護輔助人是否為本人「廣義照顧者」', '原監護輔助人是否有意願續任', '專業人士訪視報告之「改定建議」', '本人之「改定建議」', '其他親屬、關係人之「改定建議」']\n",
            "y 原監護輔助人是否被法院改定\n",
            "預測 [1 1 1 1 1 0 0 1 1 1 0 1 0 1 0 1 1 1 1 1]\n",
            "標準答案 [1 1 1 1 1 1 0 1 1 1 0 1 0 1 1 1 1 1 1 1]\n",
            "績效 0.9\n",
            "|--- feature_8 <= 0.50\n",
            "|   |--- feature_11 <= 0.50\n",
            "|   |   |--- class: 1\n",
            "|   |--- feature_11 >  0.50\n",
            "|   |   |--- class: 1\n",
            "|--- feature_8 >  0.50\n",
            "|   |--- feature_10 <= 0.50\n",
            "|   |   |--- class: 0\n",
            "|   |--- feature_10 >  0.50\n",
            "|   |   |--- class: 1\n",
            "\n"
          ]
        },
        {
          "output_type": "execute_result",
          "data": {
            "text/plain": [
              "<graphviz.files.Source at 0x7f4530d2d710>"
            ],
            "image/svg+xml": "<?xml version=\"1.0\" encoding=\"UTF-8\" standalone=\"no\"?>\n<!DOCTYPE svg PUBLIC \"-//W3C//DTD SVG 1.1//EN\"\n \"http://www.w3.org/Graphics/SVG/1.1/DTD/svg11.dtd\">\n<!-- Generated by graphviz version 2.40.1 (20161225.0304)\n -->\n<!-- Title: Tree Pages: 1 -->\n<svg width=\"536pt\" height=\"314pt\"\n viewBox=\"0.00 0.00 536.00 314.00\" xmlns=\"http://www.w3.org/2000/svg\" xmlns:xlink=\"http://www.w3.org/1999/xlink\">\n<g id=\"graph0\" class=\"graph\" transform=\"scale(1 1) rotate(0) translate(4 310)\">\n<title>Tree</title>\n<polygon fill=\"#ffffff\" stroke=\"transparent\" points=\"-4,4 -4,-310 532,-310 532,4 -4,4\"/>\n<!-- 0 -->\n<g id=\"node1\" class=\"node\">\n<title>0</title>\n<polygon fill=\"#b9dcf6\" stroke=\"#000000\" points=\"385.5,-306 139.5,-306 139.5,-223 385.5,-223 385.5,-306\"/>\n<text text-anchor=\"middle\" x=\"262.5\" y=\"-290.8\" font-family=\"Helvetica,sans-Serif\" font-size=\"14.00\" fill=\"#000000\">原監護輔助人是否有意願續任 &lt;= 0.5</text>\n<text text-anchor=\"middle\" x=\"262.5\" y=\"-275.8\" font-family=\"Helvetica,sans-Serif\" font-size=\"14.00\" fill=\"#000000\">gini = 0.477</text>\n<text text-anchor=\"middle\" x=\"262.5\" y=\"-260.8\" font-family=\"Helvetica,sans-Serif\" font-size=\"14.00\" fill=\"#000000\">samples = 79</text>\n<text text-anchor=\"middle\" x=\"262.5\" y=\"-245.8\" font-family=\"Helvetica,sans-Serif\" font-size=\"14.00\" fill=\"#000000\">value = [31, 48]</text>\n<text text-anchor=\"middle\" x=\"262.5\" y=\"-230.8\" font-family=\"Helvetica,sans-Serif\" font-size=\"14.00\" fill=\"#000000\">class = 1</text>\n</g>\n<!-- 1 -->\n<g id=\"node2\" class=\"node\">\n<title>1</title>\n<polygon fill=\"#64b2eb\" stroke=\"#000000\" points=\"275,-187 0,-187 0,-104 275,-104 275,-187\"/>\n<text text-anchor=\"middle\" x=\"137.5\" y=\"-171.8\" font-family=\"Helvetica,sans-Serif\" font-size=\"14.00\" fill=\"#000000\">其他親屬、關係人之「改定建議」 &lt;= 0.5</text>\n<text text-anchor=\"middle\" x=\"137.5\" y=\"-156.8\" font-family=\"Helvetica,sans-Serif\" font-size=\"14.00\" fill=\"#000000\">gini = 0.292</text>\n<text text-anchor=\"middle\" x=\"137.5\" y=\"-141.8\" font-family=\"Helvetica,sans-Serif\" font-size=\"14.00\" fill=\"#000000\">samples = 45</text>\n<text text-anchor=\"middle\" x=\"137.5\" y=\"-126.8\" font-family=\"Helvetica,sans-Serif\" font-size=\"14.00\" fill=\"#000000\">value = [8, 37]</text>\n<text text-anchor=\"middle\" x=\"137.5\" y=\"-111.8\" font-family=\"Helvetica,sans-Serif\" font-size=\"14.00\" fill=\"#000000\">class = 1</text>\n</g>\n<!-- 0&#45;&gt;1 -->\n<g id=\"edge1\" class=\"edge\">\n<title>0&#45;&gt;1</title>\n<path fill=\"none\" stroke=\"#000000\" d=\"M218.7811,-222.8796C209.1314,-213.6931 198.8234,-203.8798 188.9009,-194.4336\"/>\n<polygon fill=\"#000000\" stroke=\"#000000\" points=\"191.0616,-191.6582 181.4055,-187.2981 186.235,-196.7282 191.0616,-191.6582\"/>\n<text text-anchor=\"middle\" x=\"182.0201\" y=\"-208.5905\" font-family=\"Helvetica,sans-Serif\" font-size=\"14.00\" fill=\"#000000\">True</text>\n</g>\n<!-- 4 -->\n<g id=\"node5\" class=\"node\">\n<title>4</title>\n<polygon fill=\"#f1bd98\" stroke=\"#000000\" points=\"482,-187 293,-187 293,-104 482,-104 482,-187\"/>\n<text text-anchor=\"middle\" x=\"387.5\" y=\"-171.8\" font-family=\"Helvetica,sans-Serif\" font-size=\"14.00\" fill=\"#000000\">本人之「改定建議」 &lt;= 0.5</text>\n<text text-anchor=\"middle\" x=\"387.5\" y=\"-156.8\" font-family=\"Helvetica,sans-Serif\" font-size=\"14.00\" fill=\"#000000\">gini = 0.438</text>\n<text text-anchor=\"middle\" x=\"387.5\" y=\"-141.8\" font-family=\"Helvetica,sans-Serif\" font-size=\"14.00\" fill=\"#000000\">samples = 34</text>\n<text text-anchor=\"middle\" x=\"387.5\" y=\"-126.8\" font-family=\"Helvetica,sans-Serif\" font-size=\"14.00\" fill=\"#000000\">value = [23, 11]</text>\n<text text-anchor=\"middle\" x=\"387.5\" y=\"-111.8\" font-family=\"Helvetica,sans-Serif\" font-size=\"14.00\" fill=\"#000000\">class = 0</text>\n</g>\n<!-- 0&#45;&gt;4 -->\n<g id=\"edge4\" class=\"edge\">\n<title>0&#45;&gt;4</title>\n<path fill=\"none\" stroke=\"#000000\" d=\"M306.2189,-222.8796C315.8686,-213.6931 326.1766,-203.8798 336.0991,-194.4336\"/>\n<polygon fill=\"#000000\" stroke=\"#000000\" points=\"338.765,-196.7282 343.5945,-187.2981 333.9384,-191.6582 338.765,-196.7282\"/>\n<text text-anchor=\"middle\" x=\"342.9799\" y=\"-208.5905\" font-family=\"Helvetica,sans-Serif\" font-size=\"14.00\" fill=\"#000000\">False</text>\n</g>\n<!-- 2 -->\n<g id=\"node3\" class=\"node\">\n<title>2</title>\n<polygon fill=\"#96cbf1\" stroke=\"#000000\" points=\"131,-68 24,-68 24,0 131,0 131,-68\"/>\n<text text-anchor=\"middle\" x=\"77.5\" y=\"-52.8\" font-family=\"Helvetica,sans-Serif\" font-size=\"14.00\" fill=\"#000000\">gini = 0.435</text>\n<text text-anchor=\"middle\" x=\"77.5\" y=\"-37.8\" font-family=\"Helvetica,sans-Serif\" font-size=\"14.00\" fill=\"#000000\">samples = 25</text>\n<text text-anchor=\"middle\" x=\"77.5\" y=\"-22.8\" font-family=\"Helvetica,sans-Serif\" font-size=\"14.00\" fill=\"#000000\">value = [8, 17]</text>\n<text text-anchor=\"middle\" x=\"77.5\" y=\"-7.8\" font-family=\"Helvetica,sans-Serif\" font-size=\"14.00\" fill=\"#000000\">class = 1</text>\n</g>\n<!-- 1&#45;&gt;2 -->\n<g id=\"edge2\" class=\"edge\">\n<title>1&#45;&gt;2</title>\n<path fill=\"none\" stroke=\"#000000\" d=\"M115.1582,-103.9815C110.4598,-95.2504 105.4929,-86.0202 100.7617,-77.2281\"/>\n<polygon fill=\"#000000\" stroke=\"#000000\" points=\"103.7586,-75.4111 95.9379,-68.2637 97.5944,-78.7282 103.7586,-75.4111\"/>\n</g>\n<!-- 3 -->\n<g id=\"node4\" class=\"node\">\n<title>3</title>\n<polygon fill=\"#399de5\" stroke=\"#000000\" points=\"256,-68 149,-68 149,0 256,0 256,-68\"/>\n<text text-anchor=\"middle\" x=\"202.5\" y=\"-52.8\" font-family=\"Helvetica,sans-Serif\" font-size=\"14.00\" fill=\"#000000\">gini = 0.0</text>\n<text text-anchor=\"middle\" x=\"202.5\" y=\"-37.8\" font-family=\"Helvetica,sans-Serif\" font-size=\"14.00\" fill=\"#000000\">samples = 20</text>\n<text text-anchor=\"middle\" x=\"202.5\" y=\"-22.8\" font-family=\"Helvetica,sans-Serif\" font-size=\"14.00\" fill=\"#000000\">value = [0, 20]</text>\n<text text-anchor=\"middle\" x=\"202.5\" y=\"-7.8\" font-family=\"Helvetica,sans-Serif\" font-size=\"14.00\" fill=\"#000000\">class = 1</text>\n</g>\n<!-- 1&#45;&gt;3 -->\n<g id=\"edge3\" class=\"edge\">\n<title>1&#45;&gt;3</title>\n<path fill=\"none\" stroke=\"#000000\" d=\"M161.7036,-103.9815C166.8471,-95.1585 172.2877,-85.8258 177.4616,-76.9506\"/>\n<polygon fill=\"#000000\" stroke=\"#000000\" points=\"180.513,-78.6656 182.5257,-68.2637 174.4656,-75.1402 180.513,-78.6656\"/>\n</g>\n<!-- 5 -->\n<g id=\"node6\" class=\"node\">\n<title>5</title>\n<polygon fill=\"#e99254\" stroke=\"#000000\" points=\"411,-68 304,-68 304,0 411,0 411,-68\"/>\n<text text-anchor=\"middle\" x=\"357.5\" y=\"-52.8\" font-family=\"Helvetica,sans-Serif\" font-size=\"14.00\" fill=\"#000000\">gini = 0.211</text>\n<text text-anchor=\"middle\" x=\"357.5\" y=\"-37.8\" font-family=\"Helvetica,sans-Serif\" font-size=\"14.00\" fill=\"#000000\">samples = 25</text>\n<text text-anchor=\"middle\" x=\"357.5\" y=\"-22.8\" font-family=\"Helvetica,sans-Serif\" font-size=\"14.00\" fill=\"#000000\">value = [22, 3]</text>\n<text text-anchor=\"middle\" x=\"357.5\" y=\"-7.8\" font-family=\"Helvetica,sans-Serif\" font-size=\"14.00\" fill=\"#000000\">class = 0</text>\n</g>\n<!-- 4&#45;&gt;5 -->\n<g id=\"edge5\" class=\"edge\">\n<title>4&#45;&gt;5</title>\n<path fill=\"none\" stroke=\"#000000\" d=\"M376.3291,-103.9815C374.0541,-95.5261 371.6532,-86.6026 369.3553,-78.0623\"/>\n<polygon fill=\"#000000\" stroke=\"#000000\" points=\"372.697,-77.0109 366.7189,-68.2637 365.9374,-78.8296 372.697,-77.0109\"/>\n</g>\n<!-- 6 -->\n<g id=\"node7\" class=\"node\">\n<title>6</title>\n<polygon fill=\"#52a9e8\" stroke=\"#000000\" points=\"528,-68 429,-68 429,0 528,0 528,-68\"/>\n<text text-anchor=\"middle\" x=\"478.5\" y=\"-52.8\" font-family=\"Helvetica,sans-Serif\" font-size=\"14.00\" fill=\"#000000\">gini = 0.198</text>\n<text text-anchor=\"middle\" x=\"478.5\" y=\"-37.8\" font-family=\"Helvetica,sans-Serif\" font-size=\"14.00\" fill=\"#000000\">samples = 9</text>\n<text text-anchor=\"middle\" x=\"478.5\" y=\"-22.8\" font-family=\"Helvetica,sans-Serif\" font-size=\"14.00\" fill=\"#000000\">value = [1, 8]</text>\n<text text-anchor=\"middle\" x=\"478.5\" y=\"-7.8\" font-family=\"Helvetica,sans-Serif\" font-size=\"14.00\" fill=\"#000000\">class = 1</text>\n</g>\n<!-- 4&#45;&gt;6 -->\n<g id=\"edge6\" class=\"edge\">\n<title>4&#45;&gt;6</title>\n<path fill=\"none\" stroke=\"#000000\" d=\"M421.385,-103.9815C428.8109,-94.8828 436.6792,-85.242 444.1241,-76.1199\"/>\n<polygon fill=\"#000000\" stroke=\"#000000\" points=\"446.9245,-78.224 450.5359,-68.2637 441.5014,-73.798 446.9245,-78.224\"/>\n</g>\n</g>\n</svg>\n"
          },
          "metadata": {},
          "execution_count": 109
        }
      ]
    },
    {
      "cell_type": "markdown",
      "source": [
        "#### 5.2.2 按聲請原因分類之法院認定的改定因素"
      ],
      "metadata": {
        "id": "y3DNGgJbHfZ8"
      }
    },
    {
      "cell_type": "code",
      "source": [
        "for i in range(1, 10):\n",
        "  filter_tree(f\"聲因{str(i)} == 1\", gsheet_assist)"
      ],
      "metadata": {
        "colab": {
          "base_uri": "https://localhost:8080/",
          "height": 1000
        },
        "outputId": "2081435f-4ddf-4f84-87e0-c3f577356a0f",
        "id": "qPlez_UsHfZ8"
      },
      "execution_count": null,
      "outputs": [
        {
          "output_type": "stream",
          "name": "stdout",
          "text": [
            "載入資料筆數：99\n",
            "----------------------------------------------------------------------------------------------------\n",
            "Filter 聲因1 == 1 len = 15\n",
            "----------------------------------------------------------------------------------------------------\n",
            "x ['法院是否認為原監護輔助人「年事已高」', '法院是否認為原監護輔助人「身體不堪負荷」', '法院是否認為原監護輔助人「盜領存款」', '法院是否認為原監護輔助人「不當處理本人之不動產」', '原監護輔助人是否與本人有「利害關係」', '法院是否認為原監護輔助人有「其他不當行為」', '監護輔助人是本人之「實際照顧者」', '監護輔助人是否為本人「廣義照顧者」', '原監護輔助人是否有意願續任', '專業人士訪視報告之「改定建議」', '本人之「改定建議」', '其他親屬、關係人之「改定建議」']\n",
            "y 原監護輔助人是否被法院改定\n",
            "預測 [1 1 0]\n",
            "標準答案 [0 1 1]\n",
            "績效 0.3333333333333333\n",
            "|--- feature_0 <= 0.50\n",
            "|   |--- feature_5 <= 0.50\n",
            "|   |   |--- class: 0\n",
            "|   |--- feature_5 >  0.50\n",
            "|   |   |--- class: 1\n",
            "|--- feature_0 >  0.50\n",
            "|   |--- class: 1\n",
            "\n"
          ]
        },
        {
          "output_type": "display_data",
          "data": {
            "text/plain": [
              "<graphviz.files.Source at 0x7f4532be1a50>"
            ],
            "image/svg+xml": "<?xml version=\"1.0\" encoding=\"UTF-8\" standalone=\"no\"?>\n<!DOCTYPE svg PUBLIC \"-//W3C//DTD SVG 1.1//EN\"\n \"http://www.w3.org/Graphics/SVG/1.1/DTD/svg11.dtd\">\n<!-- Generated by graphviz version 2.40.1 (20161225.0304)\n -->\n<!-- Title: Tree Pages: 1 -->\n<svg width=\"486pt\" height=\"314pt\"\n viewBox=\"0.00 0.00 485.50 314.00\" xmlns=\"http://www.w3.org/2000/svg\" xmlns:xlink=\"http://www.w3.org/1999/xlink\">\n<g id=\"graph0\" class=\"graph\" transform=\"scale(1 1) rotate(0) translate(4 310)\">\n<title>Tree</title>\n<polygon fill=\"#ffffff\" stroke=\"transparent\" points=\"-4,4 -4,-310 481.5,-310 481.5,4 -4,4\"/>\n<!-- 0 -->\n<g id=\"node1\" class=\"node\">\n<title>0</title>\n<polygon fill=\"#61b1ea\" stroke=\"#000000\" points=\"462.5,-306 145.5,-306 145.5,-223 462.5,-223 462.5,-306\"/>\n<text text-anchor=\"middle\" x=\"304\" y=\"-290.8\" font-family=\"Helvetica,sans-Serif\" font-size=\"14.00\" fill=\"#000000\">法院是否認為原監護輔助人「年事已高」 &lt;= 0.5</text>\n<text text-anchor=\"middle\" x=\"304\" y=\"-275.8\" font-family=\"Helvetica,sans-Serif\" font-size=\"14.00\" fill=\"#000000\">gini = 0.278</text>\n<text text-anchor=\"middle\" x=\"304\" y=\"-260.8\" font-family=\"Helvetica,sans-Serif\" font-size=\"14.00\" fill=\"#000000\">samples = 12</text>\n<text text-anchor=\"middle\" x=\"304\" y=\"-245.8\" font-family=\"Helvetica,sans-Serif\" font-size=\"14.00\" fill=\"#000000\">value = [2, 10]</text>\n<text text-anchor=\"middle\" x=\"304\" y=\"-230.8\" font-family=\"Helvetica,sans-Serif\" font-size=\"14.00\" fill=\"#000000\">class = 1</text>\n</g>\n<!-- 1 -->\n<g id=\"node2\" class=\"node\">\n<title>1</title>\n<polygon fill=\"#ffffff\" stroke=\"#000000\" points=\"360,-187 0,-187 0,-104 360,-104 360,-187\"/>\n<text text-anchor=\"middle\" x=\"180\" y=\"-171.8\" font-family=\"Helvetica,sans-Serif\" font-size=\"14.00\" fill=\"#000000\">法院是否認為原監護輔助人有「其他不當行為」 &lt;= 0.5</text>\n<text text-anchor=\"middle\" x=\"180\" y=\"-156.8\" font-family=\"Helvetica,sans-Serif\" font-size=\"14.00\" fill=\"#000000\">gini = 0.5</text>\n<text text-anchor=\"middle\" x=\"180\" y=\"-141.8\" font-family=\"Helvetica,sans-Serif\" font-size=\"14.00\" fill=\"#000000\">samples = 4</text>\n<text text-anchor=\"middle\" x=\"180\" y=\"-126.8\" font-family=\"Helvetica,sans-Serif\" font-size=\"14.00\" fill=\"#000000\">value = [2, 2]</text>\n<text text-anchor=\"middle\" x=\"180\" y=\"-111.8\" font-family=\"Helvetica,sans-Serif\" font-size=\"14.00\" fill=\"#000000\">class = 0</text>\n</g>\n<!-- 0&#45;&gt;1 -->\n<g id=\"edge1\" class=\"edge\">\n<title>0&#45;&gt;1</title>\n<path fill=\"none\" stroke=\"#000000\" d=\"M260.6308,-222.8796C251.0584,-213.6931 240.8328,-203.8798 230.9897,-194.4336\"/>\n<polygon fill=\"#000000\" stroke=\"#000000\" points=\"233.1928,-191.6969 223.5543,-187.2981 228.3459,-196.7475 233.1928,-191.6969\"/>\n<text text-anchor=\"middle\" x=\"224.0686\" y=\"-208.5928\" font-family=\"Helvetica,sans-Serif\" font-size=\"14.00\" fill=\"#000000\">True</text>\n</g>\n<!-- 4 -->\n<g id=\"node5\" class=\"node\">\n<title>4</title>\n<polygon fill=\"#399de5\" stroke=\"#000000\" points=\"477.5,-179.5 378.5,-179.5 378.5,-111.5 477.5,-111.5 477.5,-179.5\"/>\n<text text-anchor=\"middle\" x=\"428\" y=\"-164.3\" font-family=\"Helvetica,sans-Serif\" font-size=\"14.00\" fill=\"#000000\">gini = 0.0</text>\n<text text-anchor=\"middle\" x=\"428\" y=\"-149.3\" font-family=\"Helvetica,sans-Serif\" font-size=\"14.00\" fill=\"#000000\">samples = 8</text>\n<text text-anchor=\"middle\" x=\"428\" y=\"-134.3\" font-family=\"Helvetica,sans-Serif\" font-size=\"14.00\" fill=\"#000000\">value = [0, 8]</text>\n<text text-anchor=\"middle\" x=\"428\" y=\"-119.3\" font-family=\"Helvetica,sans-Serif\" font-size=\"14.00\" fill=\"#000000\">class = 1</text>\n</g>\n<!-- 0&#45;&gt;4 -->\n<g id=\"edge4\" class=\"edge\">\n<title>0&#45;&gt;4</title>\n<path fill=\"none\" stroke=\"#000000\" d=\"M347.3692,-222.8796C359.5148,-211.2237 372.7119,-198.5587 384.8451,-186.9148\"/>\n<polygon fill=\"#000000\" stroke=\"#000000\" points=\"387.4516,-189.2643 392.2433,-179.8149 382.6047,-184.2138 387.4516,-189.2643\"/>\n<text text-anchor=\"middle\" x=\"391.729\" y=\"-201.1096\" font-family=\"Helvetica,sans-Serif\" font-size=\"14.00\" fill=\"#000000\">False</text>\n</g>\n<!-- 2 -->\n<g id=\"node3\" class=\"node\">\n<title>2</title>\n<polygon fill=\"#f2c09c\" stroke=\"#000000\" points=\"171.5,-68 72.5,-68 72.5,0 171.5,0 171.5,-68\"/>\n<text text-anchor=\"middle\" x=\"122\" y=\"-52.8\" font-family=\"Helvetica,sans-Serif\" font-size=\"14.00\" fill=\"#000000\">gini = 0.444</text>\n<text text-anchor=\"middle\" x=\"122\" y=\"-37.8\" font-family=\"Helvetica,sans-Serif\" font-size=\"14.00\" fill=\"#000000\">samples = 3</text>\n<text text-anchor=\"middle\" x=\"122\" y=\"-22.8\" font-family=\"Helvetica,sans-Serif\" font-size=\"14.00\" fill=\"#000000\">value = [2, 1]</text>\n<text text-anchor=\"middle\" x=\"122\" y=\"-7.8\" font-family=\"Helvetica,sans-Serif\" font-size=\"14.00\" fill=\"#000000\">class = 0</text>\n</g>\n<!-- 1&#45;&gt;2 -->\n<g id=\"edge2\" class=\"edge\">\n<title>1&#45;&gt;2</title>\n<path fill=\"none\" stroke=\"#000000\" d=\"M158.4029,-103.9815C153.8612,-95.2504 149.0598,-86.0202 144.4863,-77.2281\"/>\n<polygon fill=\"#000000\" stroke=\"#000000\" points=\"147.5431,-75.52 139.8233,-68.2637 141.3331,-78.7504 147.5431,-75.52\"/>\n</g>\n<!-- 3 -->\n<g id=\"node4\" class=\"node\">\n<title>3</title>\n<polygon fill=\"#399de5\" stroke=\"#000000\" points=\"288.5,-68 189.5,-68 189.5,0 288.5,0 288.5,-68\"/>\n<text text-anchor=\"middle\" x=\"239\" y=\"-52.8\" font-family=\"Helvetica,sans-Serif\" font-size=\"14.00\" fill=\"#000000\">gini = 0.0</text>\n<text text-anchor=\"middle\" x=\"239\" y=\"-37.8\" font-family=\"Helvetica,sans-Serif\" font-size=\"14.00\" fill=\"#000000\">samples = 1</text>\n<text text-anchor=\"middle\" x=\"239\" y=\"-22.8\" font-family=\"Helvetica,sans-Serif\" font-size=\"14.00\" fill=\"#000000\">value = [0, 1]</text>\n<text text-anchor=\"middle\" x=\"239\" y=\"-7.8\" font-family=\"Helvetica,sans-Serif\" font-size=\"14.00\" fill=\"#000000\">class = 1</text>\n</g>\n<!-- 1&#45;&gt;3 -->\n<g id=\"edge3\" class=\"edge\">\n<title>1&#45;&gt;3</title>\n<path fill=\"none\" stroke=\"#000000\" d=\"M201.9694,-103.9815C206.5895,-95.2504 211.4736,-86.0202 216.126,-77.2281\"/>\n<polygon fill=\"#000000\" stroke=\"#000000\" points=\"219.2859,-78.7395 220.8694,-68.2637 213.0987,-75.4655 219.2859,-78.7395\"/>\n</g>\n</g>\n</svg>\n"
          },
          "metadata": {}
        },
        {
          "output_type": "stream",
          "name": "stdout",
          "text": [
            "載入資料筆數：99\n",
            "----------------------------------------------------------------------------------------------------\n",
            "Filter 聲因2 == 1 len = 17\n",
            "----------------------------------------------------------------------------------------------------\n",
            "x ['法院是否認為原監護輔助人「年事已高」', '法院是否認為原監護輔助人「身體不堪負荷」', '法院是否認為原監護輔助人「盜領存款」', '法院是否認為原監護輔助人「不當處理本人之不動產」', '原監護輔助人是否與本人有「利害關係」', '法院是否認為原監護輔助人有「其他不當行為」', '監護輔助人是本人之「實際照顧者」', '監護輔助人是否為本人「廣義照顧者」', '原監護輔助人是否有意願續任', '專業人士訪視報告之「改定建議」', '本人之「改定建議」', '其他親屬、關係人之「改定建議」']\n",
            "y 原監護輔助人是否被法院改定\n",
            "預測 [1 0 1 0]\n",
            "標準答案 [1 1 1 1]\n",
            "績效 0.5\n",
            "|--- feature_1 <= 0.50\n",
            "|   |--- feature_0 <= 0.50\n",
            "|   |   |--- class: 0\n",
            "|   |--- feature_0 >  0.50\n",
            "|   |   |--- class: 1\n",
            "|--- feature_1 >  0.50\n",
            "|   |--- class: 1\n",
            "\n"
          ]
        },
        {
          "output_type": "display_data",
          "data": {
            "text/plain": [
              "<graphviz.files.Source at 0x7f4534c34e50>"
            ],
            "image/svg+xml": "<?xml version=\"1.0\" encoding=\"UTF-8\" standalone=\"no\"?>\n<!DOCTYPE svg PUBLIC \"-//W3C//DTD SVG 1.1//EN\"\n \"http://www.w3.org/Graphics/SVG/1.1/DTD/svg11.dtd\">\n<!-- Generated by graphviz version 2.40.1 (20161225.0304)\n -->\n<!-- Title: Tree Pages: 1 -->\n<svg width=\"453pt\" height=\"314pt\"\n viewBox=\"0.00 0.00 452.50 314.00\" xmlns=\"http://www.w3.org/2000/svg\" xmlns:xlink=\"http://www.w3.org/1999/xlink\">\n<g id=\"graph0\" class=\"graph\" transform=\"scale(1 1) rotate(0) translate(4 310)\">\n<title>Tree</title>\n<polygon fill=\"#ffffff\" stroke=\"transparent\" points=\"-4,4 -4,-310 448.5,-310 448.5,4 -4,4\"/>\n<!-- 0 -->\n<g id=\"node1\" class=\"node\">\n<title>0</title>\n<polygon fill=\"#74baed\" stroke=\"#000000\" points=\"444.5,-306 98.5,-306 98.5,-223 444.5,-223 444.5,-306\"/>\n<text text-anchor=\"middle\" x=\"271.5\" y=\"-290.8\" font-family=\"Helvetica,sans-Serif\" font-size=\"14.00\" fill=\"#000000\">法院是否認為原監護輔助人「身體不堪負荷」 &lt;= 0.5</text>\n<text text-anchor=\"middle\" x=\"271.5\" y=\"-275.8\" font-family=\"Helvetica,sans-Serif\" font-size=\"14.00\" fill=\"#000000\">gini = 0.355</text>\n<text text-anchor=\"middle\" x=\"271.5\" y=\"-260.8\" font-family=\"Helvetica,sans-Serif\" font-size=\"14.00\" fill=\"#000000\">samples = 13</text>\n<text text-anchor=\"middle\" x=\"271.5\" y=\"-245.8\" font-family=\"Helvetica,sans-Serif\" font-size=\"14.00\" fill=\"#000000\">value = [3, 10]</text>\n<text text-anchor=\"middle\" x=\"271.5\" y=\"-230.8\" font-family=\"Helvetica,sans-Serif\" font-size=\"14.00\" fill=\"#000000\">class = 1</text>\n</g>\n<!-- 1 -->\n<g id=\"node2\" class=\"node\">\n<title>1</title>\n<polygon fill=\"#f6d5bd\" stroke=\"#000000\" points=\"317,-187 0,-187 0,-104 317,-104 317,-187\"/>\n<text text-anchor=\"middle\" x=\"158.5\" y=\"-171.8\" font-family=\"Helvetica,sans-Serif\" font-size=\"14.00\" fill=\"#000000\">法院是否認為原監護輔助人「年事已高」 &lt;= 0.5</text>\n<text text-anchor=\"middle\" x=\"158.5\" y=\"-156.8\" font-family=\"Helvetica,sans-Serif\" font-size=\"14.00\" fill=\"#000000\">gini = 0.48</text>\n<text text-anchor=\"middle\" x=\"158.5\" y=\"-141.8\" font-family=\"Helvetica,sans-Serif\" font-size=\"14.00\" fill=\"#000000\">samples = 5</text>\n<text text-anchor=\"middle\" x=\"158.5\" y=\"-126.8\" font-family=\"Helvetica,sans-Serif\" font-size=\"14.00\" fill=\"#000000\">value = [3, 2]</text>\n<text text-anchor=\"middle\" x=\"158.5\" y=\"-111.8\" font-family=\"Helvetica,sans-Serif\" font-size=\"14.00\" fill=\"#000000\">class = 0</text>\n</g>\n<!-- 0&#45;&gt;1 -->\n<g id=\"edge1\" class=\"edge\">\n<title>0&#45;&gt;1</title>\n<path fill=\"none\" stroke=\"#000000\" d=\"M231.9781,-222.8796C223.3403,-213.7832 214.119,-204.0722 205.2303,-194.7116\"/>\n<polygon fill=\"#000000\" stroke=\"#000000\" points=\"207.6146,-192.1395 198.1906,-187.2981 202.5385,-196.9597 207.6146,-192.1395\"/>\n<text text-anchor=\"middle\" x=\"197.5443\" y=\"-208.5897\" font-family=\"Helvetica,sans-Serif\" font-size=\"14.00\" fill=\"#000000\">True</text>\n</g>\n<!-- 4 -->\n<g id=\"node5\" class=\"node\">\n<title>4</title>\n<polygon fill=\"#399de5\" stroke=\"#000000\" points=\"434,-179.5 335,-179.5 335,-111.5 434,-111.5 434,-179.5\"/>\n<text text-anchor=\"middle\" x=\"384.5\" y=\"-164.3\" font-family=\"Helvetica,sans-Serif\" font-size=\"14.00\" fill=\"#000000\">gini = 0.0</text>\n<text text-anchor=\"middle\" x=\"384.5\" y=\"-149.3\" font-family=\"Helvetica,sans-Serif\" font-size=\"14.00\" fill=\"#000000\">samples = 8</text>\n<text text-anchor=\"middle\" x=\"384.5\" y=\"-134.3\" font-family=\"Helvetica,sans-Serif\" font-size=\"14.00\" fill=\"#000000\">value = [0, 8]</text>\n<text text-anchor=\"middle\" x=\"384.5\" y=\"-119.3\" font-family=\"Helvetica,sans-Serif\" font-size=\"14.00\" fill=\"#000000\">class = 1</text>\n</g>\n<!-- 0&#45;&gt;4 -->\n<g id=\"edge4\" class=\"edge\">\n<title>0&#45;&gt;4</title>\n<path fill=\"none\" stroke=\"#000000\" d=\"M311.0219,-222.8796C321.9857,-211.3337 333.8897,-198.7976 344.8601,-187.2446\"/>\n<polygon fill=\"#000000\" stroke=\"#000000\" points=\"347.5673,-189.4766 351.9152,-179.8149 342.4913,-184.6564 347.5673,-189.4766\"/>\n<text text-anchor=\"middle\" x=\"352.5616\" y=\"-201.1066\" font-family=\"Helvetica,sans-Serif\" font-size=\"14.00\" fill=\"#000000\">False</text>\n</g>\n<!-- 2 -->\n<g id=\"node3\" class=\"node\">\n<title>2</title>\n<polygon fill=\"#eeab7b\" stroke=\"#000000\" points=\"150,-68 51,-68 51,0 150,0 150,-68\"/>\n<text text-anchor=\"middle\" x=\"100.5\" y=\"-52.8\" font-family=\"Helvetica,sans-Serif\" font-size=\"14.00\" fill=\"#000000\">gini = 0.375</text>\n<text text-anchor=\"middle\" x=\"100.5\" y=\"-37.8\" font-family=\"Helvetica,sans-Serif\" font-size=\"14.00\" fill=\"#000000\">samples = 4</text>\n<text text-anchor=\"middle\" x=\"100.5\" y=\"-22.8\" font-family=\"Helvetica,sans-Serif\" font-size=\"14.00\" fill=\"#000000\">value = [3, 1]</text>\n<text text-anchor=\"middle\" x=\"100.5\" y=\"-7.8\" font-family=\"Helvetica,sans-Serif\" font-size=\"14.00\" fill=\"#000000\">class = 0</text>\n</g>\n<!-- 1&#45;&gt;2 -->\n<g id=\"edge2\" class=\"edge\">\n<title>1&#45;&gt;2</title>\n<path fill=\"none\" stroke=\"#000000\" d=\"M136.9029,-103.9815C132.3612,-95.2504 127.5598,-86.0202 122.9863,-77.2281\"/>\n<polygon fill=\"#000000\" stroke=\"#000000\" points=\"126.0431,-75.52 118.3233,-68.2637 119.8331,-78.7504 126.0431,-75.52\"/>\n</g>\n<!-- 3 -->\n<g id=\"node4\" class=\"node\">\n<title>3</title>\n<polygon fill=\"#399de5\" stroke=\"#000000\" points=\"267,-68 168,-68 168,0 267,0 267,-68\"/>\n<text text-anchor=\"middle\" x=\"217.5\" y=\"-52.8\" font-family=\"Helvetica,sans-Serif\" font-size=\"14.00\" fill=\"#000000\">gini = 0.0</text>\n<text text-anchor=\"middle\" x=\"217.5\" y=\"-37.8\" font-family=\"Helvetica,sans-Serif\" font-size=\"14.00\" fill=\"#000000\">samples = 1</text>\n<text text-anchor=\"middle\" x=\"217.5\" y=\"-22.8\" font-family=\"Helvetica,sans-Serif\" font-size=\"14.00\" fill=\"#000000\">value = [0, 1]</text>\n<text text-anchor=\"middle\" x=\"217.5\" y=\"-7.8\" font-family=\"Helvetica,sans-Serif\" font-size=\"14.00\" fill=\"#000000\">class = 1</text>\n</g>\n<!-- 1&#45;&gt;3 -->\n<g id=\"edge3\" class=\"edge\">\n<title>1&#45;&gt;3</title>\n<path fill=\"none\" stroke=\"#000000\" d=\"M180.4694,-103.9815C185.0895,-95.2504 189.9736,-86.0202 194.626,-77.2281\"/>\n<polygon fill=\"#000000\" stroke=\"#000000\" points=\"197.7859,-78.7395 199.3694,-68.2637 191.5987,-75.4655 197.7859,-78.7395\"/>\n</g>\n</g>\n</svg>\n"
          },
          "metadata": {}
        },
        {
          "output_type": "stream",
          "name": "stdout",
          "text": [
            "載入資料筆數：99\n",
            "----------------------------------------------------------------------------------------------------\n",
            "Filter 聲因3 == 1 len = 21\n",
            "----------------------------------------------------------------------------------------------------\n",
            "x ['法院是否認為原監護輔助人「年事已高」', '法院是否認為原監護輔助人「身體不堪負荷」', '法院是否認為原監護輔助人「盜領存款」', '法院是否認為原監護輔助人「不當處理本人之不動產」', '原監護輔助人是否與本人有「利害關係」', '法院是否認為原監護輔助人有「其他不當行為」', '監護輔助人是本人之「實際照顧者」', '監護輔助人是否為本人「廣義照顧者」', '原監護輔助人是否有意願續任', '專業人士訪視報告之「改定建議」', '本人之「改定建議」', '其他親屬、關係人之「改定建議」']\n",
            "y 原監護輔助人是否被法院改定\n",
            "預測 [0 1 0 1 0]\n",
            "標準答案 [0 1 0 1 1]\n",
            "績效 0.8\n",
            "|--- feature_5 <= 0.50\n",
            "|   |--- feature_9 <= 0.50\n",
            "|   |   |--- class: 0\n",
            "|   |--- feature_9 >  0.50\n",
            "|   |   |--- class: 1\n",
            "|--- feature_5 >  0.50\n",
            "|   |--- feature_9 <= 0.50\n",
            "|   |   |--- class: 1\n",
            "|   |--- feature_9 >  0.50\n",
            "|   |   |--- class: 1\n",
            "\n"
          ]
        },
        {
          "output_type": "display_data",
          "data": {
            "text/plain": [
              "<graphviz.files.Source at 0x7f4530ede550>"
            ],
            "image/svg+xml": "<?xml version=\"1.0\" encoding=\"UTF-8\" standalone=\"no\"?>\n<!DOCTYPE svg PUBLIC \"-//W3C//DTD SVG 1.1//EN\"\n \"http://www.w3.org/Graphics/SVG/1.1/DTD/svg11.dtd\">\n<!-- Generated by graphviz version 2.40.1 (20161225.0304)\n -->\n<!-- Title: Tree Pages: 1 -->\n<svg width=\"576pt\" height=\"314pt\"\n viewBox=\"0.00 0.00 576.00 314.00\" xmlns=\"http://www.w3.org/2000/svg\" xmlns:xlink=\"http://www.w3.org/1999/xlink\">\n<g id=\"graph0\" class=\"graph\" transform=\"scale(1 1) rotate(0) translate(4 310)\">\n<title>Tree</title>\n<polygon fill=\"#ffffff\" stroke=\"transparent\" points=\"-4,4 -4,-310 572,-310 572,4 -4,4\"/>\n<!-- 0 -->\n<g id=\"node1\" class=\"node\">\n<title>0</title>\n<polygon fill=\"#d3e9f9\" stroke=\"#000000\" points=\"463.5,-306 103.5,-306 103.5,-223 463.5,-223 463.5,-306\"/>\n<text text-anchor=\"middle\" x=\"283.5\" y=\"-290.8\" font-family=\"Helvetica,sans-Serif\" font-size=\"14.00\" fill=\"#000000\">法院是否認為原監護輔助人有「其他不當行為」 &lt;= 0.5</text>\n<text text-anchor=\"middle\" x=\"283.5\" y=\"-275.8\" font-family=\"Helvetica,sans-Serif\" font-size=\"14.00\" fill=\"#000000\">gini = 0.492</text>\n<text text-anchor=\"middle\" x=\"283.5\" y=\"-260.8\" font-family=\"Helvetica,sans-Serif\" font-size=\"14.00\" fill=\"#000000\">samples = 16</text>\n<text text-anchor=\"middle\" x=\"283.5\" y=\"-245.8\" font-family=\"Helvetica,sans-Serif\" font-size=\"14.00\" fill=\"#000000\">value = [7, 9]</text>\n<text text-anchor=\"middle\" x=\"283.5\" y=\"-230.8\" font-family=\"Helvetica,sans-Serif\" font-size=\"14.00\" fill=\"#000000\">class = 1</text>\n</g>\n<!-- 1 -->\n<g id=\"node2\" class=\"node\">\n<title>1</title>\n<polygon fill=\"#eeab7b\" stroke=\"#000000\" points=\"275,-187 0,-187 0,-104 275,-104 275,-187\"/>\n<text text-anchor=\"middle\" x=\"137.5\" y=\"-171.8\" font-family=\"Helvetica,sans-Serif\" font-size=\"14.00\" fill=\"#000000\">專業人士訪視報告之「改定建議」 &lt;= 0.5</text>\n<text text-anchor=\"middle\" x=\"137.5\" y=\"-156.8\" font-family=\"Helvetica,sans-Serif\" font-size=\"14.00\" fill=\"#000000\">gini = 0.375</text>\n<text text-anchor=\"middle\" x=\"137.5\" y=\"-141.8\" font-family=\"Helvetica,sans-Serif\" font-size=\"14.00\" fill=\"#000000\">samples = 8</text>\n<text text-anchor=\"middle\" x=\"137.5\" y=\"-126.8\" font-family=\"Helvetica,sans-Serif\" font-size=\"14.00\" fill=\"#000000\">value = [6, 2]</text>\n<text text-anchor=\"middle\" x=\"137.5\" y=\"-111.8\" font-family=\"Helvetica,sans-Serif\" font-size=\"14.00\" fill=\"#000000\">class = 0</text>\n</g>\n<!-- 0&#45;&gt;1 -->\n<g id=\"edge1\" class=\"edge\">\n<title>0&#45;&gt;1</title>\n<path fill=\"none\" stroke=\"#000000\" d=\"M232.4363,-222.8796C220.9445,-213.513 208.6532,-203.4948 196.855,-193.8784\"/>\n<polygon fill=\"#000000\" stroke=\"#000000\" points=\"198.7444,-190.903 188.7817,-187.2981 194.3218,-196.329 198.7444,-190.903\"/>\n<text text-anchor=\"middle\" x=\"191.3157\" y=\"-208.4693\" font-family=\"Helvetica,sans-Serif\" font-size=\"14.00\" fill=\"#000000\">True</text>\n</g>\n<!-- 4 -->\n<g id=\"node5\" class=\"node\">\n<title>4</title>\n<polygon fill=\"#55abe9\" stroke=\"#000000\" points=\"568,-187 293,-187 293,-104 568,-104 568,-187\"/>\n<text text-anchor=\"middle\" x=\"430.5\" y=\"-171.8\" font-family=\"Helvetica,sans-Serif\" font-size=\"14.00\" fill=\"#000000\">專業人士訪視報告之「改定建議」 &lt;= 0.5</text>\n<text text-anchor=\"middle\" x=\"430.5\" y=\"-156.8\" font-family=\"Helvetica,sans-Serif\" font-size=\"14.00\" fill=\"#000000\">gini = 0.219</text>\n<text text-anchor=\"middle\" x=\"430.5\" y=\"-141.8\" font-family=\"Helvetica,sans-Serif\" font-size=\"14.00\" fill=\"#000000\">samples = 8</text>\n<text text-anchor=\"middle\" x=\"430.5\" y=\"-126.8\" font-family=\"Helvetica,sans-Serif\" font-size=\"14.00\" fill=\"#000000\">value = [1, 7]</text>\n<text text-anchor=\"middle\" x=\"430.5\" y=\"-111.8\" font-family=\"Helvetica,sans-Serif\" font-size=\"14.00\" fill=\"#000000\">class = 1</text>\n</g>\n<!-- 0&#45;&gt;4 -->\n<g id=\"edge4\" class=\"edge\">\n<title>0&#45;&gt;4</title>\n<path fill=\"none\" stroke=\"#000000\" d=\"M334.9135,-222.8796C346.5952,-213.4229 359.0975,-203.302 371.081,-193.6011\"/>\n<polygon fill=\"#000000\" stroke=\"#000000\" points=\"373.2968,-196.3105 378.8671,-187.2981 368.8924,-190.8697 373.2968,-196.3105\"/>\n<text text-anchor=\"middle\" x=\"376.25\" y=\"-208.4607\" font-family=\"Helvetica,sans-Serif\" font-size=\"14.00\" fill=\"#000000\">False</text>\n</g>\n<!-- 2 -->\n<g id=\"node3\" class=\"node\">\n<title>2</title>\n<polygon fill=\"#e9965a\" stroke=\"#000000\" points=\"158,-68 59,-68 59,0 158,0 158,-68\"/>\n<text text-anchor=\"middle\" x=\"108.5\" y=\"-52.8\" font-family=\"Helvetica,sans-Serif\" font-size=\"14.00\" fill=\"#000000\">gini = 0.245</text>\n<text text-anchor=\"middle\" x=\"108.5\" y=\"-37.8\" font-family=\"Helvetica,sans-Serif\" font-size=\"14.00\" fill=\"#000000\">samples = 7</text>\n<text text-anchor=\"middle\" x=\"108.5\" y=\"-22.8\" font-family=\"Helvetica,sans-Serif\" font-size=\"14.00\" fill=\"#000000\">value = [6, 1]</text>\n<text text-anchor=\"middle\" x=\"108.5\" y=\"-7.8\" font-family=\"Helvetica,sans-Serif\" font-size=\"14.00\" fill=\"#000000\">class = 0</text>\n</g>\n<!-- 1&#45;&gt;2 -->\n<g id=\"edge2\" class=\"edge\">\n<title>1&#45;&gt;2</title>\n<path fill=\"none\" stroke=\"#000000\" d=\"M126.7015,-103.9815C124.5023,-95.5261 122.1814,-86.6026 119.9601,-78.0623\"/>\n<polygon fill=\"#000000\" stroke=\"#000000\" points=\"123.3162,-77.0607 117.4116,-68.2637 116.5415,-78.8227 123.3162,-77.0607\"/>\n</g>\n<!-- 3 -->\n<g id=\"node4\" class=\"node\">\n<title>3</title>\n<polygon fill=\"#399de5\" stroke=\"#000000\" points=\"275,-68 176,-68 176,0 275,0 275,-68\"/>\n<text text-anchor=\"middle\" x=\"225.5\" y=\"-52.8\" font-family=\"Helvetica,sans-Serif\" font-size=\"14.00\" fill=\"#000000\">gini = 0.0</text>\n<text text-anchor=\"middle\" x=\"225.5\" y=\"-37.8\" font-family=\"Helvetica,sans-Serif\" font-size=\"14.00\" fill=\"#000000\">samples = 1</text>\n<text text-anchor=\"middle\" x=\"225.5\" y=\"-22.8\" font-family=\"Helvetica,sans-Serif\" font-size=\"14.00\" fill=\"#000000\">value = [0, 1]</text>\n<text text-anchor=\"middle\" x=\"225.5\" y=\"-7.8\" font-family=\"Helvetica,sans-Serif\" font-size=\"14.00\" fill=\"#000000\">class = 1</text>\n</g>\n<!-- 1&#45;&gt;3 -->\n<g id=\"edge3\" class=\"edge\">\n<title>1&#45;&gt;3</title>\n<path fill=\"none\" stroke=\"#000000\" d=\"M170.268,-103.9815C177.449,-94.8828 185.0579,-85.242 192.2574,-76.1199\"/>\n<polygon fill=\"#000000\" stroke=\"#000000\" points=\"195.0099,-78.2818 198.4578,-68.2637 189.5151,-73.9451 195.0099,-78.2818\"/>\n</g>\n<!-- 5 -->\n<g id=\"node6\" class=\"node\">\n<title>5</title>\n<polygon fill=\"#399de5\" stroke=\"#000000\" points=\"436,-68 337,-68 337,0 436,0 436,-68\"/>\n<text text-anchor=\"middle\" x=\"386.5\" y=\"-52.8\" font-family=\"Helvetica,sans-Serif\" font-size=\"14.00\" fill=\"#000000\">gini = 0.0</text>\n<text text-anchor=\"middle\" x=\"386.5\" y=\"-37.8\" font-family=\"Helvetica,sans-Serif\" font-size=\"14.00\" fill=\"#000000\">samples = 5</text>\n<text text-anchor=\"middle\" x=\"386.5\" y=\"-22.8\" font-family=\"Helvetica,sans-Serif\" font-size=\"14.00\" fill=\"#000000\">value = [0, 5]</text>\n<text text-anchor=\"middle\" x=\"386.5\" y=\"-7.8\" font-family=\"Helvetica,sans-Serif\" font-size=\"14.00\" fill=\"#000000\">class = 1</text>\n</g>\n<!-- 4&#45;&gt;5 -->\n<g id=\"edge5\" class=\"edge\">\n<title>4&#45;&gt;5</title>\n<path fill=\"none\" stroke=\"#000000\" d=\"M414.116,-103.9815C410.7431,-95.4342 407.1814,-86.4086 403.778,-77.7839\"/>\n<polygon fill=\"#000000\" stroke=\"#000000\" points=\"406.9475,-76.2808 400.0211,-68.2637 400.4362,-78.8504 406.9475,-76.2808\"/>\n</g>\n<!-- 6 -->\n<g id=\"node7\" class=\"node\">\n<title>6</title>\n<polygon fill=\"#9ccef2\" stroke=\"#000000\" points=\"553,-68 454,-68 454,0 553,0 553,-68\"/>\n<text text-anchor=\"middle\" x=\"503.5\" y=\"-52.8\" font-family=\"Helvetica,sans-Serif\" font-size=\"14.00\" fill=\"#000000\">gini = 0.444</text>\n<text text-anchor=\"middle\" x=\"503.5\" y=\"-37.8\" font-family=\"Helvetica,sans-Serif\" font-size=\"14.00\" fill=\"#000000\">samples = 3</text>\n<text text-anchor=\"middle\" x=\"503.5\" y=\"-22.8\" font-family=\"Helvetica,sans-Serif\" font-size=\"14.00\" fill=\"#000000\">value = [1, 2]</text>\n<text text-anchor=\"middle\" x=\"503.5\" y=\"-7.8\" font-family=\"Helvetica,sans-Serif\" font-size=\"14.00\" fill=\"#000000\">class = 1</text>\n</g>\n<!-- 4&#45;&gt;6 -->\n<g id=\"edge6\" class=\"edge\">\n<title>4&#45;&gt;6</title>\n<path fill=\"none\" stroke=\"#000000\" d=\"M457.6825,-103.9815C463.5192,-95.0666 469.6966,-85.6313 475.5614,-76.6734\"/>\n<polygon fill=\"#000000\" stroke=\"#000000\" points=\"478.5179,-78.5472 481.0673,-68.2637 472.6614,-74.7129 478.5179,-78.5472\"/>\n</g>\n</g>\n</svg>\n"
          },
          "metadata": {}
        },
        {
          "output_type": "stream",
          "name": "stdout",
          "text": [
            "載入資料筆數：99\n",
            "----------------------------------------------------------------------------------------------------\n",
            "Filter 聲因4 == 1 len = 12\n",
            "----------------------------------------------------------------------------------------------------\n",
            "x ['法院是否認為原監護輔助人「年事已高」', '法院是否認為原監護輔助人「身體不堪負荷」', '法院是否認為原監護輔助人「盜領存款」', '法院是否認為原監護輔助人「不當處理本人之不動產」', '原監護輔助人是否與本人有「利害關係」', '法院是否認為原監護輔助人有「其他不當行為」', '監護輔助人是本人之「實際照顧者」', '監護輔助人是否為本人「廣義照顧者」', '原監護輔助人是否有意願續任', '專業人士訪視報告之「改定建議」', '本人之「改定建議」', '其他親屬、關係人之「改定建議」']\n",
            "y 原監護輔助人是否被法院改定\n",
            "預測 [1 1 1]\n",
            "標準答案 [1 1 1]\n",
            "績效 1.0\n",
            "|--- feature_4 <= 0.50\n",
            "|   |--- feature_5 <= 0.50\n",
            "|   |   |--- class: 0\n",
            "|   |--- feature_5 >  0.50\n",
            "|   |   |--- class: 1\n",
            "|--- feature_4 >  0.50\n",
            "|   |--- class: 1\n",
            "\n"
          ]
        },
        {
          "output_type": "display_data",
          "data": {
            "text/plain": [
              "<graphviz.files.Source at 0x7f4530c16110>"
            ],
            "image/svg+xml": "<?xml version=\"1.0\" encoding=\"UTF-8\" standalone=\"no\"?>\n<!DOCTYPE svg PUBLIC \"-//W3C//DTD SVG 1.1//EN\"\n \"http://www.w3.org/Graphics/SVG/1.1/DTD/svg11.dtd\">\n<!-- Generated by graphviz version 2.40.1 (20161225.0304)\n -->\n<!-- Title: Tree Pages: 1 -->\n<svg width=\"486pt\" height=\"314pt\"\n viewBox=\"0.00 0.00 485.50 314.00\" xmlns=\"http://www.w3.org/2000/svg\" xmlns:xlink=\"http://www.w3.org/1999/xlink\">\n<g id=\"graph0\" class=\"graph\" transform=\"scale(1 1) rotate(0) translate(4 310)\">\n<title>Tree</title>\n<polygon fill=\"#ffffff\" stroke=\"transparent\" points=\"-4,4 -4,-310 481.5,-310 481.5,4 -4,4\"/>\n<!-- 0 -->\n<g id=\"node1\" class=\"node\">\n<title>0</title>\n<polygon fill=\"#9ccef2\" stroke=\"#000000\" points=\"462.5,-306 145.5,-306 145.5,-223 462.5,-223 462.5,-306\"/>\n<text text-anchor=\"middle\" x=\"304\" y=\"-290.8\" font-family=\"Helvetica,sans-Serif\" font-size=\"14.00\" fill=\"#000000\">原監護輔助人是否與本人有「利害關係」 &lt;= 0.5</text>\n<text text-anchor=\"middle\" x=\"304\" y=\"-275.8\" font-family=\"Helvetica,sans-Serif\" font-size=\"14.00\" fill=\"#000000\">gini = 0.444</text>\n<text text-anchor=\"middle\" x=\"304\" y=\"-260.8\" font-family=\"Helvetica,sans-Serif\" font-size=\"14.00\" fill=\"#000000\">samples = 9</text>\n<text text-anchor=\"middle\" x=\"304\" y=\"-245.8\" font-family=\"Helvetica,sans-Serif\" font-size=\"14.00\" fill=\"#000000\">value = [3, 6]</text>\n<text text-anchor=\"middle\" x=\"304\" y=\"-230.8\" font-family=\"Helvetica,sans-Serif\" font-size=\"14.00\" fill=\"#000000\">class = 1</text>\n</g>\n<!-- 1 -->\n<g id=\"node2\" class=\"node\">\n<title>1</title>\n<polygon fill=\"#f6d5bd\" stroke=\"#000000\" points=\"360,-187 0,-187 0,-104 360,-104 360,-187\"/>\n<text text-anchor=\"middle\" x=\"180\" y=\"-171.8\" font-family=\"Helvetica,sans-Serif\" font-size=\"14.00\" fill=\"#000000\">法院是否認為原監護輔助人有「其他不當行為」 &lt;= 0.5</text>\n<text text-anchor=\"middle\" x=\"180\" y=\"-156.8\" font-family=\"Helvetica,sans-Serif\" font-size=\"14.00\" fill=\"#000000\">gini = 0.48</text>\n<text text-anchor=\"middle\" x=\"180\" y=\"-141.8\" font-family=\"Helvetica,sans-Serif\" font-size=\"14.00\" fill=\"#000000\">samples = 5</text>\n<text text-anchor=\"middle\" x=\"180\" y=\"-126.8\" font-family=\"Helvetica,sans-Serif\" font-size=\"14.00\" fill=\"#000000\">value = [3, 2]</text>\n<text text-anchor=\"middle\" x=\"180\" y=\"-111.8\" font-family=\"Helvetica,sans-Serif\" font-size=\"14.00\" fill=\"#000000\">class = 0</text>\n</g>\n<!-- 0&#45;&gt;1 -->\n<g id=\"edge1\" class=\"edge\">\n<title>0&#45;&gt;1</title>\n<path fill=\"none\" stroke=\"#000000\" d=\"M260.6308,-222.8796C251.0584,-213.6931 240.8328,-203.8798 230.9897,-194.4336\"/>\n<polygon fill=\"#000000\" stroke=\"#000000\" points=\"233.1928,-191.6969 223.5543,-187.2981 228.3459,-196.7475 233.1928,-191.6969\"/>\n<text text-anchor=\"middle\" x=\"224.0686\" y=\"-208.5928\" font-family=\"Helvetica,sans-Serif\" font-size=\"14.00\" fill=\"#000000\">True</text>\n</g>\n<!-- 4 -->\n<g id=\"node5\" class=\"node\">\n<title>4</title>\n<polygon fill=\"#399de5\" stroke=\"#000000\" points=\"477.5,-179.5 378.5,-179.5 378.5,-111.5 477.5,-111.5 477.5,-179.5\"/>\n<text text-anchor=\"middle\" x=\"428\" y=\"-164.3\" font-family=\"Helvetica,sans-Serif\" font-size=\"14.00\" fill=\"#000000\">gini = 0.0</text>\n<text text-anchor=\"middle\" x=\"428\" y=\"-149.3\" font-family=\"Helvetica,sans-Serif\" font-size=\"14.00\" fill=\"#000000\">samples = 4</text>\n<text text-anchor=\"middle\" x=\"428\" y=\"-134.3\" font-family=\"Helvetica,sans-Serif\" font-size=\"14.00\" fill=\"#000000\">value = [0, 4]</text>\n<text text-anchor=\"middle\" x=\"428\" y=\"-119.3\" font-family=\"Helvetica,sans-Serif\" font-size=\"14.00\" fill=\"#000000\">class = 1</text>\n</g>\n<!-- 0&#45;&gt;4 -->\n<g id=\"edge4\" class=\"edge\">\n<title>0&#45;&gt;4</title>\n<path fill=\"none\" stroke=\"#000000\" d=\"M347.3692,-222.8796C359.5148,-211.2237 372.7119,-198.5587 384.8451,-186.9148\"/>\n<polygon fill=\"#000000\" stroke=\"#000000\" points=\"387.4516,-189.2643 392.2433,-179.8149 382.6047,-184.2138 387.4516,-189.2643\"/>\n<text text-anchor=\"middle\" x=\"391.729\" y=\"-201.1096\" font-family=\"Helvetica,sans-Serif\" font-size=\"14.00\" fill=\"#000000\">False</text>\n</g>\n<!-- 2 -->\n<g id=\"node3\" class=\"node\">\n<title>2</title>\n<polygon fill=\"#e58139\" stroke=\"#000000\" points=\"171.5,-68 72.5,-68 72.5,0 171.5,0 171.5,-68\"/>\n<text text-anchor=\"middle\" x=\"122\" y=\"-52.8\" font-family=\"Helvetica,sans-Serif\" font-size=\"14.00\" fill=\"#000000\">gini = 0.0</text>\n<text text-anchor=\"middle\" x=\"122\" y=\"-37.8\" font-family=\"Helvetica,sans-Serif\" font-size=\"14.00\" fill=\"#000000\">samples = 3</text>\n<text text-anchor=\"middle\" x=\"122\" y=\"-22.8\" font-family=\"Helvetica,sans-Serif\" font-size=\"14.00\" fill=\"#000000\">value = [3, 0]</text>\n<text text-anchor=\"middle\" x=\"122\" y=\"-7.8\" font-family=\"Helvetica,sans-Serif\" font-size=\"14.00\" fill=\"#000000\">class = 0</text>\n</g>\n<!-- 1&#45;&gt;2 -->\n<g id=\"edge2\" class=\"edge\">\n<title>1&#45;&gt;2</title>\n<path fill=\"none\" stroke=\"#000000\" d=\"M158.4029,-103.9815C153.8612,-95.2504 149.0598,-86.0202 144.4863,-77.2281\"/>\n<polygon fill=\"#000000\" stroke=\"#000000\" points=\"147.5431,-75.52 139.8233,-68.2637 141.3331,-78.7504 147.5431,-75.52\"/>\n</g>\n<!-- 3 -->\n<g id=\"node4\" class=\"node\">\n<title>3</title>\n<polygon fill=\"#399de5\" stroke=\"#000000\" points=\"288.5,-68 189.5,-68 189.5,0 288.5,0 288.5,-68\"/>\n<text text-anchor=\"middle\" x=\"239\" y=\"-52.8\" font-family=\"Helvetica,sans-Serif\" font-size=\"14.00\" fill=\"#000000\">gini = 0.0</text>\n<text text-anchor=\"middle\" x=\"239\" y=\"-37.8\" font-family=\"Helvetica,sans-Serif\" font-size=\"14.00\" fill=\"#000000\">samples = 2</text>\n<text text-anchor=\"middle\" x=\"239\" y=\"-22.8\" font-family=\"Helvetica,sans-Serif\" font-size=\"14.00\" fill=\"#000000\">value = [0, 2]</text>\n<text text-anchor=\"middle\" x=\"239\" y=\"-7.8\" font-family=\"Helvetica,sans-Serif\" font-size=\"14.00\" fill=\"#000000\">class = 1</text>\n</g>\n<!-- 1&#45;&gt;3 -->\n<g id=\"edge3\" class=\"edge\">\n<title>1&#45;&gt;3</title>\n<path fill=\"none\" stroke=\"#000000\" d=\"M201.9694,-103.9815C206.5895,-95.2504 211.4736,-86.0202 216.126,-77.2281\"/>\n<polygon fill=\"#000000\" stroke=\"#000000\" points=\"219.2859,-78.7395 220.8694,-68.2637 213.0987,-75.4655 219.2859,-78.7395\"/>\n</g>\n</g>\n</svg>\n"
          },
          "metadata": {}
        },
        {
          "output_type": "stream",
          "name": "stdout",
          "text": [
            "載入資料筆數：99\n",
            "----------------------------------------------------------------------------------------------------\n",
            "Filter 聲因5 == 1 len = 22\n",
            "----------------------------------------------------------------------------------------------------\n",
            "x ['法院是否認為原監護輔助人「年事已高」', '法院是否認為原監護輔助人「身體不堪負荷」', '法院是否認為原監護輔助人「盜領存款」', '法院是否認為原監護輔助人「不當處理本人之不動產」', '原監護輔助人是否與本人有「利害關係」', '法院是否認為原監護輔助人有「其他不當行為」', '監護輔助人是本人之「實際照顧者」', '監護輔助人是否為本人「廣義照顧者」', '原監護輔助人是否有意願續任', '專業人士訪視報告之「改定建議」', '本人之「改定建議」', '其他親屬、關係人之「改定建議」']\n",
            "y 原監護輔助人是否被法院改定\n",
            "預測 [0 1 1 1 1]\n",
            "標準答案 [0 1 1 0 1]\n",
            "績效 0.8\n",
            "|--- feature_10 <= 0.50\n",
            "|   |--- feature_9 <= 0.50\n",
            "|   |   |--- class: 0\n",
            "|   |--- feature_9 >  0.50\n",
            "|   |   |--- class: 1\n",
            "|--- feature_10 >  0.50\n",
            "|   |--- class: 1\n",
            "\n"
          ]
        },
        {
          "output_type": "display_data",
          "data": {
            "text/plain": [
              "<graphviz.files.Source at 0x7f4530c2e2d0>"
            ],
            "image/svg+xml": "<?xml version=\"1.0\" encoding=\"UTF-8\" standalone=\"no\"?>\n<!DOCTYPE svg PUBLIC \"-//W3C//DTD SVG 1.1//EN\"\n \"http://www.w3.org/Graphics/SVG/1.1/DTD/svg11.dtd\">\n<!-- Generated by graphviz version 2.40.1 (20161225.0304)\n -->\n<!-- Title: Tree Pages: 1 -->\n<svg width=\"400pt\" height=\"314pt\"\n viewBox=\"0.00 0.00 400.00 314.00\" xmlns=\"http://www.w3.org/2000/svg\" xmlns:xlink=\"http://www.w3.org/1999/xlink\">\n<g id=\"graph0\" class=\"graph\" transform=\"scale(1 1) rotate(0) translate(4 310)\">\n<title>Tree</title>\n<polygon fill=\"#ffffff\" stroke=\"transparent\" points=\"-4,4 -4,-310 396,-310 396,4 -4,4\"/>\n<!-- 0 -->\n<g id=\"node1\" class=\"node\">\n<title>0</title>\n<polygon fill=\"#f7d9c4\" stroke=\"#000000\" points=\"334,-306 145,-306 145,-223 334,-223 334,-306\"/>\n<text text-anchor=\"middle\" x=\"239.5\" y=\"-290.8\" font-family=\"Helvetica,sans-Serif\" font-size=\"14.00\" fill=\"#000000\">本人之「改定建議」 &lt;= 0.5</text>\n<text text-anchor=\"middle\" x=\"239.5\" y=\"-275.8\" font-family=\"Helvetica,sans-Serif\" font-size=\"14.00\" fill=\"#000000\">gini = 0.484</text>\n<text text-anchor=\"middle\" x=\"239.5\" y=\"-260.8\" font-family=\"Helvetica,sans-Serif\" font-size=\"14.00\" fill=\"#000000\">samples = 17</text>\n<text text-anchor=\"middle\" x=\"239.5\" y=\"-245.8\" font-family=\"Helvetica,sans-Serif\" font-size=\"14.00\" fill=\"#000000\">value = [10, 7]</text>\n<text text-anchor=\"middle\" x=\"239.5\" y=\"-230.8\" font-family=\"Helvetica,sans-Serif\" font-size=\"14.00\" fill=\"#000000\">class = 0</text>\n</g>\n<!-- 1 -->\n<g id=\"node2\" class=\"node\">\n<title>1</title>\n<polygon fill=\"#ea9a61\" stroke=\"#000000\" points=\"275,-187 0,-187 0,-104 275,-104 275,-187\"/>\n<text text-anchor=\"middle\" x=\"137.5\" y=\"-171.8\" font-family=\"Helvetica,sans-Serif\" font-size=\"14.00\" fill=\"#000000\">專業人士訪視報告之「改定建議」 &lt;= 0.5</text>\n<text text-anchor=\"middle\" x=\"137.5\" y=\"-156.8\" font-family=\"Helvetica,sans-Serif\" font-size=\"14.00\" fill=\"#000000\">gini = 0.278</text>\n<text text-anchor=\"middle\" x=\"137.5\" y=\"-141.8\" font-family=\"Helvetica,sans-Serif\" font-size=\"14.00\" fill=\"#000000\">samples = 12</text>\n<text text-anchor=\"middle\" x=\"137.5\" y=\"-126.8\" font-family=\"Helvetica,sans-Serif\" font-size=\"14.00\" fill=\"#000000\">value = [10, 2]</text>\n<text text-anchor=\"middle\" x=\"137.5\" y=\"-111.8\" font-family=\"Helvetica,sans-Serif\" font-size=\"14.00\" fill=\"#000000\">class = 0</text>\n</g>\n<!-- 0&#45;&gt;1 -->\n<g id=\"edge1\" class=\"edge\">\n<title>0&#45;&gt;1</title>\n<path fill=\"none\" stroke=\"#000000\" d=\"M203.8253,-222.8796C196.1057,-213.8733 187.8695,-204.2644 179.9197,-194.9897\"/>\n<polygon fill=\"#000000\" stroke=\"#000000\" points=\"182.4923,-192.6129 173.3269,-187.2981 177.1775,-197.1684 182.4923,-192.6129\"/>\n<text text-anchor=\"middle\" x=\"171.4095\" y=\"-208.5244\" font-family=\"Helvetica,sans-Serif\" font-size=\"14.00\" fill=\"#000000\">True</text>\n</g>\n<!-- 4 -->\n<g id=\"node5\" class=\"node\">\n<title>4</title>\n<polygon fill=\"#399de5\" stroke=\"#000000\" points=\"392,-179.5 293,-179.5 293,-111.5 392,-111.5 392,-179.5\"/>\n<text text-anchor=\"middle\" x=\"342.5\" y=\"-164.3\" font-family=\"Helvetica,sans-Serif\" font-size=\"14.00\" fill=\"#000000\">gini = 0.0</text>\n<text text-anchor=\"middle\" x=\"342.5\" y=\"-149.3\" font-family=\"Helvetica,sans-Serif\" font-size=\"14.00\" fill=\"#000000\">samples = 5</text>\n<text text-anchor=\"middle\" x=\"342.5\" y=\"-134.3\" font-family=\"Helvetica,sans-Serif\" font-size=\"14.00\" fill=\"#000000\">value = [0, 5]</text>\n<text text-anchor=\"middle\" x=\"342.5\" y=\"-119.3\" font-family=\"Helvetica,sans-Serif\" font-size=\"14.00\" fill=\"#000000\">class = 1</text>\n</g>\n<!-- 0&#45;&gt;4 -->\n<g id=\"edge4\" class=\"edge\">\n<title>0&#45;&gt;4</title>\n<path fill=\"none\" stroke=\"#000000\" d=\"M275.5244,-222.8796C285.4227,-211.4436 296.1619,-199.0363 306.0822,-187.575\"/>\n<polygon fill=\"#000000\" stroke=\"#000000\" points=\"308.9007,-189.6666 312.7988,-179.8149 303.6079,-185.0855 308.9007,-189.6666\"/>\n<text text-anchor=\"middle\" x=\"314.596\" y=\"-201.0503\" font-family=\"Helvetica,sans-Serif\" font-size=\"14.00\" fill=\"#000000\">False</text>\n</g>\n<!-- 2 -->\n<g id=\"node3\" class=\"node\">\n<title>2</title>\n<polygon fill=\"#e88e4d\" stroke=\"#000000\" points=\"131,-68 24,-68 24,0 131,0 131,-68\"/>\n<text text-anchor=\"middle\" x=\"77.5\" y=\"-52.8\" font-family=\"Helvetica,sans-Serif\" font-size=\"14.00\" fill=\"#000000\">gini = 0.165</text>\n<text text-anchor=\"middle\" x=\"77.5\" y=\"-37.8\" font-family=\"Helvetica,sans-Serif\" font-size=\"14.00\" fill=\"#000000\">samples = 11</text>\n<text text-anchor=\"middle\" x=\"77.5\" y=\"-22.8\" font-family=\"Helvetica,sans-Serif\" font-size=\"14.00\" fill=\"#000000\">value = [10, 1]</text>\n<text text-anchor=\"middle\" x=\"77.5\" y=\"-7.8\" font-family=\"Helvetica,sans-Serif\" font-size=\"14.00\" fill=\"#000000\">class = 0</text>\n</g>\n<!-- 1&#45;&gt;2 -->\n<g id=\"edge2\" class=\"edge\">\n<title>1&#45;&gt;2</title>\n<path fill=\"none\" stroke=\"#000000\" d=\"M115.1582,-103.9815C110.4598,-95.2504 105.4929,-86.0202 100.7617,-77.2281\"/>\n<polygon fill=\"#000000\" stroke=\"#000000\" points=\"103.7586,-75.4111 95.9379,-68.2637 97.5944,-78.7282 103.7586,-75.4111\"/>\n</g>\n<!-- 3 -->\n<g id=\"node4\" class=\"node\">\n<title>3</title>\n<polygon fill=\"#399de5\" stroke=\"#000000\" points=\"248,-68 149,-68 149,0 248,0 248,-68\"/>\n<text text-anchor=\"middle\" x=\"198.5\" y=\"-52.8\" font-family=\"Helvetica,sans-Serif\" font-size=\"14.00\" fill=\"#000000\">gini = 0.0</text>\n<text text-anchor=\"middle\" x=\"198.5\" y=\"-37.8\" font-family=\"Helvetica,sans-Serif\" font-size=\"14.00\" fill=\"#000000\">samples = 1</text>\n<text text-anchor=\"middle\" x=\"198.5\" y=\"-22.8\" font-family=\"Helvetica,sans-Serif\" font-size=\"14.00\" fill=\"#000000\">value = [0, 1]</text>\n<text text-anchor=\"middle\" x=\"198.5\" y=\"-7.8\" font-family=\"Helvetica,sans-Serif\" font-size=\"14.00\" fill=\"#000000\">class = 1</text>\n</g>\n<!-- 1&#45;&gt;3 -->\n<g id=\"edge3\" class=\"edge\">\n<title>1&#45;&gt;3</title>\n<path fill=\"none\" stroke=\"#000000\" d=\"M160.2141,-103.9815C164.9908,-95.2504 170.0405,-86.0202 174.8506,-77.2281\"/>\n<polygon fill=\"#000000\" stroke=\"#000000\" points=\"178.0258,-78.7165 179.7549,-68.2637 171.8847,-75.3568 178.0258,-78.7165\"/>\n</g>\n</g>\n</svg>\n"
          },
          "metadata": {}
        },
        {
          "output_type": "stream",
          "name": "stdout",
          "text": [
            "載入資料筆數：99\n",
            "----------------------------------------------------------------------------------------------------\n",
            "Filter 聲因6 == 1 len = 28\n",
            "----------------------------------------------------------------------------------------------------\n",
            "x ['法院是否認為原監護輔助人「年事已高」', '法院是否認為原監護輔助人「身體不堪負荷」', '法院是否認為原監護輔助人「盜領存款」', '法院是否認為原監護輔助人「不當處理本人之不動產」', '原監護輔助人是否與本人有「利害關係」', '法院是否認為原監護輔助人有「其他不當行為」', '監護輔助人是本人之「實際照顧者」', '監護輔助人是否為本人「廣義照顧者」', '原監護輔助人是否有意願續任', '專業人士訪視報告之「改定建議」', '本人之「改定建議」', '其他親屬、關係人之「改定建議」']\n",
            "y 原監護輔助人是否被法院改定\n",
            "預測 [0 1 1 0 0 1]\n",
            "標準答案 [1 1 1 0 1 1]\n",
            "績效 0.6666666666666666\n",
            "|--- feature_10 <= 0.50\n",
            "|   |--- feature_11 <= 0.50\n",
            "|   |   |--- class: 0\n",
            "|   |--- feature_11 >  0.50\n",
            "|   |   |--- class: 1\n",
            "|--- feature_10 >  0.50\n",
            "|   |--- feature_9 <= 0.50\n",
            "|   |   |--- class: 1\n",
            "|   |--- feature_9 >  0.50\n",
            "|   |   |--- class: 1\n",
            "\n"
          ]
        },
        {
          "output_type": "display_data",
          "data": {
            "text/plain": [
              "<graphviz.files.Source at 0x7f4530e9a890>"
            ],
            "image/svg+xml": "<?xml version=\"1.0\" encoding=\"UTF-8\" standalone=\"no\"?>\n<!DOCTYPE svg PUBLIC \"-//W3C//DTD SVG 1.1//EN\"\n \"http://www.w3.org/Graphics/SVG/1.1/DTD/svg11.dtd\">\n<!-- Generated by graphviz version 2.40.1 (20161225.0304)\n -->\n<!-- Title: Tree Pages: 1 -->\n<svg width=\"576pt\" height=\"314pt\"\n viewBox=\"0.00 0.00 576.00 314.00\" xmlns=\"http://www.w3.org/2000/svg\" xmlns:xlink=\"http://www.w3.org/1999/xlink\">\n<g id=\"graph0\" class=\"graph\" transform=\"scale(1 1) rotate(0) translate(4 310)\">\n<title>Tree</title>\n<polygon fill=\"#ffffff\" stroke=\"transparent\" points=\"-4,4 -4,-310 572,-310 572,4 -4,4\"/>\n<!-- 0 -->\n<g id=\"node1\" class=\"node\">\n<title>0</title>\n<polygon fill=\"#83c2ef\" stroke=\"#000000\" points=\"378,-306 189,-306 189,-223 378,-223 378,-306\"/>\n<text text-anchor=\"middle\" x=\"283.5\" y=\"-290.8\" font-family=\"Helvetica,sans-Serif\" font-size=\"14.00\" fill=\"#000000\">本人之「改定建議」 &lt;= 0.5</text>\n<text text-anchor=\"middle\" x=\"283.5\" y=\"-275.8\" font-family=\"Helvetica,sans-Serif\" font-size=\"14.00\" fill=\"#000000\">gini = 0.397</text>\n<text text-anchor=\"middle\" x=\"283.5\" y=\"-260.8\" font-family=\"Helvetica,sans-Serif\" font-size=\"14.00\" fill=\"#000000\">samples = 22</text>\n<text text-anchor=\"middle\" x=\"283.5\" y=\"-245.8\" font-family=\"Helvetica,sans-Serif\" font-size=\"14.00\" fill=\"#000000\">value = [6, 16]</text>\n<text text-anchor=\"middle\" x=\"283.5\" y=\"-230.8\" font-family=\"Helvetica,sans-Serif\" font-size=\"14.00\" fill=\"#000000\">class = 1</text>\n</g>\n<!-- 1 -->\n<g id=\"node2\" class=\"node\">\n<title>1</title>\n<polygon fill=\"#b5daf5\" stroke=\"#000000\" points=\"275,-187 0,-187 0,-104 275,-104 275,-187\"/>\n<text text-anchor=\"middle\" x=\"137.5\" y=\"-171.8\" font-family=\"Helvetica,sans-Serif\" font-size=\"14.00\" fill=\"#000000\">其他親屬、關係人之「改定建議」 &lt;= 0.5</text>\n<text text-anchor=\"middle\" x=\"137.5\" y=\"-156.8\" font-family=\"Helvetica,sans-Serif\" font-size=\"14.00\" fill=\"#000000\">gini = 0.473</text>\n<text text-anchor=\"middle\" x=\"137.5\" y=\"-141.8\" font-family=\"Helvetica,sans-Serif\" font-size=\"14.00\" fill=\"#000000\">samples = 13</text>\n<text text-anchor=\"middle\" x=\"137.5\" y=\"-126.8\" font-family=\"Helvetica,sans-Serif\" font-size=\"14.00\" fill=\"#000000\">value = [5, 8]</text>\n<text text-anchor=\"middle\" x=\"137.5\" y=\"-111.8\" font-family=\"Helvetica,sans-Serif\" font-size=\"14.00\" fill=\"#000000\">class = 1</text>\n</g>\n<!-- 0&#45;&gt;1 -->\n<g id=\"edge1\" class=\"edge\">\n<title>0&#45;&gt;1</title>\n<path fill=\"none\" stroke=\"#000000\" d=\"M232.4363,-222.8796C220.9445,-213.513 208.6532,-203.4948 196.855,-193.8784\"/>\n<polygon fill=\"#000000\" stroke=\"#000000\" points=\"198.7444,-190.903 188.7817,-187.2981 194.3218,-196.329 198.7444,-190.903\"/>\n<text text-anchor=\"middle\" x=\"191.3157\" y=\"-208.4693\" font-family=\"Helvetica,sans-Serif\" font-size=\"14.00\" fill=\"#000000\">True</text>\n</g>\n<!-- 4 -->\n<g id=\"node5\" class=\"node\">\n<title>4</title>\n<polygon fill=\"#52a9e8\" stroke=\"#000000\" points=\"568,-187 293,-187 293,-104 568,-104 568,-187\"/>\n<text text-anchor=\"middle\" x=\"430.5\" y=\"-171.8\" font-family=\"Helvetica,sans-Serif\" font-size=\"14.00\" fill=\"#000000\">專業人士訪視報告之「改定建議」 &lt;= 0.5</text>\n<text text-anchor=\"middle\" x=\"430.5\" y=\"-156.8\" font-family=\"Helvetica,sans-Serif\" font-size=\"14.00\" fill=\"#000000\">gini = 0.198</text>\n<text text-anchor=\"middle\" x=\"430.5\" y=\"-141.8\" font-family=\"Helvetica,sans-Serif\" font-size=\"14.00\" fill=\"#000000\">samples = 9</text>\n<text text-anchor=\"middle\" x=\"430.5\" y=\"-126.8\" font-family=\"Helvetica,sans-Serif\" font-size=\"14.00\" fill=\"#000000\">value = [1, 8]</text>\n<text text-anchor=\"middle\" x=\"430.5\" y=\"-111.8\" font-family=\"Helvetica,sans-Serif\" font-size=\"14.00\" fill=\"#000000\">class = 1</text>\n</g>\n<!-- 0&#45;&gt;4 -->\n<g id=\"edge4\" class=\"edge\">\n<title>0&#45;&gt;4</title>\n<path fill=\"none\" stroke=\"#000000\" d=\"M334.9135,-222.8796C346.5952,-213.4229 359.0975,-203.302 371.081,-193.6011\"/>\n<polygon fill=\"#000000\" stroke=\"#000000\" points=\"373.2968,-196.3105 378.8671,-187.2981 368.8924,-190.8697 373.2968,-196.3105\"/>\n<text text-anchor=\"middle\" x=\"376.25\" y=\"-208.4607\" font-family=\"Helvetica,sans-Serif\" font-size=\"14.00\" fill=\"#000000\">False</text>\n</g>\n<!-- 2 -->\n<g id=\"node3\" class=\"node\">\n<title>2</title>\n<polygon fill=\"#f8e0ce\" stroke=\"#000000\" points=\"158,-68 59,-68 59,0 158,0 158,-68\"/>\n<text text-anchor=\"middle\" x=\"108.5\" y=\"-52.8\" font-family=\"Helvetica,sans-Serif\" font-size=\"14.00\" fill=\"#000000\">gini = 0.49</text>\n<text text-anchor=\"middle\" x=\"108.5\" y=\"-37.8\" font-family=\"Helvetica,sans-Serif\" font-size=\"14.00\" fill=\"#000000\">samples = 7</text>\n<text text-anchor=\"middle\" x=\"108.5\" y=\"-22.8\" font-family=\"Helvetica,sans-Serif\" font-size=\"14.00\" fill=\"#000000\">value = [4, 3]</text>\n<text text-anchor=\"middle\" x=\"108.5\" y=\"-7.8\" font-family=\"Helvetica,sans-Serif\" font-size=\"14.00\" fill=\"#000000\">class = 0</text>\n</g>\n<!-- 1&#45;&gt;2 -->\n<g id=\"edge2\" class=\"edge\">\n<title>1&#45;&gt;2</title>\n<path fill=\"none\" stroke=\"#000000\" d=\"M126.7015,-103.9815C124.5023,-95.5261 122.1814,-86.6026 119.9601,-78.0623\"/>\n<polygon fill=\"#000000\" stroke=\"#000000\" points=\"123.3162,-77.0607 117.4116,-68.2637 116.5415,-78.8227 123.3162,-77.0607\"/>\n</g>\n<!-- 3 -->\n<g id=\"node4\" class=\"node\">\n<title>3</title>\n<polygon fill=\"#61b1ea\" stroke=\"#000000\" points=\"275,-68 176,-68 176,0 275,0 275,-68\"/>\n<text text-anchor=\"middle\" x=\"225.5\" y=\"-52.8\" font-family=\"Helvetica,sans-Serif\" font-size=\"14.00\" fill=\"#000000\">gini = 0.278</text>\n<text text-anchor=\"middle\" x=\"225.5\" y=\"-37.8\" font-family=\"Helvetica,sans-Serif\" font-size=\"14.00\" fill=\"#000000\">samples = 6</text>\n<text text-anchor=\"middle\" x=\"225.5\" y=\"-22.8\" font-family=\"Helvetica,sans-Serif\" font-size=\"14.00\" fill=\"#000000\">value = [1, 5]</text>\n<text text-anchor=\"middle\" x=\"225.5\" y=\"-7.8\" font-family=\"Helvetica,sans-Serif\" font-size=\"14.00\" fill=\"#000000\">class = 1</text>\n</g>\n<!-- 1&#45;&gt;3 -->\n<g id=\"edge3\" class=\"edge\">\n<title>1&#45;&gt;3</title>\n<path fill=\"none\" stroke=\"#000000\" d=\"M170.268,-103.9815C177.449,-94.8828 185.0579,-85.242 192.2574,-76.1199\"/>\n<polygon fill=\"#000000\" stroke=\"#000000\" points=\"195.0099,-78.2818 198.4578,-68.2637 189.5151,-73.9451 195.0099,-78.2818\"/>\n</g>\n<!-- 5 -->\n<g id=\"node6\" class=\"node\">\n<title>5</title>\n<polygon fill=\"#399de5\" stroke=\"#000000\" points=\"436,-68 337,-68 337,0 436,0 436,-68\"/>\n<text text-anchor=\"middle\" x=\"386.5\" y=\"-52.8\" font-family=\"Helvetica,sans-Serif\" font-size=\"14.00\" fill=\"#000000\">gini = 0.0</text>\n<text text-anchor=\"middle\" x=\"386.5\" y=\"-37.8\" font-family=\"Helvetica,sans-Serif\" font-size=\"14.00\" fill=\"#000000\">samples = 5</text>\n<text text-anchor=\"middle\" x=\"386.5\" y=\"-22.8\" font-family=\"Helvetica,sans-Serif\" font-size=\"14.00\" fill=\"#000000\">value = [0, 5]</text>\n<text text-anchor=\"middle\" x=\"386.5\" y=\"-7.8\" font-family=\"Helvetica,sans-Serif\" font-size=\"14.00\" fill=\"#000000\">class = 1</text>\n</g>\n<!-- 4&#45;&gt;5 -->\n<g id=\"edge5\" class=\"edge\">\n<title>4&#45;&gt;5</title>\n<path fill=\"none\" stroke=\"#000000\" d=\"M414.116,-103.9815C410.7431,-95.4342 407.1814,-86.4086 403.778,-77.7839\"/>\n<polygon fill=\"#000000\" stroke=\"#000000\" points=\"406.9475,-76.2808 400.0211,-68.2637 400.4362,-78.8504 406.9475,-76.2808\"/>\n</g>\n<!-- 6 -->\n<g id=\"node7\" class=\"node\">\n<title>6</title>\n<polygon fill=\"#7bbeee\" stroke=\"#000000\" points=\"553,-68 454,-68 454,0 553,0 553,-68\"/>\n<text text-anchor=\"middle\" x=\"503.5\" y=\"-52.8\" font-family=\"Helvetica,sans-Serif\" font-size=\"14.00\" fill=\"#000000\">gini = 0.375</text>\n<text text-anchor=\"middle\" x=\"503.5\" y=\"-37.8\" font-family=\"Helvetica,sans-Serif\" font-size=\"14.00\" fill=\"#000000\">samples = 4</text>\n<text text-anchor=\"middle\" x=\"503.5\" y=\"-22.8\" font-family=\"Helvetica,sans-Serif\" font-size=\"14.00\" fill=\"#000000\">value = [1, 3]</text>\n<text text-anchor=\"middle\" x=\"503.5\" y=\"-7.8\" font-family=\"Helvetica,sans-Serif\" font-size=\"14.00\" fill=\"#000000\">class = 1</text>\n</g>\n<!-- 4&#45;&gt;6 -->\n<g id=\"edge6\" class=\"edge\">\n<title>4&#45;&gt;6</title>\n<path fill=\"none\" stroke=\"#000000\" d=\"M457.6825,-103.9815C463.5192,-95.0666 469.6966,-85.6313 475.5614,-76.6734\"/>\n<polygon fill=\"#000000\" stroke=\"#000000\" points=\"478.5179,-78.5472 481.0673,-68.2637 472.6614,-74.7129 478.5179,-78.5472\"/>\n</g>\n</g>\n</svg>\n"
          },
          "metadata": {}
        },
        {
          "output_type": "stream",
          "name": "stdout",
          "text": [
            "載入資料筆數：99\n",
            "----------------------------------------------------------------------------------------------------\n",
            "Filter 聲因7 == 1 len = 16\n",
            "----------------------------------------------------------------------------------------------------\n",
            "x ['法院是否認為原監護輔助人「年事已高」', '法院是否認為原監護輔助人「身體不堪負荷」', '法院是否認為原監護輔助人「盜領存款」', '法院是否認為原監護輔助人「不當處理本人之不動產」', '原監護輔助人是否與本人有「利害關係」', '法院是否認為原監護輔助人有「其他不當行為」', '監護輔助人是本人之「實際照顧者」', '監護輔助人是否為本人「廣義照顧者」', '原監護輔助人是否有意願續任', '專業人士訪視報告之「改定建議」', '本人之「改定建議」', '其他親屬、關係人之「改定建議」']\n",
            "y 原監護輔助人是否被法院改定\n",
            "預測 [1 1 1 1]\n",
            "標準答案 [1 1 1 1]\n",
            "績效 1.0\n",
            "|--- feature_7 <= 0.50\n",
            "|   |--- class: 1\n",
            "|--- feature_7 >  0.50\n",
            "|   |--- feature_11 <= 0.50\n",
            "|   |   |--- class: 0\n",
            "|   |--- feature_11 >  0.50\n",
            "|   |   |--- class: 1\n",
            "\n"
          ]
        },
        {
          "output_type": "display_data",
          "data": {
            "text/plain": [
              "<graphviz.files.Source at 0x7f4534c62a90>"
            ],
            "image/svg+xml": "<?xml version=\"1.0\" encoding=\"UTF-8\" standalone=\"no\"?>\n<!DOCTYPE svg PUBLIC \"-//W3C//DTD SVG 1.1//EN\"\n \"http://www.w3.org/Graphics/SVG/1.1/DTD/svg11.dtd\">\n<!-- Generated by graphviz version 2.40.1 (20161225.0304)\n -->\n<!-- Title: Tree Pages: 1 -->\n<svg width=\"408pt\" height=\"314pt\"\n viewBox=\"0.00 0.00 408.00 314.00\" xmlns=\"http://www.w3.org/2000/svg\" xmlns:xlink=\"http://www.w3.org/1999/xlink\">\n<g id=\"graph0\" class=\"graph\" transform=\"scale(1 1) rotate(0) translate(4 310)\">\n<title>Tree</title>\n<polygon fill=\"#ffffff\" stroke=\"transparent\" points=\"-4,4 -4,-310 404,-310 404,4 -4,4\"/>\n<!-- 0 -->\n<g id=\"node1\" class=\"node\">\n<title>0</title>\n<polygon fill=\"#4ba6e7\" stroke=\"#000000\" points=\"309,-306 6,-306 6,-223 309,-223 309,-306\"/>\n<text text-anchor=\"middle\" x=\"157.5\" y=\"-290.8\" font-family=\"Helvetica,sans-Serif\" font-size=\"14.00\" fill=\"#000000\">監護輔助人是否為本人「廣義照顧者」 &lt;= 0.5</text>\n<text text-anchor=\"middle\" x=\"157.5\" y=\"-275.8\" font-family=\"Helvetica,sans-Serif\" font-size=\"14.00\" fill=\"#000000\">gini = 0.153</text>\n<text text-anchor=\"middle\" x=\"157.5\" y=\"-260.8\" font-family=\"Helvetica,sans-Serif\" font-size=\"14.00\" fill=\"#000000\">samples = 12</text>\n<text text-anchor=\"middle\" x=\"157.5\" y=\"-245.8\" font-family=\"Helvetica,sans-Serif\" font-size=\"14.00\" fill=\"#000000\">value = [1, 11]</text>\n<text text-anchor=\"middle\" x=\"157.5\" y=\"-230.8\" font-family=\"Helvetica,sans-Serif\" font-size=\"14.00\" fill=\"#000000\">class = 1</text>\n</g>\n<!-- 1 -->\n<g id=\"node2\" class=\"node\">\n<title>1</title>\n<polygon fill=\"#399de5\" stroke=\"#000000\" points=\"107,-179.5 0,-179.5 0,-111.5 107,-111.5 107,-179.5\"/>\n<text text-anchor=\"middle\" x=\"53.5\" y=\"-164.3\" font-family=\"Helvetica,sans-Serif\" font-size=\"14.00\" fill=\"#000000\">gini = 0.0</text>\n<text text-anchor=\"middle\" x=\"53.5\" y=\"-149.3\" font-family=\"Helvetica,sans-Serif\" font-size=\"14.00\" fill=\"#000000\">samples = 10</text>\n<text text-anchor=\"middle\" x=\"53.5\" y=\"-134.3\" font-family=\"Helvetica,sans-Serif\" font-size=\"14.00\" fill=\"#000000\">value = [0, 10]</text>\n<text text-anchor=\"middle\" x=\"53.5\" y=\"-119.3\" font-family=\"Helvetica,sans-Serif\" font-size=\"14.00\" fill=\"#000000\">class = 1</text>\n</g>\n<!-- 0&#45;&gt;1 -->\n<g id=\"edge1\" class=\"edge\">\n<title>0&#45;&gt;1</title>\n<path fill=\"none\" stroke=\"#000000\" d=\"M121.1258,-222.8796C111.1314,-211.4436 100.288,-199.0363 90.2714,-187.575\"/>\n<polygon fill=\"#000000\" stroke=\"#000000\" points=\"92.7055,-185.0414 83.4895,-179.8149 87.4347,-189.6479 92.7055,-185.0414\"/>\n<text text-anchor=\"middle\" x=\"81.8117\" y=\"-201.0586\" font-family=\"Helvetica,sans-Serif\" font-size=\"14.00\" fill=\"#000000\">True</text>\n</g>\n<!-- 2 -->\n<g id=\"node3\" class=\"node\">\n<title>2</title>\n<polygon fill=\"#ffffff\" stroke=\"#000000\" points=\"400,-187 125,-187 125,-104 400,-104 400,-187\"/>\n<text text-anchor=\"middle\" x=\"262.5\" y=\"-171.8\" font-family=\"Helvetica,sans-Serif\" font-size=\"14.00\" fill=\"#000000\">其他親屬、關係人之「改定建議」 &lt;= 0.5</text>\n<text text-anchor=\"middle\" x=\"262.5\" y=\"-156.8\" font-family=\"Helvetica,sans-Serif\" font-size=\"14.00\" fill=\"#000000\">gini = 0.5</text>\n<text text-anchor=\"middle\" x=\"262.5\" y=\"-141.8\" font-family=\"Helvetica,sans-Serif\" font-size=\"14.00\" fill=\"#000000\">samples = 2</text>\n<text text-anchor=\"middle\" x=\"262.5\" y=\"-126.8\" font-family=\"Helvetica,sans-Serif\" font-size=\"14.00\" fill=\"#000000\">value = [1, 1]</text>\n<text text-anchor=\"middle\" x=\"262.5\" y=\"-111.8\" font-family=\"Helvetica,sans-Serif\" font-size=\"14.00\" fill=\"#000000\">class = 0</text>\n</g>\n<!-- 0&#45;&gt;2 -->\n<g id=\"edge2\" class=\"edge\">\n<title>0&#45;&gt;2</title>\n<path fill=\"none\" stroke=\"#000000\" d=\"M194.2239,-222.8796C202.1707,-213.8733 210.649,-204.2644 218.8326,-194.9897\"/>\n<polygon fill=\"#000000\" stroke=\"#000000\" points=\"221.6275,-197.1122 225.6193,-187.2981 216.3787,-192.4808 221.6275,-197.1122\"/>\n<text text-anchor=\"middle\" x=\"227.1788\" y=\"-208.5494\" font-family=\"Helvetica,sans-Serif\" font-size=\"14.00\" fill=\"#000000\">False</text>\n</g>\n<!-- 3 -->\n<g id=\"node4\" class=\"node\">\n<title>3</title>\n<polygon fill=\"#e58139\" stroke=\"#000000\" points=\"253,-68 154,-68 154,0 253,0 253,-68\"/>\n<text text-anchor=\"middle\" x=\"203.5\" y=\"-52.8\" font-family=\"Helvetica,sans-Serif\" font-size=\"14.00\" fill=\"#000000\">gini = 0.0</text>\n<text text-anchor=\"middle\" x=\"203.5\" y=\"-37.8\" font-family=\"Helvetica,sans-Serif\" font-size=\"14.00\" fill=\"#000000\">samples = 1</text>\n<text text-anchor=\"middle\" x=\"203.5\" y=\"-22.8\" font-family=\"Helvetica,sans-Serif\" font-size=\"14.00\" fill=\"#000000\">value = [1, 0]</text>\n<text text-anchor=\"middle\" x=\"203.5\" y=\"-7.8\" font-family=\"Helvetica,sans-Serif\" font-size=\"14.00\" fill=\"#000000\">class = 0</text>\n</g>\n<!-- 2&#45;&gt;3 -->\n<g id=\"edge3\" class=\"edge\">\n<title>2&#45;&gt;3</title>\n<path fill=\"none\" stroke=\"#000000\" d=\"M240.5306,-103.9815C235.9105,-95.2504 231.0264,-86.0202 226.374,-77.2281\"/>\n<polygon fill=\"#000000\" stroke=\"#000000\" points=\"229.4013,-75.4655 221.6306,-68.2637 223.2141,-78.7395 229.4013,-75.4655\"/>\n</g>\n<!-- 4 -->\n<g id=\"node5\" class=\"node\">\n<title>4</title>\n<polygon fill=\"#399de5\" stroke=\"#000000\" points=\"370,-68 271,-68 271,0 370,0 370,-68\"/>\n<text text-anchor=\"middle\" x=\"320.5\" y=\"-52.8\" font-family=\"Helvetica,sans-Serif\" font-size=\"14.00\" fill=\"#000000\">gini = 0.0</text>\n<text text-anchor=\"middle\" x=\"320.5\" y=\"-37.8\" font-family=\"Helvetica,sans-Serif\" font-size=\"14.00\" fill=\"#000000\">samples = 1</text>\n<text text-anchor=\"middle\" x=\"320.5\" y=\"-22.8\" font-family=\"Helvetica,sans-Serif\" font-size=\"14.00\" fill=\"#000000\">value = [0, 1]</text>\n<text text-anchor=\"middle\" x=\"320.5\" y=\"-7.8\" font-family=\"Helvetica,sans-Serif\" font-size=\"14.00\" fill=\"#000000\">class = 1</text>\n</g>\n<!-- 2&#45;&gt;4 -->\n<g id=\"edge4\" class=\"edge\">\n<title>2&#45;&gt;4</title>\n<path fill=\"none\" stroke=\"#000000\" d=\"M284.0971,-103.9815C288.6388,-95.2504 293.4402,-86.0202 298.0137,-77.2281\"/>\n<polygon fill=\"#000000\" stroke=\"#000000\" points=\"301.1669,-78.7504 302.6767,-68.2637 294.9569,-75.52 301.1669,-78.7504\"/>\n</g>\n</g>\n</svg>\n"
          },
          "metadata": {}
        },
        {
          "output_type": "stream",
          "name": "stdout",
          "text": [
            "載入資料筆數：99\n",
            "----------------------------------------------------------------------------------------------------\n",
            "Filter 聲因8 == 1 len = 54\n",
            "----------------------------------------------------------------------------------------------------\n",
            "x ['法院是否認為原監護輔助人「年事已高」', '法院是否認為原監護輔助人「身體不堪負荷」', '法院是否認為原監護輔助人「盜領存款」', '法院是否認為原監護輔助人「不當處理本人之不動產」', '原監護輔助人是否與本人有「利害關係」', '法院是否認為原監護輔助人有「其他不當行為」', '監護輔助人是本人之「實際照顧者」', '監護輔助人是否為本人「廣義照顧者」', '原監護輔助人是否有意願續任', '專業人士訪視報告之「改定建議」', '本人之「改定建議」', '其他親屬、關係人之「改定建議」']\n",
            "y 原監護輔助人是否被法院改定\n",
            "預測 [1 0 1 1 0 1 0 1 1 0 1]\n",
            "標準答案 [0 0 1 1 0 1 1 1 1 1 1]\n",
            "績效 0.7272727272727273\n",
            "|--- feature_11 <= 0.50\n",
            "|   |--- feature_10 <= 0.50\n",
            "|   |   |--- class: 0\n",
            "|   |--- feature_10 >  0.50\n",
            "|   |   |--- class: 1\n",
            "|--- feature_11 >  0.50\n",
            "|   |--- class: 1\n",
            "\n"
          ]
        },
        {
          "output_type": "display_data",
          "data": {
            "text/plain": [
              "<graphviz.files.Source at 0x7f4531142c10>"
            ],
            "image/svg+xml": "<?xml version=\"1.0\" encoding=\"UTF-8\" standalone=\"no\"?>\n<!DOCTYPE svg PUBLIC \"-//W3C//DTD SVG 1.1//EN\"\n \"http://www.w3.org/Graphics/SVG/1.1/DTD/svg11.dtd\">\n<!-- Generated by graphviz version 2.40.1 (20161225.0304)\n -->\n<!-- Title: Tree Pages: 1 -->\n<svg width=\"342pt\" height=\"314pt\"\n viewBox=\"0.00 0.00 342.00 314.00\" xmlns=\"http://www.w3.org/2000/svg\" xmlns:xlink=\"http://www.w3.org/1999/xlink\">\n<g id=\"graph0\" class=\"graph\" transform=\"scale(1 1) rotate(0) translate(4 310)\">\n<title>Tree</title>\n<polygon fill=\"#ffffff\" stroke=\"transparent\" points=\"-4,4 -4,-310 338,-310 338,4 -4,4\"/>\n<!-- 0 -->\n<g id=\"node1\" class=\"node\">\n<title>0</title>\n<polygon fill=\"#a3d2f3\" stroke=\"#000000\" points=\"334,-306 59,-306 59,-223 334,-223 334,-306\"/>\n<text text-anchor=\"middle\" x=\"196.5\" y=\"-290.8\" font-family=\"Helvetica,sans-Serif\" font-size=\"14.00\" fill=\"#000000\">其他親屬、關係人之「改定建議」 &lt;= 0.5</text>\n<text text-anchor=\"middle\" x=\"196.5\" y=\"-275.8\" font-family=\"Helvetica,sans-Serif\" font-size=\"14.00\" fill=\"#000000\">gini = 0.454</text>\n<text text-anchor=\"middle\" x=\"196.5\" y=\"-260.8\" font-family=\"Helvetica,sans-Serif\" font-size=\"14.00\" fill=\"#000000\">samples = 43</text>\n<text text-anchor=\"middle\" x=\"196.5\" y=\"-245.8\" font-family=\"Helvetica,sans-Serif\" font-size=\"14.00\" fill=\"#000000\">value = [15, 28]</text>\n<text text-anchor=\"middle\" x=\"196.5\" y=\"-230.8\" font-family=\"Helvetica,sans-Serif\" font-size=\"14.00\" fill=\"#000000\">class = 1</text>\n</g>\n<!-- 1 -->\n<g id=\"node2\" class=\"node\">\n<title>1</title>\n<polygon fill=\"#f8ddca\" stroke=\"#000000\" points=\"208,-187 19,-187 19,-104 208,-104 208,-187\"/>\n<text text-anchor=\"middle\" x=\"113.5\" y=\"-171.8\" font-family=\"Helvetica,sans-Serif\" font-size=\"14.00\" fill=\"#000000\">本人之「改定建議」 &lt;= 0.5</text>\n<text text-anchor=\"middle\" x=\"113.5\" y=\"-156.8\" font-family=\"Helvetica,sans-Serif\" font-size=\"14.00\" fill=\"#000000\">gini = 0.488</text>\n<text text-anchor=\"middle\" x=\"113.5\" y=\"-141.8\" font-family=\"Helvetica,sans-Serif\" font-size=\"14.00\" fill=\"#000000\">samples = 26</text>\n<text text-anchor=\"middle\" x=\"113.5\" y=\"-126.8\" font-family=\"Helvetica,sans-Serif\" font-size=\"14.00\" fill=\"#000000\">value = [15, 11]</text>\n<text text-anchor=\"middle\" x=\"113.5\" y=\"-111.8\" font-family=\"Helvetica,sans-Serif\" font-size=\"14.00\" fill=\"#000000\">class = 0</text>\n</g>\n<!-- 0&#45;&gt;1 -->\n<g id=\"edge1\" class=\"edge\">\n<title>0&#45;&gt;1</title>\n<path fill=\"none\" stroke=\"#000000\" d=\"M167.4706,-222.8796C161.3145,-214.0534 154.7549,-204.6485 148.4064,-195.5466\"/>\n<polygon fill=\"#000000\" stroke=\"#000000\" points=\"151.2448,-193.4978 142.6533,-187.2981 145.5033,-197.5024 151.2448,-193.4978\"/>\n<text text-anchor=\"middle\" x=\"138.2669\" y=\"-208.2103\" font-family=\"Helvetica,sans-Serif\" font-size=\"14.00\" fill=\"#000000\">True</text>\n</g>\n<!-- 4 -->\n<g id=\"node5\" class=\"node\">\n<title>4</title>\n<polygon fill=\"#399de5\" stroke=\"#000000\" points=\"333,-179.5 226,-179.5 226,-111.5 333,-111.5 333,-179.5\"/>\n<text text-anchor=\"middle\" x=\"279.5\" y=\"-164.3\" font-family=\"Helvetica,sans-Serif\" font-size=\"14.00\" fill=\"#000000\">gini = 0.0</text>\n<text text-anchor=\"middle\" x=\"279.5\" y=\"-149.3\" font-family=\"Helvetica,sans-Serif\" font-size=\"14.00\" fill=\"#000000\">samples = 17</text>\n<text text-anchor=\"middle\" x=\"279.5\" y=\"-134.3\" font-family=\"Helvetica,sans-Serif\" font-size=\"14.00\" fill=\"#000000\">value = [0, 17]</text>\n<text text-anchor=\"middle\" x=\"279.5\" y=\"-119.3\" font-family=\"Helvetica,sans-Serif\" font-size=\"14.00\" fill=\"#000000\">class = 1</text>\n</g>\n<!-- 0&#45;&gt;4 -->\n<g id=\"edge4\" class=\"edge\">\n<title>0&#45;&gt;4</title>\n<path fill=\"none\" stroke=\"#000000\" d=\"M225.5294,-222.8796C233.3523,-211.6636 241.827,-199.5131 249.6917,-188.2372\"/>\n<polygon fill=\"#000000\" stroke=\"#000000\" points=\"252.716,-190.0192 255.5661,-179.8149 246.9746,-186.0147 252.716,-190.0192\"/>\n<text text-anchor=\"middle\" x=\"259.9524\" y=\"-200.7271\" font-family=\"Helvetica,sans-Serif\" font-size=\"14.00\" fill=\"#000000\">False</text>\n</g>\n<!-- 2 -->\n<g id=\"node3\" class=\"node\">\n<title>2</title>\n<polygon fill=\"#eeae80\" stroke=\"#000000\" points=\"107,-68 0,-68 0,0 107,0 107,-68\"/>\n<text text-anchor=\"middle\" x=\"53.5\" y=\"-52.8\" font-family=\"Helvetica,sans-Serif\" font-size=\"14.00\" fill=\"#000000\">gini = 0.388</text>\n<text text-anchor=\"middle\" x=\"53.5\" y=\"-37.8\" font-family=\"Helvetica,sans-Serif\" font-size=\"14.00\" fill=\"#000000\">samples = 19</text>\n<text text-anchor=\"middle\" x=\"53.5\" y=\"-22.8\" font-family=\"Helvetica,sans-Serif\" font-size=\"14.00\" fill=\"#000000\">value = [14, 5]</text>\n<text text-anchor=\"middle\" x=\"53.5\" y=\"-7.8\" font-family=\"Helvetica,sans-Serif\" font-size=\"14.00\" fill=\"#000000\">class = 0</text>\n</g>\n<!-- 1&#45;&gt;2 -->\n<g id=\"edge2\" class=\"edge\">\n<title>1&#45;&gt;2</title>\n<path fill=\"none\" stroke=\"#000000\" d=\"M91.1582,-103.9815C86.4598,-95.2504 81.4929,-86.0202 76.7617,-77.2281\"/>\n<polygon fill=\"#000000\" stroke=\"#000000\" points=\"79.7586,-75.4111 71.9379,-68.2637 73.5944,-78.7282 79.7586,-75.4111\"/>\n</g>\n<!-- 3 -->\n<g id=\"node4\" class=\"node\">\n<title>3</title>\n<polygon fill=\"#5aade9\" stroke=\"#000000\" points=\"224,-68 125,-68 125,0 224,0 224,-68\"/>\n<text text-anchor=\"middle\" x=\"174.5\" y=\"-52.8\" font-family=\"Helvetica,sans-Serif\" font-size=\"14.00\" fill=\"#000000\">gini = 0.245</text>\n<text text-anchor=\"middle\" x=\"174.5\" y=\"-37.8\" font-family=\"Helvetica,sans-Serif\" font-size=\"14.00\" fill=\"#000000\">samples = 7</text>\n<text text-anchor=\"middle\" x=\"174.5\" y=\"-22.8\" font-family=\"Helvetica,sans-Serif\" font-size=\"14.00\" fill=\"#000000\">value = [1, 6]</text>\n<text text-anchor=\"middle\" x=\"174.5\" y=\"-7.8\" font-family=\"Helvetica,sans-Serif\" font-size=\"14.00\" fill=\"#000000\">class = 1</text>\n</g>\n<!-- 1&#45;&gt;3 -->\n<g id=\"edge3\" class=\"edge\">\n<title>1&#45;&gt;3</title>\n<path fill=\"none\" stroke=\"#000000\" d=\"M136.2141,-103.9815C140.9908,-95.2504 146.0405,-86.0202 150.8506,-77.2281\"/>\n<polygon fill=\"#000000\" stroke=\"#000000\" points=\"154.0258,-78.7165 155.7549,-68.2637 147.8847,-75.3568 154.0258,-78.7165\"/>\n</g>\n</g>\n</svg>\n"
          },
          "metadata": {}
        },
        {
          "output_type": "stream",
          "name": "stdout",
          "text": [
            "載入資料筆數：99\n",
            "----------------------------------------------------------------------------------------------------\n",
            "Filter 聲因9 == 1 len = 13\n",
            "----------------------------------------------------------------------------------------------------\n",
            "x ['法院是否認為原監護輔助人「年事已高」', '法院是否認為原監護輔助人「身體不堪負荷」', '法院是否認為原監護輔助人「盜領存款」', '法院是否認為原監護輔助人「不當處理本人之不動產」', '原監護輔助人是否與本人有「利害關係」', '法院是否認為原監護輔助人有「其他不當行為」', '監護輔助人是本人之「實際照顧者」', '監護輔助人是否為本人「廣義照顧者」', '原監護輔助人是否有意願續任', '專業人士訪視報告之「改定建議」', '本人之「改定建議」', '其他親屬、關係人之「改定建議」']\n",
            "y 原監護輔助人是否被法院改定\n",
            "預測 [1 1 1]\n",
            "標準答案 [1 0 1]\n",
            "績效 0.6666666666666666\n",
            "|--- feature_8 <= 0.50\n",
            "|   |--- class: 1\n",
            "|--- feature_8 >  0.50\n",
            "|   |--- class: 0\n",
            "\n"
          ]
        },
        {
          "output_type": "display_data",
          "data": {
            "text/plain": [
              "<graphviz.files.Source at 0x7f4530d4d250>"
            ],
            "image/svg+xml": "<?xml version=\"1.0\" encoding=\"UTF-8\" standalone=\"no\"?>\n<!DOCTYPE svg PUBLIC \"-//W3C//DTD SVG 1.1//EN\"\n \"http://www.w3.org/Graphics/SVG/1.1/DTD/svg11.dtd\">\n<!-- Generated by graphviz version 2.40.1 (20161225.0304)\n -->\n<!-- Title: Tree Pages: 1 -->\n<svg width=\"254pt\" height=\"195pt\"\n viewBox=\"0.00 0.00 254.00 195.00\" xmlns=\"http://www.w3.org/2000/svg\" xmlns:xlink=\"http://www.w3.org/1999/xlink\">\n<g id=\"graph0\" class=\"graph\" transform=\"scale(1 1) rotate(0) translate(4 191)\">\n<title>Tree</title>\n<polygon fill=\"#ffffff\" stroke=\"transparent\" points=\"-4,4 -4,-191 250,-191 250,4 -4,4\"/>\n<!-- 0 -->\n<g id=\"node1\" class=\"node\">\n<title>0</title>\n<polygon fill=\"#4fa8e8\" stroke=\"#000000\" points=\"246,-187 0,-187 0,-104 246,-104 246,-187\"/>\n<text text-anchor=\"middle\" x=\"123\" y=\"-171.8\" font-family=\"Helvetica,sans-Serif\" font-size=\"14.00\" fill=\"#000000\">原監護輔助人是否有意願續任 &lt;= 0.5</text>\n<text text-anchor=\"middle\" x=\"123\" y=\"-156.8\" font-family=\"Helvetica,sans-Serif\" font-size=\"14.00\" fill=\"#000000\">gini = 0.18</text>\n<text text-anchor=\"middle\" x=\"123\" y=\"-141.8\" font-family=\"Helvetica,sans-Serif\" font-size=\"14.00\" fill=\"#000000\">samples = 10</text>\n<text text-anchor=\"middle\" x=\"123\" y=\"-126.8\" font-family=\"Helvetica,sans-Serif\" font-size=\"14.00\" fill=\"#000000\">value = [1, 9]</text>\n<text text-anchor=\"middle\" x=\"123\" y=\"-111.8\" font-family=\"Helvetica,sans-Serif\" font-size=\"14.00\" fill=\"#000000\">class = 1</text>\n</g>\n<!-- 1 -->\n<g id=\"node2\" class=\"node\">\n<title>1</title>\n<polygon fill=\"#399de5\" stroke=\"#000000\" points=\"114.5,-68 15.5,-68 15.5,0 114.5,0 114.5,-68\"/>\n<text text-anchor=\"middle\" x=\"65\" y=\"-52.8\" font-family=\"Helvetica,sans-Serif\" font-size=\"14.00\" fill=\"#000000\">gini = 0.0</text>\n<text text-anchor=\"middle\" x=\"65\" y=\"-37.8\" font-family=\"Helvetica,sans-Serif\" font-size=\"14.00\" fill=\"#000000\">samples = 9</text>\n<text text-anchor=\"middle\" x=\"65\" y=\"-22.8\" font-family=\"Helvetica,sans-Serif\" font-size=\"14.00\" fill=\"#000000\">value = [0, 9]</text>\n<text text-anchor=\"middle\" x=\"65\" y=\"-7.8\" font-family=\"Helvetica,sans-Serif\" font-size=\"14.00\" fill=\"#000000\">class = 1</text>\n</g>\n<!-- 0&#45;&gt;1 -->\n<g id=\"edge1\" class=\"edge\">\n<title>0&#45;&gt;1</title>\n<path fill=\"none\" stroke=\"#000000\" d=\"M101.4029,-103.9815C96.8612,-95.2504 92.0598,-86.0202 87.4863,-77.2281\"/>\n<polygon fill=\"#000000\" stroke=\"#000000\" points=\"90.5431,-75.52 82.8233,-68.2637 84.3331,-78.7504 90.5431,-75.52\"/>\n<text text-anchor=\"middle\" x=\"75.2983\" y=\"-88.4043\" font-family=\"Helvetica,sans-Serif\" font-size=\"14.00\" fill=\"#000000\">True</text>\n</g>\n<!-- 2 -->\n<g id=\"node3\" class=\"node\">\n<title>2</title>\n<polygon fill=\"#e58139\" stroke=\"#000000\" points=\"231.5,-68 132.5,-68 132.5,0 231.5,0 231.5,-68\"/>\n<text text-anchor=\"middle\" x=\"182\" y=\"-52.8\" font-family=\"Helvetica,sans-Serif\" font-size=\"14.00\" fill=\"#000000\">gini = 0.0</text>\n<text text-anchor=\"middle\" x=\"182\" y=\"-37.8\" font-family=\"Helvetica,sans-Serif\" font-size=\"14.00\" fill=\"#000000\">samples = 1</text>\n<text text-anchor=\"middle\" x=\"182\" y=\"-22.8\" font-family=\"Helvetica,sans-Serif\" font-size=\"14.00\" fill=\"#000000\">value = [1, 0]</text>\n<text text-anchor=\"middle\" x=\"182\" y=\"-7.8\" font-family=\"Helvetica,sans-Serif\" font-size=\"14.00\" fill=\"#000000\">class = 0</text>\n</g>\n<!-- 0&#45;&gt;2 -->\n<g id=\"edge2\" class=\"edge\">\n<title>0&#45;&gt;2</title>\n<path fill=\"none\" stroke=\"#000000\" d=\"M144.9694,-103.9815C149.5895,-95.2504 154.4736,-86.0202 159.126,-77.2281\"/>\n<polygon fill=\"#000000\" stroke=\"#000000\" points=\"162.2859,-78.7395 163.8694,-68.2637 156.0987,-75.4655 162.2859,-78.7395\"/>\n<text text-anchor=\"middle\" x=\"171.2265\" y=\"-88.4566\" font-family=\"Helvetica,sans-Serif\" font-size=\"14.00\" fill=\"#000000\">False</text>\n</g>\n</g>\n</svg>\n"
          },
          "metadata": {}
        }
      ]
    },
    {
      "cell_type": "markdown",
      "source": [
        "#### 5.2.3 無聲請原因"
      ],
      "metadata": {
        "id": "ZoyMM2OxHfZ8"
      }
    },
    {
      "cell_type": "code",
      "source": [
        "filter_tree(\"聲因1 == 0 & 聲因2 == 0 & 聲因3 == 0 & 聲因4 == 0 & 聲因5 == 0 & 聲因6 == 0 & 聲因7 == 0 & 聲因8 == 0 & 聲因9 == 0\", gsheet_assist)"
      ],
      "metadata": {
        "colab": {
          "base_uri": "https://localhost:8080/",
          "height": 755
        },
        "outputId": "12f4a3aa-3f7f-4f11-c419-dbb5d5bbe8c4",
        "id": "PS54J_OpHfZ8"
      },
      "execution_count": null,
      "outputs": [
        {
          "output_type": "stream",
          "name": "stdout",
          "text": [
            "載入資料筆數：99\n",
            "----------------------------------------------------------------------------------------------------\n",
            "Filter 聲因1 == 0 & 聲因2 == 0 & 聲因3 == 0 & 聲因4 == 0 & 聲因5 == 0 & 聲因6 == 0 & 聲因7 == 0 & 聲因8 == 0 & 聲因9 == 0 len = 10\n",
            "----------------------------------------------------------------------------------------------------\n",
            "x ['法院是否認為原監護輔助人「年事已高」', '法院是否認為原監護輔助人「身體不堪負荷」', '法院是否認為原監護輔助人「盜領存款」', '法院是否認為原監護輔助人「不當處理本人之不動產」', '原監護輔助人是否與本人有「利害關係」', '法院是否認為原監護輔助人有「其他不當行為」', '監護輔助人是本人之「實際照顧者」', '監護輔助人是否為本人「廣義照顧者」', '原監護輔助人是否有意願續任', '專業人士訪視報告之「改定建議」', '本人之「改定建議」', '其他親屬、關係人之「改定建議」']\n",
            "y 原監護輔助人是否被法院改定\n",
            "預測 [0 0]\n",
            "標準答案 [0 0]\n",
            "績效 1.0\n",
            "|--- feature_6 <= 0.50\n",
            "|   |--- class: 0\n",
            "|--- feature_6 >  0.50\n",
            "|   |--- feature_7 <= 0.50\n",
            "|   |   |--- class: 0\n",
            "|   |--- feature_7 >  0.50\n",
            "|   |   |--- class: 0\n",
            "\n"
          ]
        },
        {
          "output_type": "display_data",
          "data": {
            "text/plain": [
              "<graphviz.files.Source at 0x7f4530f50d90>"
            ],
            "image/svg+xml": "<?xml version=\"1.0\" encoding=\"UTF-8\" standalone=\"no\"?>\n<!DOCTYPE svg PUBLIC \"-//W3C//DTD SVG 1.1//EN\"\n \"http://www.w3.org/Graphics/SVG/1.1/DTD/svg11.dtd\">\n<!-- Generated by graphviz version 2.40.1 (20161225.0304)\n -->\n<!-- Title: Tree Pages: 1 -->\n<svg width=\"428pt\" height=\"314pt\"\n viewBox=\"0.00 0.00 428.00 314.00\" xmlns=\"http://www.w3.org/2000/svg\" xmlns:xlink=\"http://www.w3.org/1999/xlink\">\n<g id=\"graph0\" class=\"graph\" transform=\"scale(1 1) rotate(0) translate(4 310)\">\n<title>Tree</title>\n<polygon fill=\"#ffffff\" stroke=\"transparent\" points=\"-4,4 -4,-310 424,-310 424,4 -4,4\"/>\n<!-- 0 -->\n<g id=\"node1\" class=\"node\">\n<title>0</title>\n<polygon fill=\"#e99355\" stroke=\"#000000\" points=\"303,-306 14,-306 14,-223 303,-223 303,-306\"/>\n<text text-anchor=\"middle\" x=\"158.5\" y=\"-290.8\" font-family=\"Helvetica,sans-Serif\" font-size=\"14.00\" fill=\"#000000\">監護輔助人是本人之「實際照顧者」 &lt;= 0.5</text>\n<text text-anchor=\"middle\" x=\"158.5\" y=\"-275.8\" font-family=\"Helvetica,sans-Serif\" font-size=\"14.00\" fill=\"#000000\">gini = 0.219</text>\n<text text-anchor=\"middle\" x=\"158.5\" y=\"-260.8\" font-family=\"Helvetica,sans-Serif\" font-size=\"14.00\" fill=\"#000000\">samples = 8</text>\n<text text-anchor=\"middle\" x=\"158.5\" y=\"-245.8\" font-family=\"Helvetica,sans-Serif\" font-size=\"14.00\" fill=\"#000000\">value = [7, 1]</text>\n<text text-anchor=\"middle\" x=\"158.5\" y=\"-230.8\" font-family=\"Helvetica,sans-Serif\" font-size=\"14.00\" fill=\"#000000\">class = 0</text>\n</g>\n<!-- 1 -->\n<g id=\"node2\" class=\"node\">\n<title>1</title>\n<polygon fill=\"#e58139\" stroke=\"#000000\" points=\"99,-179.5 0,-179.5 0,-111.5 99,-111.5 99,-179.5\"/>\n<text text-anchor=\"middle\" x=\"49.5\" y=\"-164.3\" font-family=\"Helvetica,sans-Serif\" font-size=\"14.00\" fill=\"#000000\">gini = 0.0</text>\n<text text-anchor=\"middle\" x=\"49.5\" y=\"-149.3\" font-family=\"Helvetica,sans-Serif\" font-size=\"14.00\" fill=\"#000000\">samples = 5</text>\n<text text-anchor=\"middle\" x=\"49.5\" y=\"-134.3\" font-family=\"Helvetica,sans-Serif\" font-size=\"14.00\" fill=\"#000000\">value = [5, 0]</text>\n<text text-anchor=\"middle\" x=\"49.5\" y=\"-119.3\" font-family=\"Helvetica,sans-Serif\" font-size=\"14.00\" fill=\"#000000\">class = 0</text>\n</g>\n<!-- 0&#45;&gt;1 -->\n<g id=\"edge1\" class=\"edge\">\n<title>0&#45;&gt;1</title>\n<path fill=\"none\" stroke=\"#000000\" d=\"M120.3771,-222.8796C109.8014,-211.3337 98.3188,-198.7976 87.7367,-187.2446\"/>\n<polygon fill=\"#000000\" stroke=\"#000000\" points=\"90.2667,-184.825 80.9313,-179.8149 85.1049,-189.5531 90.2667,-184.825\"/>\n<text text-anchor=\"middle\" x=\"79.8359\" y=\"-201.0909\" font-family=\"Helvetica,sans-Serif\" font-size=\"14.00\" fill=\"#000000\">True</text>\n</g>\n<!-- 2 -->\n<g id=\"node3\" class=\"node\">\n<title>2</title>\n<polygon fill=\"#f2c09c\" stroke=\"#000000\" points=\"420,-187 117,-187 117,-104 420,-104 420,-187\"/>\n<text text-anchor=\"middle\" x=\"268.5\" y=\"-171.8\" font-family=\"Helvetica,sans-Serif\" font-size=\"14.00\" fill=\"#000000\">監護輔助人是否為本人「廣義照顧者」 &lt;= 0.5</text>\n<text text-anchor=\"middle\" x=\"268.5\" y=\"-156.8\" font-family=\"Helvetica,sans-Serif\" font-size=\"14.00\" fill=\"#000000\">gini = 0.444</text>\n<text text-anchor=\"middle\" x=\"268.5\" y=\"-141.8\" font-family=\"Helvetica,sans-Serif\" font-size=\"14.00\" fill=\"#000000\">samples = 3</text>\n<text text-anchor=\"middle\" x=\"268.5\" y=\"-126.8\" font-family=\"Helvetica,sans-Serif\" font-size=\"14.00\" fill=\"#000000\">value = [2, 1]</text>\n<text text-anchor=\"middle\" x=\"268.5\" y=\"-111.8\" font-family=\"Helvetica,sans-Serif\" font-size=\"14.00\" fill=\"#000000\">class = 0</text>\n</g>\n<!-- 0&#45;&gt;2 -->\n<g id=\"edge2\" class=\"edge\">\n<title>0&#45;&gt;2</title>\n<path fill=\"none\" stroke=\"#000000\" d=\"M196.9727,-222.8796C205.3811,-213.7832 214.3576,-204.0722 223.0103,-194.7116\"/>\n<polygon fill=\"#000000\" stroke=\"#000000\" points=\"225.6453,-197.0172 229.8631,-187.2981 220.505,-192.2656 225.6453,-197.0172\"/>\n<text text-anchor=\"middle\" x=\"230.8449\" y=\"-208.5788\" font-family=\"Helvetica,sans-Serif\" font-size=\"14.00\" fill=\"#000000\">False</text>\n</g>\n<!-- 3 -->\n<g id=\"node4\" class=\"node\">\n<title>3</title>\n<polygon fill=\"#e58139\" stroke=\"#000000\" points=\"259,-68 160,-68 160,0 259,0 259,-68\"/>\n<text text-anchor=\"middle\" x=\"209.5\" y=\"-52.8\" font-family=\"Helvetica,sans-Serif\" font-size=\"14.00\" fill=\"#000000\">gini = 0.0</text>\n<text text-anchor=\"middle\" x=\"209.5\" y=\"-37.8\" font-family=\"Helvetica,sans-Serif\" font-size=\"14.00\" fill=\"#000000\">samples = 1</text>\n<text text-anchor=\"middle\" x=\"209.5\" y=\"-22.8\" font-family=\"Helvetica,sans-Serif\" font-size=\"14.00\" fill=\"#000000\">value = [1, 0]</text>\n<text text-anchor=\"middle\" x=\"209.5\" y=\"-7.8\" font-family=\"Helvetica,sans-Serif\" font-size=\"14.00\" fill=\"#000000\">class = 0</text>\n</g>\n<!-- 2&#45;&gt;3 -->\n<g id=\"edge3\" class=\"edge\">\n<title>2&#45;&gt;3</title>\n<path fill=\"none\" stroke=\"#000000\" d=\"M246.5306,-103.9815C241.9105,-95.2504 237.0264,-86.0202 232.374,-77.2281\"/>\n<polygon fill=\"#000000\" stroke=\"#000000\" points=\"235.4013,-75.4655 227.6306,-68.2637 229.2141,-78.7395 235.4013,-75.4655\"/>\n</g>\n<!-- 4 -->\n<g id=\"node5\" class=\"node\">\n<title>4</title>\n<polygon fill=\"#ffffff\" stroke=\"#000000\" points=\"376,-68 277,-68 277,0 376,0 376,-68\"/>\n<text text-anchor=\"middle\" x=\"326.5\" y=\"-52.8\" font-family=\"Helvetica,sans-Serif\" font-size=\"14.00\" fill=\"#000000\">gini = 0.5</text>\n<text text-anchor=\"middle\" x=\"326.5\" y=\"-37.8\" font-family=\"Helvetica,sans-Serif\" font-size=\"14.00\" fill=\"#000000\">samples = 2</text>\n<text text-anchor=\"middle\" x=\"326.5\" y=\"-22.8\" font-family=\"Helvetica,sans-Serif\" font-size=\"14.00\" fill=\"#000000\">value = [1, 1]</text>\n<text text-anchor=\"middle\" x=\"326.5\" y=\"-7.8\" font-family=\"Helvetica,sans-Serif\" font-size=\"14.00\" fill=\"#000000\">class = 0</text>\n</g>\n<!-- 2&#45;&gt;4 -->\n<g id=\"edge4\" class=\"edge\">\n<title>2&#45;&gt;4</title>\n<path fill=\"none\" stroke=\"#000000\" d=\"M290.0971,-103.9815C294.6388,-95.2504 299.4402,-86.0202 304.0137,-77.2281\"/>\n<polygon fill=\"#000000\" stroke=\"#000000\" points=\"307.1669,-78.7504 308.6767,-68.2637 300.9569,-75.52 307.1669,-78.7504\"/>\n</g>\n</g>\n</svg>\n"
          },
          "metadata": {}
        }
      ]
    },
    {
      "cell_type": "markdown",
      "source": [
        "#### 5.2.4 聲請原因：財產相關"
      ],
      "metadata": {
        "id": "FAlTCX3sHfZ9"
      }
    },
    {
      "cell_type": "code",
      "source": [
        "filter_tree(\"聲因3 == 1 | 聲因4 == 1\", gsheet_assist)"
      ],
      "metadata": {
        "colab": {
          "base_uri": "https://localhost:8080/"
        },
        "outputId": "cd65636f-3d44-438d-9fed-bd941569cac3",
        "id": "DdOK1ORiHfZ9"
      },
      "execution_count": null,
      "outputs": [
        {
          "output_type": "stream",
          "name": "stdout",
          "text": [
            "載入資料筆數：99\n",
            "----------------------------------------------------------------------------------------------------\n",
            "Filter 聲因3 == 1 | 聲因4 == 1 len = 28\n",
            "----------------------------------------------------------------------------------------------------\n",
            "x ['法院是否認為原監護輔助人「年事已高」', '法院是否認為原監護輔助人「身體不堪負荷」', '法院是否認為原監護輔助人「盜領存款」', '法院是否認為原監護輔助人「不當處理本人之不動產」', '原監護輔助人是否與本人有「利害關係」', '法院是否認為原監護輔助人有「其他不當行為」', '監護輔助人是本人之「實際照顧者」', '監護輔助人是否為本人「廣義照顧者」', '原監護輔助人是否有意願續任', '專業人士訪視報告之「改定建議」', '本人之「改定建議」', '其他親屬、關係人之「改定建議」']\n",
            "y 原監護輔助人是否被法院改定\n",
            "預測 [1 1 0 1 1 0]\n",
            "標準答案 [1 1 1 0 1 0]\n",
            "績效 0.6666666666666666\n",
            "|--- feature_5 <= 0.50\n",
            "|   |--- feature_4 <= 0.50\n",
            "|   |   |--- class: 0\n",
            "|   |--- feature_4 >  0.50\n",
            "|   |   |--- class: 1\n",
            "|--- feature_5 >  0.50\n",
            "|   |--- class: 1\n",
            "\n"
          ]
        },
        {
          "output_type": "display_data",
          "data": {
            "text/plain": [
              "<graphviz.files.Source at 0x7f4531286510>"
            ],
            "image/svg+xml": "<?xml version=\"1.0\" encoding=\"UTF-8\" standalone=\"no\"?>\n<!DOCTYPE svg PUBLIC \"-//W3C//DTD SVG 1.1//EN\"\n \"http://www.w3.org/Graphics/SVG/1.1/DTD/svg11.dtd\">\n<!-- Generated by graphviz version 2.40.1 (20161225.0304)\n -->\n<!-- Title: Tree Pages: 1 -->\n<svg width=\"460pt\" height=\"314pt\"\n viewBox=\"0.00 0.00 459.50 314.00\" xmlns=\"http://www.w3.org/2000/svg\" xmlns:xlink=\"http://www.w3.org/1999/xlink\">\n<g id=\"graph0\" class=\"graph\" transform=\"scale(1 1) rotate(0) translate(4 310)\">\n<title>Tree</title>\n<polygon fill=\"#ffffff\" stroke=\"transparent\" points=\"-4,4 -4,-310 455.5,-310 455.5,4 -4,4\"/>\n<!-- 0 -->\n<g id=\"node1\" class=\"node\">\n<title>0</title>\n<polygon fill=\"#aad5f4\" stroke=\"#000000\" points=\"451.5,-306 91.5,-306 91.5,-223 451.5,-223 451.5,-306\"/>\n<text text-anchor=\"middle\" x=\"271.5\" y=\"-290.8\" font-family=\"Helvetica,sans-Serif\" font-size=\"14.00\" fill=\"#000000\">法院是否認為原監護輔助人有「其他不當行為」 &lt;= 0.5</text>\n<text text-anchor=\"middle\" x=\"271.5\" y=\"-275.8\" font-family=\"Helvetica,sans-Serif\" font-size=\"14.00\" fill=\"#000000\">gini = 0.463</text>\n<text text-anchor=\"middle\" x=\"271.5\" y=\"-260.8\" font-family=\"Helvetica,sans-Serif\" font-size=\"14.00\" fill=\"#000000\">samples = 22</text>\n<text text-anchor=\"middle\" x=\"271.5\" y=\"-245.8\" font-family=\"Helvetica,sans-Serif\" font-size=\"14.00\" fill=\"#000000\">value = [8, 14]</text>\n<text text-anchor=\"middle\" x=\"271.5\" y=\"-230.8\" font-family=\"Helvetica,sans-Serif\" font-size=\"14.00\" fill=\"#000000\">class = 1</text>\n</g>\n<!-- 1 -->\n<g id=\"node2\" class=\"node\">\n<title>1</title>\n<polygon fill=\"#f5d0b5\" stroke=\"#000000\" points=\"317,-187 0,-187 0,-104 317,-104 317,-187\"/>\n<text text-anchor=\"middle\" x=\"158.5\" y=\"-171.8\" font-family=\"Helvetica,sans-Serif\" font-size=\"14.00\" fill=\"#000000\">原監護輔助人是否與本人有「利害關係」 &lt;= 0.5</text>\n<text text-anchor=\"middle\" x=\"158.5\" y=\"-156.8\" font-family=\"Helvetica,sans-Serif\" font-size=\"14.00\" fill=\"#000000\">gini = 0.473</text>\n<text text-anchor=\"middle\" x=\"158.5\" y=\"-141.8\" font-family=\"Helvetica,sans-Serif\" font-size=\"14.00\" fill=\"#000000\">samples = 13</text>\n<text text-anchor=\"middle\" x=\"158.5\" y=\"-126.8\" font-family=\"Helvetica,sans-Serif\" font-size=\"14.00\" fill=\"#000000\">value = [8, 5]</text>\n<text text-anchor=\"middle\" x=\"158.5\" y=\"-111.8\" font-family=\"Helvetica,sans-Serif\" font-size=\"14.00\" fill=\"#000000\">class = 0</text>\n</g>\n<!-- 0&#45;&gt;1 -->\n<g id=\"edge1\" class=\"edge\">\n<title>0&#45;&gt;1</title>\n<path fill=\"none\" stroke=\"#000000\" d=\"M231.9781,-222.8796C223.3403,-213.7832 214.119,-204.0722 205.2303,-194.7116\"/>\n<polygon fill=\"#000000\" stroke=\"#000000\" points=\"207.6146,-192.1395 198.1906,-187.2981 202.5385,-196.9597 207.6146,-192.1395\"/>\n<text text-anchor=\"middle\" x=\"197.5443\" y=\"-208.5897\" font-family=\"Helvetica,sans-Serif\" font-size=\"14.00\" fill=\"#000000\">True</text>\n</g>\n<!-- 4 -->\n<g id=\"node5\" class=\"node\">\n<title>4</title>\n<polygon fill=\"#399de5\" stroke=\"#000000\" points=\"434,-179.5 335,-179.5 335,-111.5 434,-111.5 434,-179.5\"/>\n<text text-anchor=\"middle\" x=\"384.5\" y=\"-164.3\" font-family=\"Helvetica,sans-Serif\" font-size=\"14.00\" fill=\"#000000\">gini = 0.0</text>\n<text text-anchor=\"middle\" x=\"384.5\" y=\"-149.3\" font-family=\"Helvetica,sans-Serif\" font-size=\"14.00\" fill=\"#000000\">samples = 9</text>\n<text text-anchor=\"middle\" x=\"384.5\" y=\"-134.3\" font-family=\"Helvetica,sans-Serif\" font-size=\"14.00\" fill=\"#000000\">value = [0, 9]</text>\n<text text-anchor=\"middle\" x=\"384.5\" y=\"-119.3\" font-family=\"Helvetica,sans-Serif\" font-size=\"14.00\" fill=\"#000000\">class = 1</text>\n</g>\n<!-- 0&#45;&gt;4 -->\n<g id=\"edge4\" class=\"edge\">\n<title>0&#45;&gt;4</title>\n<path fill=\"none\" stroke=\"#000000\" d=\"M311.0219,-222.8796C321.9857,-211.3337 333.8897,-198.7976 344.8601,-187.2446\"/>\n<polygon fill=\"#000000\" stroke=\"#000000\" points=\"347.5673,-189.4766 351.9152,-179.8149 342.4913,-184.6564 347.5673,-189.4766\"/>\n<text text-anchor=\"middle\" x=\"352.5616\" y=\"-201.1066\" font-family=\"Helvetica,sans-Serif\" font-size=\"14.00\" fill=\"#000000\">False</text>\n</g>\n<!-- 2 -->\n<g id=\"node3\" class=\"node\">\n<title>2</title>\n<polygon fill=\"#e89152\" stroke=\"#000000\" points=\"150,-68 51,-68 51,0 150,0 150,-68\"/>\n<text text-anchor=\"middle\" x=\"100.5\" y=\"-52.8\" font-family=\"Helvetica,sans-Serif\" font-size=\"14.00\" fill=\"#000000\">gini = 0.198</text>\n<text text-anchor=\"middle\" x=\"100.5\" y=\"-37.8\" font-family=\"Helvetica,sans-Serif\" font-size=\"14.00\" fill=\"#000000\">samples = 9</text>\n<text text-anchor=\"middle\" x=\"100.5\" y=\"-22.8\" font-family=\"Helvetica,sans-Serif\" font-size=\"14.00\" fill=\"#000000\">value = [8, 1]</text>\n<text text-anchor=\"middle\" x=\"100.5\" y=\"-7.8\" font-family=\"Helvetica,sans-Serif\" font-size=\"14.00\" fill=\"#000000\">class = 0</text>\n</g>\n<!-- 1&#45;&gt;2 -->\n<g id=\"edge2\" class=\"edge\">\n<title>1&#45;&gt;2</title>\n<path fill=\"none\" stroke=\"#000000\" d=\"M136.9029,-103.9815C132.3612,-95.2504 127.5598,-86.0202 122.9863,-77.2281\"/>\n<polygon fill=\"#000000\" stroke=\"#000000\" points=\"126.0431,-75.52 118.3233,-68.2637 119.8331,-78.7504 126.0431,-75.52\"/>\n</g>\n<!-- 3 -->\n<g id=\"node4\" class=\"node\">\n<title>3</title>\n<polygon fill=\"#399de5\" stroke=\"#000000\" points=\"267,-68 168,-68 168,0 267,0 267,-68\"/>\n<text text-anchor=\"middle\" x=\"217.5\" y=\"-52.8\" font-family=\"Helvetica,sans-Serif\" font-size=\"14.00\" fill=\"#000000\">gini = 0.0</text>\n<text text-anchor=\"middle\" x=\"217.5\" y=\"-37.8\" font-family=\"Helvetica,sans-Serif\" font-size=\"14.00\" fill=\"#000000\">samples = 4</text>\n<text text-anchor=\"middle\" x=\"217.5\" y=\"-22.8\" font-family=\"Helvetica,sans-Serif\" font-size=\"14.00\" fill=\"#000000\">value = [0, 4]</text>\n<text text-anchor=\"middle\" x=\"217.5\" y=\"-7.8\" font-family=\"Helvetica,sans-Serif\" font-size=\"14.00\" fill=\"#000000\">class = 1</text>\n</g>\n<!-- 1&#45;&gt;3 -->\n<g id=\"edge3\" class=\"edge\">\n<title>1&#45;&gt;3</title>\n<path fill=\"none\" stroke=\"#000000\" d=\"M180.4694,-103.9815C185.0895,-95.2504 189.9736,-86.0202 194.626,-77.2281\"/>\n<polygon fill=\"#000000\" stroke=\"#000000\" points=\"197.7859,-78.7395 199.3694,-68.2637 191.5987,-75.4655 197.7859,-78.7395\"/>\n</g>\n</g>\n</svg>\n"
          },
          "metadata": {}
        }
      ]
    },
    {
      "cell_type": "markdown",
      "source": [
        "#### 5.2.5 聲請原因：非財產相關"
      ],
      "metadata": {
        "id": "mjUYFdb3HfZ9"
      }
    },
    {
      "cell_type": "code",
      "source": [
        "filter_tree(\"聲因5 == 1 | 聲因6 == 1 | 聲因9 == 1\", gsheet_assist)"
      ],
      "metadata": {
        "colab": {
          "base_uri": "https://localhost:8080/"
        },
        "outputId": "920e27bb-7035-4943-d152-f240beb352b1",
        "id": "rQ0oXIQvHfZ9"
      },
      "execution_count": null,
      "outputs": [
        {
          "output_type": "stream",
          "name": "stdout",
          "text": [
            "載入資料筆數：99\n",
            "----------------------------------------------------------------------------------------------------\n",
            "Filter 聲因5 == 1 | 聲因6 == 1 | 聲因9 == 1 len = 48\n",
            "----------------------------------------------------------------------------------------------------\n",
            "x ['法院是否認為原監護輔助人「年事已高」', '法院是否認為原監護輔助人「身體不堪負荷」', '法院是否認為原監護輔助人「盜領存款」', '法院是否認為原監護輔助人「不當處理本人之不動產」', '原監護輔助人是否與本人有「利害關係」', '法院是否認為原監護輔助人有「其他不當行為」', '監護輔助人是本人之「實際照顧者」', '監護輔助人是否為本人「廣義照顧者」', '原監護輔助人是否有意願續任', '專業人士訪視報告之「改定建議」', '本人之「改定建議」', '其他親屬、關係人之「改定建議」']\n",
            "y 原監護輔助人是否被法院改定\n",
            "預測 [1 0 1 1 1 1 1 1 1 1]\n",
            "標準答案 [1 0 0 0 0 1 1 1 1 0]\n",
            "績效 0.6\n",
            "|--- feature_7 <= 0.50\n",
            "|   |--- feature_10 <= 0.50\n",
            "|   |   |--- class: 1\n",
            "|   |--- feature_10 >  0.50\n",
            "|   |   |--- class: 1\n",
            "|--- feature_7 >  0.50\n",
            "|   |--- feature_10 <= 0.50\n",
            "|   |   |--- class: 0\n",
            "|   |--- feature_10 >  0.50\n",
            "|   |   |--- class: 1\n",
            "\n"
          ]
        },
        {
          "output_type": "display_data",
          "data": {
            "text/plain": [
              "<graphviz.files.Source at 0x7f4530f2bc90>"
            ],
            "image/svg+xml": "<?xml version=\"1.0\" encoding=\"UTF-8\" standalone=\"no\"?>\n<!DOCTYPE svg PUBLIC \"-//W3C//DTD SVG 1.1//EN\"\n \"http://www.w3.org/Graphics/SVG/1.1/DTD/svg11.dtd\">\n<!-- Generated by graphviz version 2.40.1 (20161225.0304)\n -->\n<!-- Title: Tree Pages: 1 -->\n<svg width=\"517pt\" height=\"314pt\"\n viewBox=\"0.00 0.00 517.00 314.00\" xmlns=\"http://www.w3.org/2000/svg\" xmlns:xlink=\"http://www.w3.org/1999/xlink\">\n<g id=\"graph0\" class=\"graph\" transform=\"scale(1 1) rotate(0) translate(4 310)\">\n<title>Tree</title>\n<polygon fill=\"#ffffff\" stroke=\"transparent\" points=\"-4,4 -4,-310 513,-310 513,4 -4,4\"/>\n<!-- 0 -->\n<g id=\"node1\" class=\"node\">\n<title>0</title>\n<polygon fill=\"#80c0ee\" stroke=\"#000000\" points=\"411,-306 108,-306 108,-223 411,-223 411,-306\"/>\n<text text-anchor=\"middle\" x=\"259.5\" y=\"-290.8\" font-family=\"Helvetica,sans-Serif\" font-size=\"14.00\" fill=\"#000000\">監護輔助人是否為本人「廣義照顧者」 &lt;= 0.5</text>\n<text text-anchor=\"middle\" x=\"259.5\" y=\"-275.8\" font-family=\"Helvetica,sans-Serif\" font-size=\"14.00\" fill=\"#000000\">gini = 0.388</text>\n<text text-anchor=\"middle\" x=\"259.5\" y=\"-260.8\" font-family=\"Helvetica,sans-Serif\" font-size=\"14.00\" fill=\"#000000\">samples = 38</text>\n<text text-anchor=\"middle\" x=\"259.5\" y=\"-245.8\" font-family=\"Helvetica,sans-Serif\" font-size=\"14.00\" fill=\"#000000\">value = [10, 28]</text>\n<text text-anchor=\"middle\" x=\"259.5\" y=\"-230.8\" font-family=\"Helvetica,sans-Serif\" font-size=\"14.00\" fill=\"#000000\">class = 1</text>\n</g>\n<!-- 1 -->\n<g id=\"node2\" class=\"node\">\n<title>1</title>\n<polygon fill=\"#5eafea\" stroke=\"#000000\" points=\"251,-187 62,-187 62,-104 251,-104 251,-187\"/>\n<text text-anchor=\"middle\" x=\"156.5\" y=\"-171.8\" font-family=\"Helvetica,sans-Serif\" font-size=\"14.00\" fill=\"#000000\">本人之「改定建議」 &lt;= 0.5</text>\n<text text-anchor=\"middle\" x=\"156.5\" y=\"-156.8\" font-family=\"Helvetica,sans-Serif\" font-size=\"14.00\" fill=\"#000000\">gini = 0.264</text>\n<text text-anchor=\"middle\" x=\"156.5\" y=\"-141.8\" font-family=\"Helvetica,sans-Serif\" font-size=\"14.00\" fill=\"#000000\">samples = 32</text>\n<text text-anchor=\"middle\" x=\"156.5\" y=\"-126.8\" font-family=\"Helvetica,sans-Serif\" font-size=\"14.00\" fill=\"#000000\">value = [5, 27]</text>\n<text text-anchor=\"middle\" x=\"156.5\" y=\"-111.8\" font-family=\"Helvetica,sans-Serif\" font-size=\"14.00\" fill=\"#000000\">class = 1</text>\n</g>\n<!-- 0&#45;&gt;1 -->\n<g id=\"edge1\" class=\"edge\">\n<title>0&#45;&gt;1</title>\n<path fill=\"none\" stroke=\"#000000\" d=\"M223.4756,-222.8796C215.6802,-213.8733 207.3633,-204.2644 199.3356,-194.9897\"/>\n<polygon fill=\"#000000\" stroke=\"#000000\" points=\"201.8691,-192.5686 192.6782,-187.2981 196.5763,-197.1498 201.8691,-192.5686\"/>\n<text text-anchor=\"middle\" x=\"190.881\" y=\"-208.5334\" font-family=\"Helvetica,sans-Serif\" font-size=\"14.00\" fill=\"#000000\">True</text>\n</g>\n<!-- 4 -->\n<g id=\"node5\" class=\"node\">\n<title>4</title>\n<polygon fill=\"#ea9a61\" stroke=\"#000000\" points=\"458,-187 269,-187 269,-104 458,-104 458,-187\"/>\n<text text-anchor=\"middle\" x=\"363.5\" y=\"-171.8\" font-family=\"Helvetica,sans-Serif\" font-size=\"14.00\" fill=\"#000000\">本人之「改定建議」 &lt;= 0.5</text>\n<text text-anchor=\"middle\" x=\"363.5\" y=\"-156.8\" font-family=\"Helvetica,sans-Serif\" font-size=\"14.00\" fill=\"#000000\">gini = 0.278</text>\n<text text-anchor=\"middle\" x=\"363.5\" y=\"-141.8\" font-family=\"Helvetica,sans-Serif\" font-size=\"14.00\" fill=\"#000000\">samples = 6</text>\n<text text-anchor=\"middle\" x=\"363.5\" y=\"-126.8\" font-family=\"Helvetica,sans-Serif\" font-size=\"14.00\" fill=\"#000000\">value = [5, 1]</text>\n<text text-anchor=\"middle\" x=\"363.5\" y=\"-111.8\" font-family=\"Helvetica,sans-Serif\" font-size=\"14.00\" fill=\"#000000\">class = 0</text>\n</g>\n<!-- 0&#45;&gt;4 -->\n<g id=\"edge4\" class=\"edge\">\n<title>0&#45;&gt;4</title>\n<path fill=\"none\" stroke=\"#000000\" d=\"M295.8742,-222.8796C303.7452,-213.8733 312.1429,-204.2644 320.2485,-194.9897\"/>\n<polygon fill=\"#000000\" stroke=\"#000000\" points=\"323.0254,-197.131 326.9706,-187.2981 317.7546,-192.5246 323.0254,-197.131\"/>\n<text text-anchor=\"middle\" x=\"328.6484\" y=\"-208.5417\" font-family=\"Helvetica,sans-Serif\" font-size=\"14.00\" fill=\"#000000\">False</text>\n</g>\n<!-- 2 -->\n<g id=\"node3\" class=\"node\">\n<title>2</title>\n<polygon fill=\"#80c0ee\" stroke=\"#000000\" points=\"107,-68 0,-68 0,0 107,0 107,-68\"/>\n<text text-anchor=\"middle\" x=\"53.5\" y=\"-52.8\" font-family=\"Helvetica,sans-Serif\" font-size=\"14.00\" fill=\"#000000\">gini = 0.388</text>\n<text text-anchor=\"middle\" x=\"53.5\" y=\"-37.8\" font-family=\"Helvetica,sans-Serif\" font-size=\"14.00\" fill=\"#000000\">samples = 19</text>\n<text text-anchor=\"middle\" x=\"53.5\" y=\"-22.8\" font-family=\"Helvetica,sans-Serif\" font-size=\"14.00\" fill=\"#000000\">value = [5, 14]</text>\n<text text-anchor=\"middle\" x=\"53.5\" y=\"-7.8\" font-family=\"Helvetica,sans-Serif\" font-size=\"14.00\" fill=\"#000000\">class = 1</text>\n</g>\n<!-- 1&#45;&gt;2 -->\n<g id=\"edge2\" class=\"edge\">\n<title>1&#45;&gt;2</title>\n<path fill=\"none\" stroke=\"#000000\" d=\"M118.1466,-103.9815C109.6566,-94.7908 100.6557,-85.0472 92.1537,-75.8436\"/>\n<polygon fill=\"#000000\" stroke=\"#000000\" points=\"94.5081,-73.2343 85.1516,-68.2637 89.3663,-77.9842 94.5081,-73.2343\"/>\n</g>\n<!-- 3 -->\n<g id=\"node4\" class=\"node\">\n<title>3</title>\n<polygon fill=\"#399de5\" stroke=\"#000000\" points=\"232,-68 125,-68 125,0 232,0 232,-68\"/>\n<text text-anchor=\"middle\" x=\"178.5\" y=\"-52.8\" font-family=\"Helvetica,sans-Serif\" font-size=\"14.00\" fill=\"#000000\">gini = 0.0</text>\n<text text-anchor=\"middle\" x=\"178.5\" y=\"-37.8\" font-family=\"Helvetica,sans-Serif\" font-size=\"14.00\" fill=\"#000000\">samples = 13</text>\n<text text-anchor=\"middle\" x=\"178.5\" y=\"-22.8\" font-family=\"Helvetica,sans-Serif\" font-size=\"14.00\" fill=\"#000000\">value = [0, 13]</text>\n<text text-anchor=\"middle\" x=\"178.5\" y=\"-7.8\" font-family=\"Helvetica,sans-Serif\" font-size=\"14.00\" fill=\"#000000\">class = 1</text>\n</g>\n<!-- 1&#45;&gt;3 -->\n<g id=\"edge3\" class=\"edge\">\n<title>1&#45;&gt;3</title>\n<path fill=\"none\" stroke=\"#000000\" d=\"M164.692,-103.9815C166.3422,-95.618 168.0827,-86.7965 169.7511,-78.3409\"/>\n<polygon fill=\"#000000\" stroke=\"#000000\" points=\"173.2374,-78.7521 171.7395,-68.2637 166.3698,-77.397 173.2374,-78.7521\"/>\n</g>\n<!-- 5 -->\n<g id=\"node6\" class=\"node\">\n<title>5</title>\n<polygon fill=\"#e58139\" stroke=\"#000000\" points=\"392,-68 293,-68 293,0 392,0 392,-68\"/>\n<text text-anchor=\"middle\" x=\"342.5\" y=\"-52.8\" font-family=\"Helvetica,sans-Serif\" font-size=\"14.00\" fill=\"#000000\">gini = 0.0</text>\n<text text-anchor=\"middle\" x=\"342.5\" y=\"-37.8\" font-family=\"Helvetica,sans-Serif\" font-size=\"14.00\" fill=\"#000000\">samples = 5</text>\n<text text-anchor=\"middle\" x=\"342.5\" y=\"-22.8\" font-family=\"Helvetica,sans-Serif\" font-size=\"14.00\" fill=\"#000000\">value = [5, 0]</text>\n<text text-anchor=\"middle\" x=\"342.5\" y=\"-7.8\" font-family=\"Helvetica,sans-Serif\" font-size=\"14.00\" fill=\"#000000\">class = 0</text>\n</g>\n<!-- 4&#45;&gt;5 -->\n<g id=\"edge5\" class=\"edge\">\n<title>4&#45;&gt;5</title>\n<path fill=\"none\" stroke=\"#000000\" d=\"M355.6804,-103.9815C354.1052,-95.618 352.4437,-86.7965 350.8512,-78.3409\"/>\n<polygon fill=\"#000000\" stroke=\"#000000\" points=\"354.2437,-77.4431 348.9532,-68.2637 347.3647,-78.7387 354.2437,-77.4431\"/>\n</g>\n<!-- 6 -->\n<g id=\"node7\" class=\"node\">\n<title>6</title>\n<polygon fill=\"#399de5\" stroke=\"#000000\" points=\"509,-68 410,-68 410,0 509,0 509,-68\"/>\n<text text-anchor=\"middle\" x=\"459.5\" y=\"-52.8\" font-family=\"Helvetica,sans-Serif\" font-size=\"14.00\" fill=\"#000000\">gini = 0.0</text>\n<text text-anchor=\"middle\" x=\"459.5\" y=\"-37.8\" font-family=\"Helvetica,sans-Serif\" font-size=\"14.00\" fill=\"#000000\">samples = 1</text>\n<text text-anchor=\"middle\" x=\"459.5\" y=\"-22.8\" font-family=\"Helvetica,sans-Serif\" font-size=\"14.00\" fill=\"#000000\">value = [0, 1]</text>\n<text text-anchor=\"middle\" x=\"459.5\" y=\"-7.8\" font-family=\"Helvetica,sans-Serif\" font-size=\"14.00\" fill=\"#000000\">class = 1</text>\n</g>\n<!-- 4&#45;&gt;6 -->\n<g id=\"edge6\" class=\"edge\">\n<title>4&#45;&gt;6</title>\n<path fill=\"none\" stroke=\"#000000\" d=\"M399.2469,-103.9815C407.1599,-94.7908 415.5491,-85.0472 423.4732,-75.8436\"/>\n<polygon fill=\"#000000\" stroke=\"#000000\" points=\"426.1271,-78.1255 429.9994,-68.2637 420.8224,-73.5582 426.1271,-78.1255\"/>\n</g>\n</g>\n</svg>\n"
          },
          "metadata": {}
        }
      ]
    },
    {
      "cell_type": "markdown",
      "source": [
        "#### 5.2.6 聲請原因：年齡身體健康"
      ],
      "metadata": {
        "id": "kWDOAqYEHfZ9"
      }
    },
    {
      "cell_type": "code",
      "source": [
        "filter_tree(\"聲因1 == 1 | 聲因2 == 1\", gsheet_assist)"
      ],
      "metadata": {
        "colab": {
          "base_uri": "https://localhost:8080/"
        },
        "outputId": "227adb94-7d1b-4962-974b-2132643b6c1f",
        "id": "3oXgf34CHfZ9"
      },
      "execution_count": null,
      "outputs": [
        {
          "output_type": "stream",
          "name": "stdout",
          "text": [
            "載入資料筆數：99\n",
            "----------------------------------------------------------------------------------------------------\n",
            "Filter 聲因1 == 1 | 聲因2 == 1 len = 22\n",
            "----------------------------------------------------------------------------------------------------\n",
            "x ['法院是否認為原監護輔助人「年事已高」', '法院是否認為原監護輔助人「身體不堪負荷」', '法院是否認為原監護輔助人「盜領存款」', '法院是否認為原監護輔助人「不當處理本人之不動產」', '原監護輔助人是否與本人有「利害關係」', '法院是否認為原監護輔助人有「其他不當行為」', '監護輔助人是本人之「實際照顧者」', '監護輔助人是否為本人「廣義照顧者」', '原監護輔助人是否有意願續任', '專業人士訪視報告之「改定建議」', '本人之「改定建議」', '其他親屬、關係人之「改定建議」']\n",
            "y 原監護輔助人是否被法院改定\n",
            "預測 [1 1 1 1 1]\n",
            "標準答案 [0 1 1 1 0]\n",
            "績效 0.6\n",
            "|--- feature_8 <= 0.50\n",
            "|   |--- class: 1\n",
            "|--- feature_8 >  0.50\n",
            "|   |--- feature_10 <= 0.50\n",
            "|   |   |--- class: 0\n",
            "|   |--- feature_10 >  0.50\n",
            "|   |   |--- class: 1\n",
            "\n"
          ]
        },
        {
          "output_type": "display_data",
          "data": {
            "text/plain": [
              "<graphviz.files.Source at 0x7f4530edea90>"
            ],
            "image/svg+xml": "<?xml version=\"1.0\" encoding=\"UTF-8\" standalone=\"no\"?>\n<!DOCTYPE svg PUBLIC \"-//W3C//DTD SVG 1.1//EN\"\n \"http://www.w3.org/Graphics/SVG/1.1/DTD/svg11.dtd\">\n<!-- Generated by graphviz version 2.40.1 (20161225.0304)\n -->\n<!-- Title: Tree Pages: 1 -->\n<svg width=\"335pt\" height=\"314pt\"\n viewBox=\"0.00 0.00 335.00 314.00\" xmlns=\"http://www.w3.org/2000/svg\" xmlns:xlink=\"http://www.w3.org/1999/xlink\">\n<g id=\"graph0\" class=\"graph\" transform=\"scale(1 1) rotate(0) translate(4 310)\">\n<title>Tree</title>\n<polygon fill=\"#ffffff\" stroke=\"transparent\" points=\"-4,4 -4,-310 331,-310 331,4 -4,4\"/>\n<!-- 0 -->\n<g id=\"node1\" class=\"node\">\n<title>0</title>\n<polygon fill=\"#53aae8\" stroke=\"#000000\" points=\"259.5,-306 13.5,-306 13.5,-223 259.5,-223 259.5,-306\"/>\n<text text-anchor=\"middle\" x=\"136.5\" y=\"-290.8\" font-family=\"Helvetica,sans-Serif\" font-size=\"14.00\" fill=\"#000000\">原監護輔助人是否有意願續任 &lt;= 0.5</text>\n<text text-anchor=\"middle\" x=\"136.5\" y=\"-275.8\" font-family=\"Helvetica,sans-Serif\" font-size=\"14.00\" fill=\"#000000\">gini = 0.208</text>\n<text text-anchor=\"middle\" x=\"136.5\" y=\"-260.8\" font-family=\"Helvetica,sans-Serif\" font-size=\"14.00\" fill=\"#000000\">samples = 17</text>\n<text text-anchor=\"middle\" x=\"136.5\" y=\"-245.8\" font-family=\"Helvetica,sans-Serif\" font-size=\"14.00\" fill=\"#000000\">value = [2, 15]</text>\n<text text-anchor=\"middle\" x=\"136.5\" y=\"-230.8\" font-family=\"Helvetica,sans-Serif\" font-size=\"14.00\" fill=\"#000000\">class = 1</text>\n</g>\n<!-- 1 -->\n<g id=\"node2\" class=\"node\">\n<title>1</title>\n<polygon fill=\"#399de5\" stroke=\"#000000\" points=\"107,-179.5 0,-179.5 0,-111.5 107,-111.5 107,-179.5\"/>\n<text text-anchor=\"middle\" x=\"53.5\" y=\"-164.3\" font-family=\"Helvetica,sans-Serif\" font-size=\"14.00\" fill=\"#000000\">gini = 0.0</text>\n<text text-anchor=\"middle\" x=\"53.5\" y=\"-149.3\" font-family=\"Helvetica,sans-Serif\" font-size=\"14.00\" fill=\"#000000\">samples = 14</text>\n<text text-anchor=\"middle\" x=\"53.5\" y=\"-134.3\" font-family=\"Helvetica,sans-Serif\" font-size=\"14.00\" fill=\"#000000\">value = [0, 14]</text>\n<text text-anchor=\"middle\" x=\"53.5\" y=\"-119.3\" font-family=\"Helvetica,sans-Serif\" font-size=\"14.00\" fill=\"#000000\">class = 1</text>\n</g>\n<!-- 0&#45;&gt;1 -->\n<g id=\"edge1\" class=\"edge\">\n<title>0&#45;&gt;1</title>\n<path fill=\"none\" stroke=\"#000000\" d=\"M107.4706,-222.8796C99.6477,-211.6636 91.173,-199.5131 83.3083,-188.2372\"/>\n<polygon fill=\"#000000\" stroke=\"#000000\" points=\"86.0254,-186.0147 77.4339,-179.8149 80.284,-190.0192 86.0254,-186.0147\"/>\n<text text-anchor=\"middle\" x=\"73.0476\" y=\"-200.7271\" font-family=\"Helvetica,sans-Serif\" font-size=\"14.00\" fill=\"#000000\">True</text>\n</g>\n<!-- 2 -->\n<g id=\"node3\" class=\"node\">\n<title>2</title>\n<polygon fill=\"#f2c09c\" stroke=\"#000000\" points=\"314,-187 125,-187 125,-104 314,-104 314,-187\"/>\n<text text-anchor=\"middle\" x=\"219.5\" y=\"-171.8\" font-family=\"Helvetica,sans-Serif\" font-size=\"14.00\" fill=\"#000000\">本人之「改定建議」 &lt;= 0.5</text>\n<text text-anchor=\"middle\" x=\"219.5\" y=\"-156.8\" font-family=\"Helvetica,sans-Serif\" font-size=\"14.00\" fill=\"#000000\">gini = 0.444</text>\n<text text-anchor=\"middle\" x=\"219.5\" y=\"-141.8\" font-family=\"Helvetica,sans-Serif\" font-size=\"14.00\" fill=\"#000000\">samples = 3</text>\n<text text-anchor=\"middle\" x=\"219.5\" y=\"-126.8\" font-family=\"Helvetica,sans-Serif\" font-size=\"14.00\" fill=\"#000000\">value = [2, 1]</text>\n<text text-anchor=\"middle\" x=\"219.5\" y=\"-111.8\" font-family=\"Helvetica,sans-Serif\" font-size=\"14.00\" fill=\"#000000\">class = 0</text>\n</g>\n<!-- 0&#45;&gt;2 -->\n<g id=\"edge2\" class=\"edge\">\n<title>0&#45;&gt;2</title>\n<path fill=\"none\" stroke=\"#000000\" d=\"M165.5294,-222.8796C171.6855,-214.0534 178.2451,-204.6485 184.5936,-195.5466\"/>\n<polygon fill=\"#000000\" stroke=\"#000000\" points=\"187.4967,-197.5024 190.3467,-187.2981 181.7552,-193.4978 187.4967,-197.5024\"/>\n<text text-anchor=\"middle\" x=\"194.7331\" y=\"-208.2103\" font-family=\"Helvetica,sans-Serif\" font-size=\"14.00\" fill=\"#000000\">False</text>\n</g>\n<!-- 3 -->\n<g id=\"node4\" class=\"node\">\n<title>3</title>\n<polygon fill=\"#e58139\" stroke=\"#000000\" points=\"210,-68 111,-68 111,0 210,0 210,-68\"/>\n<text text-anchor=\"middle\" x=\"160.5\" y=\"-52.8\" font-family=\"Helvetica,sans-Serif\" font-size=\"14.00\" fill=\"#000000\">gini = 0.0</text>\n<text text-anchor=\"middle\" x=\"160.5\" y=\"-37.8\" font-family=\"Helvetica,sans-Serif\" font-size=\"14.00\" fill=\"#000000\">samples = 2</text>\n<text text-anchor=\"middle\" x=\"160.5\" y=\"-22.8\" font-family=\"Helvetica,sans-Serif\" font-size=\"14.00\" fill=\"#000000\">value = [2, 0]</text>\n<text text-anchor=\"middle\" x=\"160.5\" y=\"-7.8\" font-family=\"Helvetica,sans-Serif\" font-size=\"14.00\" fill=\"#000000\">class = 0</text>\n</g>\n<!-- 2&#45;&gt;3 -->\n<g id=\"edge3\" class=\"edge\">\n<title>2&#45;&gt;3</title>\n<path fill=\"none\" stroke=\"#000000\" d=\"M197.5306,-103.9815C192.9105,-95.2504 188.0264,-86.0202 183.374,-77.2281\"/>\n<polygon fill=\"#000000\" stroke=\"#000000\" points=\"186.4013,-75.4655 178.6306,-68.2637 180.2141,-78.7395 186.4013,-75.4655\"/>\n</g>\n<!-- 4 -->\n<g id=\"node5\" class=\"node\">\n<title>4</title>\n<polygon fill=\"#399de5\" stroke=\"#000000\" points=\"327,-68 228,-68 228,0 327,0 327,-68\"/>\n<text text-anchor=\"middle\" x=\"277.5\" y=\"-52.8\" font-family=\"Helvetica,sans-Serif\" font-size=\"14.00\" fill=\"#000000\">gini = 0.0</text>\n<text text-anchor=\"middle\" x=\"277.5\" y=\"-37.8\" font-family=\"Helvetica,sans-Serif\" font-size=\"14.00\" fill=\"#000000\">samples = 1</text>\n<text text-anchor=\"middle\" x=\"277.5\" y=\"-22.8\" font-family=\"Helvetica,sans-Serif\" font-size=\"14.00\" fill=\"#000000\">value = [0, 1]</text>\n<text text-anchor=\"middle\" x=\"277.5\" y=\"-7.8\" font-family=\"Helvetica,sans-Serif\" font-size=\"14.00\" fill=\"#000000\">class = 1</text>\n</g>\n<!-- 2&#45;&gt;4 -->\n<g id=\"edge4\" class=\"edge\">\n<title>2&#45;&gt;4</title>\n<path fill=\"none\" stroke=\"#000000\" d=\"M241.0971,-103.9815C245.6388,-95.2504 250.4402,-86.0202 255.0137,-77.2281\"/>\n<polygon fill=\"#000000\" stroke=\"#000000\" points=\"258.1669,-78.7504 259.6767,-68.2637 251.9569,-75.52 258.1669,-78.7504\"/>\n</g>\n</g>\n</svg>\n"
          },
          "metadata": {}
        }
      ]
    },
    {
      "cell_type": "markdown",
      "source": [
        "#### 5.2.7 原監護人之意願"
      ],
      "metadata": {
        "id": "qCIVqo1Gyzn4"
      }
    },
    {
      "cell_type": "code",
      "source": [
        "filter_tree(\"原監護輔助人是否有意願續任 == 1\", gsheet_assist)"
      ],
      "metadata": {
        "colab": {
          "base_uri": "https://localhost:8080/",
          "height": 755
        },
        "id": "7W_m4R0Oy2rv",
        "outputId": "6ac7a94c-eb62-4375-ac0d-68be85ecae1e"
      },
      "execution_count": null,
      "outputs": [
        {
          "output_type": "stream",
          "name": "stdout",
          "text": [
            "載入資料筆數：99\n",
            "----------------------------------------------------------------------------------------------------\n",
            "Filter 原監護輔助人是否有意願續任 == 1 len = 40\n",
            "----------------------------------------------------------------------------------------------------\n",
            "x ['法院是否認為原監護輔助人「年事已高」', '法院是否認為原監護輔助人「身體不堪負荷」', '法院是否認為原監護輔助人「盜領存款」', '法院是否認為原監護輔助人「不當處理本人之不動產」', '原監護輔助人是否與本人有「利害關係」', '法院是否認為原監護輔助人有「其他不當行為」', '監護輔助人是本人之「實際照顧者」', '監護輔助人是否為本人「廣義照顧者」', '原監護輔助人是否有意願續任', '專業人士訪視報告之「改定建議」', '本人之「改定建議」', '其他親屬、關係人之「改定建議」']\n",
            "y 原監護輔助人是否被法院改定\n",
            "預測 [1 1 1 0 1 0 1 1]\n",
            "標準答案 [1 1 1 0 1 0 1 0]\n",
            "績效 0.875\n",
            "|--- feature_10 <= 0.50\n",
            "|   |--- feature_5 <= 0.50\n",
            "|   |   |--- class: 0\n",
            "|   |--- feature_5 >  0.50\n",
            "|   |   |--- class: 1\n",
            "|--- feature_10 >  0.50\n",
            "|   |--- class: 1\n",
            "\n"
          ]
        },
        {
          "output_type": "display_data",
          "data": {
            "text/plain": [
              "<graphviz.files.Source at 0x7faa53d416d0>"
            ],
            "image/svg+xml": "<?xml version=\"1.0\" encoding=\"UTF-8\" standalone=\"no\"?>\n<!DOCTYPE svg PUBLIC \"-//W3C//DTD SVG 1.1//EN\"\n \"http://www.w3.org/Graphics/SVG/1.1/DTD/svg11.dtd\">\n<!-- Generated by graphviz version 2.40.1 (20161225.0304)\n -->\n<!-- Title: Tree Pages: 1 -->\n<svg width=\"486pt\" height=\"314pt\"\n viewBox=\"0.00 0.00 485.50 314.00\" xmlns=\"http://www.w3.org/2000/svg\" xmlns:xlink=\"http://www.w3.org/1999/xlink\">\n<g id=\"graph0\" class=\"graph\" transform=\"scale(1 1) rotate(0) translate(4 310)\">\n<title>Tree</title>\n<polygon fill=\"#ffffff\" stroke=\"transparent\" points=\"-4,4 -4,-310 481.5,-310 481.5,4 -4,4\"/>\n<!-- 0 -->\n<g id=\"node1\" class=\"node\">\n<title>0</title>\n<polygon fill=\"#efb286\" stroke=\"#000000\" points=\"398.5,-306 209.5,-306 209.5,-223 398.5,-223 398.5,-306\"/>\n<text text-anchor=\"middle\" x=\"304\" y=\"-290.8\" font-family=\"Helvetica,sans-Serif\" font-size=\"14.00\" fill=\"#000000\">本人之「改定建議」 &lt;= 0.5</text>\n<text text-anchor=\"middle\" x=\"304\" y=\"-275.8\" font-family=\"Helvetica,sans-Serif\" font-size=\"14.00\" fill=\"#000000\">gini = 0.404</text>\n<text text-anchor=\"middle\" x=\"304\" y=\"-260.8\" font-family=\"Helvetica,sans-Serif\" font-size=\"14.00\" fill=\"#000000\">samples = 32</text>\n<text text-anchor=\"middle\" x=\"304\" y=\"-245.8\" font-family=\"Helvetica,sans-Serif\" font-size=\"14.00\" fill=\"#000000\">value = [23, 9]</text>\n<text text-anchor=\"middle\" x=\"304\" y=\"-230.8\" font-family=\"Helvetica,sans-Serif\" font-size=\"14.00\" fill=\"#000000\">class = 0</text>\n</g>\n<!-- 1 -->\n<g id=\"node2\" class=\"node\">\n<title>1</title>\n<polygon fill=\"#ea975b\" stroke=\"#000000\" points=\"360,-187 0,-187 0,-104 360,-104 360,-187\"/>\n<text text-anchor=\"middle\" x=\"180\" y=\"-171.8\" font-family=\"Helvetica,sans-Serif\" font-size=\"14.00\" fill=\"#000000\">法院是否認為原監護輔助人有「其他不當行為」 &lt;= 0.5</text>\n<text text-anchor=\"middle\" x=\"180\" y=\"-156.8\" font-family=\"Helvetica,sans-Serif\" font-size=\"14.00\" fill=\"#000000\">gini = 0.252</text>\n<text text-anchor=\"middle\" x=\"180\" y=\"-141.8\" font-family=\"Helvetica,sans-Serif\" font-size=\"14.00\" fill=\"#000000\">samples = 27</text>\n<text text-anchor=\"middle\" x=\"180\" y=\"-126.8\" font-family=\"Helvetica,sans-Serif\" font-size=\"14.00\" fill=\"#000000\">value = [23, 4]</text>\n<text text-anchor=\"middle\" x=\"180\" y=\"-111.8\" font-family=\"Helvetica,sans-Serif\" font-size=\"14.00\" fill=\"#000000\">class = 0</text>\n</g>\n<!-- 0&#45;&gt;1 -->\n<g id=\"edge1\" class=\"edge\">\n<title>0&#45;&gt;1</title>\n<path fill=\"none\" stroke=\"#000000\" d=\"M260.6308,-222.8796C251.0584,-213.6931 240.8328,-203.8798 230.9897,-194.4336\"/>\n<polygon fill=\"#000000\" stroke=\"#000000\" points=\"233.1928,-191.6969 223.5543,-187.2981 228.3459,-196.7475 233.1928,-191.6969\"/>\n<text text-anchor=\"middle\" x=\"224.0686\" y=\"-208.5928\" font-family=\"Helvetica,sans-Serif\" font-size=\"14.00\" fill=\"#000000\">True</text>\n</g>\n<!-- 4 -->\n<g id=\"node5\" class=\"node\">\n<title>4</title>\n<polygon fill=\"#399de5\" stroke=\"#000000\" points=\"477.5,-179.5 378.5,-179.5 378.5,-111.5 477.5,-111.5 477.5,-179.5\"/>\n<text text-anchor=\"middle\" x=\"428\" y=\"-164.3\" font-family=\"Helvetica,sans-Serif\" font-size=\"14.00\" fill=\"#000000\">gini = 0.0</text>\n<text text-anchor=\"middle\" x=\"428\" y=\"-149.3\" font-family=\"Helvetica,sans-Serif\" font-size=\"14.00\" fill=\"#000000\">samples = 5</text>\n<text text-anchor=\"middle\" x=\"428\" y=\"-134.3\" font-family=\"Helvetica,sans-Serif\" font-size=\"14.00\" fill=\"#000000\">value = [0, 5]</text>\n<text text-anchor=\"middle\" x=\"428\" y=\"-119.3\" font-family=\"Helvetica,sans-Serif\" font-size=\"14.00\" fill=\"#000000\">class = 1</text>\n</g>\n<!-- 0&#45;&gt;4 -->\n<g id=\"edge4\" class=\"edge\">\n<title>0&#45;&gt;4</title>\n<path fill=\"none\" stroke=\"#000000\" d=\"M347.3692,-222.8796C359.5148,-211.2237 372.7119,-198.5587 384.8451,-186.9148\"/>\n<polygon fill=\"#000000\" stroke=\"#000000\" points=\"387.4516,-189.2643 392.2433,-179.8149 382.6047,-184.2138 387.4516,-189.2643\"/>\n<text text-anchor=\"middle\" x=\"391.729\" y=\"-201.1096\" font-family=\"Helvetica,sans-Serif\" font-size=\"14.00\" fill=\"#000000\">False</text>\n</g>\n<!-- 2 -->\n<g id=\"node3\" class=\"node\">\n<title>2</title>\n<polygon fill=\"#e78c4b\" stroke=\"#000000\" points=\"173.5,-68 66.5,-68 66.5,0 173.5,0 173.5,-68\"/>\n<text text-anchor=\"middle\" x=\"120\" y=\"-52.8\" font-family=\"Helvetica,sans-Serif\" font-size=\"14.00\" fill=\"#000000\">gini = 0.153</text>\n<text text-anchor=\"middle\" x=\"120\" y=\"-37.8\" font-family=\"Helvetica,sans-Serif\" font-size=\"14.00\" fill=\"#000000\">samples = 24</text>\n<text text-anchor=\"middle\" x=\"120\" y=\"-22.8\" font-family=\"Helvetica,sans-Serif\" font-size=\"14.00\" fill=\"#000000\">value = [22, 2]</text>\n<text text-anchor=\"middle\" x=\"120\" y=\"-7.8\" font-family=\"Helvetica,sans-Serif\" font-size=\"14.00\" fill=\"#000000\">class = 0</text>\n</g>\n<!-- 1&#45;&gt;2 -->\n<g id=\"edge2\" class=\"edge\">\n<title>1&#45;&gt;2</title>\n<path fill=\"none\" stroke=\"#000000\" d=\"M157.6582,-103.9815C152.9598,-95.2504 147.9929,-86.0202 143.2617,-77.2281\"/>\n<polygon fill=\"#000000\" stroke=\"#000000\" points=\"146.2586,-75.4111 138.4379,-68.2637 140.0944,-78.7282 146.2586,-75.4111\"/>\n</g>\n<!-- 3 -->\n<g id=\"node4\" class=\"node\">\n<title>3</title>\n<polygon fill=\"#9ccef2\" stroke=\"#000000\" points=\"290.5,-68 191.5,-68 191.5,0 290.5,0 290.5,-68\"/>\n<text text-anchor=\"middle\" x=\"241\" y=\"-52.8\" font-family=\"Helvetica,sans-Serif\" font-size=\"14.00\" fill=\"#000000\">gini = 0.444</text>\n<text text-anchor=\"middle\" x=\"241\" y=\"-37.8\" font-family=\"Helvetica,sans-Serif\" font-size=\"14.00\" fill=\"#000000\">samples = 3</text>\n<text text-anchor=\"middle\" x=\"241\" y=\"-22.8\" font-family=\"Helvetica,sans-Serif\" font-size=\"14.00\" fill=\"#000000\">value = [1, 2]</text>\n<text text-anchor=\"middle\" x=\"241\" y=\"-7.8\" font-family=\"Helvetica,sans-Serif\" font-size=\"14.00\" fill=\"#000000\">class = 1</text>\n</g>\n<!-- 1&#45;&gt;3 -->\n<g id=\"edge3\" class=\"edge\">\n<title>1&#45;&gt;3</title>\n<path fill=\"none\" stroke=\"#000000\" d=\"M202.7141,-103.9815C207.4908,-95.2504 212.5405,-86.0202 217.3506,-77.2281\"/>\n<polygon fill=\"#000000\" stroke=\"#000000\" points=\"220.5258,-78.7165 222.2549,-68.2637 214.3847,-75.3568 220.5258,-78.7165\"/>\n</g>\n</g>\n</svg>\n"
          },
          "metadata": {}
        }
      ]
    },
    {
      "cell_type": "code",
      "source": [
        "filter_tree(\"原監護輔助人是否有意願續任 == 0\", gsheet_assist)"
      ],
      "metadata": {
        "colab": {
          "base_uri": "https://localhost:8080/",
          "height": 755
        },
        "id": "7-Slqu-Sy4Fk",
        "outputId": "ef31c5cb-e45c-444e-ec5d-731996c2254e"
      },
      "execution_count": null,
      "outputs": [
        {
          "output_type": "stream",
          "name": "stdout",
          "text": [
            "載入資料筆數：99\n",
            "----------------------------------------------------------------------------------------------------\n",
            "Filter 原監護輔助人是否有意願續任 == 0 len = 59\n",
            "----------------------------------------------------------------------------------------------------\n",
            "x ['法院是否認為原監護輔助人「年事已高」', '法院是否認為原監護輔助人「身體不堪負荷」', '法院是否認為原監護輔助人「盜領存款」', '法院是否認為原監護輔助人「不當處理本人之不動產」', '原監護輔助人是否與本人有「利害關係」', '法院是否認為原監護輔助人有「其他不當行為」', '監護輔助人是本人之「實際照顧者」', '監護輔助人是否為本人「廣義照顧者」', '原監護輔助人是否有意願續任', '專業人士訪視報告之「改定建議」', '本人之「改定建議」', '其他親屬、關係人之「改定建議」']\n",
            "y 原監護輔助人是否被法院改定\n",
            "預測 [1 1 1 1 1 1 1 1 1 1 1 1]\n",
            "標準答案 [1 1 1 1 1 1 1 1 0 1 1 1]\n",
            "績效 0.9166666666666666\n",
            "|--- feature_11 <= 0.50\n",
            "|   |--- feature_7 <= 0.50\n",
            "|   |   |--- class: 1\n",
            "|   |--- feature_7 >  0.50\n",
            "|   |   |--- class: 0\n",
            "|--- feature_11 >  0.50\n",
            "|   |--- class: 1\n",
            "\n"
          ]
        },
        {
          "output_type": "display_data",
          "data": {
            "text/plain": [
              "<graphviz.files.Source at 0x7faa5369a8d0>"
            ],
            "image/svg+xml": "<?xml version=\"1.0\" encoding=\"UTF-8\" standalone=\"no\"?>\n<!DOCTYPE svg PUBLIC \"-//W3C//DTD SVG 1.1//EN\"\n \"http://www.w3.org/Graphics/SVG/1.1/DTD/svg11.dtd\">\n<!-- Generated by graphviz version 2.40.1 (20161225.0304)\n -->\n<!-- Title: Tree Pages: 1 -->\n<svg width=\"436pt\" height=\"314pt\"\n viewBox=\"0.00 0.00 436.00 314.00\" xmlns=\"http://www.w3.org/2000/svg\" xmlns:xlink=\"http://www.w3.org/1999/xlink\">\n<g id=\"graph0\" class=\"graph\" transform=\"scale(1 1) rotate(0) translate(4 310)\">\n<title>Tree</title>\n<polygon fill=\"#ffffff\" stroke=\"transparent\" points=\"-4,4 -4,-310 432,-310 432,4 -4,4\"/>\n<!-- 0 -->\n<g id=\"node1\" class=\"node\">\n<title>0</title>\n<polygon fill=\"#5caeea\" stroke=\"#000000\" points=\"400,-306 125,-306 125,-223 400,-223 400,-306\"/>\n<text text-anchor=\"middle\" x=\"262.5\" y=\"-290.8\" font-family=\"Helvetica,sans-Serif\" font-size=\"14.00\" fill=\"#000000\">其他親屬、關係人之「改定建議」 &lt;= 0.5</text>\n<text text-anchor=\"middle\" x=\"262.5\" y=\"-275.8\" font-family=\"Helvetica,sans-Serif\" font-size=\"14.00\" fill=\"#000000\">gini = 0.254</text>\n<text text-anchor=\"middle\" x=\"262.5\" y=\"-260.8\" font-family=\"Helvetica,sans-Serif\" font-size=\"14.00\" fill=\"#000000\">samples = 47</text>\n<text text-anchor=\"middle\" x=\"262.5\" y=\"-245.8\" font-family=\"Helvetica,sans-Serif\" font-size=\"14.00\" fill=\"#000000\">value = [7, 40]</text>\n<text text-anchor=\"middle\" x=\"262.5\" y=\"-230.8\" font-family=\"Helvetica,sans-Serif\" font-size=\"14.00\" fill=\"#000000\">class = 1</text>\n</g>\n<!-- 1 -->\n<g id=\"node2\" class=\"node\">\n<title>1</title>\n<polygon fill=\"#86c3ef\" stroke=\"#000000\" points=\"303,-187 0,-187 0,-104 303,-104 303,-187\"/>\n<text text-anchor=\"middle\" x=\"151.5\" y=\"-171.8\" font-family=\"Helvetica,sans-Serif\" font-size=\"14.00\" fill=\"#000000\">監護輔助人是否為本人「廣義照顧者」 &lt;= 0.5</text>\n<text text-anchor=\"middle\" x=\"151.5\" y=\"-156.8\" font-family=\"Helvetica,sans-Serif\" font-size=\"14.00\" fill=\"#000000\">gini = 0.403</text>\n<text text-anchor=\"middle\" x=\"151.5\" y=\"-141.8\" font-family=\"Helvetica,sans-Serif\" font-size=\"14.00\" fill=\"#000000\">samples = 25</text>\n<text text-anchor=\"middle\" x=\"151.5\" y=\"-126.8\" font-family=\"Helvetica,sans-Serif\" font-size=\"14.00\" fill=\"#000000\">value = [7, 18]</text>\n<text text-anchor=\"middle\" x=\"151.5\" y=\"-111.8\" font-family=\"Helvetica,sans-Serif\" font-size=\"14.00\" fill=\"#000000\">class = 1</text>\n</g>\n<!-- 0&#45;&gt;1 -->\n<g id=\"edge1\" class=\"edge\">\n<title>0&#45;&gt;1</title>\n<path fill=\"none\" stroke=\"#000000\" d=\"M223.6776,-222.8796C215.1927,-213.7832 206.1346,-204.0722 197.4032,-194.7116\"/>\n<polygon fill=\"#000000\" stroke=\"#000000\" points=\"199.8686,-192.2233 190.4881,-187.2981 194.7497,-196.9981 199.8686,-192.2233\"/>\n<text text-anchor=\"middle\" x=\"189.6191\" y=\"-208.583\" font-family=\"Helvetica,sans-Serif\" font-size=\"14.00\" fill=\"#000000\">True</text>\n</g>\n<!-- 4 -->\n<g id=\"node5\" class=\"node\">\n<title>4</title>\n<polygon fill=\"#399de5\" stroke=\"#000000\" points=\"428,-179.5 321,-179.5 321,-111.5 428,-111.5 428,-179.5\"/>\n<text text-anchor=\"middle\" x=\"374.5\" y=\"-164.3\" font-family=\"Helvetica,sans-Serif\" font-size=\"14.00\" fill=\"#000000\">gini = 0.0</text>\n<text text-anchor=\"middle\" x=\"374.5\" y=\"-149.3\" font-family=\"Helvetica,sans-Serif\" font-size=\"14.00\" fill=\"#000000\">samples = 22</text>\n<text text-anchor=\"middle\" x=\"374.5\" y=\"-134.3\" font-family=\"Helvetica,sans-Serif\" font-size=\"14.00\" fill=\"#000000\">value = [0, 22]</text>\n<text text-anchor=\"middle\" x=\"374.5\" y=\"-119.3\" font-family=\"Helvetica,sans-Serif\" font-size=\"14.00\" fill=\"#000000\">class = 1</text>\n</g>\n<!-- 0&#45;&gt;4 -->\n<g id=\"edge4\" class=\"edge\">\n<title>0&#45;&gt;4</title>\n<path fill=\"none\" stroke=\"#000000\" d=\"M301.6722,-222.8796C312.5389,-211.3337 324.3376,-198.7976 335.2109,-187.2446\"/>\n<polygon fill=\"#000000\" stroke=\"#000000\" points=\"337.8986,-189.4958 342.2036,-179.8149 332.8012,-184.6982 337.8986,-189.4958\"/>\n<text text-anchor=\"middle\" x=\"342.9608\" y=\"-201.1035\" font-family=\"Helvetica,sans-Serif\" font-size=\"14.00\" fill=\"#000000\">False</text>\n</g>\n<!-- 2 -->\n<g id=\"node3\" class=\"node\">\n<title>2</title>\n<polygon fill=\"#7bbeee\" stroke=\"#000000\" points=\"145,-68 38,-68 38,0 145,0 145,-68\"/>\n<text text-anchor=\"middle\" x=\"91.5\" y=\"-52.8\" font-family=\"Helvetica,sans-Serif\" font-size=\"14.00\" fill=\"#000000\">gini = 0.375</text>\n<text text-anchor=\"middle\" x=\"91.5\" y=\"-37.8\" font-family=\"Helvetica,sans-Serif\" font-size=\"14.00\" fill=\"#000000\">samples = 24</text>\n<text text-anchor=\"middle\" x=\"91.5\" y=\"-22.8\" font-family=\"Helvetica,sans-Serif\" font-size=\"14.00\" fill=\"#000000\">value = [6, 18]</text>\n<text text-anchor=\"middle\" x=\"91.5\" y=\"-7.8\" font-family=\"Helvetica,sans-Serif\" font-size=\"14.00\" fill=\"#000000\">class = 1</text>\n</g>\n<!-- 1&#45;&gt;2 -->\n<g id=\"edge2\" class=\"edge\">\n<title>1&#45;&gt;2</title>\n<path fill=\"none\" stroke=\"#000000\" d=\"M129.1582,-103.9815C124.4598,-95.2504 119.4929,-86.0202 114.7617,-77.2281\"/>\n<polygon fill=\"#000000\" stroke=\"#000000\" points=\"117.7586,-75.4111 109.9379,-68.2637 111.5944,-78.7282 117.7586,-75.4111\"/>\n</g>\n<!-- 3 -->\n<g id=\"node4\" class=\"node\">\n<title>3</title>\n<polygon fill=\"#e58139\" stroke=\"#000000\" points=\"262,-68 163,-68 163,0 262,0 262,-68\"/>\n<text text-anchor=\"middle\" x=\"212.5\" y=\"-52.8\" font-family=\"Helvetica,sans-Serif\" font-size=\"14.00\" fill=\"#000000\">gini = 0.0</text>\n<text text-anchor=\"middle\" x=\"212.5\" y=\"-37.8\" font-family=\"Helvetica,sans-Serif\" font-size=\"14.00\" fill=\"#000000\">samples = 1</text>\n<text text-anchor=\"middle\" x=\"212.5\" y=\"-22.8\" font-family=\"Helvetica,sans-Serif\" font-size=\"14.00\" fill=\"#000000\">value = [1, 0]</text>\n<text text-anchor=\"middle\" x=\"212.5\" y=\"-7.8\" font-family=\"Helvetica,sans-Serif\" font-size=\"14.00\" fill=\"#000000\">class = 0</text>\n</g>\n<!-- 1&#45;&gt;3 -->\n<g id=\"edge3\" class=\"edge\">\n<title>1&#45;&gt;3</title>\n<path fill=\"none\" stroke=\"#000000\" d=\"M174.2141,-103.9815C178.9908,-95.2504 184.0405,-86.0202 188.8506,-77.2281\"/>\n<polygon fill=\"#000000\" stroke=\"#000000\" points=\"192.0258,-78.7165 193.7549,-68.2637 185.8847,-75.3568 192.0258,-78.7165\"/>\n</g>\n</g>\n</svg>\n"
          },
          "metadata": {}
        }
      ]
    },
    {
      "cell_type": "markdown",
      "source": [
        "## 迴歸"
      ],
      "metadata": {
        "id": "LapPZgMCnVeT"
      }
    },
    {
      "cell_type": "code",
      "source": [
        "from sklearn.linear_model import LinearRegression\n",
        "from sklearn.feature_selection import f_regression\n",
        "from sklearn import preprocessing, linear_model\n",
        "import statsmodels.api as sm\n",
        "\n",
        "\n",
        "class MultipleRegression(Analysis):\n",
        "  def load(self, columns_x, columns_y, binary_y=False):\n",
        "    print('x', columns_x)\n",
        "    print('y', columns_y)\n",
        "    self.X = self.df[columns_x]\n",
        "    self.y = self.df[columns_y]\n",
        "\n",
        "    if binary_y:\n",
        "      self.lm = linear_model.LogisticRegression() # 如果是二元y\n",
        "    else:\n",
        "      self.lm = LinearRegression() # 如果是數值y\n",
        "\n",
        "    self.lm.fit(self.X, self.y)\n",
        "\n",
        "    # 項目\n",
        "    print('項目', self.X.columns)\n",
        "    # 印出係數\n",
        "    print('係數', self.lm.coef_)\n",
        "    # 印出 p-value\n",
        "    print('p-value', f_regression(self.X, self.y)[1])\n",
        "    # 印出截距\n",
        "    print('截距', self.lm.intercept_)\n",
        "\n",
        "  def vars(self):\n",
        "    # 模型績效\n",
        "    mae = np.mean(abs(self.lm.predict(self.X) - self.y))\n",
        "    mse = np.mean((self.lm.predict(self.X) - self.y) ** 2)\n",
        "    r_squared = self.lm.score(self.X, self.y)\n",
        "    adj_r_squared = r_squared - (1 - r_squared) * (self.X.shape[1] / (self.X.shape[0] - self.X.shape[1] - 1))\n",
        "\n",
        "    # 印出模型績效\n",
        "    print('mae:', mae, ' # 越小越好 單位就是y的單位')\n",
        "    print('mse:', mse, '# 越小越好 單位就是y的單位')\n",
        "    print('r2:', r_squared, '# 越大越好 模型適配程度 0.75以上好（可以畢業了） 0.5以上堪用（現實數據常常在這附近） 0.5以下（整個歪了')\n",
        "    print('adj_r2:', adj_r_squared, '# 各係數標準化後的r2 越大越好 模型適配程度 0.75以上好（可以畢業了） 0.5以上堪用（現實數據常常在這')\n",
        "\n",
        "  def predict(self, arr=[1, 1, 1, 1, 0, 0, 0, 0]):\n",
        "    to_be_predicted = np.array([arr])\n",
        "    predicted_sales = self.lm.predict(to_be_predicted)\n",
        "\n",
        "    # 預測\n",
        "    print('預測', predicted_sales)\n",
        "  \n",
        "  def logit(self, columns_x, columns_y):\n",
        "    self.lx = self.df[columns_x]\n",
        "    self.ly = self.df[columns_y]\n",
        "    log_reg = sm.Logit(self.ly, self.lx).fit()\n",
        "    print(log_reg.summary())\n",
        "    OR=np.exp(log_reg.params)\n",
        "    print(\"\\n各變項odds ratio分別為：\")\n",
        "    print(OR)"
      ],
      "metadata": {
        "id": "PvpfOcRbncbb"
      },
      "execution_count": null,
      "outputs": []
    },
    {
      "cell_type": "markdown",
      "source": [
        "### 6.1 監護宣告"
      ],
      "metadata": {
        "id": "PJdLvG6Tn5Gs"
      }
    },
    {
      "cell_type": "code",
      "source": [
        "r = MultipleRegression(gsheet_id, gsheet_super, auto_proc=True, to_drop=[\n",
        "  'index',\n",
        "  'UUID',\n",
        "  '宣告性質',\n",
        "  '原監護輔助人之類型',\n",
        "  '原監護輔助人之人數（自然人）',\n",
        "  '主管機關是否被法院改定 (1=是, 2=否)',\n",
        "  '法院是否考慮原監護輔助人之身體狀況',\n",
        "  '法院是否於聲請原因外考量「其他改定因素」',\n",
        "  '聲因1',\n",
        "  '聲因2',\n",
        "  '聲因3',\n",
        "  '聲因4',\n",
        "  '聲因5',\n",
        "  '聲因6',\n",
        "  '聲因7',\n",
        "  '聲因8',\n",
        "  '聲因9'\n",
        "])\n",
        "for col in r.df.columns:\n",
        "  r.replace_col_to(col, '', 0.1)\n",
        "r.convert_to_numeric()\n",
        "r.load(r.cols()[0:12], '原監護輔助人是否被法院改定', binary_y=True)\n",
        "r.vars()\n",
        "r.predict([0, 0, 0, 0, 0, 0, 0, 0, 0, 0, 0, 0])\n",
        "print('='*100)\n",
        "r.logit(r.cols()[0:12], '原監護輔助人是否被法院改定')"
      ],
      "metadata": {
        "colab": {
          "base_uri": "https://localhost:8080/"
        },
        "id": "v1jPE60Cn80u",
        "outputId": "1e345c2c-33d2-4bd3-876a-48d5675f75cf"
      },
      "execution_count": null,
      "outputs": [
        {
          "output_type": "stream",
          "name": "stdout",
          "text": [
            "載入資料筆數：208\n",
            "x ['法院是否認為原監護輔助人「年事已高」', '法院是否認為原監護輔助人「身體不堪負荷」', '法院是否認為原監護輔助人「盜領存款」', '法院是否認為原監護輔助人「不當處理本人之不動產」', '原監護輔助人是否與本人有「利害關係」', '法院是否認為原監護輔助人有「其他不當行為」', '監護輔助人是本人之「實際照顧者」', '監護輔助人是否為本人「廣義照顧者」', '原監護輔助人是否有意願續任', '專業人士訪視報告之「改定建議」', '本人之「改定建議」', '其他親屬、關係人之「改定建議」']\n",
            "y 原監護輔助人是否被法院改定\n",
            "項目 Index(['法院是否認為原監護輔助人「年事已高」', '法院是否認為原監護輔助人「身體不堪負荷」', '法院是否認為原監護輔助人「盜領存款」',\n",
            "       '法院是否認為原監護輔助人「不當處理本人之不動產」', '原監護輔助人是否與本人有「利害關係」',\n",
            "       '法院是否認為原監護輔助人有「其他不當行為」', '監護輔助人是本人之「實際照顧者」', '監護輔助人是否為本人「廣義照顧者」',\n",
            "       '原監護輔助人是否有意願續任', '專業人士訪視報告之「改定建議」', '本人之「改定建議」', '其他親屬、關係人之「改定建議」'],\n",
            "      dtype='object')\n",
            "係數 [[ 1.11754845  0.85668862  1.79773357  1.38915312  1.0073952   1.20952621\n",
            "   0.15767252 -1.09610755 -2.80452969  0.93341705  0.07292324  1.43454864]]\n",
            "p-value [1.15039536e-07 8.05357400e-07 9.69664381e-03 8.41993532e-03\n",
            " 8.43460188e-03 4.91735146e-04 2.49242574e-05 5.66975670e-22\n",
            " 2.85191866e-44 9.69287404e-05 1.49216676e-01 1.49615434e-14]\n",
            "截距 [0.46248104]\n",
            "mae: 0.0625  # 越小越好 單位就是y的單位\n",
            "mse: 0.0625 # 越小越好 單位就是y的單位\n",
            "r2: 0.9375 # 越大越好 模型適配程度 0.75以上好（可以畢業了） 0.5以上堪用（現實數據常常在這附近） 0.5以下（整個歪了\n",
            "adj_r2: 0.9336538461538462 # 各係數標準化後的r2 越大越好 模型適配程度 0.75以上好（可以畢業了） 0.5以上堪用（現實數據常常在這\n",
            "預測 [1]\n",
            "====================================================================================================\n",
            "Optimization terminated successfully.\n",
            "         Current function value: 0.147398\n",
            "         Iterations 9\n",
            "                           Logit Regression Results                           \n",
            "==============================================================================\n",
            "Dep. Variable:          原監護輔助人是否被法院改定   No. Observations:                  208\n",
            "Model:                          Logit   Df Residuals:                      196\n",
            "Method:                           MLE   Df Model:                           11\n",
            "Date:                Sat, 28 May 2022   Pseudo R-squ.:                  0.7736\n",
            "Time:                        13:01:17   Log-Likelihood:                -30.659\n",
            "converged:                       True   LL-Null:                       -135.40\n",
            "Covariance Type:            nonrobust   LLR p-value:                 8.007e-39\n",
            "============================================================================================\n",
            "                               coef    std err          z      P>|z|      [0.025      0.975]\n",
            "--------------------------------------------------------------------------------------------\n",
            "法院是否認為原監護輔助人「年事已高」           2.1081      1.693      1.245      0.213      -1.210       5.426\n",
            "法院是否認為原監護輔助人「身體不堪負荷」         1.5937      1.464      1.088      0.276      -1.276       4.463\n",
            "法院是否認為原監護輔助人「盜領存款」           5.3504      1.459      3.666      0.000       2.490       8.211\n",
            "法院是否認為原監護輔助人「不當處理本人之不動產」     5.2845      1.783      2.963      0.003       1.789       8.780\n",
            "原監護輔助人是否與本人有「利害關係」           2.9091      1.757      1.656      0.098      -0.535       6.353\n",
            "法院是否認為原監護輔助人有「其他不當行為」        1.8314      1.178      1.554      0.120      -0.478       4.141\n",
            "監護輔助人是本人之「實際照顧者」             0.7003      1.340      0.523      0.601      -1.925       3.326\n",
            "監護輔助人是否為本人「廣義照顧者」           -1.6981      1.196     -1.420      0.156      -4.043       0.647\n",
            "原監護輔助人是否有意願續任               -5.1268      1.061     -4.834      0.000      -7.205      -3.048\n",
            "專業人士訪視報告之「改定建議」              2.4625      1.664      1.479      0.139      -0.800       5.725\n",
            "本人之「改定建議」                   -4.1889      3.710     -1.129      0.259     -11.461       3.083\n",
            "其他親屬、關係人之「改定建議」              1.5477      0.932      1.660      0.097      -0.279       3.375\n",
            "============================================================================================\n",
            "\n",
            "各變項odds ratio分別為：\n",
            "法院是否認為原監護輔助人「年事已高」            8.232338\n",
            "法院是否認為原監護輔助人「身體不堪負荷」          4.921735\n",
            "法院是否認為原監護輔助人「盜領存款」          210.692268\n",
            "法院是否認為原監護輔助人「不當處理本人之不動產」    197.254514\n",
            "原監護輔助人是否與本人有「利害關係」           18.340368\n",
            "法院是否認為原監護輔助人有「其他不當行為」         6.242647\n",
            "監護輔助人是本人之「實際照顧者」              2.014259\n",
            "監護輔助人是否為本人「廣義照顧者」             0.183025\n",
            "原監護輔助人是否有意願續任                 0.005936\n",
            "專業人士訪視報告之「改定建議」              11.733925\n",
            "本人之「改定建議」                     0.015163\n",
            "其他親屬、關係人之「改定建議」               4.700743\n",
            "dtype: float64\n"
          ]
        },
        {
          "output_type": "stream",
          "name": "stderr",
          "text": [
            "/usr/local/lib/python3.7/dist-packages/sklearn/base.py:451: UserWarning: X does not have valid feature names, but LogisticRegression was fitted with feature names\n",
            "  \"X does not have valid feature names, but\"\n"
          ]
        }
      ]
    },
    {
      "cell_type": "markdown",
      "source": [
        "### 6.2 監護宣告"
      ],
      "metadata": {
        "id": "Kg7vQBYlvZ7O"
      }
    },
    {
      "cell_type": "code",
      "source": [
        "ra = MultipleRegression(gsheet_id, gsheet_assist, auto_proc=True, to_drop=[\n",
        "  'index',\n",
        "  'UUID',\n",
        "  '宣告性質',\n",
        "  '原監護輔助人之類型',\n",
        "  '原監護輔助人之人數（自然人）',\n",
        "  '主管機關是否被法院改定 (1=是, 2=否)',\n",
        "  '法院是否考慮原監護輔助人之身體狀況',\n",
        "  '法院是否於聲請原因外考量「其他改定因素」',\n",
        "  '聲因1',\n",
        "  '聲因2',\n",
        "  '聲因3',\n",
        "  '聲因4',\n",
        "  '聲因5',\n",
        "  '聲因6',\n",
        "  '聲因7',\n",
        "  '聲因8',\n",
        "  '聲因9'\n",
        "])\n",
        "for col in ra.df.columns:\n",
        "  ra.replace_col_to(col, '', 0.1) # 替換 '' to -100 因為決策樹不支援 NaN\n",
        "ra.convert_to_numeric()\n",
        "ra.load(ra.cols()[0:12], '原監護輔助人是否被法院改定', binary_y=True)\n",
        "ra.vars()\n",
        "ra.predict([0, 0, 0, 0, 0, 0, 0, 0, 0, 0, 0, 0])\n",
        "print('='*100)\n",
        "ra.logit(ra.cols()[0:12], '原監護輔助人是否被法院改定')"
      ],
      "metadata": {
        "colab": {
          "base_uri": "https://localhost:8080/"
        },
        "outputId": "706de47d-bfe8-4df4-a35c-860a08038655",
        "id": "I8VPgPivvZ7O"
      },
      "execution_count": null,
      "outputs": [
        {
          "output_type": "stream",
          "name": "stdout",
          "text": [
            "載入資料筆數：99\n",
            "x ['法院是否認為原監護輔助人「年事已高」', '法院是否認為原監護輔助人「身體不堪負荷」', '法院是否認為原監護輔助人「盜領存款」', '法院是否認為原監護輔助人「不當處理本人之不動產」', '原監護輔助人是否與本人有「利害關係」', '法院是否認為原監護輔助人有「其他不當行為」', '監護輔助人是本人之「實際照顧者」', '監護輔助人是否為本人「廣義照顧者」', '原監護輔助人是否有意願續任', '專業人士訪視報告之「改定建議」', '本人之「改定建議」', '其他親屬、關係人之「改定建議」']\n",
            "y 原監護輔助人是否被法院改定\n",
            "項目 Index(['法院是否認為原監護輔助人「年事已高」', '法院是否認為原監護輔助人「身體不堪負荷」', '法院是否認為原監護輔助人「盜領存款」',\n",
            "       '法院是否認為原監護輔助人「不當處理本人之不動產」', '原監護輔助人是否與本人有「利害關係」',\n",
            "       '法院是否認為原監護輔助人有「其他不當行為」', '監護輔助人是本人之「實際照顧者」', '監護輔助人是否為本人「廣義照顧者」',\n",
            "       '原監護輔助人是否有意願續任', '專業人士訪視報告之「改定建議」', '本人之「改定建議」', '其他親屬、關係人之「改定建議」'],\n",
            "      dtype='object')\n",
            "係數 [[ 0.16703195  1.07129897  0.48909004  0.44924212  0.97917994  1.14834878\n",
            "   0.07543658 -0.74795144 -1.65316792  0.86573327  1.44380545  1.39096684]]\n",
            "p-value [1.38691927e-01 6.28691159e-03 1.03813078e-01 1.25295013e-01\n",
            " 2.73586315e-02 8.51038279e-04 2.85186632e-02 1.25173558e-04\n",
            " 5.58837218e-09 3.80007745e-03 2.66930066e-04 1.76399950e-06]\n",
            "截距 [-0.17463798]\n",
            "mae: 0.1111111111111111  # 越小越好 單位就是y的單位\n",
            "mse: 0.1111111111111111 # 越小越好 單位就是y的單位\n",
            "r2: 0.8888888888888888 # 越大越好 模型適配程度 0.75以上好（可以畢業了） 0.5以上堪用（現實數據常常在這附近） 0.5以下（整個歪了\n",
            "adj_r2: 0.8733850129198966 # 各係數標準化後的r2 越大越好 模型適配程度 0.75以上好（可以畢業了） 0.5以上堪用（現實數據常常在這\n",
            "預測 [0]\n",
            "====================================================================================================\n",
            "Optimization terminated successfully.\n",
            "         Current function value: 0.254755\n",
            "         Iterations 8\n",
            "                           Logit Regression Results                           \n",
            "==============================================================================\n",
            "Dep. Variable:          原監護輔助人是否被法院改定   No. Observations:                   99\n",
            "Model:                          Logit   Df Residuals:                       87\n",
            "Method:                           MLE   Df Model:                           11\n",
            "Date:                Sat, 28 May 2022   Pseudo R-squ.:                  0.6040\n",
            "Time:                        13:03:11   Log-Likelihood:                -25.221\n",
            "converged:                       True   LL-Null:                       -63.685\n",
            "Covariance Type:            nonrobust   LLR p-value:                 5.772e-12\n",
            "============================================================================================\n",
            "                               coef    std err          z      P>|z|      [0.025      0.975]\n",
            "--------------------------------------------------------------------------------------------\n",
            "法院是否認為原監護輔助人「年事已高」          -1.8619      2.204     -0.845      0.398      -6.182       2.459\n",
            "法院是否認為原監護輔助人「身體不堪負荷」         3.7098      2.962      1.253      0.210      -2.095       9.515\n",
            "法院是否認為原監護輔助人「盜領存款」           1.0607      3.069      0.346      0.730      -4.955       7.076\n",
            "法院是否認為原監護輔助人「不當處理本人之不動產」     0.0557      2.871      0.019      0.985      -5.572       5.683\n",
            "原監護輔助人是否與本人有「利害關係」           2.9644      2.965      1.000      0.317      -2.848       8.777\n",
            "法院是否認為原監護輔助人有「其他不當行為」        1.4388      1.400      1.028      0.304      -1.304       4.182\n",
            "監護輔助人是本人之「實際照顧者」             1.6654      1.679      0.992      0.321      -1.625       4.956\n",
            "監護輔助人是否為本人「廣義照顧者」           -1.9625      1.282     -1.531      0.126      -4.475       0.550\n",
            "原監護輔助人是否有意願續任               -3.1941      0.908     -3.519      0.000      -4.973      -1.415\n",
            "專業人士訪視報告之「改定建議」              1.5886      1.389      1.144      0.253      -1.133       4.310\n",
            "本人之「改定建議」                    2.6203      1.170      2.239      0.025       0.327       4.914\n",
            "其他親屬、關係人之「改定建議」              1.9939      1.146      1.741      0.082      -0.251       4.239\n",
            "============================================================================================\n",
            "\n",
            "各變項odds ratio分別為：\n",
            "法院是否認為原監護輔助人「年事已高」           0.155384\n",
            "法院是否認為原監護輔助人「身體不堪負荷」        40.847466\n",
            "法院是否認為原監護輔助人「盜領存款」           2.888466\n",
            "法院是否認為原監護輔助人「不當處理本人之不動產」     1.057326\n",
            "原監護輔助人是否與本人有「利害關係」          19.382365\n",
            "法院是否認為原監護輔助人有「其他不當行為」        4.215808\n",
            "監護輔助人是本人之「實際照顧者」             5.287545\n",
            "監護輔助人是否為本人「廣義照顧者」            0.140513\n",
            "原監護輔助人是否有意願續任                0.041005\n",
            "專業人士訪視報告之「改定建議」              4.897034\n",
            "本人之「改定建議」                   13.739872\n",
            "其他親屬、關係人之「改定建議」              7.344384\n",
            "dtype: float64\n"
          ]
        },
        {
          "output_type": "stream",
          "name": "stderr",
          "text": [
            "/usr/local/lib/python3.7/dist-packages/sklearn/base.py:451: UserWarning: X does not have valid feature names, but LogisticRegression was fitted with feature names\n",
            "  \"X does not have valid feature names, but\"\n"
          ]
        }
      ]
    },
    {
      "cell_type": "markdown",
      "source": [
        "# 五 分析與結論\n"
      ],
      "metadata": {
        "id": "c3Vifiuze5oW"
      }
    },
    {
      "cell_type": "markdown",
      "source": [
        "#### 因為XXX與OOO很有關，我們感覺如何如何。<br>學說上有「YYY」說，與「ZZZ」說，在實證的結果，數據顯示是ZZZ較為接近實際判決。<br>判斷其原因是、、、\n",
        "\n",
        "#### 研究限制：1. 在編碼時，WWW種類樣本過少。 2.在實際判斷時，可能有前後不一的判斷、、、3. 應當納入MMM或NNN類型的。\n",
        "\n",
        "#### 未來展望：如果還有明天、、、\n"
      ],
      "metadata": {
        "id": "9616zQyvxBz-"
      }
    }
  ]
}